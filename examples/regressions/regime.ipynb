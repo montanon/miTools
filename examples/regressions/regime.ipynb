{
 "cells": [
  {
   "cell_type": "code",
   "execution_count": 29,
   "metadata": {},
   "outputs": [],
   "source": [
    "from mitools import reg\n",
    "import numpy as np\n",
    "import pandas as pd\n",
    "from pandas_datareader.data import DataReader\n",
    "from datetime import datetime\n",
    "from statsmodels.tsa.regime_switching.tests.test_markov_regression import fedfunds, ogap, inf, areturns\n",
    "import matplotlib.pyplot as plt"
   ]
  },
  {
   "cell_type": "markdown",
   "metadata": {},
   "source": [
    "# Markov switching dynamic regression models from Statsmodels"
   ]
  },
  {
   "cell_type": "markdown",
   "metadata": {},
   "source": [
    "https://www.statsmodels.org/stable/examples/notebooks/generated/markov_regression.html"
   ]
  },
  {
   "cell_type": "markdown",
   "metadata": {},
   "source": [
    "This notebook provides an example of the use of Markov switching models in statsmodels to estimate dynamic regression models with changes in regime. It follows the examples in the Stata Markov switching documentation, which can be found at http://www.stata.com/manuals14/tsmswitch.pdf."
   ]
  },
  {
   "cell_type": "code",
   "execution_count": 2,
   "metadata": {},
   "outputs": [],
   "source": [
    "usrec = DataReader(\n",
    "    \"USREC\", \"fred\", start=datetime(1947, 1, 1), end=datetime(2013, 4, 1)\n",
    ")"
   ]
  },
  {
   "cell_type": "markdown",
   "metadata": {},
   "source": [
    "## Federal funds rate with switching intercept"
   ]
  },
  {
   "cell_type": "markdown",
   "metadata": {},
   "source": [
    "The first example models the federal funds rate as noise around a constant intercept, but where the intercept changes during different regimes. The model is simply: $$r_{t} = \\mu_{S_t} + \\varepsilon_{t}, \\varepsilon_{t} \\sim N(0, \\sigma^2)$$\n",
    "\n",
    "where $S_{t}\\epsilon\\left\\{0,1 \\right\\}$, and the regime transitions according to $$P\\left(S_{t} = s_{t} \\mid S_{t-1} = s_{t-1} \\right) = \\begin{bmatrix}p_{00} & p_{10} \\\\1-p_{00} &  1 - p_{10} \\\\\\end{bmatrix}$$\n",
    "\n",
    "We will estimate the parameters of this model by maximum likelihood: $p_00, p_10, \\mu_0, \\mu_1, \\sigma^2$.\n",
    "\n",
    "The data used in this example can be found at https://www.stata-press.com/data/r14/usmacro."
   ]
  },
  {
   "cell_type": "code",
   "execution_count": null,
   "metadata": {},
   "outputs": [],
   "source": [
    "dta_fedfunds = pd.Series(\n",
    "    fedfunds, index=pd.date_range(\"1954-07-01\", \"2010-10-01\", freq=\"QS\"), name=\"fedfunds\"\n",
    ").to_frame()\n",
    "_ = dta_fedfunds.plot(title=\"Federal funds rate\", figsize=(12, 3))"
   ]
  },
  {
   "cell_type": "code",
   "execution_count": 4,
   "metadata": {},
   "outputs": [],
   "source": [
    "mod_fedfunds = reg.MarkovRegressionModel(data=dta_fedfunds, dependent_variable=\"fedfunds\", k_regimes=2)\n",
    "res_fedfunds = mod_fedfunds.fit()"
   ]
  },
  {
   "cell_type": "code",
   "execution_count": null,
   "metadata": {},
   "outputs": [],
   "source": [
    "res_fedfunds.summary()"
   ]
  },
  {
   "cell_type": "markdown",
   "metadata": {},
   "source": [
    "From the summary output, the mean federal funds rate in the first regime (the “low regime”) is estimated to be $3.7$ whereas in the “high regime” it is $9.6$. Below we plot the smoothed probabilities of being in the high regime. The model suggests that the 1980’s was a time-period in which a high federal funds rate existed."
   ]
  },
  {
   "cell_type": "code",
   "execution_count": null,
   "metadata": {},
   "outputs": [],
   "source": [
    "pd.DataFrame(res_fedfunds.smoothed_marginal_probabilities)[1].plot(\n",
    "    title=\"Probability of being in the high regime\", figsize=(12, 3)\n",
    ")"
   ]
  },
  {
   "cell_type": "markdown",
   "metadata": {},
   "source": [
    "From the estimated transition matrix we can calculate the expected duration of a low regime versus a high regime."
   ]
  },
  {
   "cell_type": "code",
   "execution_count": null,
   "metadata": {},
   "outputs": [],
   "source": [
    "print(res_fedfunds.expected_durations)"
   ]
  },
  {
   "cell_type": "markdown",
   "metadata": {},
   "source": [
    "A low regime is expected to persist for about fourteen years, whereas the high regime is expected to persist for only about five years."
   ]
  },
  {
   "cell_type": "markdown",
   "metadata": {},
   "source": [
    "### Federal funds rate with switching intercept and lagge dependent variable"
   ]
  },
  {
   "cell_type": "markdown",
   "metadata": {},
   "source": [
    "The second example augments the previous model to include the lagged value of the federal funds rate.\n",
    "\n",
    "$$r_{t} = \\mu_{S_t} + \\beta_{S_t} r_{t-1} + \\varepsilon_{t}, \\varepsilon_{t} \\sim N(0, \\sigma^2)$$\n",
    "where $S_{t}\\epsilon\\left\\{0,1 \\right\\}$, and the regime transitions according to $$P\\left(S_{t} = s_{t} \\mid S_{t-1} = s_{t-1} \\right) = \\begin{bmatrix}p_{00} & p_{10} \\\\1-p_{00} &  1 - p_{10} \\\\\\end{bmatrix}$$\n",
    "We will estimate the parameters of this model by maximum likelihood: \n",
    "$p_{00}, p_{10}, \\mu_0, \\mu_1,\\beta_0, \\beta_1, \\sigma^2$."
   ]
  },
  {
   "cell_type": "code",
   "execution_count": 8,
   "metadata": {},
   "outputs": [],
   "source": [
    "dta_fedfunds['lfedfunds'] = dta_fedfunds['fedfunds'].shift(1)\n",
    "mod_fedfunds2 = reg.MarkovRegressionModel(data=dta_fedfunds.iloc[1:], \n",
    "                                          dependent_variable=\"fedfunds\", \n",
    "                                          k_regimes=2, \n",
    "                                          independent_variables=[\"lfedfunds\"])\n",
    "res_fedfunds2 = mod_fedfunds2.fit()"
   ]
  },
  {
   "cell_type": "code",
   "execution_count": null,
   "metadata": {},
   "outputs": [],
   "source": [
    "res_fedfunds2.summary()"
   ]
  },
  {
   "cell_type": "markdown",
   "metadata": {},
   "source": [
    "There are several things to notice from the summary output:\n",
    "\n",
    "1. The information criteria have decreased substantially, indicating that this model has a better fit than the previous model.\n",
    "\n",
    "2. The interpretation of the regimes, in terms of the intercept, have switched. Now the first regime has the higher intercept and the second regime has a lower intercept.\n",
    "\n",
    "Examining the smoothed probabilities of the high regime state, we now see quite a bit more variability."
   ]
  },
  {
   "cell_type": "code",
   "execution_count": null,
   "metadata": {},
   "outputs": [],
   "source": [
    "_ = pd.DataFrame(res_fedfunds2.smoothed_marginal_probabilities)[0].plot(\n",
    "    title=\"Probability of being in the high regime\", figsize=(12, 3)\n",
    ")"
   ]
  },
  {
   "cell_type": "markdown",
   "metadata": {},
   "source": [
    "Finally, the expected durations of each regime have decreased quite a bit."
   ]
  },
  {
   "cell_type": "code",
   "execution_count": null,
   "metadata": {},
   "outputs": [],
   "source": [
    "print(res_fedfunds2.expected_durations)"
   ]
  },
  {
   "cell_type": "markdown",
   "metadata": {},
   "source": [
    "### Taylor rule with 2 or 3 regimes"
   ]
  },
  {
   "cell_type": "markdown",
   "metadata": {},
   "source": [
    "We now include two additional exogenous variables - a measure of the output gap and a measure of inflation - to estimate a switching Taylor-type rule with both 2 and 3 regimes to see which fits the data better.\n",
    "\n",
    "Because the models can be often difficult to estimate, for the 3-regime model we employ a search over starting parameters to improve results, specifying 20 random search repetitions."
   ]
  },
  {
   "cell_type": "code",
   "execution_count": 15,
   "metadata": {},
   "outputs": [],
   "source": [
    "dta_ogap = pd.Series(ogap, index=pd.date_range(\"1954-07-01\", \"2010-10-01\", freq=\"QS\"), name=\"ogap\")\n",
    "dta_inf = pd.Series(inf, index=pd.date_range(\"1954-07-01\", \"2010-10-01\", freq=\"QS\"), name='inf')\n",
    "\n",
    "dta_fedfunds_ogap_inf = pd.concat((dta_fedfunds, dta_ogap, dta_inf), axis=1).iloc[4:]"
   ]
  },
  {
   "cell_type": "code",
   "execution_count": null,
   "metadata": {},
   "outputs": [],
   "source": [
    "dta_fedfunds_ogap_inf"
   ]
  },
  {
   "cell_type": "code",
   "execution_count": 21,
   "metadata": {},
   "outputs": [],
   "source": [
    "mod_fedfunds3 = reg.MarkovRegressionModel(data=dta_fedfunds_ogap_inf, \n",
    "                                          dependent_variable=\"fedfunds\", \n",
    "                                          k_regimes=2, \n",
    "                                          independent_variables=['lfedfunds', 'ogap', 'inf'])\n",
    "res_fedfunds3 = mod_fedfunds3.fit()"
   ]
  },
  {
   "cell_type": "code",
   "execution_count": 24,
   "metadata": {},
   "outputs": [],
   "source": [
    "np.random.seed(12345)\n",
    "mod_fedfunds4 = reg.MarkovRegressionModel(data=dta_fedfunds_ogap_inf, \n",
    "                                          dependent_variable=\"fedfunds\", \n",
    "                                          k_regimes=3, \n",
    "                                          independent_variables=['lfedfunds', 'ogap', 'inf'])\n",
    "res_fedfunds4 = mod_fedfunds4.fit(search_reps=20)"
   ]
  },
  {
   "cell_type": "code",
   "execution_count": null,
   "metadata": {},
   "outputs": [],
   "source": [
    "res_fedfunds3.summary()"
   ]
  },
  {
   "cell_type": "code",
   "execution_count": null,
   "metadata": {},
   "outputs": [],
   "source": [
    "res_fedfunds4.summary()"
   ]
  },
  {
   "cell_type": "markdown",
   "metadata": {},
   "source": [
    "Due to lower information criteria, we might prefer the 3-state model, with an interpretation of low-, medium-, and high-interest rate regimes. The smoothed probabilities of each regime are plotted below."
   ]
  },
  {
   "cell_type": "code",
   "execution_count": null,
   "metadata": {},
   "outputs": [],
   "source": [
    "fig, axes = plt.subplots(3, figsize=(10, 7))\n",
    "\n",
    "ax = axes[0]\n",
    "ax.plot(res_fedfunds4.smoothed_marginal_probabilities[:, 2])\n",
    "ax.set(title=\"Smoothed probability of a low-interest rate regime\")\n",
    "\n",
    "ax = axes[1]\n",
    "ax.plot(res_fedfunds4.smoothed_marginal_probabilities[:, 0])\n",
    "ax.set(title=\"Smoothed probability of a medium-interest rate regime\")\n",
    "\n",
    "ax = axes[2]\n",
    "ax.plot(res_fedfunds4.smoothed_marginal_probabilities[:, 1])\n",
    "ax.set(title=\"Smoothed probability of a high-interest rate regime\")\n",
    "\n",
    "fig.tight_layout()"
   ]
  },
  {
   "cell_type": "markdown",
   "metadata": {},
   "source": [
    "### Switching variances"
   ]
  },
  {
   "cell_type": "markdown",
   "metadata": {},
   "source": [
    "We can also accomodate switching variances. In particular, we consider the model $$y_{t} = \\mu_{S_{t}} + y_{t-1}\\beta_{S_t} + \\varepsilon_t, \\varepsilon_t \\sim N(0, \\sigma^2_{S_t})$$ We use maximum likelihood to estimate the parameters of this model: $$p_{00}, p_{10}, \\mu_0, \\mu_1, \\beta_0, \\beta_1, \\sigma^2_0, \\sigma^2_1$$\n",
    "\n",
    "The application is to absolute returns on stocks, where the data can be found at https://www.stata-press.com/data/r14/snp500."
   ]
  },
  {
   "cell_type": "code",
   "execution_count": null,
   "metadata": {},
   "outputs": [],
   "source": [
    "dta_areturns = pd.Series(\n",
    "    areturns, index=pd.date_range(\"2004-05-04\", \"2014-5-03\", freq=\"W\")\n",
    ", name=\"areturns\").to_frame()\n",
    "_ = dta_areturns.plot(title=\"Absolute returns, S&P500\", figsize=(12, 3))"
   ]
  },
  {
   "cell_type": "code",
   "execution_count": 37,
   "metadata": {},
   "outputs": [],
   "source": [
    "dta_areturns[\"lareturns\"] = dta_areturns[\"areturns\"].shift(1)\n",
    "mod_areturns = reg.MarkovRegressionModel(data=dta_areturns.iloc[1:], \n",
    "                                         dependent_variable=\"areturns\", \n",
    "                                         k_regimes=2, \n",
    "                                         independent_variables=[\"lareturns\"],\n",
    "                                         switching_variance=True)\n",
    "res_areturns = mod_areturns.fit()"
   ]
  },
  {
   "cell_type": "code",
   "execution_count": null,
   "metadata": {},
   "outputs": [],
   "source": [
    "res_areturns.summary()"
   ]
  },
  {
   "cell_type": "markdown",
   "metadata": {},
   "source": [
    "The first regime is a low-variance regime and the second regime is a high-variance regime. Below we plot the probabilities of being in the low-variance regime. Between 2008 and 2012 there does not appear to be a clear indication of one regime guiding the economy."
   ]
  },
  {
   "cell_type": "code",
   "execution_count": null,
   "metadata": {},
   "outputs": [],
   "source": [
    "_ = pd.DataFrame(res_areturns.smoothed_marginal_probabilities)[0].plot(\n",
    "    title=\"Probability of being in a low-variance regime\", figsize=(12, 3)\n",
    ")"
   ]
  },
  {
   "cell_type": "markdown",
   "metadata": {},
   "source": [
    "***"
   ]
  }
 ],
 "metadata": {
  "kernelspec": {
   "display_name": "tools",
   "language": "python",
   "name": "tools"
  },
  "language_info": {
   "codemirror_mode": {
    "name": "ipython",
    "version": 3
   },
   "file_extension": ".py",
   "mimetype": "text/x-python",
   "name": "python",
   "nbconvert_exporter": "python",
   "pygments_lexer": "ipython3",
   "version": "3.8.18"
  }
 },
 "nbformat": 4,
 "nbformat_minor": 2
}
