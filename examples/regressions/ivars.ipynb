{
 "cells": [
  {
   "cell_type": "code",
   "execution_count": 1,
   "metadata": {},
   "outputs": [],
   "source": [
    "import numpy as np\n",
    "from linearmodels.datasets import mroz, wage, birthweight, card, jobtraining\n",
    "from statsmodels.api import add_constant\n",
    "from mitools import reg\n",
    "import pandas as pd\n",
    "from linearmodels.iv import compare"
   ]
  },
  {
   "cell_type": "markdown",
   "metadata": {},
   "source": [
    "# Instrumental Variables from Linearmodels"
   ]
  },
  {
   "cell_type": "markdown",
   "metadata": {},
   "source": [
    "https://bashtage.github.io/linearmodels/iv/examples/basic-examples.html"
   ]
  },
  {
   "cell_type": "markdown",
   "metadata": {},
   "source": [
    "## Basic Examples"
   ]
  },
  {
   "cell_type": "markdown",
   "metadata": {},
   "source": [
    "These examples are based on **Chapter 15** of Introduction to Econometrics by Jeffrey Wooldridge and demonstrate the basic use of the IV estimators (primarily IV2SLS – the two-stage least squares estimator)"
   ]
  },
  {
   "cell_type": "markdown",
   "metadata": {},
   "source": [
    "### Wages of Married Women"
   ]
  },
  {
   "cell_type": "markdown",
   "metadata": {},
   "source": [
    "This first example examines the effect of education on the wages of women. Education is a classic endogenous variable since it has signaling value beyond the actual direct effect (among other reasons).\n",
    "\n",
    "This first block imports the data and uses the `DESCR` attribute to describe the dataset. `add_constant` from statsmodels is used to add a variable named `const` to the DataFrame. Observations with missing values are dropped."
   ]
  },
  {
   "cell_type": "code",
   "execution_count": null,
   "metadata": {},
   "outputs": [],
   "source": [
    "print(mroz.DESCR)\n",
    "data = mroz.load()\n",
    "data = data.dropna()\n",
    "data = add_constant(data, has_constant=\"add\")"
   ]
  },
  {
   "cell_type": "markdown",
   "metadata": {},
   "source": [
    "Since OLS is a special case of 2SLS, IV2SLS can be used to estimate a model using OLS by setting `endog` and `instruments` variables to `None`.\n",
    "\n",
    "This first regression uses OLS to estimate the effect of education on the log of wage. It indicates that 1 year of education increases wage by 10%."
   ]
  },
  {
   "cell_type": "code",
   "execution_count": null,
   "metadata": {},
   "outputs": [],
   "source": [
    "res_ols = reg.IV2SLSModel(data, dependent_variable='lwage', independent_variables=[\"const\", \"educ\"]).fit(\n",
    "    cov_type=\"unadjusted\"\n",
    ")\n",
    "print(res_ols)"
   ]
  },
  {
   "cell_type": "markdown",
   "metadata": {},
   "source": [
    "Two-stage least squares is estimated “as-if” two regressions are run. Here the first stage regression where OLS is used to fit the value on the instrument (in this case the education of the subject”s father). The fitted value is saved for use later.\n",
    "\n",
    "This first stage regression indicates that there is a strong relationship and the first stage easily passes the rule of thumb test where the F-statistic is at least 10."
   ]
  },
  {
   "cell_type": "code",
   "execution_count": null,
   "metadata": {},
   "outputs": [],
   "source": [
    "res_first = reg.IV2SLSModel(data, dependent_variable='educ', independent_variables=[\"const\", \"fatheduc\"]).fit(\n",
    "    cov_type=\"unadjusted\"\n",
    ")\n",
    "print(res_first)\n",
    "data[\"educ_hat\"] = data.educ - res_first.resids"
   ]
  },
  {
   "cell_type": "markdown",
   "metadata": {},
   "source": [
    "The second stage uses the instrument to fit the model. This model indicates a much lower effect of education."
   ]
  },
  {
   "cell_type": "code",
   "execution_count": null,
   "metadata": {},
   "outputs": [],
   "source": [
    "res_second = reg.IV2SLSModel(data, \n",
    "                             dependent_variable='lwage',\n",
    "                             independent_variables=[\"const\"], \n",
    "                             endogenous_variables=['educ'], \n",
    "                             instrument_variables=[\"fatheduc\"]\n",
    "                             ).fit(cov_type=\"unadjusted\")\n",
    "print(res_second)"
   ]
  },
  {
   "cell_type": "markdown",
   "metadata": {},
   "source": [
    "The fitted value can be used with OLS to estimate the same parameters. Note that the other values reported such as t-statistics or $R^{2}$ are not correct.\n",
    "\n",
    "The `compare` function is used to compare the different models. The 2SLS coefficient on education and the direct coefficient on educ_hat are identical."
   ]
  },
  {
   "cell_type": "code",
   "execution_count": null,
   "metadata": {},
   "outputs": [],
   "source": [
    "res_direct = reg.IV2SLSModel(data, dependent_variable=\"lwage\", independent_variables=[\"const\", \"educ_hat\"]).fit(\n",
    "    cov_type=\"unadjusted\"\n",
    ")\n",
    "print(compare({\"OLS\": res_ols, \"2SLS\": res_second, \"Direct\": res_direct}))"
   ]
  },
  {
   "cell_type": "markdown",
   "metadata": {},
   "source": [
    "### Wages of Men"
   ]
  },
  {
   "cell_type": "markdown",
   "metadata": {},
   "source": [
    "This next example examines the returns to education for men and uses the number of siblings as an instrument."
   ]
  },
  {
   "cell_type": "code",
   "execution_count": null,
   "metadata": {},
   "outputs": [],
   "source": [
    "men = wage.load()\n",
    "print(wage.DESCR)\n",
    "men = men[[\"educ\", \"wage\", \"sibs\", \"exper\"]]\n",
    "men['lwage'] = np.log(men.wage)\n",
    "men = add_constant(men)\n",
    "men = men.dropna()"
   ]
  },
  {
   "cell_type": "code",
   "execution_count": null,
   "metadata": {},
   "outputs": [],
   "source": [
    "res_ols = reg.IV2SLSModel(men, dependent_variable='lwage', independent_variables=[\"const\", \"educ\"]).fit(\n",
    "    cov_type=\"unadjusted\"\n",
    ")\n",
    "print(res_ols)"
   ]
  },
  {
   "cell_type": "markdown",
   "metadata": {},
   "source": [
    "The first stage regressed the endogenous variable on the instrument. There is a strong, negative relationship here."
   ]
  },
  {
   "cell_type": "code",
   "execution_count": null,
   "metadata": {},
   "outputs": [],
   "source": [
    "res_first = reg.IV2SLSModel(men, dependent_variable='educ', independent_variables=[\"const\", \"sibs\"]).fit(\n",
    "    cov_type=\"unadjusted\"\n",
    ")\n",
    "print(res_first.summary)"
   ]
  },
  {
   "cell_type": "markdown",
   "metadata": {},
   "source": [
    "The second stage indicates a much strong relationship than the OLS estimate."
   ]
  },
  {
   "cell_type": "code",
   "execution_count": null,
   "metadata": {},
   "outputs": [],
   "source": [
    "res = reg.IV2SLSModel(men, \n",
    "                      dependent_variable='lwage', \n",
    "                      independent_variables=[\"const\"], \n",
    "                      endogenous_variables=['educ'], \n",
    "                      instrument_variables=[\"sibs\"]\n",
    "                      ).fit(cov_type=\"unadjusted\")\n",
    "print(res.summary)\n"
   ]
  },
  {
   "cell_type": "markdown",
   "metadata": {},
   "source": [
    "### Weighted IV"
   ]
  },
  {
   "cell_type": "markdown",
   "metadata": {},
   "source": [
    "All IV estimator support weighted which extends the concept of WLS in an OLS model to IV estimation. The weights are applied to the dependent variables, the matrix of regressors (endogenous and exogenous) and the matrix of instrument (exogenous and instruments) which allows for GLS-type estimation. In particular, if the variance of model residuals was $\\sigma^2$, then setting $\\omega = 1/\\sigma^2$ would produce GLS estimates.\n",
    "\n",
    "This example shows how a feasible GLS-type of estimator could be used."
   ]
  },
  {
   "cell_type": "code",
   "execution_count": null,
   "metadata": {},
   "outputs": [],
   "source": [
    "res2 = res.resids**2\n",
    "men['lres2'] = np.log(res2)\n",
    "fgls_mod = reg.IV2SLSModel(men, \n",
    "                           dependent_variable='lres2', \n",
    "                           independent_variables=[\"const\", \"sibs\", \"exper\"], \n",
    "                           )\n",
    "fgls_res = fgls_mod.fit()\n",
    "sigma2_hat = np.exp(np.log(res2) - fgls_res.resids)\n",
    "print(fgls_res)\n"
   ]
  },
  {
   "cell_type": "markdown",
   "metadata": {},
   "source": [
    "The variance of the squared residuals is not particularly well explained by the data, and so the GLS-type estimates and the usual IV estimates don”t differ by much."
   ]
  },
  {
   "cell_type": "code",
   "execution_count": null,
   "metadata": {},
   "outputs": [],
   "source": [
    "res_gls = reg.IV2SLSModel(men, \n",
    "                          dependent_variable='lwage', \n",
    "                          independent_variables=[\"const\"], \n",
    "                          endogenous_variables=['educ'], \n",
    "                          instrument_variables=[\"sibs\"], \n",
    "                          weights=1/sigma2_hat\n",
    "                          ).fit(cov_type=\"unadjusted\")\n",
    "print(res_gls)"
   ]
  },
  {
   "cell_type": "markdown",
   "metadata": {},
   "source": [
    "### Smoking and birth weight"
   ]
  },
  {
   "cell_type": "markdown",
   "metadata": {},
   "source": [
    "This example examines the effect of smoking on the birth weight of babies."
   ]
  },
  {
   "cell_type": "code",
   "execution_count": null,
   "metadata": {},
   "outputs": [],
   "source": [
    "data = birthweight.load()\n",
    "print(birthweight.DESCR)\n",
    "data = add_constant(data)\n",
    "data['lbwght'] = np.log(data.bwght)"
   ]
  },
  {
   "cell_type": "markdown",
   "metadata": {},
   "source": [
    "The first stage regresses the number of packs smoked on the cigarette price. There is a very weak relationship – so weak that this is an example of a _weak instrument."
   ]
  },
  {
   "cell_type": "code",
   "execution_count": null,
   "metadata": {},
   "outputs": [],
   "source": [
    "res = reg.IV2SLSModel(data, \n",
    "                      dependent_variable='packs', \n",
    "                      independent_variables=[\"const\", \"cigprice\"]\n",
    "                      ).fit(cov_type=\"unadjusted\")\n",
    "print(res)"
   ]
  },
  {
   "cell_type": "markdown",
   "metadata": {},
   "source": [
    "Despite the weak relationship between the price and the number of pack smoked, the 2SLS can be estimated, although substantial caution is warranted to interpret the results. Note the very negative $R^2$ (-150%)."
   ]
  },
  {
   "cell_type": "code",
   "execution_count": null,
   "metadata": {},
   "outputs": [],
   "source": [
    "res = reg.IV2SLSModel(data, \n",
    "                      dependent_variable='lbwght', \n",
    "                      independent_variables=[\"const\"], \n",
    "                      endogenous_variables=['packs'], \n",
    "                      instrument_variables=[\"cigprice\"]\n",
    "                      ).fit(cov_type=\"unadjusted\")\n",
    "print(res)"
   ]
  },
  {
   "cell_type": "markdown",
   "metadata": {},
   "source": [
    "### Proximity and education"
   ]
  },
  {
   "cell_type": "markdown",
   "metadata": {},
   "source": [
    "This next example uses a well-known dataset that uses proximity to a 4 year college as an instrument for education."
   ]
  },
  {
   "cell_type": "code",
   "execution_count": null,
   "metadata": {},
   "outputs": [],
   "source": [
    "data = card.load()\n",
    "print(card.DESCR)\n",
    "data = add_constant(data)"
   ]
  },
  {
   "cell_type": "markdown",
   "metadata": {},
   "source": [
    "Lists are used to hold the groups of variable in this large model and missing values are dropped.\n",
    "\n"
   ]
  },
  {
   "cell_type": "code",
   "execution_count": 17,
   "metadata": {},
   "outputs": [],
   "source": [
    "dep = [\"wage\"]\n",
    "endog = [\"educ\"]\n",
    "exog = [\n",
    "    \"const\",\n",
    "    \"exper\",\n",
    "    \"expersq\",\n",
    "    \"black\",\n",
    "    \"smsa\",\n",
    "    \"south\",\n",
    "    \"smsa66\",\n",
    "    \"reg662\",\n",
    "    \"reg663\",\n",
    "    \"reg664\",\n",
    "    \"reg665\",\n",
    "    \"reg666\",\n",
    "    \"reg667\",\n",
    "    \"reg668\",\n",
    "    \"reg669\",\n",
    "]\n",
    "instr = [\"nearc4\"]\n",
    "data = data[dep + exog + endog + instr].dropna()\n",
    "data['lwage'] = np.log(data.wage)"
   ]
  },
  {
   "cell_type": "markdown",
   "metadata": {},
   "source": [
    "The first stage estimate shows a very large F-statistic. Note that when there are many exogenous variables the results cannot be directly interpreted. It is better to use the `first_stage` information from a 2SLS estimate."
   ]
  },
  {
   "cell_type": "code",
   "execution_count": null,
   "metadata": {},
   "outputs": [],
   "source": [
    "res = reg.IV2SLSModel(data, dependent_variable='educ', independent_variables=instr + exog).fit()\n",
    "print(res)"
   ]
  },
  {
   "cell_type": "markdown",
   "metadata": {},
   "source": [
    "The OLS estimate indicates an increase of 7% for a year of education."
   ]
  },
  {
   "cell_type": "code",
   "execution_count": null,
   "metadata": {},
   "outputs": [],
   "source": [
    "res = reg.IV2SLSModel(data, \n",
    "                      dependent_variable='lwage', \n",
    "                      independent_variables=exog + endog, \n",
    "                      ).fit()\n",
    "print(res)"
   ]
  },
  {
   "cell_type": "markdown",
   "metadata": {},
   "source": [
    "The 2SLS estimate of the effect is nearly double. However, there is some reason to be concerned about the strength of the instrument despite the F-statistic in the first stage regression."
   ]
  },
  {
   "cell_type": "code",
   "execution_count": null,
   "metadata": {},
   "outputs": [],
   "source": [
    "res_2sls = reg.IV2SLSModel(data, \n",
    "                      dependent_variable='lwage', \n",
    "                      independent_variables=exog,\n",
    "                      endogenous_variables=endog, \n",
    "                      instrument_variables=instr\n",
    "                      ).fit()\n",
    "print(res_2sls)"
   ]
  },
  {
   "cell_type": "markdown",
   "metadata": {},
   "source": [
    "The property `first_stage` can be used to show a large set of first stage diagnostics. These results show a much lower partial $R^2$ that has measures the unique effect of the instrument on the endogenous controlling for the exogenous regressors. This is much smaller than the naive first stage $R^2$ of 47%. The partial F-statistic is also much smaller, although it technically over the rule-of-thumb of 10 for a single instrument.\n",
    "\n",
    "The instrument is a dummy variable and being close to a 4 year college is only worth 0.3 years of education on average."
   ]
  },
  {
   "cell_type": "code",
   "execution_count": null,
   "metadata": {},
   "outputs": [],
   "source": [
    "print(res_2sls.first_stage)"
   ]
  },
  {
   "cell_type": "markdown",
   "metadata": {},
   "source": [
    "### Formula interface"
   ]
  },
  {
   "cell_type": "markdown",
   "metadata": {},
   "source": [
    "This model was large and so it might be simpler to use a formula. While formulas are discussed in detail in another notebook, they use the formula language of formulaic with an augmentation to specify the endogenous and instrumental variables. The generic form is\n",
    "```\n",
    "dependent ~ exogenous + endogenous ~ instruments\n",
    "```\n",
    "where each block can contain multiple variables.\n",
    "\n",
    "Here the model is compared to the direct parameterization using DataFrames by differencing the $R^2$."
   ]
  },
  {
   "cell_type": "code",
   "execution_count": null,
   "metadata": {},
   "outputs": [],
   "source": [
    "formula = (\n",
    "    \"np.log(wage) ~ 1 + exper + expersq + black + smsa + south + smsa66 + reg662 + reg663 + reg664 + \"\n",
    "    \"reg665 + reg666 + reg667 + reg668 + reg669 + [educ ~ nearc4]\"\n",
    ")\n",
    "model = reg.IV2SLSModel(data, formula=formula)\n",
    "res_formula = model.fit(cov_type=\"unadjusted\")\n",
    "print(round(res_formula.rsquared - res_2sls.rsquared, 10))"
   ]
  },
  {
   "cell_type": "markdown",
   "metadata": {},
   "source": [
    "### Categorical Variables"
   ]
  },
  {
   "cell_type": "markdown",
   "metadata": {},
   "source": [
    "pandas `categoricals` are automatically treated as factors and expanded to dummies. The first is always dropped. This next block constructs a categorical from the region dummies and then uses it instead of the individual dummies. The model is identical."
   ]
  },
  {
   "cell_type": "code",
   "execution_count": null,
   "metadata": {},
   "outputs": [],
   "source": [
    "data[\"reg\"] = \"661\"  # The default region, which was omitted\n",
    "for i in range(2, 10):\n",
    "    region = \"reg66\" + str(i)\n",
    "    data.loc[data[region] == 1, \"reg\"] = region[3:]\n",
    "data[\"reg\"] = data[\"reg\"].astype(\"category\")\n",
    "data.describe()\n",
    "res_cat = reg.IV2SLSModel(data, \n",
    "                          dependent_variable='lwage', \n",
    "                          independent_variables=[\"const\", \"exper\", \"expersq\", \"black\", \"smsa\", \"south\", \"smsa66\", \"reg\"],\n",
    "                          endogenous_variables=[\"educ\"],\n",
    "                          instrument_variables=[\"nearc4\"]\n",
    "                          ).fit()\n",
    "print(res_cat)"
   ]
  },
  {
   "cell_type": "markdown",
   "metadata": {},
   "source": [
    "### Post-estimation diagnostics"
   ]
  },
  {
   "cell_type": "markdown",
   "metadata": {},
   "source": [
    "Common post-estimation diagnostics are to test the assumption of endogeneity and to examine if instruments are valid (when there are more instruments than endogenous variables)."
   ]
  },
  {
   "cell_type": "code",
   "execution_count": 24,
   "metadata": {},
   "outputs": [],
   "source": [
    "data = mroz.load()\n",
    "data = data.dropna()\n",
    "data = add_constant(data, has_constant=\"add\")\n",
    "data[\"lnwage\"] = np.log(data.wage)\n",
    "dep = \"lnwage\"\n",
    "exog = [\"const\", \"exper\", \"expersq\"]\n",
    "endog = [\"educ\"]\n",
    "instr = [\"fatheduc\", \"motheduc\"]"
   ]
  },
  {
   "cell_type": "markdown",
   "metadata": {},
   "source": [
    "The first step is to fit the model using 2SLS."
   ]
  },
  {
   "cell_type": "code",
   "execution_count": null,
   "metadata": {},
   "outputs": [],
   "source": [
    "res = reg.IV2SLSModel(data, \n",
    "                      dependent_variable=dep, \n",
    "                      independent_variables=exog,\n",
    "                      endogenous_variables=endog, \n",
    "                      instrument_variables=instr\n",
    "                      ).fit(cov_type=\"unadjusted\")\n",
    "print(res)\n"
   ]
  },
  {
   "cell_type": "markdown",
   "metadata": {},
   "source": [
    "Wooldridge”s regression test of exogeneity uses regression residual where the endogenous variables are regressed on the exogenous and the instrument to test for endogeneity. IF the endogenous variable is actually exogenous these residuals should not be correlated with the variable of interest."
   ]
  },
  {
   "cell_type": "code",
   "execution_count": null,
   "metadata": {},
   "outputs": [],
   "source": [
    "res.wooldridge_regression"
   ]
  },
  {
   "cell_type": "markdown",
   "metadata": {},
   "source": [
    "This test can be easily implemented using two regression. The first one constructs the residuals and the second re-fits the model using 2SLS but including the residuals.\n",
    "\n",
    "Note that the p-value of the t-state on `residuals` is the same as the P-value of the previous test – this is not an accident."
   ]
  },
  {
   "cell_type": "code",
   "execution_count": null,
   "metadata": {},
   "outputs": [],
   "source": [
    "v = reg.IV2SLSModel(data,\n",
    "                    dependent_variable=endog[0],\n",
    "                    independent_variables=exog + instr,\n",
    "                    ).fit().resids\n",
    "data['v'] = v\n",
    "res_direct = reg.IV2SLSModel(data, \n",
    "                              dependent_variable=dep, \n",
    "                              independent_variables=[\"v\"] + exog, \n",
    "                              endogenous_variables=endog, \n",
    "                              instrument_variables=instr\n",
    "                              ).fit(cov_type=\"unadjusted\")\n",
    "print(res_direct)"
   ]
  },
  {
   "cell_type": "markdown",
   "metadata": {},
   "source": [
    "Since this regression has two instrument it is possible to test for overidentification. Wooldridge”s overidentification test uses a regression to test whether the 2SLS residuals are uncorrelated with the instruments, which should be the case if the model is correct and the instruments are not needed in the original model."
   ]
  },
  {
   "cell_type": "code",
   "execution_count": null,
   "metadata": {},
   "outputs": [],
   "source": [
    "res.wooldridge_overid"
   ]
  },
  {
   "cell_type": "markdown",
   "metadata": {},
   "source": [
    "A naive version of this test can be directly implemented. This direct implementation is different from the formal test but would be consistent if the model was overidentified."
   ]
  },
  {
   "cell_type": "code",
   "execution_count": 29,
   "metadata": {},
   "outputs": [],
   "source": [
    "data['u'] = res.resids\n",
    "res = reg.IV2SLSModel(data, \n",
    "                              dependent_variable=\"u\", \n",
    "                              independent_variables=[\"exper\", \"expersq\"] + instr, \n",
    "                              ).fit()"
   ]
  },
  {
   "cell_type": "markdown",
   "metadata": {},
   "source": [
    "The test is $n \\times R^2$, and has the same $\\chi^2$ distribution. The test statistic is slightly smaller but the conclusions are the same.\n"
   ]
  },
  {
   "cell_type": "code",
   "execution_count": null,
   "metadata": {},
   "outputs": [],
   "source": [
    "res.nobs * res.rsquared"
   ]
  },
  {
   "cell_type": "markdown",
   "metadata": {},
   "source": [
    "Husband”s education can be used as an additional instrument, and its validity tested."
   ]
  },
  {
   "cell_type": "code",
   "execution_count": 31,
   "metadata": {},
   "outputs": [],
   "source": [
    "instr = [\"fatheduc\", \"motheduc\", \"huseduc\"]\n",
    "res = reg.IV2SLSModel(data, \n",
    "                      dependent_variable=dep, \n",
    "                      independent_variables=exog,\n",
    "                      endogenous_variables=endog, \n",
    "                      instrument_variables=instr\n",
    "                      ).fit(cov_type=\"unadjusted\")"
   ]
  },
  {
   "cell_type": "markdown",
   "metadata": {},
   "source": [
    "Testing overidentification does not indicate any difference from the previous result."
   ]
  },
  {
   "cell_type": "code",
   "execution_count": null,
   "metadata": {},
   "outputs": [],
   "source": [
    "res.wooldridge_overid"
   ]
  },
  {
   "cell_type": "markdown",
   "metadata": {},
   "source": [
    "Directly testing using two regression would reach the same conclusion."
   ]
  },
  {
   "cell_type": "code",
   "execution_count": null,
   "metadata": {},
   "outputs": [],
   "source": [
    "data['u'] = res.resids\n",
    "res = reg.IV2SLSModel(data, \n",
    "                    dependent_variable=\"u\", \n",
    "                    independent_variables=[\"exper\", \"expersq\"] + instr, \n",
    "                    ).fit()\n",
    "res.nobs * res.rsquared"
   ]
  },
  {
   "cell_type": "markdown",
   "metadata": {},
   "source": [
    "### Panel IV"
   ]
  },
  {
   "cell_type": "markdown",
   "metadata": {},
   "source": [
    "Instrumental variable regression can also be used with panel data. This example makes use of first differences to eliminate a year-specific effect and then uses\n",
    "\n",
    "\n"
   ]
  },
  {
   "cell_type": "code",
   "execution_count": null,
   "metadata": {},
   "outputs": [],
   "source": [
    "data = jobtraining.load()\n",
    "print(jobtraining.DESCR)\n",
    "data.head()\n",
    "data = data.where(data.year.isin((1987, 1988)))\n",
    "data = data.dropna(how=\"all\", axis=0).sort_values([\"fcode\", \"year\"])\n",
    "print(data.describe())\n",
    "data = data.set_index(\"fcode\")\n",
    "data = data[[\"year\", \"hrsemp\", \"grant\", \"scrap\", \"lscrap\"]]"
   ]
  },
  {
   "cell_type": "code",
   "execution_count": null,
   "metadata": {},
   "outputs": [],
   "source": [
    "deltas = data.loc[data.year == 1988] - data.loc[data.year == 1987]\n",
    "deltas = add_constant(deltas, has_constant=\"add\")\n",
    "deltas = deltas.dropna()\n",
    "print(deltas.describe())"
   ]
  },
  {
   "cell_type": "markdown",
   "metadata": {},
   "source": [
    "The first stage indicates a relatively strong relationship between grant and the number of hours employed. Note that grant is a dummy and so the coefficient is just the difference in means."
   ]
  },
  {
   "cell_type": "code",
   "execution_count": null,
   "metadata": {},
   "outputs": [],
   "source": [
    "model = reg.IV2SLSModel(deltas, dependent_variable='hrsemp', independent_variables=[\"const\", \"grant\"])\n",
    "print(model.fit(cov_type=\"unadjusted\"))"
   ]
  },
  {
   "cell_type": "markdown",
   "metadata": {},
   "source": [
    "Here a formula is used to specify the model since it is cleaner. Note that the [] contains the endogenous variables and instruments."
   ]
  },
  {
   "cell_type": "code",
   "execution_count": null,
   "metadata": {},
   "outputs": [],
   "source": [
    "model = reg.IV2SLSModel(deltas, formula=\"lscrap ~ 1 + [hrsemp ~ grant]\")\n",
    "res_iv = model.fit(cov_type=\"unadjusted\")\n",
    "print(res_iv)"
   ]
  },
  {
   "cell_type": "markdown",
   "metadata": {},
   "source": [
    "The 2SLS estimate is nearly twice as large as the OLS estimate and is slightly more significant."
   ]
  },
  {
   "cell_type": "code",
   "execution_count": null,
   "metadata": {},
   "outputs": [],
   "source": [
    "res_ols = reg.IV2SLSModel(deltas, formula=\"lscrap ~ 1 + hrsemp\").fit(cov_type=\"unadjusted\")\n",
    "print(compare({\"Panel OLS\": res_ols, \"Panel IV\": res_iv}))"
   ]
  },
  {
   "cell_type": "code",
   "execution_count": null,
   "metadata": {},
   "outputs": [],
   "source": [
    "model = reg.IV2SLSModel(deltas, formula=\"lscrap ~ 1 + [hrsemp ~ grant]\")\n",
    "res_iv = model.fit(cov_type=\"unadjusted\")\n",
    "n = deltas.shape[0]\n",
    "pred_exog = pd.DataFrame(np.ones((n, 1)), index=deltas.index)\n",
    "res_iv.predict(exog=pred_exog, endog=deltas[[\"hrsemp\"]])"
   ]
  },
  {
   "cell_type": "markdown",
   "metadata": {},
   "source": [
    "***"
   ]
  }
 ],
 "metadata": {
  "kernelspec": {
   "display_name": "tools",
   "language": "python",
   "name": "tools"
  },
  "language_info": {
   "codemirror_mode": {
    "name": "ipython",
    "version": 3
   },
   "file_extension": ".py",
   "mimetype": "text/x-python",
   "name": "python",
   "nbconvert_exporter": "python",
   "pygments_lexer": "ipython3",
   "version": "3.8.18"
  }
 },
 "nbformat": 4,
 "nbformat_minor": 2
}
