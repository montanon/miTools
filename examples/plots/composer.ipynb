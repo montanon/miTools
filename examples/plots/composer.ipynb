{
 "cells": [
  {
   "cell_type": "code",
   "execution_count": 1,
   "metadata": {},
   "outputs": [],
   "source": [
    "from mitools.visuals.plots import PlotComposer, ScatterPlotter, LinePlotter, AxesComposer\n",
    "import pandas as pd\n",
    "import numpy as np\n",
    "from mitools.pandas import idxslice\n",
    "import matplotlib.pyplot as plt"
   ]
  },
  {
   "cell_type": "markdown",
   "metadata": {},
   "source": [
    "# Plots and Axes Composers Examples"
   ]
  },
  {
   "cell_type": "markdown",
   "metadata": {},
   "source": [
    "This notebook contains examples of how to use the `PlotComposer` and `AxesComposer` classes to create plots and axes composers, portraying their functionality and flexibility."
   ]
  },
  {
   "cell_type": "markdown",
   "metadata": {},
   "source": [
    "## Artifical Data"
   ]
  },
  {
   "cell_type": "markdown",
   "metadata": {},
   "source": [
    "#### Functions to Generate Countries Indicators"
   ]
  },
  {
   "cell_type": "code",
   "execution_count": 2,
   "metadata": {},
   "outputs": [],
   "source": [
    "def generate_gdp(year_idx: int, base_gdp: float, growth_rate: float) -> float:\n",
    "    gdp = base_gdp * ((1.0 + growth_rate) ** year_idx)\n",
    "    noise = np.random.normal(loc=0.0, scale=0.05)  # ±5% relative noise\n",
    "    return gdp * (1 + noise)\n",
    "\n",
    "def generate_population(year_idx: int, start_pop: float, end_pop: float, total_years: int) -> float:\n",
    "    fraction = year_idx / (total_years - 1)\n",
    "    pop = start_pop + (end_pop - start_pop) * fraction\n",
    "    noise_factor = 0.03 * pop\n",
    "    pop += np.random.normal(loc=0.0, scale=noise_factor)\n",
    "    return max(pop, 0)  # population can't be negative\n",
    "\n",
    "def generate_unemployment(year_idx: int) -> float:\n",
    "    base = 0.1 + 0.1 * np.sin(2 * np.pi * (year_idx / 10.0))  # 10-year cycles\n",
    "    noise = np.random.normal(loc=0.0, scale=0.03)\n",
    "    val = np.clip(base + noise, 0, 0.25)\n",
    "    return val * 100\n",
    "\n",
    "def generate_happiness(year_idx: int, previous_val: float) -> float:\n",
    "    step = np.random.normal(loc=0.0, scale=0.3)\n",
    "    new_val = previous_val + step\n",
    "    new_val = np.clip(new_val, 0, 10)\n",
    "    return new_val\n",
    "\n",
    "def generate_co2(year_idx: int, base_co2: float, growth_rate: float) -> float:\n",
    "    co2_val = base_co2 * ((1.0 + growth_rate) ** year_idx)\n",
    "    noise = np.random.normal(loc=0.0, scale=0.05)\n",
    "    return co2_val * (1 + noise)"
   ]
  },
  {
   "cell_type": "markdown",
   "metadata": {},
   "source": [
    "#### Initialize Country Data"
   ]
  },
  {
   "cell_type": "code",
   "execution_count": null,
   "metadata": {},
   "outputs": [],
   "source": [
    "np.random.seed(42)\n",
    "years = range(1900, 2021)\n",
    "n_years = len(years)\n",
    "n_indicators = 5\n",
    "continents = {\n",
    "    \"Africa\":    [\"Algeria\", \"Nigeria\", \"Kenya\", \"Egypt\", \"South Africa\"],\n",
    "    \"Asia\":      [\"China\", \"India\", \"Japan\", \"South Korea\", \"Indonesia\"],\n",
    "    \"Europe\":    [\"Germany\", \"France\", \"Italy\", \"Spain\", \"Poland\"],\n",
    "    \"Americas\":  [\"USA\", \"Canada\", \"Brazil\", \"Argentina\", \"Mexico\"],\n",
    "    \"Oceania\":   [\"Australia\", \"New Zealand\", \"Fiji\", \"Papua New Guinea\", \"Samoa\"]\n",
    "}\n",
    "country_continent_pairs = []\n",
    "for cont, countries in continents.items():\n",
    "    for c in countries:\n",
    "        country_continent_pairs.append((c, cont))\n",
    "country_params = {}\n",
    "for c, cont in country_continent_pairs:\n",
    "    base_gdp = np.random.uniform(1e3, 1e4)\n",
    "    gdp_growth = np.random.uniform(0.02, 0.08)\n",
    "    start_pop = np.random.uniform(1e5, 5e6)\n",
    "    end_pop = np.random.uniform(5e6, 2e8)\n",
    "    base_co2 = np.random.uniform(1, 500)\n",
    "    co2_growth = np.random.uniform(0.01, 0.05)\n",
    "    country_params[c] = {\n",
    "        \"continent\": cont,\n",
    "        \"base_gdp\": base_gdp,\n",
    "        \"gdp_growth\": gdp_growth,\n",
    "        \"start_pop\": start_pop,\n",
    "        \"end_pop\": end_pop,\n",
    "        \"base_co2\": base_co2,\n",
    "        \"co2_growth\": co2_growth\n",
    "    }\n",
    "all_rows = []\n",
    "for c, cont in country_continent_pairs:\n",
    "    params = country_params[c]\n",
    "    current_happiness = np.random.uniform(0, 10)\n",
    "    for i, y in enumerate(years):\n",
    "        gdp_val = generate_gdp(\n",
    "            year_idx=i, \n",
    "            base_gdp=params[\"base_gdp\"], \n",
    "            growth_rate=params[\"gdp_growth\"]\n",
    "        )\n",
    "        pop_val = generate_population(\n",
    "            year_idx=i,\n",
    "            start_pop=params[\"start_pop\"],\n",
    "            end_pop=params[\"end_pop\"],\n",
    "            total_years=n_years\n",
    "        )\n",
    "        unemp_val = generate_unemployment(i)\n",
    "        current_happiness = generate_happiness(i, current_happiness)\n",
    "        co2_val = generate_co2(\n",
    "            year_idx=i,\n",
    "            base_co2=params[\"base_co2\"],\n",
    "            growth_rate=params[\"co2_growth\"]\n",
    "        )\n",
    "        row = {\n",
    "            \"Country\": c,\n",
    "            \"Continent\": cont,\n",
    "            \"Year\": y,\n",
    "            \"GDP\": gdp_val,\n",
    "            \"Population\": pop_val,\n",
    "            \"UnemploymentRate\": unemp_val,\n",
    "            \"HappinessIndex\": current_happiness,\n",
    "            \"CO2\": co2_val\n",
    "        }\n",
    "        all_rows.append(row)\n",
    "countries_data = pd.DataFrame(all_rows).set_index([\"Year\", \"Continent\", \"Country\"])\n",
    "countries_data"
   ]
  },
  {
   "cell_type": "markdown",
   "metadata": {},
   "source": [
    "## General Definitions"
   ]
  },
  {
   "cell_type": "code",
   "execution_count": 4,
   "metadata": {},
   "outputs": [],
   "source": [
    "continents = countries_data.index.get_level_values(\"Continent\").unique()\n",
    "continents_col = \"Continent\"\n",
    "years = countries_data.index.get_level_values(\"Year\").unique()\n",
    "indicators = [c for c in countries_data.columns if c != \"GDP\"]"
   ]
  },
  {
   "cell_type": "code",
   "execution_count": 5,
   "metadata": {},
   "outputs": [],
   "source": [
    "y_var = \"GDP\"\n",
    "x_var = \"Population\""
   ]
  },
  {
   "cell_type": "code",
   "execution_count": 6,
   "metadata": {},
   "outputs": [],
   "source": [
    "edgecolors = {\n",
    "    \"Population\": \"grey\",\n",
    "    \"GDP\": \"green\",\n",
    "    \"UnemploymentRate\": \"orange\",\n",
    "    \"HappinessIndex\": \"brown\",\n",
    "    \"CO2\": \"red\",\n",
    "}\n",
    "facecolors = {\n",
    "    \"Africa\": \"white\",\n",
    "    \"Asia\": \"darkgrey\",\n",
    "    \"Europe\": \"lightgrey\",\n",
    "    \"Americas\": \"black\",\n",
    "    \"Oceania\": \"lightcyan\",\n",
    "}"
   ]
  },
  {
   "cell_type": "markdown",
   "metadata": {},
   "source": [
    "## PlotComposer with multiple ScatterPlotters"
   ]
  },
  {
   "cell_type": "code",
   "execution_count": null,
   "metadata": {},
   "outputs": [],
   "source": [
    "plot = PlotComposer()\n",
    "for continent in continents:\n",
    "    continent_idxslice = idxslice(countries_data, level=continents_col, values=continent, axis=0)\n",
    "    plot.add_plotter(\n",
    "        ScatterPlotter(\n",
    "            x_data=countries_data.loc[continent_idxslice, x_var].values,\n",
    "            y_data=np.log(countries_data.loc[continent_idxslice, y_var].values),\n",
    "        )\n",
    "        .set_edgecolor(edgecolors[x_var])\n",
    "        .set_facecolor(facecolors[continent])\n",
    "        .set_marker(\"o\")\n",
    "        .set_size(20)\n",
    "        .set_alpha(0.75)\n",
    "    )\n",
    "plot.set_title(f\"a) {y_var} vs {x_var}:\", fontsize=24, fontweight=\"bold\", loc=\"left\", fontfamily=\"serif\")\n",
    "plot.set_xlabel(f\"{x_var}\", fontsize=16, fontfamily=\"serif\")\n",
    "plot.set_ylabel(f\"{y_var}\", fontsize=16, fontfamily=\"serif\")\n",
    "ax = plot.draw()"
   ]
  },
  {
   "cell_type": "markdown",
   "metadata": {},
   "source": [
    "## Store Created PlotComposer"
   ]
  },
  {
   "cell_type": "code",
   "execution_count": 8,
   "metadata": {},
   "outputs": [],
   "source": [
    "plot.save_composer(\".plot_params/composed_plot.json\")"
   ]
  },
  {
   "cell_type": "markdown",
   "metadata": {},
   "source": [
    "## Load and Draw Created PlotComposer"
   ]
  },
  {
   "cell_type": "code",
   "execution_count": null,
   "metadata": {},
   "outputs": [],
   "source": [
    "plot = PlotComposer.from_json(\".plot_params/composed_plot.json\")\n",
    "ax = plot.draw()"
   ]
  },
  {
   "cell_type": "markdown",
   "metadata": {},
   "source": [
    "## Generate Multiple PlotComposers Independently"
   ]
  },
  {
   "cell_type": "code",
   "execution_count": null,
   "metadata": {},
   "outputs": [],
   "source": [
    "plots = []\n",
    "for n, var in enumerate(indicators):\n",
    "    plot = PlotComposer()\n",
    "    for continent in continents:\n",
    "        continent_idxslice = idxslice(countries_data, level=continents_col, values=continent, axis=0)\n",
    "        plot.add_plotter(\n",
    "            ScatterPlotter(\n",
    "                x_data=countries_data.loc[continent_idxslice, var].values,\n",
    "                y_data=np.log(countries_data.loc[continent_idxslice, y_var].values),\n",
    "            )\n",
    "            .set_edgecolor(edgecolors[var])\n",
    "            .set_facecolor(facecolors[continent])\n",
    "            .set_marker(\"o\")\n",
    "            .set_size(20)\n",
    "            .set_alpha(0.75)\n",
    "        )\n",
    "    plot.set_title(f\"{'abcd'[n]}) {y_var} vs {var}:\", fontsize=24, fontweight=\"bold\", loc=\"left\", fontfamily=\"serif\")\n",
    "    plot.set_xlabel(f\"{var}\", fontsize=16, fontfamily=\"serif\")\n",
    "    plot.set_ylabel(f\"{y_var}\", fontsize=16, fontfamily=\"serif\")\n",
    "    plots.append(plot)\n",
    "    plot.save_composer(\".plot_params/composed_plot.json\")\n",
    "    plot = PlotComposer.from_json(\".plot_params/composed_plot.json\")\n",
    "    plot.draw()"
   ]
  },
  {
   "cell_type": "markdown",
   "metadata": {},
   "source": [
    "## Relate Multiple PlotComposers with an AxesComposer"
   ]
  },
  {
   "cell_type": "code",
   "execution_count": null,
   "metadata": {},
   "outputs": [],
   "source": [
    "fig, axes = plt.subplots(2,2, figsize=(8*2,8*2))\n",
    "plotted = AxesComposer(axes, plots=plots)\n",
    "ax = plotted.draw()"
   ]
  },
  {
   "cell_type": "markdown",
   "metadata": {},
   "source": [
    "### Store, Load and Draw the Created AxesComposer"
   ]
  },
  {
   "cell_type": "code",
   "execution_count": null,
   "metadata": {},
   "outputs": [],
   "source": [
    "plotted.save_composer(\".plot_params/composed_plot.json\")\n",
    "plotted = AxesComposer.from_json(\".plot_params/composed_plot.json\")\n",
    "axes = plotted.draw()"
   ]
  },
  {
   "cell_type": "markdown",
   "metadata": {},
   "source": [
    "## Individual PlotComposers in AxesComposer can be stored, loaded, and drawn independently"
   ]
  },
  {
   "cell_type": "code",
   "execution_count": null,
   "metadata": {},
   "outputs": [],
   "source": [
    "for plot in plotted.plots:\n",
    "    plot.save_composer(\".plot_params/composed_plot.json\")\n",
    "    plot = PlotComposer.from_json(\".plot_params/composed_plot.json\").set_figsize((11,8))\n",
    "    plot.draw()"
   ]
  },
  {
   "cell_type": "markdown",
   "metadata": {},
   "source": [
    "***"
   ]
  }
 ],
 "metadata": {
  "kernelspec": {
   "display_name": "tools",
   "language": "python",
   "name": "tools"
  },
  "language_info": {
   "codemirror_mode": {
    "name": "ipython",
    "version": 3
   },
   "file_extension": ".py",
   "mimetype": "text/x-python",
   "name": "python",
   "nbconvert_exporter": "python",
   "pygments_lexer": "ipython3",
   "version": "3.8.18"
  }
 },
 "nbformat": 4,
 "nbformat_minor": 2
}
