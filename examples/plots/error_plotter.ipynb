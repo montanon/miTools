{
 "cells": [
  {
   "cell_type": "code",
   "execution_count": 1,
   "metadata": {},
   "outputs": [],
   "source": [
    "import numpy as np\n",
    "from mitools.visuals import ErrorPlotter"
   ]
  },
  {
   "cell_type": "markdown",
   "metadata": {},
   "source": [
    "# Single Sequence"
   ]
  },
  {
   "cell_type": "code",
   "execution_count": 2,
   "metadata": {},
   "outputs": [],
   "source": [
    "x_data = [1, 2, 3, 4, 5, 6, 7, 8]\n",
    "y_data = [0, 1, 3, -1, -3, 0, 2, 1]\n",
    "x_error = np.random.rand(len(x_data)) * 2\n",
    "y_error = np.random.rand(len(y_data)) * 2\n",
    "single_plotter = ErrorPlotter(x_data, y_data, xerr=x_error, yerr=y_error)"
   ]
  },
  {
   "cell_type": "code",
   "execution_count": null,
   "metadata": {},
   "outputs": [],
   "source": [
    "ax = single_plotter.draw()"
   ]
  },
  {
   "cell_type": "code",
   "execution_count": null,
   "metadata": {},
   "outputs": [],
   "source": [
    "(single_plotter\n",
    " .set_ecolor(\"red\")\n",
    " .set_elinewidth(0.5)\n",
    " .set_capsize(3.5)\n",
    " .set_capthick(1.75)\n",
    " .set_barsabove(False)\n",
    " .set_lolims(False)\n",
    " .set_uplims(False)\n",
    " .set_xuplims(False)\n",
    " .set_xlolims(True)\n",
    " .set_errorevery(1)\n",
    " .set_alpha(0.66)\n",
    " .set_marker(\"s\")\n",
    " .set_markeredgecolor(\"red\")\n",
    " .set_markerfacecolor(\"white\")\n",
    " .set_linestyle(\"\")\n",
    " .set_label(\"The error\")\n",
    " .set_legend(show=True, loc=\"upper right\")\n",
    ")\n",
    "ax = single_plotter.draw()"
   ]
  },
  {
   "cell_type": "code",
   "execution_count": null,
   "metadata": {},
   "outputs": [],
   "source": [
    "(single_plotter\n",
    " .set_ecolor(\"red\")\n",
    " .set_elinewidth(0.5)\n",
    " .set_capsize(3.5)\n",
    " .set_capthick(1.75)\n",
    " .set_barsabove(False)\n",
    " .set_lolims(False)\n",
    " .set_uplims(False)\n",
    " .set_xuplims(False)\n",
    " .set_xlolims(True)\n",
    " .set_errorevery(1)\n",
    " .set_alpha(0.66)\n",
    " .set_marker(\"s\")\n",
    " .set_markeredgecolor(\"red\")\n",
    " .set_markerfacecolor(\"white\")\n",
    " .set_linestyle(\"\")\n",
    " .set_label(\"The error\")\n",
    " .set_legend(show=True, loc=\"upper right\")\n",
    ")\n",
    "ax = single_plotter.draw()"
   ]
  },
  {
   "cell_type": "code",
   "execution_count": null,
   "metadata": {},
   "outputs": [],
   "source": [
    "single_plotter.save_plotter(\".plot_params/error_plot.json\")\n",
    "stored_plotter = ErrorPlotter.from_json(\".plot_params/error_plot.json\")\n",
    "ax = stored_plotter.draw()"
   ]
  },
  {
   "cell_type": "code",
   "execution_count": null,
   "metadata": {},
   "outputs": [],
   "source": [
    "stored_plotter.set_title(label=\"a) Errors Plot:\", fontsize=24, color='k', loc='left')\n",
    "ax = stored_plotter.draw()"
   ]
  },
  {
   "cell_type": "markdown",
   "metadata": {},
   "source": [
    "## Multi Sequence"
   ]
  },
  {
   "cell_type": "code",
   "execution_count": 8,
   "metadata": {},
   "outputs": [],
   "source": [
    "x_data = [[2, -1, 0, 3, 4, -3, 1], [2.5, -0.5, 0.5, 3.5, 4.5, -2.5, 1.5], [3, -1.5, 0.5, 3.5, 4.5, -3.5, 2.5]]\n",
    "y_data = [[0, 5, 10, 15, 20, 25, 30], [1, 6, 11, 16, 21, 26, 31], [-1, 4, 9, 14, 19, 24, 29]]\n",
    "x_error = [[0.5, 1, 1.5, 2, 2.5, 3, 3.5], [0.75, 0.5, 1.25, 2.2, 1.75, 2.75, 3.75], [0.25, 1.5, 1.0, 1.5, 2.75, 3.25, 2.5]]\n",
    "colors = [\"red\", \"green\", \"blue\"]\n",
    "multi_plotter = ErrorPlotter(x_data, y_data, xerr=x_error)"
   ]
  },
  {
   "cell_type": "code",
   "execution_count": null,
   "metadata": {},
   "outputs": [],
   "source": [
    "ax = multi_plotter.draw()"
   ]
  },
  {
   "cell_type": "code",
   "execution_count": null,
   "metadata": {},
   "outputs": [],
   "source": [
    "(multi_plotter\n",
    " .set_label([\"Robust Method\", \"IID Method\", \"Traditional Method\"])\n",
    " .set_legend(show=True, loc=\"lower left\")\n",
    " .set_xlabel('Coefficient Value', fontsize=16, color=\"k\")\n",
    " .set_capsize(3.5)\n",
    " .set_capthick(2.25)\n",
    " .set_yticklabels([f\"Variable {i}\" for i in range(len(x_data[0]) + 1)])\n",
    " .set_tickparams(ytickparams={\"labelsize\": 14, \"color\": \"k\", \"rotation\": 45},\n",
    "                xtickparams={\"labelsize\": 14, \"color\": \"k\"})\n",
    ".set_color(colors)\n",
    ".set_figsize((7, 12))\n",
    ".set_spines(left=dict(linewidth=1.5, color=\"k\", linestyle=\"-\"), \n",
    "            bottom=dict(linewidth=1.5, color=\"k\", linestyle=\"-\"),\n",
    "            right=dict(linestyle=\"\"),\n",
    "            top=dict(linestyle=\"\"))\n",
    ".set_title(\"a) Standard Errors Plot:\", fontsize=24, color=\"k\", loc=\"left\", x=-0.15, y=1.05)\n",
    " )\n",
    "ax = multi_plotter.draw()"
   ]
  },
  {
   "cell_type": "code",
   "execution_count": null,
   "metadata": {},
   "outputs": [],
   "source": [
    "multi_plotter.save_plotter(\".plot_params/multi_error_plot.json\", data=True)\n",
    "stored_plotter = ErrorPlotter.from_json(\".plot_params/multi_error_plot.json\")\n",
    "ax = stored_plotter.draw()"
   ]
  },
  {
   "cell_type": "code",
   "execution_count": null,
   "metadata": {},
   "outputs": [],
   "source": [
    "stored_plotter.set_title(label=\"b) Multi Error Plot:\", fontsize=24, color='k', loc='left', x=-0.15, y=1.05)\n",
    "ax = stored_plotter.draw()"
   ]
  },
  {
   "cell_type": "markdown",
   "metadata": {},
   "source": [
    "***"
   ]
  }
 ],
 "metadata": {
  "kernelspec": {
   "display_name": "tools",
   "language": "python",
   "name": "tools"
  },
  "language_info": {
   "codemirror_mode": {
    "name": "ipython",
    "version": 3
   },
   "file_extension": ".py",
   "mimetype": "text/x-python",
   "name": "python",
   "nbconvert_exporter": "python",
   "pygments_lexer": "ipython3",
   "version": "3.8.18"
  }
 },
 "nbformat": 4,
 "nbformat_minor": 2
}
