{
 "cells": [
  {
   "cell_type": "code",
   "execution_count": 1,
   "metadata": {},
   "outputs": [],
   "source": [
    "import numpy as np\n",
    "from mitools.visuals import LinePlotter"
   ]
  },
  {
   "cell_type": "markdown",
   "metadata": {},
   "source": [
    "# Single Sequence"
   ]
  },
  {
   "cell_type": "code",
   "execution_count": 2,
   "metadata": {},
   "outputs": [],
   "source": [
    "x_data = np.linspace(0, 10, 100)\n",
    "y_data = np.random.randn(100) * (0.2 *np.random.randn(100)) + np.sin(x_data) + np.log(x_data)\n",
    "colors = \"yellow\"\n",
    "single_plotter = LinePlotter(x_data, y_data)"
   ]
  },
  {
   "cell_type": "code",
   "execution_count": null,
   "metadata": {},
   "outputs": [],
   "source": [
    "ax = single_plotter.draw()"
   ]
  },
  {
   "cell_type": "code",
   "execution_count": null,
   "metadata": {},
   "outputs": [],
   "source": [
    "(single_plotter\n",
    ".set_suptitle(\"LinePlotter Object\", fontsize=28, color=\"k\")\n",
    ".set_title(label=\"a) Line Plot of Saturation through Time\", fontsize=22, color='k', loc='left')\n",
    ".set_xlabel(\"Time Evolution\", color='k', fontsize=18)\n",
    ".set_ylabel(\"Saturation\", color='k', fontsize=18)\n",
    ".set_style(None)\n",
    ".set_marker(\"s\")\n",
    ".set_markeredgecolor(\"darkred\")\n",
    ".set_markerfacecolor(\"red\")\n",
    ".set_markersize(7.5)\n",
    ".set_markeredgewidth(2.5)\n",
    ".set_figsize((21, 8))\n",
    ".set_color('k')\n",
    ".set_linestyle(\"--\")\n",
    ".set_linewidth(1.75)\n",
    ".set_label(\"Saturation\")\n",
    ".set_legend(show=True, loc=\"lower right\", labels=[\"Saturation\"], fontsize=18, frameon=False)\n",
    ".set_grid(True, color='lightgray')\n",
    ".set_texts(\n",
    "    texts=[\n",
    "        {\"s\": \"Valley\", \"x\": 5, \"y\": 2, \"fontsize\": 24, \"color\": \"red\", \"fontweight\": \"bold\", \"ha\": \"center\"},  \n",
    "    ]\n",
    ")\n",
    ".set_tight_layout(True)\n",
    ".set_background(\"#effffe\")\n",
    ".set_figure_background(\"#d6e7e6\")\n",
    ".set_ticks(xticks=np.arange(-1, 11, 1.0), yticks=np.arange(-3, 5, 1.0))\n",
    ".set_ticklabels(\n",
    "    xticklabels=np.arange(-1, 11, 1.0), \n",
    "    yticklabels=[f\"Step {int(n+3)}\" for n in np.arange(-3, 5, 1.0)]\n",
    ")\n",
    ".set_tickparams(xtickparams=dict(size=10, width=1.5, color='k', labelsize=14), \n",
    "                 ytickparams=dict(size=10, width=1.5, color='k', labelsize=14))\n",
    ".set_spines(left=dict(linewidth=5, color=\"k\", linestyle=\"-\"), bottom=dict(linewidth=5, color=\"k\", linestyle=\"-\"))\n",
    ")\n",
    "ax = single_plotter.draw()"
   ]
  },
  {
   "cell_type": "code",
   "execution_count": null,
   "metadata": {},
   "outputs": [],
   "source": [
    "(single_plotter\n",
    ".set_suptitle(\"LinePlotter Object\", fontsize=28, color=\"k\")\n",
    ".set_title(label=\"a) Line Plot of Saturation through Time\", fontsize=22, color='k', loc='left')\n",
    ".set_xlabel(\"Time Evolution\", color='k', fontsize=18)\n",
    ".set_ylabel(\"Saturation\", color='k', fontsize=18)\n",
    ".set_style(None)\n",
    ".set_marker(\"s\")\n",
    ".set_markeredgecolor(\"darkred\")\n",
    ".set_markerfacecolor(\"red\")\n",
    ".set_markersize(7.5)\n",
    ".set_markeredgewidth(2.5)\n",
    ".set_figsize((21, 8))\n",
    ".set_color('k')\n",
    ".set_linestyle(\"--\")\n",
    ".set_linewidth(1.75)\n",
    ".set_label(\"Saturation\")\n",
    ".set_legend(show=True, loc=\"lower right\", labels=[\"Saturation\"], fontsize=18, frameon=False)\n",
    ".set_grid(True, color='lightgray')\n",
    ".set_texts(\n",
    "    texts=[\n",
    "        {\"s\": \"Valley\", \"x\": 5, \"y\": 2, \"fontsize\": 24, \"color\": \"red\", \"fontweight\": \"bold\", \"ha\": \"center\"},  \n",
    "    ]\n",
    ")\n",
    ".set_tight_layout(True)\n",
    ".set_background(\"#effffe\")\n",
    ".set_figure_background(\"#d6e7e6\")\n",
    ".set_ticks(xticks=np.arange(-1, 11, 1.0), yticks=np.arange(-3, 5, 1.0))\n",
    ".set_ticklabels(\n",
    "    xticklabels=np.arange(-1, 11, 1.0), \n",
    "    yticklabels=[f\"Step {int(n+3)}\" for n in np.arange(-3, 5, 1.0)]\n",
    ")\n",
    ".set_tickparams(xtickparams=dict(size=10, width=1.5, color='k', labelsize=14), \n",
    "                 ytickparams=dict(size=10, width=1.5, color='k', labelsize=14))\n",
    ".set_spines(left=dict(linewidth=5, color=\"k\", linestyle=\"-\"), bottom=dict(linewidth=5, color=\"k\", linestyle=\"-\"))\n",
    ")\n",
    "ax = single_plotter.draw()"
   ]
  },
  {
   "cell_type": "code",
   "execution_count": null,
   "metadata": {},
   "outputs": [],
   "source": [
    "single_plotter.save_plotter(\".plot_params/line_plot.json\", data=True)\n",
    "stored_plotter = LinePlotter.from_json(\".plot_params/line_plot.json\")\n",
    "ax = stored_plotter.draw()"
   ]
  },
  {
   "cell_type": "code",
   "execution_count": null,
   "metadata": {},
   "outputs": [],
   "source": [
    "stored_plotter.set_title(label=\"a) Line Plot\", fontsize=24, color='k', loc='left')\n",
    "ax = stored_plotter.draw()"
   ]
  },
  {
   "cell_type": "markdown",
   "metadata": {},
   "source": [
    "# Multi Sequence"
   ]
  },
  {
   "cell_type": "code",
   "execution_count": 8,
   "metadata": {},
   "outputs": [],
   "source": [
    "data_size = 50   \n",
    "x_data = [\n",
    "    np.linspace(0, 10, data_size),                          \n",
    "    np.linspace(0, 10, data_size),                          \n",
    "    np.linspace(0, 10, data_size),                          \n",
    "    np.linspace(0, 10, data_size),                          \n",
    "]\n",
    "\n",
    "y_data = [\n",
    "    np.cos(np.linspace(0, 8, data_size)),   \n",
    "    np.log(np.linspace(0.1, 4, data_size)) + 0.3*np.random.randn(data_size) * 0.1,      \n",
    "    0.5 * np.sin(10*np.linspace(0, 1, data_size)) * np.exp(-np.linspace(0, 2, data_size)) + 2.5,\n",
    "    np.arctan(np.linspace(-10, 10, data_size)) + 0.1*np.cos(np.linspace(0, 20, data_size)) \n",
    "]\n",
    "multi_plotter = LinePlotter(x_data, y_data)"
   ]
  },
  {
   "cell_type": "code",
   "execution_count": null,
   "metadata": {},
   "outputs": [],
   "source": [
    "ax = multi_plotter.draw()"
   ]
  },
  {
   "cell_type": "code",
   "execution_count": null,
   "metadata": {},
   "outputs": [],
   "source": [
    "(multi_plotter\n",
    " .set_color([\"red\", \"blue\", \"green\", \"purple\"])\n",
    " .set_marker(\"o\")\n",
    " .set_markersize([7.5, 5,5, 5])\n",
    " .set_markeredgewidth([0.75, 1.5, 2.25, 3])\n",
    " .set_markeredgecolor([\"red\", \"blue\", \"green\", \"purple\"])\n",
    " .set_markerfacecolor([\"orange\", None, \"lightgreen\", \"pink\"])\n",
    " .set_linestyle([\"-\", \"--\", \"-.\", \":\"])\n",
    " .set_linewidth([1.75, 3, 1.75, 3])\n",
    " .set_figsize((21, 7))\n",
    " .set_alpha([0.1, 0.25, 0.5, 0.75])\n",
    ")\n",
    "ax = multi_plotter.draw()"
   ]
  },
  {
   "cell_type": "code",
   "execution_count": null,
   "metadata": {},
   "outputs": [],
   "source": [
    "multi_plotter.save_plotter(\".plot_params/multi_line_plot.json\", data=True)\n",
    "stored_plotter = LinePlotter.from_json(\".plot_params/multi_line_plot.json\")\n",
    "ax = stored_plotter.draw()"
   ]
  },
  {
   "cell_type": "code",
   "execution_count": null,
   "metadata": {},
   "outputs": [],
   "source": [
    "stored_plotter.set_title(label=\"b) Line Plot:\", fontsize=24, color='k', loc='center')\n",
    "ax = stored_plotter.draw()"
   ]
  },
  {
   "cell_type": "markdown",
   "metadata": {},
   "source": [
    "***"
   ]
  }
 ],
 "metadata": {
  "kernelspec": {
   "display_name": "tools",
   "language": "python",
   "name": "tools"
  },
  "language_info": {
   "codemirror_mode": {
    "name": "ipython",
    "version": 3
   },
   "file_extension": ".py",
   "mimetype": "text/x-python",
   "name": "python",
   "nbconvert_exporter": "python",
   "pygments_lexer": "ipython3",
   "version": "3.8.18"
  }
 },
 "nbformat": 4,
 "nbformat_minor": 2
}
