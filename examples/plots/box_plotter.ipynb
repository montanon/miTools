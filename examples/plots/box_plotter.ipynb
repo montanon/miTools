{
 "cells": [
  {
   "cell_type": "code",
   "execution_count": 52,
   "metadata": {},
   "outputs": [],
   "source": [
    "import numpy as np\n",
    "from mitools.visuals.plots import BoxPlotter"
   ]
  },
  {
   "cell_type": "markdown",
   "metadata": {},
   "source": [
    "# Single Sequence"
   ]
  },
  {
   "cell_type": "code",
   "execution_count": 53,
   "metadata": {},
   "outputs": [],
   "source": [
    "x_data = np.linspace(1e-9, 10, 10_000)\n",
    "y_data = np.random.randn(10_000) * (0.2 * np.random.randn(10_000)) + np.sin(x_data)\n",
    "single_plotter = BoxPlotter(y_data)"
   ]
  },
  {
   "cell_type": "code",
   "execution_count": null,
   "metadata": {},
   "outputs": [],
   "source": [
    "ax = single_plotter.draw()"
   ]
  },
  {
   "cell_type": "code",
   "execution_count": null,
   "metadata": {},
   "outputs": [],
   "source": [
    "(single_plotter\n",
    ".set_style(None)\n",
    ".set_suptitle(\"BoxPlotter Object:\", fontsize=28, color='purple', fontweight=\"bold\", y=1.05, x=0.05, ha='left', va='top')\n",
    ".set_title(label=\"a) Box Plot\", fontsize=28, color='purple', loc='left', fontweight='bold', y=1.05)\n",
    ".set_xlabel(\"X-axis\", color='purple', fontsize=24)\n",
    ".set_ylabel(\"\", color='purple', fontsize=24)\n",
    ".set_background('white')\n",
    ".set_figure_background('white')\n",
    ".set_notch(False)\n",
    ".set_sym('o')\n",
    ".set_orientation('horizontal')\n",
    ".set_whis((0.5, 99.5))\n",
    ".set_color('pink')\n",
    ".set_positions([10])\n",
    ".set_widths(0.25)\n",
    ".set_patch_artist(True)\n",
    ".set_bootstrap(None)\n",
    ".set_usermedians(None)\n",
    ".set_conf_intervals(None)\n",
    ".set_meanline(True)\n",
    ".set_showmeans(True)\n",
    ".set_showcaps(True)\n",
    ".set_showbox(True)\n",
    ".set_showfliers(True)\n",
    ".set_boxprops(dict(facecolor='pink', linewidth=5, edgecolor='purple', alpha=0.5))\n",
    ".set_box_labels(['Box 1'])\n",
    ".set_flierprops(dict(marker='o', markerfacecolor='pink', markersize=6,\n",
    "                  linestyle='', markeredgecolor='purple'))\n",
    ".set_medianprops(dict(color='purple', linewidth=5, linestyle='-', markerfacecolor='pink', markersize=6, alpha=0.5))\n",
    ".set_meanprops(dict(color='purple', linewidth=5, linestyle=':', markerfacecolor='pink', markersize=6, alpha=0.5))\n",
    ".set_capprops(dict(color='purple', linewidth=5, linestyle='-', markerfacecolor='pink', markersize=6, alpha=0.5))\n",
    ".set_whiskerprops(dict(color='purple', linewidth=5, linestyle='-', markerfacecolor='pink', markersize=6, alpha=0.5))\n",
    ".set_manage_ticks(True)\n",
    ".set_autorange(True)\n",
    ".set_capwidths(0.15)\n",
    ".set_spines(left=dict(linewidth=10, color=\"purple\", linestyle=\"-\"), \n",
    "            bottom=dict(linewidth=10, color=\"purple\", linestyle=\"-\"),\n",
    "            right=dict(color=\"w\"),\n",
    "            top=dict(color=\"w\"))\n",
    ".set_tickparams(xtickparams={\"labelsize\": 20, \"color\": \"purple\", \"size\": 5, \"width\": 5}, \n",
    "                 ytickparams={\"labelsize\": 40, \"color\": \"purple\", \"size\": 5, \"width\": 5})\n",
    ")\n",
    "ax = single_plotter.draw()"
   ]
  },
  {
   "cell_type": "code",
   "execution_count": null,
   "metadata": {},
   "outputs": [],
   "source": [
    "(single_plotter\n",
    ".set_style(None)\n",
    ".set_suptitle(\"BoxPlotter Object:\", fontsize=28, color='purple', fontweight=\"bold\", y=1.05, x=0.05, ha='left', va='top')\n",
    ".set_title(label=\"a) Box Plot\", fontsize=28, color='purple', loc='left', fontweight='bold', y=1.05)\n",
    ".set_xlabel(\"X-axis\", color='purple', fontsize=24)\n",
    ".set_ylabel(\"\", color='purple', fontsize=24)\n",
    ".set_background('white')\n",
    ".set_figure_background('white')\n",
    ".set_notch(False)\n",
    ".set_sym('o')\n",
    ".set_orientation('horizontal')\n",
    ".set_whis((0.5, 99.5))\n",
    ".set_color('pink')\n",
    ".set_positions([10])\n",
    ".set_widths(0.25)\n",
    ".set_patch_artist(True)\n",
    ".set_bootstrap(None)\n",
    ".set_usermedians(None)\n",
    ".set_conf_intervals(None)\n",
    ".set_meanline(True)\n",
    ".set_showmeans(True)\n",
    ".set_showcaps(True)\n",
    ".set_showbox(True)\n",
    ".set_showfliers(True)\n",
    ".set_boxprops(dict(facecolor='pink', linewidth=5, edgecolor='purple', alpha=0.5))\n",
    ".set_box_labels(['Box 1'])\n",
    ".set_flierprops(dict(marker='o', markerfacecolor='pink', markersize=6,\n",
    "                  linestyle='', markeredgecolor='purple'))\n",
    ".set_medianprops(dict(color='purple', linewidth=5, linestyle='-', markerfacecolor='pink', markersize=6, alpha=0.5))\n",
    ".set_meanprops(dict(color='purple', linewidth=5, linestyle=':', markerfacecolor='pink', markersize=6, alpha=0.5))\n",
    ".set_capprops(dict(color='purple', linewidth=5, linestyle='-', markerfacecolor='pink', markersize=6, alpha=0.5))\n",
    ".set_whiskerprops(dict(color='purple', linewidth=5, linestyle='-', markerfacecolor='pink', markersize=6, alpha=0.5))\n",
    ".set_manage_ticks(True)\n",
    ".set_autorange(True)\n",
    ".set_capwidths(0.15)\n",
    ".set_spines(left=dict(linewidth=10, color=\"purple\", linestyle=\"-\"), \n",
    "            bottom=dict(linewidth=10, color=\"purple\", linestyle=\"-\"),\n",
    "            right=dict(color=\"w\"),\n",
    "            top=dict(color=\"w\"))\n",
    ".set_tickparams(xtickparams={\"labelsize\": 20, \"color\": \"purple\", \"size\": 5, \"width\": 5}, \n",
    "                 ytickparams={\"labelsize\": 40, \"color\": \"purple\", \"size\": 5, \"width\": 5})\n",
    ")\n",
    "ax = single_plotter.draw()"
   ]
  },
  {
   "cell_type": "code",
   "execution_count": null,
   "metadata": {},
   "outputs": [],
   "source": [
    "single_plotter.save_plotter(\".plot_params/box_plot.json\", data=True)\n",
    "stored_plotter = BoxPlotter.from_json(\".plot_params/box_plot.json\")\n",
    "ax = stored_plotter.draw()"
   ]
  },
  {
   "cell_type": "code",
   "execution_count": null,
   "metadata": {},
   "outputs": [],
   "source": [
    "stored_plotter.set_color('purple').set_flierprops(dict(markerfacecolor='purple'))\n",
    "ax = stored_plotter.draw()"
   ]
  },
  {
   "cell_type": "markdown",
   "metadata": {},
   "source": [
    "# Multi Sequence"
   ]
  },
  {
   "cell_type": "code",
   "execution_count": 107,
   "metadata": {},
   "outputs": [],
   "source": [
    "x_data = np.linspace(1e-9, 10, 10_000)\n",
    "y_data1 = np.random.randn(10_000) * (0.2 * np.random.randn(10_000)) + np.sin(x_data)\n",
    "y_data2 = np.random.randn(10_000) * (0.5 * np.random.randn(10_000)) + np.sin(x_data)\n",
    "multi_plotter = BoxPlotter([y_data1, y_data2, y_data1])"
   ]
  },
  {
   "cell_type": "code",
   "execution_count": null,
   "metadata": {},
   "outputs": [],
   "source": [
    "ax = multi_plotter.draw()"
   ]
  },
  {
   "cell_type": "code",
   "execution_count": null,
   "metadata": {},
   "outputs": [],
   "source": [
    "(multi_plotter\n",
    ".set_bootstrap(1_000)\n",
    ".set_orientation('vertical')\n",
    ".set_notch([False, False, True])\n",
    ".set_sym(['o', 'D', 'o'])\n",
    ".set_whis([(0.05, 99.95)]*3)\n",
    ".set_usermedians([None, None, None])\n",
    ".set_conf_intervals(None)\n",
    ".set_positions([1, 1.5, 2])\n",
    ".set_widths([0.2, 0.25, 0.2])\n",
    ".set_patch_artist([True, False, True])\n",
    ".set_box_labels([['Box 1'], ['Box 2'], ['Box 3']])\n",
    ".set_manage_ticks(True)\n",
    ".set_autorange(True)\n",
    ".set_meanline(True)\n",
    ".set_showcaps(True)\n",
    ".set_showbox(True)\n",
    ".set_showfliers(True)\n",
    ".set_showmeans(True)\n",
    ".set_capprops([dict(color='k', linewidth=2, linestyle='-', markerfacecolor='k', markersize=3, marker='s', alpha=0.75), None, None])\n",
    ".set_capwidths([0.1, 0.1, 0.1])\n",
    ".set_boxprops([dict(facecolor='darkgray', linewidth=2, edgecolor='k', alpha=0.5), None, dict(facecolor='lightgray', linewidth=2, edgecolor='k', alpha=0.5)])\n",
    ".set_whiskerprops([dict(color='k', linewidth=2, linestyle='-', markerfacecolor='k', markersize=3, marker='s', alpha=0.75), None, None]) \n",
    ".set_flierprops([dict(marker='o', markerfacecolor='k', markersize=6, linestyle='', markeredgecolor='k'), None, None])\n",
    ".set_medianprops([dict(color='k', linewidth=2, linestyle='-', markerfacecolor='k', markersize=3, alpha=0.75), dict(color='k'), dict(color='k')])\n",
    ".set_meanprops([dict(color='r', linewidth=2, linestyle=':', markerfacecolor='k', markersize=3, alpha=0.75), dict(color='r'), dict(color='r')])\n",
    ".set_tight_layout(True)\n",
    ")\n",
    "ax = multi_plotter.draw()"
   ]
  },
  {
   "cell_type": "code",
   "execution_count": null,
   "metadata": {},
   "outputs": [],
   "source": [
    "multi_plotter.save_plotter(\".plot_params/multi_box_plot.json\", data=True)\n",
    "stored_plotter = BoxPlotter.from_json(\".plot_params/multi_box_plot.json\")\n",
    "ax = stored_plotter.draw()"
   ]
  },
  {
   "cell_type": "code",
   "execution_count": null,
   "metadata": {},
   "outputs": [],
   "source": [
    "stored_plotter.set_positions([1, 3, 5])\n",
    "ax = stored_plotter.draw()"
   ]
  },
  {
   "cell_type": "markdown",
   "metadata": {},
   "source": [
    "***"
   ]
  }
 ],
 "metadata": {
  "kernelspec": {
   "display_name": "tools",
   "language": "python",
   "name": "tools"
  },
  "language_info": {
   "codemirror_mode": {
    "name": "ipython",
    "version": 3
   },
   "file_extension": ".py",
   "mimetype": "text/x-python",
   "name": "python",
   "nbconvert_exporter": "python",
   "pygments_lexer": "ipython3",
   "version": "3.8.18"
  }
 },
 "nbformat": 4,
 "nbformat_minor": 2
}
