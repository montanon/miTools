{
 "cells": [
  {
   "cell_type": "code",
   "execution_count": null,
   "id": "dc7e6498",
   "metadata": {},
   "outputs": [],
   "source": [
    "import pandas as pd\n",
    "from mitools import regressions as reg\n",
    "import os\n",
    "from pathlib import Path\n",
    "from IPython.display import display_markdown"
   ]
  },
  {
   "cell_type": "code",
   "execution_count": null,
   "id": "f597b99f",
   "metadata": {},
   "outputs": [],
   "source": [
    "DB_PATH = Path('/Users/sebastian/Desktop/MontagnaInc/Research/DataWork/datamanagement')\n",
    "OLS_DF_PATH = DB_PATH / 'OLS_Results.xlsx'\n",
    "CSARDL_DF_PATH = DB_PATH / 'CSARDL_Results.xlsx'\n",
    "XTREG_DF_PATH = DB_PATH / 'XTREG_Results.xlsx'"
   ]
  },
  {
   "cell_type": "code",
   "execution_count": null,
   "id": "fbc03bfc",
   "metadata": {
    "ExecuteTime": {
     "end_time": "2023-10-11T05:29:40.697978Z",
     "start_time": "2023-10-11T05:29:28.142976Z"
    }
   },
   "outputs": [],
   "source": [
    "path = DB_PATH / 'xtreg_test.xlsx'"
   ]
  },
  {
   "cell_type": "code",
   "execution_count": null,
   "id": "d699ad11",
   "metadata": {},
   "outputs": [],
   "source": [
    "dataframe = pd.read_excel(path, index_col=0).dropna()\n",
    "dataframe"
   ]
  },
  {
   "cell_type": "code",
   "execution_count": null,
   "id": "92b5dd50",
   "metadata": {},
   "outputs": [],
   "source": [
    "\n",
    "type = os.path.basename(path).split('_')[0]\n",
    "if type == 'csardl':\n",
    "    dataframe = dataframe.set_index(['Id', 'Type', 'Group', 'Dep Var', 'Indep Var', 'Lag', 'Time Span', 'Variable'])\n",
    "elif type == 'ols':\n",
    "    dataframe = dataframe.set_index(['Id', 'Type', 'Group', 'Dep Var', 'Indep Var', 'Variable'])\n",
    "elif type == 'xtreg':\n",
    "    dataframe = dataframe.set_index(['Id', 'Type', 'Group', 'Dep Var', 'Indep Var', 'Variable'])"
   ]
  },
  {
   "cell_type": "code",
   "execution_count": null,
   "metadata": {},
   "outputs": [],
   "source": [
    "dataframe"
   ]
  },
  {
   "cell_type": "markdown",
   "id": "9b8b89af",
   "metadata": {},
   "source": [
    "## Regressions Results"
   ]
  },
  {
   "cell_type": "code",
   "execution_count": null,
   "metadata": {},
   "outputs": [],
   "source": [
    "import mitools as mt\n",
    "mt.iprint([c for c in dataframe.index.get_level_values('Dep Var').unique() if c.find('_log') == -1], c='green')"
   ]
  },
  {
   "cell_type": "code",
   "execution_count": null,
   "id": "ad1594a0",
   "metadata": {},
   "outputs": [],
   "source": [
    "dfs_to_export = {}"
   ]
  },
  {
   "cell_type": "code",
   "execution_count": null,
   "metadata": {},
   "outputs": [],
   "source": [
    "eci_col = 'SSCI'"
   ]
  },
  {
   "cell_type": "code",
   "execution_count": null,
   "metadata": {},
   "outputs": [],
   "source": [
    "columns = ['Group']\n",
    "sub_columns_filters = {\n",
    "    'Group': []\n",
    "}\n",
    "sub_index_filters = {\n",
    "    'Indep Var': [],\n",
    "    'Id': ['1136b5', '1b1e9d', '4dec4c']\n",
    "}\n",
    "indicators = [\n",
    "'Total greenhouse gas emissions (kt of CO2 equivalent)_log',\n",
    "]\n",
    "\n",
    "view = reg.df_view(dataframe, indicators, columns, sub_columns_filters, sub_index_filters, f' {eci_col}', 'Group', 'Id')\n",
    "dfs_to_export[indicators[0]] = view\n",
    "print(f'{indicators[0]}')\n",
    "display(view)"
   ]
  },
  {
   "cell_type": "code",
   "execution_count": null,
   "metadata": {},
   "outputs": [],
   "source": [
    "columns = ['Group']\n",
    "sub_columns_filters = {\n",
    "    'Group': []\n",
    "}\n",
    "sub_index_filters = {\n",
    "    'Indep Var': [],\n",
    "    'Id': ['70c4a2', 'ba5183', '28e11f']\n",
    "}\n",
    "indicators = [\n",
    "'Total Eco Footprint_log',\n",
    "]\n",
    "\n",
    "view = reg.df_view(dataframe, indicators, columns, sub_columns_filters, sub_index_filters, f' {eci_col}', 'Group', 'Id')\n",
    "dfs_to_export[indicators[0]] = view\n",
    "print(f'{indicators[0]}')\n",
    "display(view)"
   ]
  },
  {
   "cell_type": "code",
   "execution_count": null,
   "metadata": {},
   "outputs": [],
   "source": [
    "columns = ['Group']\n",
    "sub_columns_filters = {\n",
    "    'Group': []\n",
    "}\n",
    "sub_index_filters = {\n",
    "    'Indep Var': [],\n",
    "    'Id': ['1e0e8b', '8805aa', '88eeba', 'e8433b']\n",
    "}\n",
    "indicators = [\n",
    "'GNI, PPP (current international $)_log',\n",
    "]\n",
    "\n",
    "view = reg.df_view(dataframe, indicators, columns, sub_columns_filters, sub_index_filters, f' {eci_col}', 'Group', 'Id')\n",
    "dfs_to_export[indicators[0]] = view\n",
    "print(f'{indicators[0]}')\n",
    "display(view)"
   ]
  },
  {
   "cell_type": "code",
   "execution_count": null,
   "metadata": {},
   "outputs": [],
   "source": [
    "columns = ['Group']\n",
    "sub_columns_filters = {\n",
    "    'Group': []\n",
    "}\n",
    "sub_index_filters = {\n",
    "    'Indep Var': [],\n",
    "    'Id': ['00c643', 'b1cddd']\n",
    "}\n",
    "indicators = [\n",
    "'GDP, PPP (current international $)_in_5_years_log',\n",
    "]\n",
    "\n",
    "view = reg.df_view(dataframe, indicators, columns, sub_columns_filters, sub_index_filters, f' {eci_col}', 'Group', 'Id')\n",
    "dfs_to_export[indicators[0]] = view\n",
    "print(f'{indicators[0]}')\n",
    "display(view)"
   ]
  },
  {
   "cell_type": "code",
   "execution_count": null,
   "metadata": {},
   "outputs": [],
   "source": [
    "columns = ['Group']\n",
    "sub_columns_filters = {\n",
    "    'Group': []\n",
    "}\n",
    "sub_index_filters = {\n",
    "    'Indep Var': [],\n",
    "    'Id': ['093624', '1c7c53', '335bc4']\n",
    "}\n",
    "indicators = [\n",
    "'GDP, PPP (current international $)_in_3_years_log',\n",
    "]\n",
    "\n",
    "view = reg.df_view(dataframe, indicators, columns, sub_columns_filters, sub_index_filters, f' {eci_col}', 'Group', 'Id')\n",
    "dfs_to_export[indicators[0]] = view\n",
    "print(f'{indicators[0]}')\n",
    "display(view)"
   ]
  },
  {
   "cell_type": "code",
   "execution_count": null,
   "metadata": {},
   "outputs": [],
   "source": [
    "columns = ['Group']\n",
    "sub_columns_filters = {\n",
    "    'Group': []\n",
    "}\n",
    "sub_index_filters = {\n",
    "    'Indep Var': [],\n",
    "    'Id': ['2eed64', '64d23c', '767ef4', 'f67faf', 'f2905e']\n",
    "}\n",
    "indicators = [\n",
    "'GDP, PPP (current international $)_log',\n",
    "]\n",
    "\n",
    "view = reg.df_view(dataframe, indicators, columns, sub_columns_filters, sub_index_filters, f' {eci_col}', 'Group', 'Id')\n",
    "dfs_to_export[indicators[0]] = view\n",
    "print(f'{indicators[0]}')\n",
    "display(view)"
   ]
  },
  {
   "cell_type": "code",
   "execution_count": null,
   "metadata": {},
   "outputs": [],
   "source": [
    "columns = ['Group']\n",
    "sub_columns_filters = {\n",
    "    'Group': []\n",
    "}\n",
    "sub_index_filters = {\n",
    "    'Indep Var': [],\n",
    "    'Id': [ '739744', 'a4adf4']\n",
    "}\n",
    "indicators = [\n",
    "'GDP growth (annual %)_in_5_years',\n",
    "]\n",
    "\n",
    "view = reg.df_view(dataframe, indicators, columns, sub_columns_filters, sub_index_filters, f' {eci_col}', 'Group', 'Id')\n",
    "dfs_to_export[indicators[0]] = view\n",
    "print(f'{indicators[0]}')\n",
    "display(view)"
   ]
  },
  {
   "cell_type": "code",
   "execution_count": null,
   "metadata": {},
   "outputs": [],
   "source": [
    "columns = ['Group']\n",
    "sub_columns_filters = {\n",
    "    'Group': []\n",
    "}\n",
    "sub_index_filters = {\n",
    "    'Indep Var': [],\n",
    "    'Id': ['053a1e', '499cc0', '6914ea']\n",
    "}\n",
    "indicators = [\n",
    "'GDP (current US$)_log',\n",
    "]\n",
    "\n",
    "view = reg.df_view(dataframe, indicators, columns, sub_columns_filters, sub_index_filters, f' {eci_col}', 'Group', 'Id')\n",
    "dfs_to_export[indicators[0]] = view\n",
    "print(f'{indicators[0]}')\n",
    "display(view)"
   ]
  },
  {
   "cell_type": "code",
   "execution_count": null,
   "metadata": {},
   "outputs": [],
   "source": [
    "columns = ['Group']\n",
    "sub_columns_filters = {\n",
    "    'Group': []\n",
    "}\n",
    "sub_index_filters = {\n",
    "    'Indep Var': [],\n",
    "    'Id': ['150cd5', '75f0cb', 'ad0feb', 'ebcfa7']\n",
    "}\n",
    "indicators = [\n",
    "'Energy Intensity_log',\n",
    "]\n",
    "\n",
    "view = reg.df_view(dataframe, indicators, columns, sub_columns_filters, sub_index_filters, f' {eci_col}', 'Group', 'Id')\n",
    "dfs_to_export[indicators[0]] = view\n",
    "print(f'{indicators[0]}')\n",
    "display(view)"
   ]
  },
  {
   "cell_type": "code",
   "execution_count": null,
   "metadata": {},
   "outputs": [],
   "source": [
    "columns = ['Group']\n",
    "sub_columns_filters = {\n",
    "    'Group': []\n",
    "}\n",
    "sub_index_filters = {\n",
    "    'Indep Var': [],\n",
    "    'Id': ['af14c5', 'e24710']\n",
    "}\n",
    "indicators = [\n",
    "'Emissions Intensity_log',\n",
    "]\n",
    "\n",
    "view = reg.df_view(dataframe, indicators, columns, sub_columns_filters, sub_index_filters, f' {eci_col}', 'Group', 'Id')\n",
    "dfs_to_export[indicators[0]] = view\n",
    "print(f'{indicators[0]}')\n",
    "display(view)"
   ]
  },
  {
   "cell_type": "code",
   "execution_count": null,
   "metadata": {},
   "outputs": [],
   "source": [
    "columns = ['Group']\n",
    "sub_columns_filters = {\n",
    "    'Group': []\n",
    "}\n",
    "sub_index_filters = {\n",
    "    'Indep Var': [],\n",
    "    'Id': ['143420', '365f90', '44f766', 'e17f79']\n",
    "}\n",
    "indicators = [\n",
    "'CO2 emissions (kt)_log',\n",
    "]\n",
    "\n",
    "view = reg.df_view(dataframe, indicators, columns, sub_columns_filters, sub_index_filters, f' {eci_col}', 'Group', 'Id')\n",
    "dfs_to_export[indicators[0]] = view\n",
    "print(f'{indicators[0]}')\n",
    "display(view)"
   ]
  },
  {
   "cell_type": "code",
   "execution_count": null,
   "metadata": {},
   "outputs": [],
   "source": [
    "columns = ['Group']\n",
    "sub_columns_filters = {\n",
    "    'Group': []\n",
    "}\n",
    "sub_index_filters = {\n",
    "    'Indep Var': [],\n",
    "    'Id': ['2df699', '722e68', '8cdbd0', 'dba5a7']\n",
    "}\n",
    "indicators = [\n",
    "'CO2 emissions (metric tons per capita)_log',\n",
    "]\n",
    "\n",
    "view = reg.df_view(dataframe, indicators, columns, sub_columns_filters, sub_index_filters, f' {eci_col}', 'Group', 'Id')\n",
    "dfs_to_export[indicators[0]] = view\n",
    "print(f'{indicators[0]}')\n",
    "display(view)"
   ]
  },
  {
   "cell_type": "code",
   "execution_count": null,
   "metadata": {},
   "outputs": [],
   "source": [
    "columns = ['Group']\n",
    "sub_columns_filters = {\n",
    "    'Group': []\n",
    "}\n",
    "sub_index_filters = {\n",
    "    'Indep Var': [],\n",
    "    'Id': ['2d6b60', '84824d', '899f99', 'e6b730']\n",
    "}\n",
    "indicators = [\n",
    "'CO2 emissions (kg per PPP $ of GDP)_log',\n",
    "]\n",
    "\n",
    "view = reg.df_view(dataframe, indicators, columns, sub_columns_filters, sub_index_filters, f' {eci_col}', 'Group', 'Id')\n",
    "dfs_to_export[indicators[0]] = view\n",
    "print(f'{indicators[0]}')\n",
    "display(view)"
   ]
  },
  {
   "cell_type": "code",
   "execution_count": null,
   "id": "a05c87ef",
   "metadata": {},
   "outputs": [],
   "source": [
    "remap_names = {\n",
    "    'GDP growth (annual %)_in_5_years': 'GDPgrowth(annual%)in5years',\n",
    "    'Total greenhouse gas emissions (kt of CO2 equivalent)_log': 'Total GHG (ktCO2eq)_log',\n",
    "    'GNI, PPP (current international $)_log': 'GNI,PPP (curr int$)_log',\n",
    "    'GDP, PPP (current international $)_in_5_years_log': 'GDP,PPP (curr int$)in5years_log',\n",
    "    'GDP, PPP (current international $)_in_3_years_log': 'GDP,PPP (curr int$)in3years_log',\n",
    "    'GDP, PPP (current international $)_log': 'GDP,PPP (curr int$)_log',\n",
    "    'CO2 emissions (metric tons per capita)_log': 'CO2emissions (mtons percap)_log',\n",
    "    'CO2 emissions (kg per PPP $ of GDP)_log': 'CO2emissions (kgpPPP$ofGDP)_log',\n",
    "\n",
    "}\n",
    "var_names = [remap_names.get(v, v) for v in dfs_to_export.keys()]\n",
    "reg.save_dfs_to_excel(dfs_to_export.values(), var_names, DB_PATH / f\"MidTerm_Results_XTREG_Results.xlsx\")"
   ]
  },
  {
   "cell_type": "code",
   "execution_count": null,
   "id": "98818361",
   "metadata": {},
   "outputs": [],
   "source": []
  },
  {
   "cell_type": "code",
   "execution_count": null,
   "id": "f676719b",
   "metadata": {},
   "outputs": [],
   "source": []
  },
  {
   "cell_type": "code",
   "execution_count": null,
   "id": "29217437",
   "metadata": {},
   "outputs": [],
   "source": []
  },
  {
   "cell_type": "code",
   "execution_count": null,
   "id": "2fb6ac78",
   "metadata": {},
   "outputs": [],
   "source": []
  },
  {
   "cell_type": "code",
   "execution_count": null,
   "id": "b6621433",
   "metadata": {},
   "outputs": [],
   "source": []
  },
  {
   "cell_type": "code",
   "execution_count": null,
   "id": "d32d3b12",
   "metadata": {},
   "outputs": [],
   "source": []
  },
  {
   "cell_type": "code",
   "execution_count": null,
   "id": "03b19c98",
   "metadata": {
    "ExecuteTime": {
     "end_time": "2023-10-11T06:08:58.383327Z",
     "start_time": "2023-10-11T06:08:58.026086Z"
    }
   },
   "outputs": [],
   "source": [
    "dfs_to_export = {'All variations': view}\n",
    "sheet_names = ['Low income', 'Lower middle income', 'Upper middle income', 'High income', 'All countries', 'All variations']\n",
    "\n",
    "for income in dataframe.index.get_level_values('Income').unique():\n",
    "    sub_columns_filters['Income'] = [income]\n",
    "    income_view = reg.df_view(dataframe, indicators, columns, sub_columns_filters, sub_index_filters, 'Income', 'Indep Var')\n",
    "    dfs_to_export[income] = income_view\n",
    "    \n",
    "dfs_to_export = [dfs_to_export[n] for n in sheet_names]\n",
    "reg.save_dfs_to_excel(dfs_to_export, sheet_names, DB_PATH / f\"XTREG_{indicators[0]}_Results.xlsx\")"
   ]
  },
  {
   "cell_type": "markdown",
   "id": "74dc3741",
   "metadata": {},
   "source": [
    "## Ln Energy Productivity"
   ]
  },
  {
   "cell_type": "code",
   "execution_count": null,
   "id": "986c771d",
   "metadata": {
    "ExecuteTime": {
     "end_time": "2023-10-11T06:16:04.801117Z",
     "start_time": "2023-10-11T06:16:04.545270Z"
    },
    "scrolled": true
   },
   "outputs": [],
   "source": [
    "columns = ['Income', 'Lag']\n",
    "sub_columns_filters = {\n",
    "    'Lag': [],\n",
    "    'Income': []\n",
    "}\n",
    "sub_index_filters = {\n",
    "    'Indep Var': ['ECI', 'Agriculture ECI', 'Fishing ECI', 'Food & Beverages ECI',\n",
    "       'Machinery ECI', 'Metal Products ECI', 'Mining & Quarrying ECI',\n",
    "       'Other Manufacturing ECI', 'Petroleum, Chemicals & Non-Metals ECI',\n",
    "       'Textiles & Wearing Apparel ECI', 'Transport Equipment ECI',\n",
    "       'Wood & Paper ECI']\n",
    "}\n",
    "indicators = [\n",
    "'Energy Productivity_log',\n",
    "]\n",
    "\n",
    "view = reg.df_view(dataframe, indicators, columns, sub_columns_filters, sub_index_filters, 'Income', 'Indep Var')\n",
    "display(view)"
   ]
  },
  {
   "cell_type": "code",
   "execution_count": null,
   "id": "fd9cfe9b",
   "metadata": {
    "ExecuteTime": {
     "end_time": "2023-10-11T06:16:10.594592Z",
     "start_time": "2023-10-11T06:16:10.168921Z"
    }
   },
   "outputs": [],
   "source": [
    "dfs_to_export = {'All variations': view}\n",
    "sheet_names = ['Low income', 'Lower middle income', 'Upper middle income', 'High income', 'All countries', 'All variations']\n",
    "\n",
    "for income in dataframe.index.get_level_values('Income').unique():\n",
    "    sub_columns_filters['Income'] = [income]\n",
    "    income_view = reg.df_view(dataframe, indicators, columns, sub_columns_filters, sub_index_filters, 'Income', 'Indep Var')\n",
    "    dfs_to_export[income] = income_view\n",
    "    \n",
    "dfs_to_export = [dfs_to_export[n] for n in sheet_names]\n",
    "reg.save_dfs_to_excel(dfs_to_export, sheet_names, DB_PATH / f\"CS-ARDL_{indicators[0]}_Results.xlsx\")"
   ]
  },
  {
   "cell_type": "markdown",
   "id": "28c99ba4",
   "metadata": {},
   "source": [
    "## Ecological Footprint"
   ]
  },
  {
   "cell_type": "code",
   "execution_count": null,
   "id": "6dfbda88",
   "metadata": {
    "ExecuteTime": {
     "end_time": "2023-10-11T06:18:32.511914Z",
     "start_time": "2023-10-11T06:18:32.327544Z"
    }
   },
   "outputs": [],
   "source": [
    "columns = ['Income', 'Lag']\n",
    "sub_columns_filters = {\n",
    "    'Lag': [],\n",
    "    'Income': []\n",
    "}\n",
    "sub_index_filters = {\n",
    "    'Indep Var': ['ECI', 'Agriculture ECI', 'Fishing ECI', 'Food & Beverages ECI',\n",
    "       'Machinery ECI', 'Metal Products ECI', 'Mining & Quarrying ECI',\n",
    "       'Other Manufacturing ECI', 'Petroleum, Chemicals & Non-Metals ECI',\n",
    "       'Textiles & Wearing Apparel ECI', 'Transport Equipment ECI',\n",
    "       'Wood & Paper ECI']\n",
    "}\n",
    "indicators = [\n",
    "'Total Eco Footprint',\n",
    "]\n",
    "\n",
    "view = reg.df_view(dataframe, indicators, columns, sub_columns_filters, sub_index_filters, 'Income', 'Indep Var')\n",
    "display(view)"
   ]
  },
  {
   "cell_type": "code",
   "execution_count": null,
   "id": "3a810c73",
   "metadata": {
    "ExecuteTime": {
     "end_time": "2023-10-11T06:18:48.364096Z",
     "start_time": "2023-10-11T06:18:47.938938Z"
    }
   },
   "outputs": [],
   "source": [
    "dfs_to_export = {'All variations': view}\n",
    "sheet_names = ['Low income', 'Lower middle income', 'Upper middle income', 'High income', 'All countries', 'All variations']\n",
    "\n",
    "for income in dataframe.index.get_level_values('Income').unique():\n",
    "    sub_columns_filters['Income'] = [income]\n",
    "    income_view = reg.df_view(dataframe, indicators, columns, sub_columns_filters, sub_index_filters, 'Income', 'Indep Var')\n",
    "    dfs_to_export[income] = income_view\n",
    "    \n",
    "dfs_to_export = [dfs_to_export[n] for n in sheet_names]\n",
    "reg.save_dfs_to_excel(dfs_to_export, sheet_names, DB_PATH / f\"CS-ARDL_{indicators[0]}_Results.xlsx\")"
   ]
  },
  {
   "cell_type": "markdown",
   "id": "479a775f",
   "metadata": {},
   "source": [
    "## GHG Emissions"
   ]
  },
  {
   "cell_type": "code",
   "execution_count": null,
   "id": "b01ce474",
   "metadata": {
    "ExecuteTime": {
     "end_time": "2023-10-11T06:19:39.261627Z",
     "start_time": "2023-10-11T06:19:39.046381Z"
    }
   },
   "outputs": [],
   "source": [
    "columns = ['Income', 'Lag']\n",
    "sub_columns_filters = {\n",
    "    'Lag': [],\n",
    "    'Income': []\n",
    "}\n",
    "sub_index_filters = {\n",
    "    'Indep Var': ['ECI', 'Agriculture ECI', 'Fishing ECI', 'Food & Beverages ECI',\n",
    "       'Machinery ECI', 'Metal Products ECI', 'Mining & Quarrying ECI',\n",
    "       'Other Manufacturing ECI', 'Petroleum, Chemicals & Non-Metals ECI',\n",
    "       'Textiles & Wearing Apparel ECI', 'Transport Equipment ECI',\n",
    "       'Wood & Paper ECI']\n",
    "}\n",
    "indicators = [\n",
    "'Total greenhouse gas emissions (kt of CO2 equivalent)_log',\n",
    "]\n",
    "\n",
    "view = reg.df_view(dataframe, indicators, columns, sub_columns_filters, sub_index_filters, 'Income', 'Indep Var')\n",
    "display(view)"
   ]
  },
  {
   "cell_type": "code",
   "execution_count": null,
   "id": "6d5d0c4e",
   "metadata": {
    "ExecuteTime": {
     "end_time": "2023-10-11T06:19:53.489851Z",
     "start_time": "2023-10-11T06:19:53.070922Z"
    }
   },
   "outputs": [],
   "source": [
    "dfs_to_export = {'All variations': view}\n",
    "sheet_names = ['Low income', 'Lower middle income', 'Upper middle income', 'High income', 'All countries', 'All variations']\n",
    "\n",
    "for income in dataframe.index.get_level_values('Income').unique():\n",
    "    sub_columns_filters['Income'] = [income]\n",
    "    income_view = reg.df_view(dataframe, indicators, columns, sub_columns_filters, sub_index_filters, 'Income', 'Indep Var')\n",
    "    dfs_to_export[income] = income_view\n",
    "    \n",
    "dfs_to_export = [dfs_to_export[n] for n in sheet_names]\n",
    "reg.save_dfs_to_excel(dfs_to_export, sheet_names, DB_PATH / f\"CS-ARDL_{indicators[0]}_Results.xlsx\")"
   ]
  },
  {
   "cell_type": "markdown",
   "id": "c5a8b45b",
   "metadata": {},
   "source": [
    "## GDP"
   ]
  },
  {
   "cell_type": "code",
   "execution_count": null,
   "id": "dff521de",
   "metadata": {
    "ExecuteTime": {
     "end_time": "2023-10-11T06:20:52.049601Z",
     "start_time": "2023-10-11T06:20:51.833202Z"
    },
    "scrolled": true
   },
   "outputs": [],
   "source": [
    "columns = ['Income', 'Lag']\n",
    "sub_columns_filters = {\n",
    "    'Lag': [],\n",
    "    'Income': []\n",
    "}\n",
    "sub_index_filters = {\n",
    "    'Indep Var': ['ECI', 'Agriculture ECI', 'Fishing ECI', 'Food & Beverages ECI',\n",
    "       'Machinery ECI', 'Metal Products ECI', 'Mining & Quarrying ECI',\n",
    "       'Other Manufacturing ECI', 'Petroleum, Chemicals & Non-Metals ECI',\n",
    "       'Textiles & Wearing Apparel ECI', 'Transport Equipment ECI',\n",
    "       'Wood & Paper ECI']\n",
    "}\n",
    "indicators = [\n",
    "'GDP per capita (current US$)_log',\n",
    "]\n",
    "\n",
    "view = reg.df_view(dataframe, indicators, columns, sub_columns_filters, sub_index_filters, 'Income', 'Indep Var')\n",
    "display(view)"
   ]
  },
  {
   "cell_type": "code",
   "execution_count": null,
   "id": "60934499",
   "metadata": {
    "ExecuteTime": {
     "end_time": "2023-10-11T06:21:19.106296Z",
     "start_time": "2023-10-11T06:21:18.685957Z"
    }
   },
   "outputs": [],
   "source": [
    "dfs_to_export = {'All variations': view}\n",
    "sheet_names = ['Low income', 'Lower middle income', 'Upper middle income', 'High income', 'All countries', 'All variations']\n",
    "\n",
    "for income in dataframe.index.get_level_values('Income').unique():\n",
    "    sub_columns_filters['Income'] = [income]\n",
    "    income_view = reg.df_view(dataframe, indicators, columns, sub_columns_filters, sub_index_filters, 'Income', 'Indep Var')\n",
    "    dfs_to_export[income] = income_view\n",
    "    \n",
    "dfs_to_export = [dfs_to_export[n] for n in sheet_names]\n",
    "reg.save_dfs_to_excel(dfs_to_export, sheet_names, DB_PATH / f\"CS-ARDL_{indicators[0]}_Results.xlsx\")"
   ]
  },
  {
   "cell_type": "markdown",
   "id": "57637be3",
   "metadata": {},
   "source": [
    "## GDP Growth"
   ]
  },
  {
   "cell_type": "code",
   "execution_count": null,
   "id": "bc6ec5f1",
   "metadata": {
    "ExecuteTime": {
     "end_time": "2023-10-11T06:23:15.530602Z",
     "start_time": "2023-10-11T06:23:15.337383Z"
    }
   },
   "outputs": [],
   "source": [
    "columns = ['Income', 'Lag']\n",
    "sub_columns_filters = {\n",
    "    'Lag': [],\n",
    "    'Income': []\n",
    "}\n",
    "sub_index_filters = {\n",
    "    'Indep Var': ['ECI', 'Agriculture ECI', 'Fishing ECI', 'Food & Beverages ECI',\n",
    "       'Machinery ECI', 'Metal Products ECI', 'Mining & Quarrying ECI',\n",
    "       'Other Manufacturing ECI', 'Petroleum, Chemicals & Non-Metals ECI',\n",
    "       'Textiles & Wearing Apparel ECI', 'Transport Equipment ECI',\n",
    "       'Wood & Paper ECI']\n",
    "}\n",
    "indicators = [\n",
    "'GDP per capita, PPP (current international $)_in_1_years_log',\n",
    "]\n",
    "\n",
    "view = reg.df_view(dataframe, indicators, columns, sub_columns_filters, sub_index_filters, 'Income', 'Indep Var')\n",
    "display(view)"
   ]
  },
  {
   "cell_type": "code",
   "execution_count": null,
   "id": "c0bf7e2a",
   "metadata": {
    "ExecuteTime": {
     "end_time": "2023-10-11T06:23:55.931231Z",
     "start_time": "2023-10-11T06:23:55.517608Z"
    }
   },
   "outputs": [],
   "source": [
    "dfs_to_export = {'All variations': view}\n",
    "sheet_names = ['Low income', 'Lower middle income', 'Upper middle income', 'High income', 'All countries', 'All variations']\n",
    "\n",
    "for income in dataframe.index.get_level_values('Income').unique():\n",
    "    sub_columns_filters['Income'] = [income]\n",
    "    income_view = reg.df_view(dataframe, indicators, columns, sub_columns_filters, sub_index_filters, 'Income', 'Indep Var')\n",
    "    dfs_to_export[income] = income_view\n",
    "    \n",
    "dfs_to_export = [dfs_to_export[n] for n in sheet_names]\n",
    "reg.save_dfs_to_excel(dfs_to_export, sheet_names, DB_PATH / f\"CS-ARDL_{indicators[0]}_Results.xlsx\")"
   ]
  },
  {
   "cell_type": "markdown",
   "id": "10e1da31",
   "metadata": {},
   "source": [
    "## Energy Intensity"
   ]
  },
  {
   "cell_type": "code",
   "execution_count": null,
   "id": "a845f69e",
   "metadata": {
    "ExecuteTime": {
     "end_time": "2023-10-11T06:17:17.025180Z",
     "start_time": "2023-10-11T06:17:16.834947Z"
    }
   },
   "outputs": [],
   "source": [
    "columns = ['Income', 'Lag']\n",
    "sub_columns_filters = {\n",
    "    'Lag': [],\n",
    "    'Income': []\n",
    "}\n",
    "sub_index_filters = {\n",
    "    'Indep Var': ['ECI', 'Agriculture ECI', 'Fishing ECI', 'Food & Beverages ECI',\n",
    "       'Machinery ECI', 'Metal Products ECI', 'Mining & Quarrying ECI',\n",
    "       'Other Manufacturing ECI', 'Petroleum, Chemicals & Non-Metals ECI',\n",
    "       'Textiles & Wearing Apparel ECI', 'Transport Equipment ECI',\n",
    "       'Wood & Paper ECI']\n",
    "}\n",
    "indicators = [\n",
    "'Energy Intensity_in_1_years',\n",
    "]\n",
    "\n",
    "view = reg.df_view(dataframe, indicators, columns, sub_columns_filters, sub_index_filters, 'Income', 'Indep Var')\n",
    "display(view)"
   ]
  },
  {
   "cell_type": "markdown",
   "id": "d34799c3",
   "metadata": {},
   "source": [
    "***"
   ]
  }
 ],
 "metadata": {
  "kernelspec": {
   "display_name": "tools",
   "language": "python",
   "name": "python3"
  },
  "language_info": {
   "codemirror_mode": {
    "name": "ipython",
    "version": 3
   },
   "file_extension": ".py",
   "mimetype": "text/x-python",
   "name": "python",
   "nbconvert_exporter": "python",
   "pygments_lexer": "ipython3",
   "version": "3.8.18"
  },
  "toc": {
   "base_numbering": 1,
   "nav_menu": {},
   "number_sections": true,
   "sideBar": true,
   "skip_h1_title": false,
   "title_cell": "Table of Contents",
   "title_sidebar": "Contents",
   "toc_cell": false,
   "toc_position": {
    "height": "calc(100% - 180px)",
    "left": "10px",
    "top": "150px",
    "width": "232.882px"
   },
   "toc_section_display": true,
   "toc_window_display": false
  }
 },
 "nbformat": 4,
 "nbformat_minor": 5
}
