{
 "cells": [
  {
   "cell_type": "code",
   "execution_count": 1,
   "metadata": {},
   "outputs": [],
   "source": [
    "import numpy as np\n",
    "from mitools.visuals import ScatterPlotter"
   ]
  },
  {
   "cell_type": "code",
   "execution_count": 2,
   "metadata": {},
   "outputs": [],
   "source": [
    "x_data = np.linspace(0, 10, 1000)\n",
    "y_data = np.random.randn(1000) * np.random.randn(1000)\n",
    "colors = np.exp(np.random.randn(1000))\n",
    "scatter_plotter = ScatterPlotter(x_data, y_data)"
   ]
  },
  {
   "cell_type": "code",
   "execution_count": null,
   "metadata": {},
   "outputs": [],
   "source": [
    "ax = scatter_plotter.draw()"
   ]
  },
  {
   "cell_type": "code",
   "execution_count": null,
   "metadata": {},
   "outputs": [],
   "source": [
    "(scatter_plotter\n",
    ".set_title(label=\"Scatter Plot\", fontsize=24, color='white', loc='left')\n",
    ".set_xlabel(\"X-axis\", color='white', fontsize=18)\n",
    ".set_ylabel(\"Y-axis\", color='white', fontsize=18)\n",
    ".set_style(None)\n",
    ".set_size(150)\n",
    ".set_color(colors)\n",
    ".set_marker(\"*\")\n",
    ".set_colormap(\"inferno\")\n",
    ".set_normalization(\"linear\")\n",
    ".set_vmin(1e-9)\n",
    ".set_vmax(0.9)\n",
    ".set_alpha(1.0)\n",
    ".set_linewidth(1.25)\n",
    ".set_edgecolor(\"gold\")\n",
    ".set_facecolor(\"orange\")\n",
    ".set_label(\"sin(x)\")\n",
    ".set_legend(show=True, labels=[\"Sin(x)\"], loc=\"lower center\")\n",
    ".set_zorder(100)\n",
    ".set_plot_non_finite(True)\n",
    ".set_figsize((21, 8))\n",
    ".set_scales(xscale=None, yscale=\"linear\")\n",
    ".set_grid(True, color='white')\n",
    ".set_texts(\n",
    "    texts=[\n",
    "        {\"s\": \"Pretty!\", \"x\": 0.15, \"y\": 4.5, \"fontsize\": 24, \"color\": \"gold\"},  \n",
    "        {\"s\": \"More Pretty!\", \"x\": 7.95, \"y\": -4.5, \"fontsize\": 16, \"color\": \"gold\"}\n",
    "    ]\n",
    ")\n",
    ".set_tight_layout(True)\n",
    ".set_background(\"lightgray\")\n",
    ".set_figure_background(\"darkgray\")\n",
    ".set_suptitle(\"ScatterPlot Object\", fontsize=24, color=\"white\")\n",
    ".set_ax_limits(xlim=(-1, 11), ylim=(-6, 6))\n",
    ".set_ticks(x_ticks=np.arange(-1, 11, 0.75), y_ticks=np.arange(-6, 6, 0.5))\n",
    ".set_tick_labels(\n",
    "    x_tick_labels=[f\"N{x}\" if x % 1 == 0 else x for x in np.arange(-1, 11, 0.75)], \n",
    "    y_tick_labels=[f\"N{y}\" if y % 1 == 0 else y for y in np.arange(-6, 6, 0.5)]\n",
    ")\n",
    ".set_spines(left=dict(linewidth=2.5, color=\"w\", linestyle=\":\"), \n",
    "            bottom=dict(linewidth=2.5, color=\"w\", linestyle=\":\"),\n",
    "            right=dict(linewidth=2.5, color=\"w\", linestyle=\":\"),\n",
    "            top=dict(linewidth=2.5, color=\"w\", linestyle=\":\"))\n",
    ")\n",
    "ax = scatter_plotter.draw()"
   ]
  },
  {
   "cell_type": "code",
   "execution_count": null,
   "metadata": {},
   "outputs": [],
   "source": [
    "(scatter_plotter\n",
    ".set_title(label=\"Scatter Plot\", fontsize=24, color='white', loc='left')\n",
    ".set_xlabel(\"X-axis\", color='white', fontsize=18)\n",
    ".set_ylabel(\"Y-axis\", color='white', fontsize=18)\n",
    ".set_style(None)\n",
    ".set_size(150)\n",
    ".set_color(colors)\n",
    ".set_marker(\"*\")\n",
    ".set_colormap(\"magma\")\n",
    ".set_normalization(\"linear\")\n",
    ".set_vmin(1e-9)\n",
    ".set_vmax(0.9)\n",
    ".set_alpha(1.0)\n",
    ".set_linewidth(1.25)\n",
    ".set_edgecolor(\"gold\")\n",
    ".set_facecolor(\"orange\")\n",
    ".set_label(\"sin(x)\")\n",
    ".set_legend(show=True, labels=[\"Sin(x)\"], loc=\"lower center\")\n",
    ".set_zorder(100)\n",
    ".set_plot_non_finite(True)\n",
    ".set_figsize((21, 8))\n",
    ".set_scales(xscale=None, yscale=\"linear\")\n",
    ".set_grid(True, color='white')\n",
    ".set_texts(\n",
    "    texts=[\n",
    "        {\"s\": \"Pretty!\", \"x\": 0.15, \"y\": 4.5, \"fontsize\": 24, \"color\": \"gold\"},  \n",
    "        {\"s\": \"More Pretty!\", \"x\": 7.95, \"y\": -4.5, \"fontsize\": 16, \"color\": \"gold\"}\n",
    "    ]\n",
    ")\n",
    ".set_tight_layout(True)\n",
    ".set_background(\"lightgray\")\n",
    ".set_figure_background(\"darkgray\")\n",
    ".set_suptitle(\"ScatterPlot Object\", fontsize=24, color=\"white\")\n",
    ".set_ax_limits(xlim=(-1, 11), ylim=(-6, 6))\n",
    ".set_ticks(x_ticks=np.arange(-1, 11, 0.75), y_ticks=np.arange(-6, 6, 0.5))\n",
    ".set_tick_labels(\n",
    "    x_tick_labels=[f\"N{x}\" if x % 1 == 0 else x for x in np.arange(-1, 11, 0.75)], \n",
    "    y_tick_labels=[f\"N{y}\" if y % 1 == 0 else y for y in np.arange(-6, 6, 0.5)]\n",
    ")\n",
    ".set_spines(left=dict(linewidth=2.5, color=\"w\", linestyle=\":\"), \n",
    "            bottom=dict(linewidth=2.5, color=\"w\", linestyle=\":\"),\n",
    "            right=dict(linewidth=2.5, color=\"w\", linestyle=\":\"),\n",
    "            top=dict(linewidth=2.5, color=\"w\", linestyle=\":\"))\n",
    ")\n",
    "ax = scatter_plotter.draw()"
   ]
  },
  {
   "cell_type": "code",
   "execution_count": null,
   "metadata": {},
   "outputs": [],
   "source": [
    "scatter_plotter.save_plotter(\"scatter_plot.json\", data=True)\n",
    "stored_plotter = ScatterPlotter.from_json(\"scatter_plot.json\")\n",
    "ax = stored_plotter.draw()"
   ]
  },
  {
   "cell_type": "code",
   "execution_count": null,
   "metadata": {},
   "outputs": [],
   "source": [
    "stored_plotter.set_title(label=\"a) Scatter Plot\", fontsize=24, color='white', loc='left')\n",
    "ax = stored_plotter.draw()"
   ]
  },
  {
   "cell_type": "markdown",
   "metadata": {},
   "source": [
    "***"
   ]
  }
 ],
 "metadata": {
  "kernelspec": {
   "display_name": "tools",
   "language": "python",
   "name": "tools"
  },
  "language_info": {
   "codemirror_mode": {
    "name": "ipython",
    "version": 3
   },
   "file_extension": ".py",
   "mimetype": "text/x-python",
   "name": "python",
   "nbconvert_exporter": "python",
   "pygments_lexer": "ipython3",
   "version": "3.8.18"
  }
 },
 "nbformat": 4,
 "nbformat_minor": 2
}
