{
 "cells": [
  {
   "cell_type": "code",
   "execution_count": null,
   "id": "e80f5fcb",
   "metadata": {
    "ExecuteTime": {
     "end_time": "2023-10-11T04:31:29.995804Z",
     "start_time": "2023-10-11T04:31:29.686886Z"
    }
   },
   "outputs": [],
   "source": [
    "import os\n",
    "import pandas as pd\n",
    "from mitools import regressions as reg\n",
    "from mitools import utils\n",
    "\n",
    "import time\n",
    "\n",
    "from tqdm import tqdm\n",
    "from pathlib import Path"
   ]
  },
  {
   "cell_type": "markdown",
   "id": "4215bad3",
   "metadata": {},
   "source": [
    "# STATA Logs to DataFrame"
   ]
  },
  {
   "cell_type": "code",
   "execution_count": null,
   "id": "44c95c6b",
   "metadata": {},
   "outputs": [],
   "source": [
    "DB_PATH = Path('/Users/sebastian/Desktop/MontagnaInc/Research/DataWork/datamanagement/')\n",
    "OLS_DF_PATH = DB_PATH / 'OLS_Results.xlsx'\n",
    "CSARDL_DF_PATH = DB_PATH / 'CSARDL_Results.xlsx'\n",
    "XTREG_DF_PATH = DB_PATH / 'XTREG_Results.xlsx'\n",
    "LOGS_FOLDER = DB_PATH / 'logs' / 'test_norm_b4meet'\n",
    "INDICATOR_NAMES_MAP = DB_PATH / 'indicator_name_map.xlsx'\n",
    "\n",
    "model_paths = {\n",
    "    'xtreg': XTREG_DF_PATH,\n",
    "    'csardl': CSARDL_DF_PATH,\n",
    "    'ols': OLS_DF_PATH\n",
    "}"
   ]
  },
  {
   "cell_type": "code",
   "execution_count": null,
   "id": "a4044820",
   "metadata": {},
   "outputs": [],
   "source": [
    "indicator_names = pd.read_excel(INDICATOR_NAMES_MAP, index_col='New Name')\n",
    "log_paths = [os.path.join(LOGS_FOLDER, f) for f in os.listdir(LOGS_FOLDER) if f.endswith('.log')]"
   ]
  },
  {
   "cell_type": "code",
   "execution_count": null,
   "id": "ff52a555",
   "metadata": {},
   "outputs": [],
   "source": [
    "results = reg.process_logs(log_paths)"
   ]
  },
  {
   "cell_type": "code",
   "execution_count": null,
   "id": "07a67f92",
   "metadata": {},
   "outputs": [],
   "source": [
    "results"
   ]
  },
  {
   "cell_type": "code",
   "execution_count": null,
   "metadata": {},
   "outputs": [],
   "source": [
    "results.loc[(\n",
    "    results.index.get_level_values('Dep Var') == 'Indicat~102X'\n",
    "    ) & (\n",
    "        results.index.get_level_values('Group') == 'All countries'\n",
    "   ) & (\n",
    "        results.index.get_level_values('Indep Var') == 'AgrSSCI'\n",
    "    ) & (\n",
    "        results.index.get_level_values('Id') == '87fb55'\n",
    "    )]"
   ]
  },
  {
   "cell_type": "code",
   "execution_count": null,
   "id": "c45f1af4",
   "metadata": {},
   "outputs": [],
   "source": [
    "df = reg.mask_results(results, indicator_names)\n",
    "\n",
    "model_type = df.index.get_level_values('Type')[0]\n",
    "path = os.path.join(DB_PATH, f\"{model_type}_test_b4meet.xlsx\")\n",
    "print(path)\n",
    "df.reset_index().to_excel(path)"
   ]
  },
  {
   "cell_type": "markdown",
   "id": "5a6e39ae",
   "metadata": {},
   "source": [
    "***"
   ]
  }
 ],
 "metadata": {
  "kernelspec": {
   "display_name": "tools",
   "language": "python",
   "name": "python3"
  },
  "language_info": {
   "codemirror_mode": {
    "name": "ipython",
    "version": 3
   },
   "file_extension": ".py",
   "mimetype": "text/x-python",
   "name": "python",
   "nbconvert_exporter": "python",
   "pygments_lexer": "ipython3",
   "version": "3.8.18"
  },
  "toc": {
   "base_numbering": 1,
   "nav_menu": {},
   "number_sections": true,
   "sideBar": true,
   "skip_h1_title": false,
   "title_cell": "Table of Contents",
   "title_sidebar": "Contents",
   "toc_cell": false,
   "toc_position": {},
   "toc_section_display": true,
   "toc_window_display": false
  }
 },
 "nbformat": 4,
 "nbformat_minor": 5
}
