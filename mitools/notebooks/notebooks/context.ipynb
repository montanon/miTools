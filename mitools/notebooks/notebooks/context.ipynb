{
 "cells": [
  {
   "cell_type": "code",
   "execution_count": 1,
   "metadata": {},
   "outputs": [],
   "source": [
    "import mitools.context as ctx\n",
    "import time"
   ]
  },
  {
   "cell_type": "code",
   "execution_count": null,
   "metadata": {},
   "outputs": [],
   "source": [
    "with ctx.Timing(prefix='Timing execution: '):\n",
    "    time.sleep(1)\n",
    "\n",
    "with ctx.Timing(prefix='Timing execution: ', unit='s'):\n",
    "    time.sleep(1)"
   ]
  },
  {
   "cell_type": "code",
   "execution_count": null,
   "metadata": {},
   "outputs": [],
   "source": [
    "@ctx.Timing('Timing execution: ')\n",
    "def test_time():\n",
    "    time.sleep(1)\n",
    "\n",
    "test_time()\n",
    "\n",
    "@ctx.Timing('Timing execution: ', unit=\"m\")\n",
    "def test_time():\n",
    "    time.sleep(1)\n",
    "\n",
    "test_time()"
   ]
  },
  {
   "cell_type": "code",
   "execution_count": null,
   "metadata": {},
   "outputs": [],
   "source": [
    "print(ctx.RANDOMSTATE.value)\n",
    "with ctx.Context(RANDOMSTATE=10):\n",
    "    print(ctx.RANDOMSTATE.value)\n",
    "@ctx.Context(RANDOMSTATE=99)\n",
    "def test_randomstate():\n",
    "    print(ctx.RANDOMSTATE.value)\n",
    "test_randomstate()\n",
    "print(ctx.RANDOMSTATE.value)"
   ]
  },
  {
   "cell_type": "code",
   "execution_count": null,
   "metadata": {},
   "outputs": [],
   "source": [
    "print(ctx.RANDOMSTATE == 0)\n",
    "print(ctx.RANDOMSTATE == -1)"
   ]
  },
  {
   "cell_type": "markdown",
   "metadata": {},
   "source": [
    "***"
   ]
  }
 ],
 "metadata": {
  "kernelspec": {
   "display_name": "tools",
   "language": "python",
   "name": "tools"
  },
  "language_info": {
   "codemirror_mode": {
    "name": "ipython",
    "version": 3
   },
   "file_extension": ".py",
   "mimetype": "text/x-python",
   "name": "python",
   "nbconvert_exporter": "python",
   "pygments_lexer": "ipython3",
   "version": "3.8.18"
  }
 },
 "nbformat": 4,
 "nbformat_minor": 2
}
