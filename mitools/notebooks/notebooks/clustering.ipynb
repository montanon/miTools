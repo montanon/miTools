{
 "cells": [
  {
   "cell_type": "code",
   "execution_count": 1,
   "metadata": {},
   "outputs": [],
   "source": [
    "from mitools import clustering as cl\n",
    "from pandas import DataFrame\n",
    "from sklearn.datasets import make_blobs\n",
    "import matplotlib.pyplot as plt\n",
    "import pandas as pd"
   ]
  },
  {
   "cell_type": "markdown",
   "metadata": {},
   "source": [
    "# Load Data"
   ]
  },
  {
   "cell_type": "code",
   "execution_count": 2,
   "metadata": {},
   "outputs": [],
   "source": [
    "n_samples = 1_000\n",
    "n_features = 16\n",
    "n_centers = 5"
   ]
  },
  {
   "cell_type": "code",
   "execution_count": 3,
   "metadata": {},
   "outputs": [],
   "source": [
    "data, _ = make_blobs(n_samples=n_samples, centers=n_centers, n_features=n_features, random_state=0)\n",
    "data = DataFrame(data, columns=[f\"feature_{i}\" for i in range(n_features)], index=[f\"sample_{i}\" for i in range(n_samples)])"
   ]
  },
  {
   "cell_type": "code",
   "execution_count": null,
   "metadata": {},
   "outputs": [],
   "source": [
    "data"
   ]
  },
  {
   "cell_type": "markdown",
   "metadata": {},
   "source": [
    "# Search N Clusters"
   ]
  },
  {
   "cell_type": "code",
   "execution_count": null,
   "metadata": {},
   "outputs": [],
   "source": [
    "kmeans_scores, kmeans_inertia = cl.clustering_ncluster_search(data, max_clusters=25, clustering_method=cl.kmeans_clustering)\n",
    "cl.plot_clustering_ncluster_search(kmeans_scores, kmeans_inertia, max_clusters=25, algorithm_name=\"K-Means Clustering\")\n",
    "plt.show()"
   ]
  },
  {
   "cell_type": "code",
   "execution_count": null,
   "metadata": {},
   "outputs": [],
   "source": [
    "aggcl_scores, aggcl_inertia = cl.clustering_ncluster_search(data, max_clusters=25, clustering_method=cl.agglomerative_clustering)\n",
    "cl.plot_clustering_ncluster_search(aggcl_scores, aggcl_inertia, max_clusters=25, algorithm_name=\"Agglomerative Clustering\")\n",
    "plt.show()"
   ]
  },
  {
   "cell_type": "markdown",
   "metadata": {},
   "source": [
    "# Define N Clusters"
   ]
  },
  {
   "cell_type": "code",
   "execution_count": 7,
   "metadata": {},
   "outputs": [],
   "source": [
    "n_clusters = n_centers\n",
    "kmeans, kmeans_labels = cl.kmeans_clustering(data, n_clusters=n_clusters)\n",
    "aggcl, aggcl_labels = cl.agglomerative_clustering(data, n_clusters=n_clusters)"
   ]
  },
  {
   "cell_type": "markdown",
   "metadata": {},
   "source": [
    "# Add Labels to DataFrame Index"
   ]
  },
  {
   "cell_type": "code",
   "execution_count": 8,
   "metadata": {},
   "outputs": [],
   "source": [
    "data.index = pd.MultiIndex.from_arrays([data.index, [f\"cluster_{c}\" for c in kmeans_labels], [f\"cluster_{c}\" for c in aggcl_labels]], names=[data.index.name, 'kmeans_cluster', 'agg_cluster'])"
   ]
  },
  {
   "cell_type": "code",
   "execution_count": null,
   "metadata": {},
   "outputs": [],
   "source": [
    "data"
   ]
  },
  {
   "cell_type": "markdown",
   "metadata": {},
   "source": [
    "# Evaluate Clusters"
   ]
  },
  {
   "cell_type": "code",
   "execution_count": null,
   "metadata": {},
   "outputs": [],
   "source": [
    "centroids = cl.get_clusters_centroids(data, 'kmeans_cluster')\n",
    "centroids"
   ]
  },
  {
   "cell_type": "code",
   "execution_count": null,
   "metadata": {},
   "outputs": [],
   "source": [
    "distances_between_centroids = cl.get_distances_between_centroids(centroids)\n",
    "distances_between_centroids"
   ]
  },
  {
   "cell_type": "code",
   "execution_count": null,
   "metadata": {},
   "outputs": [],
   "source": [
    "distances_to_cetroids = cl.get_distances_to_centroids(data, centroids, 'kmeans_cluster')\n",
    "distances_to_cetroids"
   ]
  },
  {
   "cell_type": "code",
   "execution_count": null,
   "metadata": {},
   "outputs": [],
   "source": [
    "_ = cl.plot_dfs_col_distribution([g for _, g in distances_to_cetroids.groupby('kmeans_cluster')], column=0, normed=False, bins=None, colors=None)"
   ]
  },
  {
   "cell_type": "code",
   "execution_count": null,
   "metadata": {},
   "outputs": [],
   "source": [
    "cl.get_clusters_size(data, 'kmeans_cluster')"
   ]
  },
  {
   "cell_type": "code",
   "execution_count": null,
   "metadata": {},
   "outputs": [],
   "source": [
    "cluster_cosine_sims = cl.get_cosine_similarities(data.loc[data.index.get_level_values('kmeans_cluster') == 'cluster_0'], id_level=0, as_vector=False)\n",
    "cluster_cosine_sims"
   ]
  },
  {
   "cell_type": "code",
   "execution_count": null,
   "metadata": {},
   "outputs": [],
   "source": [
    "cluster_cosine_sims = cl.get_cosine_similarities(data.loc[data.index.get_level_values('kmeans_cluster') == 'cluster_0'], id_level=0, as_vector=True)\n",
    "cluster_cosine_sims"
   ]
  },
  {
   "cell_type": "code",
   "execution_count": null,
   "metadata": {},
   "outputs": [],
   "source": [
    "_ = cl.plot_df_col_distribution(cluster_cosine_sims, column=0, normed=False, bins=100, color=\"green\")"
   ]
  },
  {
   "cell_type": "code",
   "execution_count": null,
   "metadata": {},
   "outputs": [],
   "source": [
    "clusters_cosine_sims = {cluster: cl.get_cosine_similarities(group, id_level=0, as_vector=True) for cluster, group in data.groupby('kmeans_cluster')}\n",
    "clusters_cosine_sims['cluster_0']"
   ]
  },
  {
   "cell_type": "code",
   "execution_count": null,
   "metadata": {},
   "outputs": [],
   "source": [
    "_ = cl.plot_dfs_col_distribution(clusters_cosine_sims.values(), column=0, normed=False, bins=None, colors=None)"
   ]
  },
  {
   "cell_type": "code",
   "execution_count": null,
   "metadata": {},
   "outputs": [],
   "source": [
    "ax = cl.plot_clusters(data, 'kmeans_cluster', 'feature_0', 'feature_1')\n",
    "ax = cl.add_clusters_ellipse(ax, data, 'kmeans_cluster', 'feature_0', 'feature_1', linestyle='--')\n",
    "ax = cl.add_clusters_centroids(ax, centroids, 0, 'feature_0', 'feature_1', s=5000, marker='o', alpha=0.66, zorder=99, edgecolor='k', linewidth=2, linestyle='--')\n",
    "plt.show()"
   ]
  },
  {
   "cell_type": "code",
   "execution_count": 60,
   "metadata": {},
   "outputs": [],
   "source": []
  },
  {
   "cell_type": "code",
   "execution_count": null,
   "metadata": {},
   "outputs": [],
   "source": []
  },
  {
   "cell_type": "code",
   "execution_count": null,
   "metadata": {},
   "outputs": [],
   "source": []
  }
 ],
 "metadata": {
  "kernelspec": {
   "display_name": "tools",
   "language": "python",
   "name": "tools"
  },
  "language_info": {
   "codemirror_mode": {
    "name": "ipython",
    "version": 3
   },
   "file_extension": ".py",
   "mimetype": "text/x-python",
   "name": "python",
   "nbconvert_exporter": "python",
   "pygments_lexer": "ipython3",
   "version": "3.8.18"
  }
 },
 "nbformat": 4,
 "nbformat_minor": 2
}
