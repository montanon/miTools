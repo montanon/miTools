{
 "cells": [
  {
   "cell_type": "code",
   "execution_count": 1,
   "metadata": {},
   "outputs": [],
   "source": [
    "import numpy as np\n",
    "from mitools.visuals.plots import PiePlotter"
   ]
  },
  {
   "cell_type": "code",
   "execution_count": 2,
   "metadata": {},
   "outputs": [],
   "source": [
    "data = np.array([10, 20, 30, 40])\n",
    "pie_plotter = PiePlotter(data)"
   ]
  },
  {
   "cell_type": "code",
   "execution_count": null,
   "metadata": {},
   "outputs": [],
   "source": [
    "ax = pie_plotter.draw()"
   ]
  },
  {
   "cell_type": "code",
   "execution_count": null,
   "metadata": {},
   "outputs": [],
   "source": [
    "(pie_plotter\n",
    " .set_style(None)\n",
    " .set_background('white')\n",
    " .set_figure_background('white')\n",
    " .set_color([\"red\", \"green\", \"blue\", \"yellow\"])\n",
    " .set_label([\"A\", \"B\", \"C\", \"D\"])\n",
    " .set_explode([0.1, 0, 0, 0])\n",
    " .set_hatch([\"\", \"|\", \"\\\\\", \"-\"])\n",
    " .set_autopct(\"%1.1f%%\")\n",
    " .set_pctdistance(0.68)\n",
    " .set_labeldistance(1.1)\n",
    " .set_shadow(True)\n",
    " .set_startangle(0)\n",
    " .set_radius(1.0)\n",
    " .set_counterclock(True)\n",
    " .set_wedgeprops(linewidth=2.5, edgecolor=\"k\")\n",
    " .set_textprops(size=40, fontweight=\"bold\", color=\"k\", ha=\"center\")\n",
    " .set_center((0, 0))\n",
    " .set_frame(False)\n",
    " .set_rotatelabels(False)\n",
    " .set_normalize(True)\n",
    " )\n",
    "ax = pie_plotter.draw()"
   ]
  },
  {
   "cell_type": "code",
   "execution_count": null,
   "metadata": {},
   "outputs": [],
   "source": [
    "(pie_plotter\n",
    " .set_style(None)\n",
    " .set_background('white')\n",
    " .set_figure_background('white')\n",
    " .set_color([\"red\", \"green\", \"blue\", \"yellow\"])\n",
    " .set_label([\"A\", \"B\", \"C\", \"D\"])\n",
    " .set_explode([0.1, 0, 0, 0])\n",
    " .set_hatch([\"\", \"|\", \"\\\\\", \"-\"])\n",
    " .set_autopct(\"%1.1f%%\")\n",
    " .set_pctdistance(0.68)\n",
    " .set_labeldistance(1.1)\n",
    " .set_shadow(True)\n",
    " .set_startangle(0)\n",
    " .set_radius(1.0)\n",
    " .set_counterclock(True)\n",
    " .set_wedgeprops(linewidth=2.5, edgecolor=\"k\")\n",
    " .set_textprops(size=40, fontweight=\"bold\", color=\"k\", ha=\"center\")\n",
    " .set_center((0, 0))\n",
    " .set_frame(False)\n",
    " .set_rotatelabels(False)\n",
    " .set_normalize(True)\n",
    " )\n",
    "ax = pie_plotter.draw()"
   ]
  },
  {
   "cell_type": "code",
   "execution_count": null,
   "metadata": {},
   "outputs": [],
   "source": [
    "pie_plotter.save_plotter(\".plot_params/pie_plot.json\")\n",
    "stored_plotter = PiePlotter.from_json(\".plot_params/pie_plot.json\")\n",
    "ax = stored_plotter.draw()  "
   ]
  },
  {
   "cell_type": "code",
   "execution_count": null,
   "metadata": {},
   "outputs": [],
   "source": [
    "stored_plotter.set_title(label=\"a) Sweets Eaten:\", fontsize=32, color='k', loc='left', fontweight='bold')\n",
    "ax = stored_plotter.draw()"
   ]
  },
  {
   "cell_type": "markdown",
   "metadata": {},
   "source": [
    "***"
   ]
  }
 ],
 "metadata": {
  "kernelspec": {
   "display_name": "tools",
   "language": "python",
   "name": "tools"
  },
  "language_info": {
   "codemirror_mode": {
    "name": "ipython",
    "version": 3
   },
   "file_extension": ".py",
   "mimetype": "text/x-python",
   "name": "python",
   "nbconvert_exporter": "python",
   "pygments_lexer": "ipython3",
   "version": "3.8.18"
  }
 },
 "nbformat": 4,
 "nbformat_minor": 2
}
