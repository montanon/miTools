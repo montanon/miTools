{
 "cells": [
  {
   "cell_type": "code",
   "execution_count": 1,
   "metadata": {},
   "outputs": [],
   "source": [
    "import numpy as np\n",
    "from mitools.visuals.plots import PiePlotter\n",
    "import seaborn as sns"
   ]
  },
  {
   "cell_type": "markdown",
   "metadata": {},
   "source": [
    "# Single Sequence"
   ]
  },
  {
   "cell_type": "code",
   "execution_count": 2,
   "metadata": {},
   "outputs": [],
   "source": [
    "data = np.array([10, 20, 30, 40])\n",
    "single_plotter = PiePlotter(data)"
   ]
  },
  {
   "cell_type": "code",
   "execution_count": null,
   "metadata": {},
   "outputs": [],
   "source": [
    "ax = single_plotter.draw()"
   ]
  },
  {
   "cell_type": "code",
   "execution_count": null,
   "metadata": {},
   "outputs": [],
   "source": [
    "(single_plotter\n",
    " .set_style(None)\n",
    " .set_background('white')\n",
    " .set_figure_background('white')\n",
    " .set_color([\"red\", \"green\", \"blue\", \"yellow\"])\n",
    " .set_labels([\"A\", \"B\", \"C\", \"D\"])\n",
    " .set_explode([0.1, 0, 0, 0])\n",
    " .set_hatch([None, \"|\", \"\\\\\", \"-\"])\n",
    " .set_autopct(\"%1.1f%%\")\n",
    " .set_pctdistance(0.68)\n",
    " .set_labeldistance(1.1)\n",
    " .set_shadow(True)\n",
    " .set_startangle(0)\n",
    " .set_radius(1.0)\n",
    " .set_counterclock(True)\n",
    " .set_wedgeprops(dict(linewidth=2.5, edgecolor=\"k\"))\n",
    " .set_textprops(dict(size=20, fontweight=\"bold\", color=\"k\", ha=\"center\"))\n",
    " .set_center((0, 0))\n",
    " .set_frame(False)\n",
    " .set_rotatelabels(False)\n",
    " .set_normalize(True)\n",
    " )\n",
    "ax = single_plotter.draw()"
   ]
  },
  {
   "cell_type": "code",
   "execution_count": null,
   "metadata": {},
   "outputs": [],
   "source": [
    "(single_plotter\n",
    " .set_style(None)\n",
    " .set_background('white')\n",
    " .set_figure_background('white')\n",
    " .set_color([\"red\", \"green\", \"blue\", \"yellow\"])\n",
    " .set_labels([\"A\", \"B\", \"C\", \"D\"])\n",
    " .set_explode([0.1, 0, 0, 0])\n",
    " .set_hatch([None, \"|\", \"\\\\\", \"-\"])\n",
    " .set_autopct(\"%1.1f%%\")\n",
    " .set_pctdistance(0.68)\n",
    " .set_labeldistance(1.1)\n",
    " .set_shadow(True)\n",
    " .set_startangle(0)\n",
    " .set_radius(1.0)\n",
    " .set_counterclock(True)\n",
    "  .set_wedgeprops(dict(linewidth=2.5, edgecolor=\"k\"))\n",
    " .set_textprops(dict(size=20, fontweight=\"bold\", color=\"k\", ha=\"center\"))\n",
    " .set_center((0, 0))\n",
    " .set_frame(False)\n",
    " .set_rotatelabels(False)\n",
    " .set_normalize(True)\n",
    " )\n",
    "ax = single_plotter.draw()"
   ]
  },
  {
   "cell_type": "code",
   "execution_count": null,
   "metadata": {},
   "outputs": [],
   "source": [
    "single_plotter.save_plotter(\".plot_params/pie_plot.json\")\n",
    "stored_plotter = PiePlotter.from_json(\".plot_params/pie_plot.json\")\n",
    "ax = stored_plotter.draw()  "
   ]
  },
  {
   "cell_type": "code",
   "execution_count": null,
   "metadata": {},
   "outputs": [],
   "source": [
    "stored_plotter.set_title(label=\"a) Sweets Eaten:\", fontsize=32, color='k', loc='left', fontweight='bold')\n",
    "ax = stored_plotter.draw()"
   ]
  },
  {
   "cell_type": "markdown",
   "metadata": {},
   "source": [
    "# Multi Sequence"
   ]
  },
  {
   "cell_type": "code",
   "execution_count": 117,
   "metadata": {},
   "outputs": [],
   "source": [
    "data = [[10, 20, 30, 40], [5, 60, 20, 16], [80, 5, 5, 5]]\n",
    "pos = [(0, 0), (2.5, 0), (5, 0)]\n",
    "multi_plotter = PiePlotter(data, pos)"
   ]
  },
  {
   "cell_type": "code",
   "execution_count": null,
   "metadata": {},
   "outputs": [],
   "source": [
    "ax = multi_plotter.draw()"
   ]
  },
  {
   "cell_type": "code",
   "execution_count": null,
   "metadata": {},
   "outputs": [],
   "source": [
    "(multi_plotter\n",
    " .set_color([sns.color_palette(\"Set2\", 4), sns.color_palette(\"Paired\", 4), sns.color_palette(\"Set1\", 4)])\n",
    " .set_explode([[0.1, 0, 0, 0], [0, 0.1, 0, 0], [0, 0, 0.1, 0]])\n",
    " .set_labels([[\"A\", \"B\", \"C\", \"D\"], [\"E\", \"F\", \"G\", \"H\"], [\"I\", \"J\", \"K\", \"L\"]])\n",
    " .set_hatch([[None], [None], [\"/\", None, None, None]])\n",
    " .set_autopct([None, \"%1.1f%%\", None])\n",
    " .set_pctdistance([0.68, 0.72, 0.68])\n",
    " .set_labeldistance([1.1, 1.125, 0.75])\n",
    " .set_shadow([True, True, True])\n",
    " .set_startangle([0, 0, 0])\n",
    " .set_radius([1.0, 1.0, 1.0])\n",
    " .set_counterclock([True, False, False])\n",
    " .set_wedgeprops([dict(linewidth=1.0, edgecolor=\"k\", alpha=0.8), None, dict(alpha=0.75)])\n",
    " .set_textprops([dict(fontweight=\"bold\", color=\"k\"), None, dict(size=14, fontweight=\"bold\")])\n",
    " .set_center(pos)\n",
    " .set_frame(False)\n",
    " .set_rotatelabels([True, False, False])\n",
    " .set_normalize([True, True, True])\n",
    " )\n",
    "ax = multi_plotter.draw()"
   ]
  },
  {
   "cell_type": "code",
   "execution_count": null,
   "metadata": {},
   "outputs": [],
   "source": [
    "multi_plotter.save_plotter(\".plot_params/multi_pie_plot.json\", data=True)\n",
    "stored_plotter = PiePlotter.from_json(\".plot_params/multi_pie_plot.json\")\n",
    "ax = stored_plotter.draw()"
   ]
  },
  {
   "cell_type": "code",
   "execution_count": null,
   "metadata": {},
   "outputs": [],
   "source": [
    "stored_plotter.set_center([(0, 0), (3.25, 1.5), (3.25, -1.5)]).set_radius([2.0, 1.0, 1.0])\n",
    "ax = stored_plotter.draw()"
   ]
  },
  {
   "cell_type": "markdown",
   "metadata": {},
   "source": [
    "***"
   ]
  }
 ],
 "metadata": {
  "kernelspec": {
   "display_name": "tools",
   "language": "python",
   "name": "tools"
  },
  "language_info": {
   "codemirror_mode": {
    "name": "ipython",
    "version": 3
   },
   "file_extension": ".py",
   "mimetype": "text/x-python",
   "name": "python",
   "nbconvert_exporter": "python",
   "pygments_lexer": "ipython3",
   "version": "3.8.18"
  }
 },
 "nbformat": 4,
 "nbformat_minor": 2
}
