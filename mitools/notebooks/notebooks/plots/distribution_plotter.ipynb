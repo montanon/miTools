{
 "cells": [
  {
   "cell_type": "code",
   "execution_count": 1,
   "metadata": {},
   "outputs": [],
   "source": [
    "import numpy as np\n",
    "from mitools.visuals import DistributionPlotter"
   ]
  },
  {
   "cell_type": "code",
   "execution_count": 2,
   "metadata": {},
   "outputs": [],
   "source": [
    "x_data = np.linspace(1e-9, 10, 10_000)\n",
    "y_data = np.random.randn(10_000) * (0.2 * np.random.randn(10_000)) + np.sin(x_data)\n",
    "distribution_plotter = DistributionPlotter(y_data)"
   ]
  },
  {
   "cell_type": "code",
   "execution_count": null,
   "metadata": {},
   "outputs": [],
   "source": [
    "ax = distribution_plotter.draw()"
   ]
  },
  {
   "cell_type": "code",
   "execution_count": null,
   "metadata": {},
   "outputs": [],
   "source": [
    "(distribution_plotter\n",
    ".set_style(None)\n",
    ".set_suptitle(\"DistributionPlotter Object:\", fontsize=28, color='purple', fontweight=\"bold\", y=1.05, x=0.05, ha='left', va='top')\n",
    ".set_title(label=\"a) Scatter Plot\", fontsize=28, color='purple', loc='left', fontweight='bold', y=1.05)\n",
    ".set_xlabel(\"X-axis\", color='purple', fontsize=24)\n",
    ".set_ylabel(\"Y-axis\", color='purple', fontsize=24)\n",
    ".set_background('white')\n",
    ".set_figure_background('white')\n",
    ".set_style(None)\n",
    ".set_color('purple')\n",
    ".set_kernel(\"tophat\")\n",
    ".set_bandwidth(\"silverman\")\n",
    ".set_gridsize(10_000)\n",
    ".set_fill(True)\n",
    ".set_linewidth(10)\n",
    ".set_linestyle('-')\n",
    ".set_alpha(1.0)\n",
    ".set_facecolor('pink', alpha=1.0)\n",
    ".set_orientation(\"vertical\")\n",
    ".set_ax_limits(ylim=(0.0, 1))\n",
    ".set_spines(left=dict(linewidth=10, color=\"purple\", linestyle=\"-\"), \n",
    "            bottom=dict(linewidth=10, color=\"purple\", linestyle=\"-\"),\n",
    "            right=dict(color=\"w\"),\n",
    "            top=dict(color=\"w\"))\n",
    ".set_tick_params(x_tick_params={\"labelsize\": 20, \"color\": \"purple\", \"size\": 5, \"width\": 5}, \n",
    "                 y_tick_params={\"labelsize\": 20, \"color\": \"purple\", \"size\": 5, \"width\": 5})\n",
    ".set_hatch(\"///\")\n",
    ")\n",
    "ax = distribution_plotter.draw()"
   ]
  },
  {
   "cell_type": "code",
   "execution_count": null,
   "metadata": {},
   "outputs": [],
   "source": [
    "(distribution_plotter\n",
    ".set_style(None)\n",
    ".set_suptitle(\"DistributionPlotter Object:\", fontsize=28, color='purple', fontweight=\"bold\", y=1.05, x=0.05, ha='left', va='top')\n",
    ".set_title(label=\"a) Scatter Plot\", fontsize=28, color='purple', loc='left', fontweight='bold', y=1.05)\n",
    ".set_xlabel(\"X-axis\", color='purple', fontsize=24)\n",
    ".set_ylabel(\"Y-axis\", color='purple', fontsize=24)\n",
    ".set_background('white')\n",
    ".set_figure_background('white')\n",
    ".set_style(None)\n",
    ".set_color('purple')\n",
    ".set_kernel(\"tophat\")\n",
    ".set_bandwidth(\"silverman\")\n",
    ".set_gridsize(10_000)\n",
    ".set_fill(True)\n",
    ".set_linewidth(10)\n",
    ".set_linestyle('-')\n",
    ".set_alpha(1.0)\n",
    ".set_facecolor('pink', alpha=1.0)\n",
    ".set_orientation(\"vertical\")\n",
    ".set_ax_limits(ylim=(0.0, 1))\n",
    ".set_spines(left=dict(linewidth=10, color=\"purple\", linestyle=\"-\"), \n",
    "            bottom=dict(linewidth=10, color=\"purple\", linestyle=\"-\"),\n",
    "            right=dict(color=\"w\"),\n",
    "            top=dict(color=\"w\"))\n",
    ".set_tick_params(x_tick_params={\"labelsize\": 20, \"color\": \"purple\", \"size\": 5, \"width\": 5}, \n",
    "                 y_tick_params={\"labelsize\": 20, \"color\": \"purple\", \"size\": 5, \"width\": 5})\n",
    ".set_hatch(\"///\")\n",
    ")\n",
    "ax = distribution_plotter.draw()"
   ]
  },
  {
   "cell_type": "code",
   "execution_count": null,
   "metadata": {},
   "outputs": [],
   "source": [
    "distribution_plotter.save_plotter(\".plot_params/distribution_plot.json\", data=True)\n",
    "stored_plotter = DistributionPlotter.from_json(\".plot_params/distribution_plot.json\")\n",
    "ax = stored_plotter.draw()"
   ]
  },
  {
   "cell_type": "code",
   "execution_count": null,
   "metadata": {},
   "outputs": [],
   "source": [
    "stored_plotter.set_facecolor('cyan')\n",
    "ax = stored_plotter.draw()"
   ]
  },
  {
   "cell_type": "markdown",
   "metadata": {},
   "source": [
    "***"
   ]
  }
 ],
 "metadata": {
  "kernelspec": {
   "display_name": "tools",
   "language": "python",
   "name": "tools"
  },
  "language_info": {
   "codemirror_mode": {
    "name": "ipython",
    "version": 3
   },
   "file_extension": ".py",
   "mimetype": "text/x-python",
   "name": "python",
   "nbconvert_exporter": "python",
   "pygments_lexer": "ipython3",
   "version": "3.8.18"
  }
 },
 "nbformat": 4,
 "nbformat_minor": 2
}
