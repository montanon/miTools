{
 "cells": [
  {
   "cell_type": "code",
   "execution_count": 1,
   "metadata": {},
   "outputs": [],
   "source": [
    "import numpy as np\n",
    "from mitools.visuals import DistributionPlotter"
   ]
  },
  {
   "cell_type": "markdown",
   "metadata": {},
   "source": [
    "# Single Sequence"
   ]
  },
  {
   "cell_type": "code",
   "execution_count": 2,
   "metadata": {},
   "outputs": [],
   "source": [
    "x_data = np.linspace(1e-9, 10, 10_000)\n",
    "y_data = np.random.randn(10_000) * (0.2 * np.random.randn(10_000)) + np.sin(x_data)\n",
    "single_plotter = DistributionPlotter(y_data)"
   ]
  },
  {
   "cell_type": "code",
   "execution_count": null,
   "metadata": {},
   "outputs": [],
   "source": [
    "ax = single_plotter.draw()"
   ]
  },
  {
   "cell_type": "code",
   "execution_count": null,
   "metadata": {},
   "outputs": [],
   "source": [
    "(single_plotter\n",
    ".set_style(None)\n",
    ".set_suptitle(\"DistributionPlotter Object:\", fontsize=28, color='purple', fontweight=\"bold\", y=1.05, x=0.05, ha='left', va='top')\n",
    ".set_title(label=\"a) Scatter Plot\", fontsize=28, color='purple', loc='left', fontweight='bold', y=1.05)\n",
    ".set_xlabel(\"X-axis\", color='purple', fontsize=24)\n",
    ".set_ylabel(\"Y-axis\", color='purple', fontsize=24)\n",
    ".set_background('white')\n",
    ".set_figure_background('white')\n",
    ".set_style(None)\n",
    ".set_color('purple')\n",
    ".set_kernel(\"tophat\")\n",
    ".set_bandwidth(\"silverman\")\n",
    ".set_gridsize(10_000)\n",
    ".set_fill(True)\n",
    ".set_linewidth(10)\n",
    ".set_linestyle('-')\n",
    ".set_alpha(1.0)\n",
    ".set_hatch(\"x\")\n",
    ".set_facecolor('pink')\n",
    ".set_orientation(\"vertical\")\n",
    ".set_limits(ylim=(0.0, 1))\n",
    ".set_spines(left=dict(linewidth=5, color=\"purple\", linestyle=\"-\"), \n",
    "            bottom=dict(linewidth=5, color=\"purple\", linestyle=\"-\"),\n",
    "            right=dict(color=\"w\"),\n",
    "            top=dict(color=\"w\"))\n",
    ".set_tickparams(xtickparams={\"labelsize\": 20, \"color\": \"purple\", \"size\": 5, \"width\": 5}, \n",
    "                 ytickparams={\"labelsize\": 20, \"color\": \"purple\", \"size\": 5, \"width\": 5})\n",
    ")\n",
    "ax = single_plotter.draw()"
   ]
  },
  {
   "cell_type": "code",
   "execution_count": null,
   "metadata": {},
   "outputs": [],
   "source": [
    "(single_plotter\n",
    ".set_style(None)\n",
    ".set_suptitle(\"DistributionPlotter Object:\", fontsize=28, color='purple', fontweight=\"bold\", y=1.05, x=0.05, ha='left', va='top')\n",
    ".set_title(label=\"a) Scatter Plot\", fontsize=28, color='purple', loc='left', fontweight='bold', y=1.05)\n",
    ".set_xlabel(\"X-axis\", color='purple', fontsize=24)\n",
    ".set_ylabel(\"Y-axis\", color='purple', fontsize=24)\n",
    ".set_background('white')\n",
    ".set_figure_background('white')\n",
    ".set_style(None)\n",
    ".set_color('purple')\n",
    ".set_kernel(\"tophat\")\n",
    ".set_bandwidth(\"silverman\")\n",
    ".set_gridsize(10_000)\n",
    ".set_fill(True)\n",
    ".set_linewidth(10)\n",
    ".set_linestyle('-')\n",
    ".set_alpha(1.0)\n",
    ".set_hatch(\"x\")\n",
    ".set_facecolor('pink')\n",
    ".set_orientation(\"vertical\")\n",
    ".set_limits(ylim=(0.0, 1))\n",
    ".set_spines(left=dict(linewidth=5, color=\"purple\", linestyle=\"-\"), \n",
    "            bottom=dict(linewidth=5, color=\"purple\", linestyle=\"-\"),\n",
    "            right=dict(color=\"w\"),\n",
    "            top=dict(color=\"w\"))\n",
    ".set_tickparams(xtickparams={\"labelsize\": 20, \"color\": \"purple\", \"size\": 5, \"width\": 5}, \n",
    "                 ytickparams={\"labelsize\": 20, \"color\": \"purple\", \"size\": 5, \"width\": 5})\n",
    ")\n",
    "ax = single_plotter.draw()"
   ]
  },
  {
   "cell_type": "code",
   "execution_count": null,
   "metadata": {},
   "outputs": [],
   "source": [
    "single_plotter.save_plotter(\".plot_params/distribution_plot.json\", data=True)\n",
    "stored_plotter = DistributionPlotter.from_json(\".plot_params/distribution_plot.json\")\n",
    "ax = stored_plotter.draw()"
   ]
  },
  {
   "cell_type": "code",
   "execution_count": null,
   "metadata": {},
   "outputs": [],
   "source": [
    "stored_plotter.set_facecolor('cyan')\n",
    "ax = stored_plotter.draw()"
   ]
  },
  {
   "cell_type": "markdown",
   "metadata": {},
   "source": [
    "# Multi Sequence"
   ]
  },
  {
   "cell_type": "code",
   "execution_count": 8,
   "metadata": {},
   "outputs": [],
   "source": [
    "data_size = 1_000   \n",
    "x_data = [\n",
    "    np.sin(np.linspace(0, 10, data_size)) * np.cos(np.linspace(0, 5, data_size)) + 1.0,  \n",
    "    np.exp(-np.linspace(0, 2, data_size)) * np.sin(np.linspace(0, 20, data_size)), \n",
    "    np.tanh(np.linspace(-5, 5, data_size)) + 0.2*np.random.randn(data_size) - 1.0,       \n",
    "    np.sin(np.linspace(0, 4*np.pi, data_size)**2)                            \n",
    "]\n",
    "\n",
    "y_data = [\n",
    "    np.cos(np.linspace(0, 8, data_size)) * np.sin(np.linspace(0, 4, data_size)) - 2.5,   \n",
    "    np.log(np.linspace(0.1, 4, data_size)) + 0.3*np.random.randn(data_size) * 0.1,      \n",
    "    0.5 * np.sin(10*np.linspace(0, 1, data_size)) * np.exp(-np.linspace(0, 2, data_size)) + 2.5,\n",
    "    np.arctan(np.linspace(-10, 10, data_size)) + 0.1*np.cos(np.linspace(0, 20, data_size)) \n",
    "]\n",
    "multi_plotter = DistributionPlotter(x_data, y_data)"
   ]
  },
  {
   "cell_type": "code",
   "execution_count": null,
   "metadata": {},
   "outputs": [],
   "source": [
    "ax = multi_plotter.draw()"
   ]
  },
  {
   "cell_type": "code",
   "execution_count": null,
   "metadata": {},
   "outputs": [],
   "source": [
    "(multi_plotter\n",
    ".set_color([\"pink\", \"purple\", \"cyan\", \"lightgreen\"])\n",
    ".set_kernel(\"gaussian\")\n",
    ".set_bandwidth(\"silverman\")\n",
    ".set_gridsize(10_000)\n",
    ".set_cut(3)\n",
    ".set_orientation(\"horizontal\")\n",
    ".set_fill([False, True, True, True])\n",
    ".set_linestyle([\"-\", \"--\", \"-\", \"-\"])\n",
    ".set_linewidth([5, 3, 3, 3])\n",
    ".set_facecolor([\"pink\", \"purple\", \"cyan\", \"lightgreen\"])\n",
    ".set_hatch([None, 'x', None, None])\n",
    ".set_zorder([2, 0, 1, 0])\n",
    ".set_alpha([1.0, 0.5, 0.75, 0.75])\n",
    ")\n",
    "ax = multi_plotter.draw()"
   ]
  },
  {
   "cell_type": "code",
   "execution_count": null,
   "metadata": {},
   "outputs": [],
   "source": [
    "multi_plotter.save_plotter(\".plot_params/multi_distribution_plot.json\", data=True)\n",
    "stored_plotter = DistributionPlotter.from_json(\".plot_params/multi_distribution_plot.json\")\n",
    "ax = stored_plotter.draw()"
   ]
  },
  {
   "cell_type": "code",
   "execution_count": null,
   "metadata": {},
   "outputs": [],
   "source": [
    "stored_plotter.set_title(label=\"b) Distribution Plot:\", fontsize=24, color='k', loc='left').set_facecolor('lightgray')\n",
    "ax = stored_plotter.draw()"
   ]
  },
  {
   "cell_type": "markdown",
   "metadata": {},
   "source": [
    "***"
   ]
  }
 ],
 "metadata": {
  "kernelspec": {
   "display_name": "tools",
   "language": "python",
   "name": "tools"
  },
  "language_info": {
   "codemirror_mode": {
    "name": "ipython",
    "version": 3
   },
   "file_extension": ".py",
   "mimetype": "text/x-python",
   "name": "python",
   "nbconvert_exporter": "python",
   "pygments_lexer": "ipython3",
   "version": "3.8.18"
  }
 },
 "nbformat": 4,
 "nbformat_minor": 2
}
