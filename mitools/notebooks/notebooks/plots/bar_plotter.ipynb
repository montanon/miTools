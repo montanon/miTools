{
 "cells": [
  {
   "cell_type": "code",
   "execution_count": 1,
   "metadata": {},
   "outputs": [],
   "source": [
    "import numpy as np\n",
    "from mitools.visuals import BarPlotter\n",
    "import seaborn as sns"
   ]
  },
  {
   "cell_type": "markdown",
   "metadata": {},
   "source": [
    "# Single Sequence"
   ]
  },
  {
   "cell_type": "code",
   "execution_count": 2,
   "metadata": {},
   "outputs": [],
   "source": [
    "x_data = [1, 2, 3, 4, 5]\n",
    "y_data = [3, 5, 6, 1, 9]\n",
    "colors = [\"red\", \"blue\", \"green\", \"pink\", \"brown\"]\n",
    "single_plotter = BarPlotter(x_data, y_data)"
   ]
  },
  {
   "cell_type": "code",
   "execution_count": null,
   "metadata": {},
   "outputs": [],
   "source": [
    "ax = single_plotter.draw()"
   ]
  },
  {
   "cell_type": "code",
   "execution_count": null,
   "metadata": {},
   "outputs": [],
   "source": [
    "(single_plotter\n",
    ".set_grid(False, color='lightgray', zorder=-100)\n",
    ".set_title(label=\"a) Bar Plot\", fontsize=24, fontweight=\"bold\", color='k', loc='left')\n",
    ".set_xlabel(\"Age\", color='k', fontsize=22, fontweight=\"bold\")\n",
    ".set_ylabel(\"Aginess\", color='k', fontsize=22, fontweight=\"bold\")\n",
    ".set_ticks(xticks=np.arange(1, 6, 1.0), yticks=np.arange(0, 10, 1.0))\n",
    ".set_ticklabels(xticklabels=[\"0-10\", \"11-15\", \"16-25\", \"26-30\", \"31-35\"], yticklabels=[\"\"]*10)    \n",
    ".set_tickparams(xtickparams={\"labelsize\": 18, \"color\": \"k\", \"rotation\": 45, \"size\": 10, \"width\": 5}, \n",
    "                 ytickparams={\"color\": \"k\", \"size\": 0, \"width\": 5})\n",
    ".set_style(None)\n",
    ".set_color(colors)\n",
    ".set_alpha(0.5)\n",
    ".set_linewidth(1.25)\n",
    ".set_width(0.35)\n",
    ".set_bottom(0.0)\n",
    ".set_align(\"center\")\n",
    ".set_edgecolor(['black']*5)\n",
    ".set_linewidth(3.5)\n",
    ".set_xerr(0.25)\n",
    ".set_yerr(0.15)\n",
    ".set_ecolor('gray')\n",
    ".set_capsize(10)\n",
    ".set_linestyle(\"--\")\n",
    ".set_hatch([\"/\", '-', 'o', 'x', '|'])\n",
    ".set_tight_layout(True)\n",
    ".set_background(\"lightgray\")\n",
    ".set_figure_background(\"darkgray\")\n",
    ".set_texts(\n",
    "    texts=[\n",
    "        {\"s\": \"Agey!\", \"x\": 1, \"y\": 3.25, \"fontsize\": 28, \"color\": \"darkgray\", \"horizontalalignment\": \"center\", \"verticalalignment\": \"bottom\"},  \n",
    "        {\"s\": \"More Agey!\", \"x\": 4, \"y\": 1.25, \"fontsize\": 28, \"color\": \"darkgray\", \"horizontalalignment\": \"center\", \"verticalalignment\": \"bottom\"}\n",
    "    ]\n",
    ")\n",
    "\n",
    ".set_suptitle(\"BarPlotter Object\", fontsize=24, color=\"k\", fontweight='bold')\n",
    ".set_figsize((10, 10))\n",
    ".set_legend(show=True, loc=\"upper left\", labels=[\"Agey!\", \"More Agey!\"], fontsize=18, frameon=False)\n",
    ".set_spines(left=dict(linewidth=2.5, color=\"k\", linestyle=\"--\"), \n",
    "            bottom=dict(linewidth=2.5, color=\"k\", linestyle=\"--\"),\n",
    "            right=dict(linewidth=2.5, color=\"k\", linestyle=\"--\"),\n",
    "            top=dict(linewidth=2.5, color=\"k\", linestyle=\"--\"))\n",
    ")\n",
    "ax = single_plotter.draw()"
   ]
  },
  {
   "cell_type": "code",
   "execution_count": null,
   "metadata": {},
   "outputs": [],
   "source": [
    "(single_plotter\n",
    ".set_grid(False, color='lightgray', zorder=-100)\n",
    ".set_title(label=\"a) Bar Plot\", fontsize=24, fontweight=\"bold\", color='k', loc='left')\n",
    ".set_xlabel(\"Age\", color='k', fontsize=22, fontweight=\"bold\")\n",
    ".set_ylabel(\"Aginess\", color='k', fontsize=22, fontweight=\"bold\")\n",
    ".set_ticks(xticks=np.arange(1, 6, 1.0), yticks=np.arange(0, 10, 1.0))\n",
    ".set_ticklabels(xticklabels=[\"0-10\", \"11-15\", \"16-25\", \"26-30\", \"31-35\"], yticklabels=[\"\"]*10)    \n",
    ".set_tickparams(xtickparams={\"labelsize\": 18, \"color\": \"k\", \"rotation\": 45, \"size\": 10, \"width\": 5}, \n",
    "                 ytickparams={\"color\": \"k\", \"size\": 0, \"width\": 5})\n",
    ".set_style(None)\n",
    ".set_color(colors)\n",
    ".set_alpha(0.5)\n",
    ".set_linewidth(1.25)\n",
    ".set_width(0.35)\n",
    ".set_bottom(0.0)\n",
    ".set_align(\"center\")\n",
    ".set_edgecolor('black')\n",
    ".set_linewidth(3.5)\n",
    ".set_xerr(0.1)\n",
    ".set_yerr(0.35)\n",
    ".set_ecolor('red')\n",
    ".set_capsize(10)\n",
    ".set_linestyle(\"-\")\n",
    ".set_hatch([\"/\", '-', 'o', 'x', '|'])\n",
    ".set_tight_layout(True)\n",
    ".set_background(\"lightgray\")\n",
    ".set_figure_background(\"darkgray\")\n",
    ".set_texts(\n",
    "    texts=[\n",
    "        {\"s\": \"Agey!\", \"x\": 1, \"y\": 3.25, \"fontsize\": 28, \"color\": \"darkgray\", \"horizontalalignment\": \"center\", \"verticalalignment\": \"bottom\"},  \n",
    "        {\"s\": \"More Agey!\", \"x\": 4, \"y\": 1.25, \"fontsize\": 28, \"color\": \"darkgray\", \"horizontalalignment\": \"center\", \"verticalalignment\": \"bottom\"}\n",
    "    ]\n",
    ")\n",
    "\n",
    ".set_suptitle(\"BarPlotter Object\", fontsize=24, color=\"k\", fontweight='bold')\n",
    ".set_figsize((10, 10))\n",
    ".set_legend(show=True, loc=\"upper left\", labels=[\"Agey!\", \"More Agey!\"], fontsize=18, frameon=False)\n",
    ".set_spines(left=dict(linewidth=2.5, color=\"k\", linestyle=\"--\"), \n",
    "            bottom=dict(linewidth=2.5, color=\"k\", linestyle=\"--\"),\n",
    "            right=dict(linewidth=2.5, color=\"k\", linestyle=\"--\"),\n",
    "            top=dict(linewidth=2.5, color=\"k\", linestyle=\"--\"))\n",
    ".set_zorder(10)\n",
    ")\n",
    "ax = single_plotter.draw()"
   ]
  },
  {
   "cell_type": "code",
   "execution_count": null,
   "metadata": {},
   "outputs": [],
   "source": [
    "single_plotter.save_plotter(\".plot_params/bar_plot.json\")\n",
    "stored_plotter = BarPlotter.from_json(\".plot_params/bar_plot.json\")\n",
    "ax = stored_plotter.draw()"
   ]
  },
  {
   "cell_type": "code",
   "execution_count": null,
   "metadata": {},
   "outputs": [],
   "source": [
    "stored_plotter.set_title(label=\"a) Ageing Plot\", fontsize=24, color='k', loc='left')\n",
    "ax = stored_plotter.draw()"
   ]
  },
  {
   "cell_type": "markdown",
   "metadata": {},
   "source": [
    "# Multi Sequence"
   ]
  },
  {
   "cell_type": "code",
   "execution_count": 59,
   "metadata": {},
   "outputs": [],
   "source": [
    "x_data = [[1, 6, 11, 16, 21], [2, 7, 12, 17, 22], [3, 8, 13, 18, 23]]\n",
    "y_data = [[3, 5, 6, 1, 9], [5, 7, 1, 2, 4], [9, 3, 1, 1, 3]]\n",
    "colors = [\"red\", \"blue\", \"green\", \"pink\", \"brown\"]\n",
    "multi_plotter = BarPlotter(x_data, y_data)"
   ]
  },
  {
   "cell_type": "code",
   "execution_count": null,
   "metadata": {},
   "outputs": [],
   "source": [
    "ax = multi_plotter.draw()"
   ]
  },
  {
   "cell_type": "code",
   "execution_count": null,
   "metadata": {},
   "outputs": [],
   "source": [
    "(multi_plotter\n",
    ".set_color([sns.color_palette(\"Blues\", 5), sns.color_palette(\"Reds\", 5), sns.color_palette(\"Greens\", 5)])\n",
    ".set_ticks(xticks=[2, 7, 12, 17, 22])\n",
    ".set_ticklabels(xticklabels=[\"A\", \"B\", \"C\", \"D\", \"E\"], yticklabels=[])\n",
    ".set_tickparams(xtickparams={\"labelsize\": 18, \"color\": \"k\", \"rotation\": 45, \"size\": 10, \"width\": 5},\n",
    "                ytickparams={\"color\": \"k\", \"size\": 0, \"width\": 5})\n",
    ".set_log(False)\n",
    ".set_orientation(\"vertical\")\n",
    ".set_tight_layout(True)\n",
    ".set_width(1.0)\n",
    ".set_bottom([0, 0, 0])\n",
    ".set_align([\"center\", \"center\", \"center\"])\n",
    ".set_edgecolor([['blue']*5, ['red']*5, ['green']*5])\n",
    ".set_linewidth([3.5, 3.5, 3.5])\n",
    ".set_yerr([[0.1], [0.1, 0.2, 0.3, 0.4, 0.5], [0.1]])\n",
    ".set_xerr(0.0)\n",
    ".set_ecolor(\"k\")\n",
    ".set_capsize(5)\n",
    ".set_facecolor(None)\n",
    ".set_fill([True, True, True])\n",
    ".set_hatch(\"/\")\n",
    ".set_linestyle([\"-\", \"--\", \"-\"])\n",
    "                )\n",
    "ax = multi_plotter.draw()"
   ]
  },
  {
   "cell_type": "code",
   "execution_count": null,
   "metadata": {},
   "outputs": [],
   "source": [
    "multi_plotter.save_plotter(\".plot_params/multi_bar_plot.json\", data=True)\n",
    "stored_plotter = BarPlotter.from_json(\".plot_params/multi_bar_plot.json\")\n",
    "ax = stored_plotter.draw()"
   ]
  },
  {
   "cell_type": "code",
   "execution_count": null,
   "metadata": {},
   "outputs": [],
   "source": [
    "stored_plotter.set_title(label=\"b) Multi Bar Plot:\", fontsize=24, color='k', loc='left')\n",
    "ax = stored_plotter.draw()"
   ]
  },
  {
   "cell_type": "markdown",
   "metadata": {},
   "source": [
    "***"
   ]
  }
 ],
 "metadata": {
  "kernelspec": {
   "display_name": "tools",
   "language": "python",
   "name": "tools"
  },
  "language_info": {
   "codemirror_mode": {
    "name": "ipython",
    "version": 3
   },
   "file_extension": ".py",
   "mimetype": "text/x-python",
   "name": "python",
   "nbconvert_exporter": "python",
   "pygments_lexer": "ipython3",
   "version": "3.8.18"
  }
 },
 "nbformat": 4,
 "nbformat_minor": 2
}
