{
 "cells": [
  {
   "cell_type": "code",
   "execution_count": 1,
   "metadata": {},
   "outputs": [],
   "source": [
    "import numpy as np\n",
    "from mitools.visuals import HistogramPlotter"
   ]
  },
  {
   "cell_type": "markdown",
   "metadata": {},
   "source": [
    "## Single Sequence"
   ]
  },
  {
   "cell_type": "code",
   "execution_count": 2,
   "metadata": {},
   "outputs": [],
   "source": [
    "x_data = np.linspace(1e-9, 10, 10_000)\n",
    "y_data = np.random.randn(10_000) * (0.2 *np.random.randn(10_000)) + np.sin(x_data)\n",
    "single_plotter = HistogramPlotter(y_data)"
   ]
  },
  {
   "cell_type": "code",
   "execution_count": null,
   "metadata": {},
   "outputs": [],
   "source": [
    "ax = single_plotter.draw()"
   ]
  },
  {
   "cell_type": "code",
   "execution_count": null,
   "metadata": {},
   "outputs": [],
   "source": [
    "(single_plotter\n",
    ".set_style(None)\n",
    ".set_suptitle(\"HistogramPlotter Object:\", fontsize=28, color='k', fontweight=\"bold\", y=1.05, x=0.05, ha='left', va='top')\n",
    ".set_title(\"a) Histogram Plot\", fontsize=24, color='k', loc='left', fontweight=\"bold\", y=1.05)\n",
    ".set_xlabel(\"X-Axis\", color='k', fontsize=22, fontweight=\"bold\")\n",
    ".set_ylabel(\"Y-Axis\", color='k', fontsize=22, fontweight=\"bold\")\n",
    ".set_tickparams(xtickparams={\"labelsize\": 20, \"color\": \"k\", \"size\": 5, \"width\": 5}, \n",
    "                 ytickparams={\"labelsize\": 20, \"color\": \"k\", \"size\": 5, \"width\": 5})\n",
    ".set_facecolor('pink')\n",
    ".set_alpha(0.75)\n",
    ".set_bins(50)\n",
    ".set_spines(left=dict(linewidth=3, color=\"k\", linestyle=\"-\"), \n",
    "            bottom=dict(linewidth=3, color=\"k\", linestyle=\"-\"),\n",
    "            right=dict(color=\"w\"),\n",
    "            top=dict(color=\"w\"))\n",
    ".set_range((-2, 3))\n",
    ".set_cumulative(False)\n",
    ".set_bottom(0.0)\n",
    ".set_histtype(\"step\")\n",
    ".set_align(\"mid\")\n",
    ".set_orientation(\"horizontal\")\n",
    ".set_rwidth(1.0)\n",
    ".set_log(False)\n",
    ".set_edgecolor(\"purple\")\n",
    ".set_linewidth(5)\n",
    ".set_linestyle('-')\n",
    ".set_hatch('\\\\')\n",
    ")\n",
    "ax = single_plotter.draw()"
   ]
  },
  {
   "cell_type": "code",
   "execution_count": null,
   "metadata": {},
   "outputs": [],
   "source": [
    "(single_plotter\n",
    ".set_style(None)\n",
    ".set_suptitle(\"HistogramPlotter Object:\", fontsize=28, color='k', fontweight=\"bold\", y=1.05, x=0.05, ha='left', va='top')\n",
    ".set_title(\"a) Histogram Plot\", fontsize=24, color='k', loc='left', fontweight=\"bold\", y=1.05)\n",
    ".set_xlabel(\"X-Axis\", color='k', fontsize=22, fontweight=\"bold\")\n",
    ".set_ylabel(\"Y-Axis\", color='k', fontsize=22, fontweight=\"bold\")\n",
    ".set_tickparams(xtickparams={\"labelsize\": 20, \"color\": \"k\", \"size\": 5, \"width\": 5}, \n",
    "                 ytickparams={\"labelsize\": 20, \"color\": \"k\", \"size\": 5, \"width\": 5})\n",
    ".set_facecolor('pink')\n",
    ".set_alpha(0.75)\n",
    ".set_bins(50)\n",
    ".set_spines(left=dict(linewidth=3, color=\"k\", linestyle=\"-\"), \n",
    "            bottom=dict(linewidth=3, color=\"k\", linestyle=\"-\"),\n",
    "            right=dict(color=\"w\"),\n",
    "            top=dict(color=\"w\"))\n",
    ".set_range((-2, 3))\n",
    ".set_cumulative(False)\n",
    ".set_bottom(0.0)\n",
    ".set_histtype(\"step\")\n",
    ".set_align(\"mid\")\n",
    ".set_orientation(\"horizontal\")\n",
    ".set_rwidth(1.0)\n",
    ".set_log(False)\n",
    ".set_edgecolor(\"purple\")\n",
    ".set_linewidth(5)\n",
    ".set_linestyle('-')\n",
    ".set_hatch('\\\\')\n",
    ")\n",
    "ax = single_plotter.draw()"
   ]
  },
  {
   "cell_type": "code",
   "execution_count": null,
   "metadata": {},
   "outputs": [],
   "source": [
    "single_plotter.save_plotter(\".plot_params/histogram_plot.json\", data=True)\n",
    "stored_plotter = HistogramPlotter.from_json(\".plot_params/histogram_plot.json\")\n",
    "ax = stored_plotter.draw()"
   ]
  },
  {
   "cell_type": "code",
   "execution_count": null,
   "metadata": {},
   "outputs": [],
   "source": [
    "stored_plotter.set_facecolor('grey').set_edgecolor('purple').set_hatch('*')\n",
    "ax = stored_plotter.draw()"
   ]
  },
  {
   "cell_type": "markdown",
   "metadata": {},
   "source": [
    "## Multi Sequence"
   ]
  },
  {
   "cell_type": "code",
   "execution_count": 86,
   "metadata": {},
   "outputs": [],
   "source": [
    "data_size = 1_000   \n",
    "x_data = [\n",
    "    np.sin(np.linspace(0, 10, data_size)) * np.cos(np.linspace(0, 5, data_size)) + 1.0,  \n",
    "    np.exp(-np.linspace(0, 2, data_size)) * np.sin(np.linspace(0, 20, data_size)), \n",
    "    np.tanh(np.linspace(-5, 5, data_size)) + 0.2*np.random.randn(data_size) - 1.0,       \n",
    "    np.sin(np.linspace(0, 4*np.pi, data_size)**2)                            \n",
    "]\n",
    "\n",
    "y_data = [\n",
    "    np.cos(np.linspace(0, 8, data_size)) * np.sin(np.linspace(0, 4, data_size)) - 2.5,   \n",
    "    np.log(np.linspace(0.1, 4, data_size)) + 0.3*np.random.randn(data_size) * 0.1,      \n",
    "    0.5 * np.sin(10*np.linspace(0, 1, data_size)) * np.exp(-np.linspace(0, 2, data_size)) + 2.5,\n",
    "    np.arctan(np.linspace(-10, 10, data_size)) + 0.1*np.cos(np.linspace(0, 20, data_size)) \n",
    "]\n",
    "multi_plotter = HistogramPlotter(x_data, y_data)"
   ]
  },
  {
   "cell_type": "code",
   "execution_count": null,
   "metadata": {},
   "outputs": [],
   "source": [
    "ax = multi_plotter.draw()"
   ]
  },
  {
   "cell_type": "code",
   "execution_count": null,
   "metadata": {},
   "outputs": [],
   "source": [
    "(multi_plotter\n",
    ".set_orientation(\"vertical\")\n",
    ".set_stacked(True)\n",
    ".set_log(False)\n",
    ".set_bins([100, 50, 100, 100])\n",
    ".set_range((-2, 2))\n",
    ".set_weights([np.linspace(1.0, 0.0, data_size)]*4)\n",
    ".set_cumulative([False, False, False, False])\n",
    ".set_bottom([0.0, 0.0, 0.0, 10])\n",
    ".set_zorder([0, -10, -10, -10])\n",
    ".set_histtype(['bar', 'bar', 'step', 'stepfilled'])\n",
    ".set_align(['left', 'mid', 'right', 'mid'])\n",
    ".set_rwidth([1.0, 0.5, 0.75, 0.5])\n",
    ".set_edgecolor(['purple', 'black', 'blue', 'green'])\n",
    ".set_facecolor(['pink', 'grey', 'lightblue', 'lightgreen'])\n",
    ".set_fill([True, True, False, True])\n",
    ".set_linestyle(['-', ':', '-', '-'])\n",
    ".set_linewidth([2, 1, 1, 2])\n",
    ".set_hatch(['/', 'o', 'x', '/'])\n",
    ".set_alpha([1.0, 0.75, 0.5, 0.75])\n",
    ")\n",
    "ax = multi_plotter.draw()"
   ]
  },
  {
   "cell_type": "code",
   "execution_count": null,
   "metadata": {},
   "outputs": [],
   "source": [
    "multi_plotter.save_plotter(\".plot_params/multi_histogram_plot.json\", data=True)\n",
    "stored_plotter = HistogramPlotter.from_json(\".plot_params/multi_histogram_plot.json\")\n",
    "ax = stored_plotter.draw()"
   ]
  },
  {
   "cell_type": "code",
   "execution_count": null,
   "metadata": {},
   "outputs": [],
   "source": [
    "stored_plotter.set_title(label=\"b) Histogram Plot:\", fontsize=24, color='k', loc='left')\n",
    "ax = stored_plotter.draw()"
   ]
  },
  {
   "cell_type": "markdown",
   "metadata": {},
   "source": [
    "***"
   ]
  }
 ],
 "metadata": {
  "kernelspec": {
   "display_name": "tools",
   "language": "python",
   "name": "tools"
  },
  "language_info": {
   "codemirror_mode": {
    "name": "ipython",
    "version": 3
   },
   "file_extension": ".py",
   "mimetype": "text/x-python",
   "name": "python",
   "nbconvert_exporter": "python",
   "pygments_lexer": "ipython3",
   "version": "3.8.18"
  }
 },
 "nbformat": 4,
 "nbformat_minor": 2
}
