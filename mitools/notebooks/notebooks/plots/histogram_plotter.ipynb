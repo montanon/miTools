{
 "cells": [
  {
   "cell_type": "code",
   "execution_count": 1,
   "metadata": {},
   "outputs": [],
   "source": [
    "import numpy as np\n",
    "from mitools.visuals import HistogramPlotter"
   ]
  },
  {
   "cell_type": "code",
   "execution_count": 2,
   "metadata": {},
   "outputs": [],
   "source": [
    "x_data = np.linspace(1e-9, 10, 10_000)\n",
    "y_data = np.random.randn(10_000) * (0.2 *np.random.randn(10_000)) + np.sin(x_data)\n",
    "histogram_plotter = HistogramPlotter(y_data)\n"
   ]
  },
  {
   "cell_type": "code",
   "execution_count": null,
   "metadata": {},
   "outputs": [],
   "source": [
    "ax = histogram_plotter.draw()"
   ]
  },
  {
   "cell_type": "code",
   "execution_count": null,
   "metadata": {},
   "outputs": [],
   "source": [
    "(histogram_plotter\n",
    ".set_style(None)\n",
    ".set_suptitle(\"HistogramPlotter Object:\", fontsize=28, color='k', fontweight=\"bold\", y=1.05, x=0.05, ha='left', va='top')\n",
    ".set_title(\"a) Histogram Plot\", fontsize=24, color='k', loc='left', fontweight=\"bold\", y=1.05)\n",
    ".set_xlabel(\"X-Axis\", color='k', fontsize=22, fontweight=\"bold\")\n",
    ".set_ylabel(\"Y-Axis\", color='k', fontsize=22, fontweight=\"bold\")\n",
    ".set_tick_params(x_tick_params={\"labelsize\": 20, \"color\": \"k\", \"size\": 5, \"width\": 5}, \n",
    "                 y_tick_params={\"labelsize\": 20, \"color\": \"k\", \"size\": 5, \"width\": 5})\n",
    ".set_color('cyan')\n",
    ".set_alpha(0.5)\n",
    ".set_bins(50)\n",
    ".set_spines(left=dict(linewidth=3, color=\"k\", linestyle=\"-\"), \n",
    "            bottom=dict(linewidth=3, color=\"k\", linestyle=\"-\"),\n",
    "            right=dict(color=\"w\"),\n",
    "            top=dict(color=\"w\"))\n",
    ".set_range((-2, 3))\n",
    ".set_cumulative(False)\n",
    ".set_bottom(0.0)\n",
    ".set_histtype(\"step\")\n",
    ".set_align(\"mid\")\n",
    ".set_orientation(\"horizontal\")\n",
    ".set_rwidth(1.0)\n",
    ".set_log(False)\n",
    ".set_edgecolor('b')\n",
    ".set_linewidth(5)\n",
    ".set_linestyle('-')\n",
    ".set_hatch('\\\\')\n",
    ")\n",
    "ax = histogram_plotter.draw()"
   ]
  },
  {
   "cell_type": "code",
   "execution_count": null,
   "metadata": {},
   "outputs": [],
   "source": [
    "(histogram_plotter\n",
    ".set_style(None)\n",
    ".set_background('w')\n",
    ".set_figure_background('w')\n",
    ".set_suptitle(\"HistogramPlotter Object:\", fontsize=28, color='k', fontweight=\"bold\", y=1.05, x=0.05, ha='left', va='top')\n",
    ".set_title(\"a) Histogram Plot\", fontsize=24, color='k', loc='left', fontweight=\"bold\", y=1.05)\n",
    ".set_xlabel(\"X-Axis\", color='k', fontsize=22, fontweight=\"bold\")\n",
    ".set_ylabel(\"Y-Axis\", color='k', fontsize=22, fontweight=\"bold\")\n",
    ".set_tick_params(x_tick_params={\"labelsize\": 20, \"color\": \"k\", \"size\": 5, \"width\": 5}, \n",
    "                 y_tick_params={\"labelsize\": 20, \"color\": \"k\", \"size\": 5, \"width\": 5})\n",
    ".set_color('cyan')\n",
    ".set_alpha(0.5)\n",
    ".set_bins(50)\n",
    ".set_spines(left=dict(linewidth=3, color=\"k\", linestyle=\"-\"), \n",
    "            bottom=dict(linewidth=3, color=\"k\", linestyle=\"-\"),\n",
    "            right=dict(color=\"w\"),\n",
    "            top=dict(color=\"w\"))\n",
    ".set_range((-2, 3))\n",
    ".set_cumulative(False)\n",
    ".set_bottom(0.0)\n",
    ".set_histtype(\"step\")\n",
    ".set_align(\"mid\")\n",
    ".set_orientation(\"horizontal\")\n",
    ".set_rwidth(1.0)\n",
    ".set_log(False)\n",
    ".set_edgecolor('b')\n",
    ".set_linewidth(5)\n",
    ".set_linestyle('-')\n",
    ".set_hatch('\\\\')\n",
    ")\n",
    "ax = histogram_plotter.draw()"
   ]
  },
  {
   "cell_type": "code",
   "execution_count": null,
   "metadata": {},
   "outputs": [],
   "source": [
    "histogram_plotter.save_plotter(\".plot_params/histogram_plot.json\", data=True)\n",
    "stored_plotter = HistogramPlotter.from_json(\".plot_params/histogram_plot.json\")\n",
    "ax = stored_plotter.draw()"
   ]
  },
  {
   "cell_type": "code",
   "execution_count": null,
   "metadata": {},
   "outputs": [],
   "source": [
    "stored_plotter.set_facecolor('pink').set_edgecolor('purple')\n",
    "ax = stored_plotter.draw()"
   ]
  },
  {
   "cell_type": "markdown",
   "metadata": {},
   "source": [
    "***"
   ]
  }
 ],
 "metadata": {
  "kernelspec": {
   "display_name": "tools",
   "language": "python",
   "name": "tools"
  },
  "language_info": {
   "codemirror_mode": {
    "name": "ipython",
    "version": 3
   },
   "file_extension": ".py",
   "mimetype": "text/x-python",
   "name": "python",
   "nbconvert_exporter": "python",
   "pygments_lexer": "ipython3",
   "version": "3.8.18"
  }
 },
 "nbformat": 4,
 "nbformat_minor": 2
}
