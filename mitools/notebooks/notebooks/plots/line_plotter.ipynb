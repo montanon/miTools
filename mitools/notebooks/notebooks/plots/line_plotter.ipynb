{
 "cells": [
  {
   "cell_type": "code",
   "execution_count": 1,
   "metadata": {},
   "outputs": [],
   "source": [
    "import numpy as np\n",
    "from mitools.visuals import LinePlotter"
   ]
  },
  {
   "cell_type": "code",
   "execution_count": 2,
   "metadata": {},
   "outputs": [],
   "source": [
    "x_data = np.linspace(0, 10, 100)\n",
    "y_data = np.random.randn(100) * (0.2 *np.random.randn(100)) + np.sin(x_data) + np.log(x_data)\n",
    "colors = \"yellow\"\n",
    "line_plotter = LinePlotter(x_data, y_data)"
   ]
  },
  {
   "cell_type": "code",
   "execution_count": null,
   "metadata": {},
   "outputs": [],
   "source": [
    "ax = line_plotter.draw()"
   ]
  },
  {
   "cell_type": "code",
   "execution_count": null,
   "metadata": {},
   "outputs": [],
   "source": [
    "(line_plotter\n",
    ".set_suptitle(\"LinePlotter Object\", fontsize=28, color=\"k\")\n",
    ".set_title(label=\"a) Line Plot of Saturation through Time\", fontsize=22, color='k', loc='left')\n",
    ".set_xlabel(\"Time Evolution\", color='k', fontsize=18)\n",
    ".set_ylabel(\"Saturation\", color='k', fontsize=18)\n",
    ".set_style(None)\n",
    ".set_marker(\"s\")\n",
    ".set_markeredgecolor(\"darkred\")\n",
    ".set_markerfacecolor(\"red\")\n",
    ".set_markersize(7.5)\n",
    ".set_markeredgewidth(2.5)\n",
    ".set_figsize((21, 8))\n",
    ".set_color('k')\n",
    ".set_linestyle(\"--\")\n",
    ".set_linewidth(1.75)\n",
    ".set_label(\"Saturation\")\n",
    ".set_legend(show=True, loc=\"lower right\", labels=[\"Saturation\"], fontsize=18, frameon=False)\n",
    ".set_grid(True, color='lightgray')\n",
    ".set_texts(\n",
    "    texts=[\n",
    "        {\"s\": \"Valley\", \"x\": 5, \"y\": 2, \"fontsize\": 24, \"color\": \"red\", \"fontweight\": \"bold\", \"ha\": \"center\"},  \n",
    "    ]\n",
    ")\n",
    ".set_tight_layout(True)\n",
    ".set_background(\"#effffe\")\n",
    ".set_figure_background(\"#d6e7e6\")\n",
    ".set_ticks(x_ticks=np.arange(-1, 11, 1.0), y_ticks=np.arange(-3, 5, 1.0))\n",
    ".set_tick_labels(\n",
    "    x_tick_labels=np.arange(-1, 11, 1.0), \n",
    "    y_tick_labels=[f\"Step {int(n+3)}\" for n in np.arange(-3, 5, 1.0)]\n",
    ")\n",
    ".set_tick_params(x_tick_params=dict(size=10, width=1.5, color='k', labelsize=14), \n",
    "                 y_tick_params=dict(size=10, width=1.5, color='k', labelsize=14))\n",
    ".set_spines(left=dict(linewidth=5, color=\"k\", linestyle=\"-\"), bottom=dict(linewidth=5, color=\"k\", linestyle=\"-\"))\n",
    ")\n",
    "ax = line_plotter.draw()"
   ]
  },
  {
   "cell_type": "code",
   "execution_count": null,
   "metadata": {},
   "outputs": [],
   "source": [
    "(line_plotter\n",
    ".set_suptitle(\"LinePlotter Object\", fontsize=28, color=\"k\")\n",
    ".set_title(label=\"a) Line Plot of Saturation through Time\", fontsize=22, color='k', loc='left')\n",
    ".set_xlabel(\"Time Evolution\", color='k', fontsize=18)\n",
    ".set_ylabel(\"Saturation\", color='k', fontsize=18)\n",
    ".set_style(None)\n",
    ".set_marker(\"s\")\n",
    ".set_markeredgecolor(\"darkred\")\n",
    ".set_markerfacecolor(\"red\")\n",
    ".set_markersize(7.5)\n",
    ".set_markeredgewidth(2.5)\n",
    ".set_figsize((21, 8))\n",
    ".set_color('k')\n",
    ".set_linestyle(\"--\")\n",
    ".set_linewidth(1.75)\n",
    ".set_label(\"Saturation\")\n",
    ".set_legend(show=True, loc=\"lower right\", labels=[\"Saturation\"], fontsize=18, frameon=False)\n",
    ".set_grid(True, color='lightgray')\n",
    ".set_texts(\n",
    "    texts=[\n",
    "        {\"s\": \"Valley\", \"x\": 5, \"y\": 2, \"fontsize\": 24, \"color\": \"red\", \"fontweight\": \"bold\", \"ha\": \"center\"},  \n",
    "    ]\n",
    ")\n",
    ".set_tight_layout(True)\n",
    ".set_background(\"#effffe\")\n",
    ".set_figure_background(\"#d6e7e6\")\n",
    ".set_ticks(x_ticks=np.arange(-1, 11, 1.0), y_ticks=np.arange(-3, 5, 1.0))\n",
    ".set_tick_labels(\n",
    "    x_tick_labels=np.arange(-1, 11, 1.0), \n",
    "    y_tick_labels=[f\"Step {int(n+3)}\" for n in np.arange(-3, 5, 1.0)]\n",
    ")\n",
    ".set_tick_params(x_tick_params=dict(size=10, width=1.5, color='k', labelsize=14), \n",
    "                 y_tick_params=dict(size=10, width=1.5, color='k', labelsize=14))\n",
    ".set_spines(left=dict(linewidth=5, color=\"k\", linestyle=\"-\"), \n",
    "            bottom=dict(linewidth=5, color=\"k\", linestyle=\"-\"))\n",
    ")\n",
    "ax = line_plotter.draw()"
   ]
  },
  {
   "cell_type": "code",
   "execution_count": null,
   "metadata": {},
   "outputs": [],
   "source": [
    "line_plotter.save_plotter(\".plot_params/line_plot.json\", data=True)\n",
    "stored_plotter = LinePlotter.from_json(\".plot_params/line_plot.json\")\n",
    "ax = stored_plotter.draw()"
   ]
  },
  {
   "cell_type": "code",
   "execution_count": null,
   "metadata": {},
   "outputs": [],
   "source": [
    "stored_plotter.set_title(label=\"a) Line Plot\", fontsize=24, color='k', loc='left')\n",
    "ax = stored_plotter.draw()"
   ]
  },
  {
   "cell_type": "markdown",
   "metadata": {},
   "source": [
    "***"
   ]
  }
 ],
 "metadata": {
  "kernelspec": {
   "display_name": "tools",
   "language": "python",
   "name": "tools"
  },
  "language_info": {
   "codemirror_mode": {
    "name": "ipython",
    "version": 3
   },
   "file_extension": ".py",
   "mimetype": "text/x-python",
   "name": "python",
   "nbconvert_exporter": "python",
   "pygments_lexer": "ipython3",
   "version": "3.8.18"
  }
 },
 "nbformat": 4,
 "nbformat_minor": 2
}
