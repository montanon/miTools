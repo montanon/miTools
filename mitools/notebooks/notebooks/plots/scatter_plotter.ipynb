{
 "cells": [
  {
   "cell_type": "code",
   "execution_count": 27,
   "metadata": {},
   "outputs": [],
   "source": [
    "import numpy as np\n",
    "from mitools.visuals import ScatterPlotter"
   ]
  },
  {
   "cell_type": "markdown",
   "metadata": {},
   "source": [
    "# Single Sequence"
   ]
  },
  {
   "cell_type": "code",
   "execution_count": 28,
   "metadata": {},
   "outputs": [],
   "source": [
    "x_data = np.linspace(0, 10, 1000)\n",
    "y_data = np.random.randn(1000) * np.random.randn(1000)\n",
    "colors = np.exp(np.random.randn(1000))\n",
    "single_plotter = ScatterPlotter(x_data, y_data)"
   ]
  },
  {
   "cell_type": "code",
   "execution_count": null,
   "metadata": {},
   "outputs": [],
   "source": [
    "ax = single_plotter.draw()"
   ]
  },
  {
   "cell_type": "code",
   "execution_count": null,
   "metadata": {},
   "outputs": [],
   "source": [
    "(single_plotter\n",
    ".set_title(label=\"Scatter Plot\", fontsize=24, color='white', loc='left')\n",
    ".set_xlabel(\"X-axis\", color='white', fontsize=18)\n",
    ".set_ylabel(\"Y-axis\", color='white', fontsize=18)\n",
    ".set_style(None)\n",
    ".set_size(150)\n",
    ".set_color(colors)\n",
    ".set_marker(\"*\")\n",
    ".set_colormap(\"inferno\")\n",
    ".set_normalization(\"linear\")\n",
    ".set_vmin(1e-9)\n",
    ".set_vmax(0.9)\n",
    ".set_alpha(1.0)\n",
    ".set_linewidth(1.25)\n",
    ".set_edgecolor(\"gold\")\n",
    ".set_facecolor(\"orange\")\n",
    ".set_label(\"sin(x)\")\n",
    ".set_legend(show=True, labels=[\"Sin(x)\"], loc=\"lower center\")\n",
    ".set_zorder(100)\n",
    ".set_plot_non_finite(True)\n",
    ".set_figsize((21, 8))\n",
    ".set_scales(xscale=None, yscale=\"linear\")\n",
    ".set_grid(True, color='white')\n",
    ".set_texts(\n",
    "    texts=[\n",
    "        {\"s\": \"Pretty!\", \"x\": 0.15, \"y\": 4.5, \"fontsize\": 24, \"color\": \"gold\"},  \n",
    "        {\"s\": \"More Pretty!\", \"x\": 7.95, \"y\": -4.5, \"fontsize\": 16, \"color\": \"gold\"}\n",
    "    ]\n",
    ")\n",
    ".set_tight_layout(True)\n",
    ".set_background(\"lightgray\")\n",
    ".set_figure_background(\"darkgray\")\n",
    ".set_suptitle(\"ScatterPlot Object\", fontsize=24, color=\"white\")\n",
    ".set_limits(xlim=(-1, 11), ylim=(-6, 6))\n",
    ".set_ticks(xticks=np.arange(-1, 11, 0.75), yticks=np.arange(-6, 6, 0.5))\n",
    ".set_ticklabels(\n",
    "    xticklabels=[f\"N{x}\" if x % 1 == 0 else x for x in np.arange(-1, 11, 0.75)], \n",
    "    yticklabels=[f\"N{y}\" if y % 1 == 0 else y for y in np.arange(-6, 6, 0.5)]\n",
    ")\n",
    ".set_spines(left=dict(linewidth=2.5, color=\"w\", linestyle=\":\"), \n",
    "            bottom=dict(linewidth=2.5, color=\"w\", linestyle=\":\"),\n",
    "            right=dict(linewidth=2.5, color=\"w\", linestyle=\":\"),\n",
    "            top=dict(linewidth=2.5, color=\"w\", linestyle=\":\"))\n",
    ")\n",
    "ax = single_plotter.draw()"
   ]
  },
  {
   "cell_type": "code",
   "execution_count": null,
   "metadata": {},
   "outputs": [],
   "source": [
    "(single_plotter\n",
    ".set_title(label=\"Scatter Plot\", fontsize=24, color='white', loc='left')\n",
    ".set_xlabel(\"X-axis\", color='white', fontsize=18)\n",
    ".set_ylabel(\"Y-axis\", color='white', fontsize=18)\n",
    ".set_style(None)\n",
    ".set_size(150)\n",
    ".set_color(colors)\n",
    ".set_marker(\"*\")\n",
    ".set_colormap(\"inferno\")\n",
    ".set_normalization(\"linear\")\n",
    ".set_vmin(1e-9)\n",
    ".set_vmax(0.9)\n",
    ".set_alpha(1.0)\n",
    ".set_linewidth(1.25)\n",
    ".set_edgecolor(\"gold\")\n",
    ".set_facecolor(\"orange\")\n",
    ".set_label(\"sin(x)\")\n",
    ".set_legend(show=True, labels=[\"Sin(x)\"], loc=\"lower center\")\n",
    ".set_zorder(100)\n",
    ".set_plot_non_finite(True)\n",
    ".set_figsize((21, 8))\n",
    ".set_scales(xscale=None, yscale=\"linear\")\n",
    ".set_grid(True, color='white')\n",
    ".set_texts(\n",
    "    texts=[\n",
    "        {\"s\": \"Pretty!\", \"x\": 0.15, \"y\": 4.5, \"fontsize\": 24, \"color\": \"gold\"},  \n",
    "        {\"s\": \"More Pretty!\", \"x\": 7.95, \"y\": -4.5, \"fontsize\": 16, \"color\": \"gold\"}\n",
    "    ]\n",
    ")\n",
    ".set_tight_layout(True)\n",
    ".set_background(\"lightgray\")\n",
    ".set_figure_background(\"darkgray\")\n",
    ".set_suptitle(\"ScatterPlot Object\", fontsize=24, color=\"white\")\n",
    ".set_limits(xlim=(-1, 11), ylim=(-6, 6))\n",
    ".set_ticks(xticks=np.arange(-1, 11, 0.75), yticks=np.arange(-6, 6, 0.5))\n",
    ".set_ticklabels(\n",
    "    xticklabels=[f\"N{x}\" if x % 1 == 0 else x for x in np.arange(-1, 11, 0.75)], \n",
    "    yticklabels=[f\"N{y}\" if y % 1 == 0 else y for y in np.arange(-6, 6, 0.5)]\n",
    ")\n",
    ".set_spines(left=dict(linewidth=2.5, color=\"w\", linestyle=\":\"), \n",
    "            bottom=dict(linewidth=2.5, color=\"w\", linestyle=\":\"),\n",
    "            right=dict(linewidth=2.5, color=\"w\", linestyle=\":\"),\n",
    "            top=dict(linewidth=2.5, color=\"w\", linestyle=\":\"))\n",
    ")\n",
    "ax = single_plotter.draw()"
   ]
  },
  {
   "cell_type": "code",
   "execution_count": null,
   "metadata": {},
   "outputs": [],
   "source": [
    "single_plotter.save_plotter(\".plot_params/scatter_plot.json\", data=True)\n",
    "stored_plotter = ScatterPlotter.from_json(\".plot_params/scatter_plot.json\")\n",
    "ax = stored_plotter.draw()"
   ]
  },
  {
   "cell_type": "code",
   "execution_count": null,
   "metadata": {},
   "outputs": [],
   "source": [
    "stored_plotter.set_title(label=\"a) Scatter Plot\", fontsize=24, color='white', loc='left')\n",
    "ax = stored_plotter.draw()"
   ]
  },
  {
   "cell_type": "markdown",
   "metadata": {},
   "source": [
    "## Multi Sequence"
   ]
  },
  {
   "cell_type": "code",
   "execution_count": 34,
   "metadata": {},
   "outputs": [],
   "source": [
    "data_size = 1_000   \n",
    "x_data = [\n",
    "    np.sin(np.linspace(0, 10, data_size)) * np.cos(np.linspace(0, 5, data_size)),  \n",
    "    np.exp(-np.linspace(0, 2, data_size)) * np.sin(np.linspace(0, 20, data_size)), \n",
    "    np.tanh(np.linspace(-5, 5, data_size)) + 0.2*np.random.randn(data_size),       \n",
    "    np.sin(np.linspace(0, 4*np.pi, data_size)**2)                            \n",
    "]\n",
    "\n",
    "y_data = [\n",
    "    np.cos(np.linspace(0, 8, data_size)) * np.sin(np.linspace(0, 4, data_size)) - 2.5,   \n",
    "    np.log(np.linspace(0.1, 4, data_size)) + 0.3*np.random.randn(data_size) * 0.1,      \n",
    "    0.5 * np.sin(10*np.linspace(0, 1, data_size)) * np.exp(-np.linspace(0, 2, data_size)) + 2.5,\n",
    "    np.arctan(np.linspace(-10, 10, data_size)) + 0.1*np.cos(np.linspace(0, 20, data_size)) \n",
    "]\n",
    "multi_plotter = ScatterPlotter(x_data, y_data)"
   ]
  },
  {
   "cell_type": "code",
   "execution_count": null,
   "metadata": {},
   "outputs": [],
   "source": [
    "ax = multi_plotter.draw()"
   ]
  },
  {
   "cell_type": "code",
   "execution_count": null,
   "metadata": {},
   "outputs": [],
   "source": [
    "(multi_plotter\n",
    " .set_suptitle(\"ScatterPlotter\", fontsize=32, color=\"k\", x=0.5, ha='center')\n",
    " .set_title(label=\"b) Scatter Plot:\", fontsize=24, color='k', loc='left')\n",
    " .set_xlabel(\"X-axis\", color='k', fontsize=18)\n",
    " .set_ylabel(\"Y-axis\", color='k', fontsize=18)\n",
    " .set_size([np.linspace(5, 100, data_size), [1.0], [50], [100]])\n",
    " .set_vmin([0, 0, 0, 0])\n",
    " .set_vmax([1, 100, 1, 1])\n",
    " .set_marker([\"o\", \"s\", \"D\", \"P\"])\n",
    " .set_color([np.linspace(0, 1, data_size), np.linspace(0, 100, data_size), np.linspace(0, 1, data_size), [(0.5, 0.75, 0.25)]])\n",
    " .set_alpha([np.linspace(0.0, 0.3, data_size), np.linspace(0.5, 0.0, data_size), [0.75], [0.25]])\n",
    " .set_linewidth([np.linspace(1, 10, data_size), [1], [1], [1]])\n",
    " .set_colormap([\"magma\", \"turbo\", \"inferno\", \"viridis\"])\n",
    " .set_edgecolor([None, None, \"k\", None])\n",
    " .set_zorder([3, 4, 2, 1])\n",
    ")\n",
    "ax = multi_plotter.draw()"
   ]
  },
  {
   "cell_type": "code",
   "execution_count": null,
   "metadata": {},
   "outputs": [],
   "source": [
    "multi_plotter.save_plotter(\".plot_params/multi_scatter_plot.json\", data=True)\n",
    "stored_plotter = ScatterPlotter.from_json(\".plot_params/multi_scatter_plot.json\")\n",
    "ax = stored_plotter.draw()"
   ]
  },
  {
   "cell_type": "code",
   "execution_count": null,
   "metadata": {},
   "outputs": [],
   "source": [
    "stored_plotter.set_title(label=\"b) Scatter Plot:\", fontsize=24, color='k', loc='center')\n",
    "ax = stored_plotter.draw()"
   ]
  },
  {
   "cell_type": "markdown",
   "metadata": {},
   "source": [
    "***"
   ]
  }
 ],
 "metadata": {
  "kernelspec": {
   "display_name": "tools",
   "language": "python",
   "name": "tools"
  },
  "language_info": {
   "codemirror_mode": {
    "name": "ipython",
    "version": 3
   },
   "file_extension": ".py",
   "mimetype": "text/x-python",
   "name": "python",
   "nbconvert_exporter": "python",
   "pygments_lexer": "ipython3",
   "version": "3.8.18"
  }
 },
 "nbformat": 4,
 "nbformat_minor": 2
}
