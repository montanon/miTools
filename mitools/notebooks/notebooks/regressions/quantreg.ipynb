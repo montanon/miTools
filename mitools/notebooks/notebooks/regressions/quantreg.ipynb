{
 "cells": [
  {
   "cell_type": "code",
   "execution_count": 1,
   "metadata": {},
   "outputs": [],
   "source": [
    "from mitools import reg\n",
    "import numpy as np\n",
    "from pandas import DataFrame\n",
    "import statsmodels.api as sm\n",
    "from mitools.visuals import LinePlotter, ScatterPlotter"
   ]
  },
  {
   "cell_type": "markdown",
   "metadata": {},
   "source": [
    "# Quantile Regression from Statsmodels"
   ]
  },
  {
   "cell_type": "markdown",
   "metadata": {},
   "source": [
    "https://www.statsmodels.org/stable/examples/notebooks/generated/quantile_regression.html"
   ]
  },
  {
   "cell_type": "code",
   "execution_count": null,
   "metadata": {},
   "outputs": [],
   "source": [
    "data = sm.datasets.engel.load_pandas().data\n",
    "data.head()"
   ]
  },
  {
   "cell_type": "markdown",
   "metadata": {},
   "source": [
    "## Least Absolute Deviation"
   ]
  },
  {
   "cell_type": "markdown",
   "metadata": {},
   "source": [
    "The LAD model is a special case of quantile regression where q=0.5\n",
    "\n"
   ]
  },
  {
   "cell_type": "code",
   "execution_count": null,
   "metadata": {},
   "outputs": [],
   "source": [
    "model = reg.QuantileRegressionModel(data=data, formula=\"foodexp ~ income\", quantiles=0.5)\n",
    "res = model.fit()\n",
    "print(res.summary())"
   ]
  },
  {
   "cell_type": "markdown",
   "metadata": {},
   "source": [
    "## Visualizing the results"
   ]
  },
  {
   "cell_type": "markdown",
   "metadata": {},
   "source": [
    "We estimate the quantile regression model for many quantiles between .05 and .95, and compare best fit line from each of these models to Ordinary Least Squares results."
   ]
  },
  {
   "cell_type": "markdown",
   "metadata": {},
   "source": [
    "#### Prepare data for plotting"
   ]
  },
  {
   "cell_type": "markdown",
   "metadata": {},
   "source": [
    "For convenience, we place the quantile regression results in a Pandas DataFrame, and the OLS results in a dictionary."
   ]
  },
  {
   "cell_type": "code",
   "execution_count": 4,
   "metadata": {},
   "outputs": [],
   "source": [
    "quantiles = np.arange(0.05, 0.96, 0.1)\n",
    "model = reg.QuantileRegressionModel(data=data, formula=\"foodexp ~ income\", quantiles=quantiles)\n",
    "ols = model.fit()\n",
    "\n",
    "models = DataFrame([[q, res.params['Intercept'], res.params['income']] + res.conf_int().loc['income'].tolist() for q, res in ols.items()])\n",
    "models.columns = ['q', 'a', 'b', 'lb', 'ub']"
   ]
  },
  {
   "cell_type": "code",
   "execution_count": 5,
   "metadata": {},
   "outputs": [],
   "source": [
    "ols = reg.OLSModel(data=data, formula=\"foodexp ~ income\")\n",
    "ols = ols.fit()\n",
    "ols_ci = ols.conf_int().loc[\"income\"].tolist()\n",
    "ols = dict(\n",
    "    a=ols.params[\"Intercept\"], b=ols.params[\"income\"], lb=ols_ci[0], ub=ols_ci[1]\n",
    ")"
   ]
  },
  {
   "cell_type": "code",
   "execution_count": null,
   "metadata": {},
   "outputs": [],
   "source": [
    "print(models)\n",
    "print(ols)"
   ]
  },
  {
   "cell_type": "markdown",
   "metadata": {},
   "source": [
    "#### First plot"
   ]
  },
  {
   "cell_type": "markdown",
   "metadata": {},
   "source": [
    "This plot compares best fit lines for 10 quantile regression models to the least squares fit. As Koenker and Hallock (2001) point out, we see that:\n",
    "\n",
    "1. Food expenditure increases with income\n",
    "2. The dispersion of food expenditure increases with income\n",
    "3. The least squares estimates fit low income observations quite poorly (i.e. the OLS line passes over most low income households)"
   ]
  },
  {
   "cell_type": "code",
   "execution_count": 7,
   "metadata": {},
   "outputs": [],
   "source": [
    "x = np.arange(data.income.min(), data.income.max(), 50)\n",
    "def get_y(a, b):\n",
    "    return a + b * x"
   ]
  },
  {
   "cell_type": "code",
   "execution_count": null,
   "metadata": {},
   "outputs": [],
   "source": [
    "line_plot = (LinePlotter([x]*models.shape[0], [get_y(models.a[i], models.b[i]) for i in range(models.shape[0])])\n",
    "            .set_linestyle(\"dotted\")\n",
    "            .set_color('grey')\n",
    "             )\n",
    "ax = line_plot.draw()\n",
    "y = get_y(ols[\"a\"], ols[\"b\"])\n",
    "line_plot = (LinePlotter(x, y, ax=ax, color='red', label='OLS')\n",
    "             .set_marker(\"\")\n",
    "             )\n",
    "ax = line_plot.draw()\n",
    "scatter_plot = (ScatterPlotter(data.income, data.foodexp, ax=ax, color='blue', label='Data', alpha=0.2)\n",
    "                .set_limits((240, 3000), (240, 2000))\n",
    "                .set_xlabel(\"Income\", fontsize=16)\n",
    "                .set_ylabel(\"Food expenditure\", fontsize=16))\n",
    "ax = scatter_plot.draw()\n",
    "_ = ax.legend()"
   ]
  },
  {
   "cell_type": "markdown",
   "metadata": {},
   "source": [
    "#### Second plot"
   ]
  },
  {
   "cell_type": "markdown",
   "metadata": {},
   "source": [
    "The dotted black lines form 95% point-wise confidence band around 10 quantile regression estimates (solid black line). The red lines represent OLS regression results along with their 95% confidence interval.\n",
    "\n",
    "In most cases, the quantile regression point estimates lie outside the OLS confidence interval, which suggests that the effect of income on food expenditure may not be constant across the distribution."
   ]
  },
  {
   "cell_type": "code",
   "execution_count": null,
   "metadata": {},
   "outputs": [],
   "source": [
    "n = models.shape[0]\n",
    "ax = LinePlotter(models.q, models.b, color=\"black\", label=\"Quantile Reg.\").draw()\n",
    "LinePlotter(models.q, models.ub, linestyle=\"dotted\", color=\"black\", ax=ax).draw()\n",
    "LinePlotter(models.q, models.lb, linestyle=\"dotted\", color=\"black\", ax=ax).draw()\n",
    "LinePlotter(models.q, [ols[\"b\"]] * n, color=\"red\", label=\"OLS\", ax=ax).draw()\n",
    "LinePlotter(models.q, [ols[\"lb\"]] * n, linestyle=\"dotted\", color=\"red\", ax=ax).draw()\n",
    "(LinePlotter(models.q, [ols[\"ub\"]] * n, linestyle=\"dotted\", color=\"red\", ax=ax)\n",
    " .set_ylabel(r\"$\\beta_{income}$\")\n",
    " .set_xlabel(\"Quantiles of the conditional food expenditure distribution\")\n",
    " .draw())\n",
    "_ = ax.legend()"
   ]
  },
  {
   "cell_type": "markdown",
   "metadata": {},
   "source": [
    "***"
   ]
  }
 ],
 "metadata": {
  "kernelspec": {
   "display_name": "tools",
   "language": "python",
   "name": "tools"
  },
  "language_info": {
   "codemirror_mode": {
    "name": "ipython",
    "version": 3
   },
   "file_extension": ".py",
   "mimetype": "text/x-python",
   "name": "python",
   "nbconvert_exporter": "python",
   "pygments_lexer": "ipython3",
   "version": "3.8.18"
  }
 },
 "nbformat": 4,
 "nbformat_minor": 2
}
