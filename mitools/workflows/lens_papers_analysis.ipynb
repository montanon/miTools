{
 "cells": [
  {
   "cell_type": "code",
   "execution_count": null,
   "id": "790b96d9",
   "metadata": {
    "ExecuteTime": {
     "end_time": "2023-10-10T03:59:07.990661Z",
     "start_time": "2023-10-10T03:59:04.957532Z"
    }
   },
   "outputs": [],
   "source": [
    "import os\n",
    "import pandas as pd\n",
    "import matplotlib.pyplot as plt\n",
    "import seaborn as sns\n",
    "import numpy as np\n",
    "import pycountry\n",
    "from countryinfo import CountryInfo\n",
    "from tqdm import tqdm\n",
    "\n",
    "from mitools import etl\n",
    "from mitools import pandas as pdf\n",
    "from mitools import nlp\n",
    "from mitools import clustering as clustering\n",
    "from mitools import utils\n",
    "from mitools.country_converter import cc\n",
    "import mitools.jupyter_utils"
   ]
  },
  {
   "cell_type": "code",
   "execution_count": null,
   "id": "7c532a11",
   "metadata": {},
   "outputs": [],
   "source": [
    "recalculate = False"
   ]
  },
  {
   "cell_type": "markdown",
   "id": "60801abf",
   "metadata": {},
   "source": [
    "# Parameters"
   ]
  },
  {
   "cell_type": "markdown",
   "id": "9399ea01",
   "metadata": {},
   "source": [
    "## Paths"
   ]
  },
  {
   "cell_type": "code",
   "execution_count": null,
   "id": "de52a6d0",
   "metadata": {},
   "outputs": [],
   "source": [
    "DB_PATH = '/Users/sebastian/Desktop/MontagnaInc/Research/DataWork/Co-Research/Papers_Analysis/Lens Data'\n",
    "DB_NAME = 'household_emissions_papers.db'\n",
    "ARTICLES_CSV = os.path.join(DB_PATH, 'household_emissions_articles.csv')\n",
    "DATA_AND_FIGURES_FOLDER = os.path.join(DB_PATH, 'Data_and_Figures')\n",
    "if not os.path.exists(DATA_AND_FIGURES_FOLDER):\n",
    "    os.mkdir(DATA_AND_FIGURES_FOLDER)"
   ]
  },
  {
   "cell_type": "markdown",
   "id": "fb4c50bb",
   "metadata": {},
   "source": [
    "## Names"
   ]
  },
  {
   "cell_type": "code",
   "execution_count": null,
   "id": "a4ac1084",
   "metadata": {},
   "outputs": [],
   "source": [
    "int_cols = ['Publication Year', 'Volume', 'Issue Number', 'Start Page',\n",
    "            'End Page', 'Citing Patents Count', 'Citing Works Count']\n",
    "str_cols = ['Lens ID', 'Title', 'Publication Type', 'Source Title', 'ISSNs', 'Publisher', 'Source Country', 'Author/s',\n",
    "            'Abstract', 'Fields of Study', 'Keywords', 'MeSH Terms', 'Chemicals', 'Funding', 'Source URLs', 'External URL', 'PMID', 'DOI', 'Microsoft Academic ID', 'PMCID', 'References',\n",
    "           'Open Access License', 'Open Access Colour']\n",
    "date_cols = ['Date Published']\n",
    "bool_cols = ['Is Open Access']"
   ]
  },
  {
   "cell_type": "code",
   "execution_count": null,
   "id": "6a4ff85e",
   "metadata": {},
   "outputs": [],
   "source": [
    "csv_file = ARTICLES_CSV\n",
    "tablename = os.path.basename(csv_file).split('.')[0]\n",
    "time_col = 'Publication Year'\n",
    "embeddings_col = 'SPECTER Embeddings'\n",
    "embeddings_tablename = f'{tablename}_embeddings'\n",
    "umap_cols = ['SPECTER_UMAP_x', 'SPECTER_UMAP_y']\n",
    "kmeans_col = 'SPECTER_KMeans_cluster'\n",
    "agg_col = 'SPECTER_Agglomerative_cluster'\n",
    "cluster_col = kmeans_col\n",
    "text_col = 'text'\n",
    "article_id = 'paper_id'\n",
    "countries_mentions_file = os.path.join(DB_PATH, 'countries_mentions.parquet')"
   ]
  },
  {
   "cell_type": "code",
   "execution_count": null,
   "id": "d42350fe",
   "metadata": {},
   "outputs": [],
   "source": [
    "plots_kwargs = {\n",
    "    'a': dict(\n",
    "        s=20, \n",
    "        alpha=0.5),\n",
    "    'b': dict(\n",
    "        s=7, \n",
    "        alpha=0.5),\n",
    "    'c': dict(\n",
    "        s=7, \n",
    "        alpha=0.5)}\n",
    "\n",
    "centroids_kwargs = {\n",
    "    'a': dict(\n",
    "        marker='o', \n",
    "        markersize=30,\n",
    "        alpha=0.75),\n",
    "    'b': dict(\n",
    "        marker='o', \n",
    "        markersize=20,\n",
    "        alpha=0.75),\n",
    "    'c': dict(\n",
    "        marker='o', \n",
    "        markersize=20,\n",
    "        alpha=0.75)}\n",
    "\n",
    "ellipses_kwargs = {\n",
    "    'a': dict( \n",
    "            alpha=1.0, \n",
    "            linewidth=2.5,\n",
    "            linestyle='--'),\n",
    "    'b': dict( \n",
    "            alpha=1.0, \n",
    "            linewidth=1.5,\n",
    "            linestyle='--'),\n",
    "    'c': dict( \n",
    "            alpha=1.0, \n",
    "            linewidth=1.5,\n",
    "            linestyle='--')}"
   ]
  },
  {
   "cell_type": "markdown",
   "id": "36adaed3",
   "metadata": {},
   "source": [
    "# ETL"
   ]
  },
  {
   "cell_type": "code",
   "execution_count": null,
   "id": "cee31a84",
   "metadata": {
    "ExecuteTime": {
     "end_time": "2023-10-10T03:59:07.993435Z",
     "start_time": "2023-10-10T03:59:07.991809Z"
    }
   },
   "outputs": [],
   "source": [
    "db_path = DB_PATH\n",
    "db_name = DB_NAME\n",
    "conn = etl.connect_to_sql_db(db_path, db_name)"
   ]
  },
  {
   "cell_type": "code",
   "execution_count": null,
   "id": "504488d4",
   "metadata": {
    "ExecuteTime": {
     "end_time": "2023-10-10T03:59:08.000540Z",
     "start_time": "2023-10-10T03:59:07.998607Z"
    }
   },
   "outputs": [],
   "source": [
    "create_table = not etl.check_if_table(conn, tablename) or recalculate"
   ]
  },
  {
   "cell_type": "code",
   "execution_count": null,
   "id": "854f59e1",
   "metadata": {
    "ExecuteTime": {
     "end_time": "2023-10-10T03:59:08.006070Z",
     "start_time": "2023-10-10T03:59:08.004140Z"
    }
   },
   "outputs": [],
   "source": [
    "%%execute $create_table\n",
    "df = pd.read_csv(csv_file, low_memory=False, index_col=0)"
   ]
  },
  {
   "cell_type": "code",
   "execution_count": null,
   "id": "4261daed",
   "metadata": {
    "ExecuteTime": {
     "end_time": "2023-10-10T03:59:08.008761Z",
     "start_time": "2023-10-10T03:59:08.006915Z"
    }
   },
   "outputs": [],
   "source": [
    "%%execute $create_table\n",
    "df = pdf.prepare_int_cols(df, int_cols, -1)\n",
    "df = pdf.prepare_str_cols(df, str_cols)\n",
    "df = pdf.prepare_date_cols(df, date_cols)\n",
    "df = pdf.prepare_bool_cols(df, bool_cols)"
   ]
  },
  {
   "cell_type": "code",
   "execution_count": null,
   "id": "cadb6372",
   "metadata": {
    "ExecuteTime": {
     "end_time": "2023-10-10T03:59:08.011439Z",
     "start_time": "2023-10-10T03:59:08.009569Z"
    }
   },
   "outputs": [],
   "source": [
    "%%execute $create_table\n",
    "print('Papers before validating: ', df.shape[0])\n",
    "df['paper_id'] = df['DOI']\n",
    "df.loc[df['paper_id'] == 'nan', 'paper_id'] = df.loc[df['paper_id'] == 'nan', 'Lens ID']\n",
    "df = df.loc[df['Title'] != 'nan'].reset_index(drop=True)\n",
    "print('Papers after validating Title: ', df.shape[0])\n",
    "df = df.loc[df['Abstract'] != 'nan'].reset_index(drop=True)\n",
    "print('Papers after validating Abstract: ', df.shape[0])\n",
    "df['text'] = df['Title'] + '' + df['Abstract']\n",
    "df = df.replace('nan', '')\n",
    "df = df.drop_duplicates()\n",
    "print('Papers after dropping duplicates: ', df.shape[0])"
   ]
  },
  {
   "cell_type": "code",
   "execution_count": null,
   "id": "1bf35214",
   "metadata": {
    "ExecuteTime": {
     "end_time": "2023-10-10T03:59:08.016068Z",
     "start_time": "2023-10-10T03:59:08.013853Z"
    }
   },
   "outputs": [],
   "source": [
    "%%execute $create_table\n",
    "df.to_sql(tablename, conn, if_exists='replace')"
   ]
  },
  {
   "cell_type": "code",
   "execution_count": null,
   "id": "687b2fbc",
   "metadata": {
    "ExecuteTime": {
     "end_time": "2023-10-10T03:59:08.027741Z",
     "start_time": "2023-10-10T03:59:08.017058Z"
    }
   },
   "outputs": [],
   "source": [
    "%%execute not $create_table\n",
    "df = etl.read_sql_table(conn, tablename)"
   ]
  },
  {
   "cell_type": "code",
   "execution_count": null,
   "id": "83c4b661",
   "metadata": {
    "ExecuteTime": {
     "end_time": "2023-10-10T03:59:08.031707Z",
     "start_time": "2023-10-10T03:59:08.028529Z"
    }
   },
   "outputs": [],
   "source": [
    "papers_growth = df.loc[(df[time_col] > 1991), time_col].value_counts().sort_index(ascending=True).to_frame()\n",
    "df_new = papers_growth.copy()\n",
    "df_new.index = papers_growth.index \n",
    "df_new.index = [f'{i}-{i+2}' for i in df_new.index]\n",
    "papers_growth = df_new.groupby(df_new.index).sum()\n",
    "papers_cum = papers_growth.cumsum()"
   ]
  },
  {
   "cell_type": "code",
   "execution_count": null,
   "id": "e6e7399b",
   "metadata": {
    "ExecuteTime": {
     "end_time": "2023-10-10T03:59:08.166824Z",
     "start_time": "2023-10-10T03:59:08.032530Z"
    }
   },
   "outputs": [],
   "source": [
    "fig, ax = plt.subplots(1, 1, figsize=(14, 6))\n",
    "\n",
    "ax = papers_growth.plot(\n",
    "color='k', marker='o', linestyle='', ax=ax)\n",
    "ax.axvline(5.5, color='g', linestyle='--', zorder=1)\n",
    "ax.set_title('Amount of Relevant Papers per Period')\n",
    "ax.text(5.4, 0.695 * plt.ylim()[1], 'Paris Agreement', \n",
    "        horizontalalignment='right', \n",
    "        verticalalignment='top', \n",
    "        color='g')\n",
    "\n",
    "ax2 = ax.twinx()\n",
    "papers_growth.cumsum().plot(ax=ax2, color='r', marker='', linestyle='-')\n",
    "ax2.yaxis.label.set_color('red')\n",
    "ax2.tick_params(axis='y', colors='red')\n",
    "\n",
    "ax.set_zorder(ax2.get_zorder()+1)\n",
    "ax.patch.set_visible(False)\n",
    "\n",
    "ax.set_ylabel('Papers by Period')\n",
    "ax2.set_ylabel('Accumulated Papers')\n",
    "\n",
    "lines, labels = ax.get_legend_handles_labels()\n",
    "lines2, labels2 = ax2.get_legend_handles_labels()\n",
    "\n",
    "ax.legend(lines + lines2, ['per Period'] + ['Accumulated'], loc='upper left')\n",
    "ax2.grid(False)\n",
    "ax2.get_legend().remove()\n",
    "\n",
    "plt.savefig(os.path.join(DATA_AND_FIGURES_FOLDER, 'Total_Growth_by_Time.png'))\n",
    "plt.show()"
   ]
  },
  {
   "cell_type": "markdown",
   "id": "c97f5b91",
   "metadata": {},
   "source": [
    "## Embeddings"
   ]
  },
  {
   "cell_type": "code",
   "execution_count": null,
   "id": "772bb70a",
   "metadata": {
    "ExecuteTime": {
     "end_time": "2023-10-10T03:59:08.174131Z",
     "start_time": "2023-10-10T03:59:08.171934Z"
    }
   },
   "outputs": [],
   "source": [
    "embed = embeddings_col not in df.columns or recalculate"
   ]
  },
  {
   "cell_type": "code",
   "execution_count": null,
   "id": "feeac817",
   "metadata": {
    "ExecuteTime": {
     "end_time": "2023-10-10T03:59:08.177612Z",
     "start_time": "2023-10-10T03:59:08.175702Z"
    }
   },
   "outputs": [],
   "source": [
    "%%execute $embed\n",
    "df[embeddings_col] = ''\n",
    "papers = df[text_col].values.tolist()\n",
    "embeddings = nlp.huggingface_specter_embed_texts(papers, n_threads=2)"
   ]
  },
  {
   "cell_type": "code",
   "execution_count": null,
   "id": "06e0af2a",
   "metadata": {
    "ExecuteTime": {
     "end_time": "2023-10-10T03:59:08.181043Z",
     "start_time": "2023-10-10T03:59:08.178838Z"
    }
   },
   "outputs": [],
   "source": [
    "%%execute $embed\n",
    "for n, embedding in enumerate(embeddings):\n",
    "    df.loc[n, embeddings_col] = str(embedding if isinstance(embedding, list) else embeddings.tolist())"
   ]
  },
  {
   "cell_type": "code",
   "execution_count": null,
   "id": "32dab5b7",
   "metadata": {
    "ExecuteTime": {
     "end_time": "2023-10-10T03:59:08.184611Z",
     "start_time": "2023-10-10T03:59:08.182582Z"
    }
   },
   "outputs": [],
   "source": [
    "%%execute $embed\n",
    "df.to_sql(tablename, conn, if_exists='replace')"
   ]
  },
  {
   "cell_type": "code",
   "execution_count": null,
   "id": "19395481",
   "metadata": {
    "ExecuteTime": {
     "end_time": "2023-10-10T03:59:08.196947Z",
     "start_time": "2023-10-10T03:59:08.185723Z"
    }
   },
   "outputs": [],
   "source": [
    "%%execute not $embed\n",
    "df = etl.read_sql_table(conn, tablename)"
   ]
  },
  {
   "cell_type": "markdown",
   "id": "047881d4",
   "metadata": {},
   "source": [
    "## Embeddings Table"
   ]
  },
  {
   "cell_type": "code",
   "execution_count": null,
   "id": "b84df4f3",
   "metadata": {
    "ExecuteTime": {
     "end_time": "2023-10-10T03:59:08.204335Z",
     "start_time": "2023-10-10T03:59:08.201126Z"
    }
   },
   "outputs": [],
   "source": [
    "create_embeddings = not etl.check_if_table(conn, embeddings_tablename) or recalculate"
   ]
  },
  {
   "cell_type": "code",
   "execution_count": null,
   "id": "9769a61a",
   "metadata": {
    "ExecuteTime": {
     "end_time": "2023-10-10T03:59:08.207728Z",
     "start_time": "2023-10-10T03:59:08.205104Z"
    }
   },
   "outputs": [],
   "source": [
    "%%execute $create_embeddings\n",
    "embeddings = nlp.embeddings_col_to_frame(df[embeddings_col])\n",
    "embeddings.index.name = 'index'\n",
    "embeddings.to_sql(embeddings_tablename, conn, if_exists='replace')"
   ]
  },
  {
   "cell_type": "code",
   "execution_count": null,
   "id": "613149e1",
   "metadata": {
    "ExecuteTime": {
     "end_time": "2023-10-10T03:59:08.264691Z",
     "start_time": "2023-10-10T03:59:08.208956Z"
    }
   },
   "outputs": [],
   "source": [
    "%%execute not $create_embeddings\n",
    "embeddings = etl.read_sql_table(conn, embeddings_tablename)\n",
    "if any(not utils.str_is_number(c) for c in embeddings.columns):\n",
    "    label_col = [c for c in embeddings.columns if not utils.str_is_number(c)][0]\n",
    "    embeddings = embeddings.set_index(label_col, append=True)"
   ]
  },
  {
   "cell_type": "markdown",
   "id": "bc73c9ce",
   "metadata": {},
   "source": [
    "## UMAP Embeddings"
   ]
  },
  {
   "cell_type": "code",
   "execution_count": null,
   "id": "56058e0e",
   "metadata": {
    "ExecuteTime": {
     "end_time": "2023-10-10T03:59:08.272513Z",
     "start_time": "2023-10-10T03:59:08.270011Z"
    }
   },
   "outputs": [],
   "source": [
    "create_umap = any(col not in df.columns for col in umap_cols) or recalculate"
   ]
  },
  {
   "cell_type": "code",
   "execution_count": null,
   "id": "6f456c6c",
   "metadata": {
    "ExecuteTime": {
     "end_time": "2023-10-10T03:59:08.286504Z",
     "start_time": "2023-10-10T03:59:08.273520Z"
    }
   },
   "outputs": [],
   "source": [
    "%%execute $create_umap\n",
    "umap_embeddings = nlp.umap_embeddings(embeddings)\n",
    "df[umap_cols] = umap_embeddings"
   ]
  },
  {
   "cell_type": "code",
   "execution_count": null,
   "id": "f2aad581",
   "metadata": {
    "ExecuteTime": {
     "end_time": "2023-10-10T03:59:08.292948Z",
     "start_time": "2023-10-10T03:59:08.288241Z"
    }
   },
   "outputs": [],
   "source": [
    "%%execute $create_umap\n",
    "df.to_sql(tablename, conn, if_exists='replace')"
   ]
  },
  {
   "cell_type": "code",
   "execution_count": null,
   "id": "b21c78ad",
   "metadata": {
    "ExecuteTime": {
     "end_time": "2023-10-10T03:59:08.309920Z",
     "start_time": "2023-10-10T03:59:08.299024Z"
    }
   },
   "outputs": [],
   "source": [
    "%%execute not $create_umap\n",
    "df = etl.read_sql_table(conn, tablename)"
   ]
  },
  {
   "cell_type": "code",
   "execution_count": null,
   "id": "f8832b09",
   "metadata": {
    "ExecuteTime": {
     "end_time": "2023-10-10T03:59:08.386920Z",
     "start_time": "2023-10-10T03:59:08.310636Z"
    }
   },
   "outputs": [],
   "source": [
    "colors = sns.color_palette('cubehelix', 2)\n",
    "\n",
    "fig = plt.figure(figsize=(14, 10))\n",
    "plt.scatter(df[umap_cols[0]], df[umap_cols[1]], s=5, color=colors[1], alpha=0.75)\n",
    "plt.xticks([])\n",
    "plt.yticks([])\n",
    "plt.title(\"UMAP Representation of Papers' SPECTER Embeddings\")\n",
    "\n",
    "plt.savefig(os.path.join(DATA_AND_FIGURES_FOLDER, 'Umap_Representation_of_Embeddings.png'))\n",
    "plt.show()"
   ]
  },
  {
   "cell_type": "markdown",
   "id": "34a83d72",
   "metadata": {},
   "source": [
    "## Clustering "
   ]
  },
  {
   "cell_type": "markdown",
   "id": "00283cde",
   "metadata": {},
   "source": [
    "### K-Means"
   ]
  },
  {
   "cell_type": "code",
   "execution_count": null,
   "id": "b4c7e208",
   "metadata": {
    "ExecuteTime": {
     "end_time": "2023-10-10T03:59:08.393735Z",
     "start_time": "2023-10-10T03:59:08.391854Z"
    }
   },
   "outputs": [],
   "source": [
    "calculate_kmeans = kmeans_col not in df.columns or recalculate"
   ]
  },
  {
   "cell_type": "code",
   "execution_count": null,
   "id": "8e5bf9bb",
   "metadata": {
    "ExecuteTime": {
     "end_time": "2023-10-10T03:59:08.397758Z",
     "start_time": "2023-10-10T03:59:08.395617Z"
    }
   },
   "outputs": [],
   "source": [
    "%%execute $calculate_kmeans\n",
    "silhouette_scores, inertia = clustering.kmeans_ncluster_search(embeddings)\n",
    "clustering.plot_kmeans_ncluster_search(silhouette_scores, inertia)"
   ]
  },
  {
   "cell_type": "code",
   "execution_count": null,
   "id": "5a8f1feb",
   "metadata": {
    "ExecuteTime": {
     "end_time": "2023-10-10T03:59:08.401515Z",
     "start_time": "2023-10-10T03:59:08.398988Z"
    }
   },
   "outputs": [],
   "source": [
    "%%execute $calculate_kmeans\n",
    "n_clusters = 13\n",
    "df[kmeans_col] = clustering.kmeans_clustering(embeddings, n_clusters)\n",
    "df.to_sql(tablename, conn, if_exists='replace')"
   ]
  },
  {
   "cell_type": "code",
   "execution_count": null,
   "id": "1378ade2",
   "metadata": {
    "ExecuteTime": {
     "end_time": "2023-10-10T03:59:08.413340Z",
     "start_time": "2023-10-10T03:59:08.402872Z"
    }
   },
   "outputs": [],
   "source": [
    "%%execute not $calculate_kmeans\n",
    "df = etl.read_sql_table(conn, tablename)"
   ]
  },
  {
   "cell_type": "markdown",
   "id": "dcd45bfc",
   "metadata": {},
   "source": [
    "### Agglomerative"
   ]
  },
  {
   "cell_type": "code",
   "execution_count": null,
   "id": "aeeea671",
   "metadata": {
    "ExecuteTime": {
     "end_time": "2023-10-10T03:59:08.419613Z",
     "start_time": "2023-10-10T03:59:08.417657Z"
    }
   },
   "outputs": [],
   "source": [
    "calculate_agg = agg_col not in df.columns or recalculate"
   ]
  },
  {
   "cell_type": "code",
   "execution_count": null,
   "id": "ddebd1ec",
   "metadata": {
    "ExecuteTime": {
     "end_time": "2023-10-10T03:59:08.422545Z",
     "start_time": "2023-10-10T03:59:08.420587Z"
    }
   },
   "outputs": [],
   "source": [
    "%%execute $calculate_agg\n",
    "silhouette_scores = clustering.agglomerative_ncluster_search(embeddings)\n",
    "clustering.plot_agglomerative_ncluster_search(silhouette_scores)"
   ]
  },
  {
   "cell_type": "code",
   "execution_count": null,
   "id": "39151eec",
   "metadata": {
    "ExecuteTime": {
     "end_time": "2023-10-10T03:59:08.425863Z",
     "start_time": "2023-10-10T03:59:08.423799Z"
    }
   },
   "outputs": [],
   "source": [
    "%%execute $calculate_agg\n",
    "n_clusters = 15\n",
    "df[agg_col] = clustering.agglomerative_clustering(embeddings, n_clusters)\n",
    "df.to_sql(tablename, conn, if_exists='replace')"
   ]
  },
  {
   "cell_type": "code",
   "execution_count": null,
   "id": "1eb9abc3",
   "metadata": {
    "ExecuteTime": {
     "end_time": "2023-10-10T03:59:08.438155Z",
     "start_time": "2023-10-10T03:59:08.427523Z"
    }
   },
   "outputs": [],
   "source": [
    "%%execute not $calculate_agg\n",
    "df = etl.read_sql_table(conn, tablename)"
   ]
  },
  {
   "cell_type": "markdown",
   "id": "33d04bee",
   "metadata": {},
   "source": [
    "### Cluster Visualization"
   ]
  },
  {
   "cell_type": "code",
   "execution_count": null,
   "id": "947e44a5",
   "metadata": {
    "ExecuteTime": {
     "end_time": "2023-10-10T03:59:08.540183Z",
     "start_time": "2023-10-10T03:59:08.439073Z"
    }
   },
   "outputs": [],
   "source": [
    "ax = clustering.plot_clusters(df, kmeans_col, *umap_cols, s=100, marker='.', alpha=0.75)\n",
    "ax.set_title('K-Means Clusters UMAP Representation')\n",
    "plt.savefig(os.path.join(DATA_AND_FIGURES_FOLDER, f'{kmeans_col}_Clustering.png'))\n",
    "plt.show()"
   ]
  },
  {
   "cell_type": "code",
   "execution_count": null,
   "id": "7782e302",
   "metadata": {
    "ExecuteTime": {
     "end_time": "2023-10-10T03:59:08.642204Z",
     "start_time": "2023-10-10T03:59:08.542160Z"
    }
   },
   "outputs": [],
   "source": [
    "ax = clustering.plot_clusters(df, agg_col, *umap_cols, s=100, marker='.', alpha=0.75)\n",
    "ax.set_title('Agglomerative Clusters UMAP Representation')\n",
    "plt.savefig(os.path.join(DATA_AND_FIGURES_FOLDER, f'{agg_col}_Clustering.png'))\n",
    "plt.show()"
   ]
  },
  {
   "cell_type": "markdown",
   "id": "098b1222",
   "metadata": {},
   "source": [
    "### Add Clusters to Embeddings"
   ]
  },
  {
   "cell_type": "code",
   "execution_count": null,
   "id": "9526cd14",
   "metadata": {
    "ExecuteTime": {
     "end_time": "2023-10-10T03:59:08.649216Z",
     "start_time": "2023-10-10T03:59:08.647214Z"
    }
   },
   "outputs": [],
   "source": [
    "add_clusters = cluster_col not in embeddings.index.names or recalculate"
   ]
  },
  {
   "cell_type": "code",
   "execution_count": null,
   "id": "0f85151d",
   "metadata": {
    "ExecuteTime": {
     "end_time": "2023-10-10T03:59:08.652931Z",
     "start_time": "2023-10-10T03:59:08.650459Z"
    }
   },
   "outputs": [],
   "source": [
    "%%execute $add_clusters\n",
    "embeddings.index = pd.MultiIndex.from_arrays([embeddings.index.values,\n",
    "                                             df[cluster_col].values],\n",
    "                                             names=[embeddings.index.name, cluster_col]\n",
    "                                            )\n",
    "embeddings.to_sql(embeddings_tablename, conn, if_exists='replace')"
   ]
  },
  {
   "cell_type": "code",
   "execution_count": null,
   "id": "26fa217a",
   "metadata": {
    "ExecuteTime": {
     "end_time": "2023-10-10T03:59:08.709460Z",
     "start_time": "2023-10-10T03:59:08.654282Z"
    }
   },
   "outputs": [],
   "source": [
    "%%execute not $add_clusters\n",
    "embeddings = etl.read_sql_table(conn, embeddings_tablename)\n",
    "embeddings = embeddings.set_index(cluster_col, append=True)"
   ]
  },
  {
   "cell_type": "markdown",
   "id": "bdc88b7c",
   "metadata": {},
   "source": [
    "### Visualize Clusters"
   ]
  },
  {
   "cell_type": "code",
   "execution_count": null,
   "id": "fd2c1156",
   "metadata": {
    "ExecuteTime": {
     "end_time": "2023-10-10T03:59:08.822296Z",
     "start_time": "2023-10-10T03:59:08.710188Z"
    }
   },
   "outputs": [],
   "source": [
    "df = df.sort_values(by=cluster_col, ascending=True)\n",
    "ax = clustering.plot_clusters(df, cluster_col, *umap_cols, marker='.', s=25, alpha=0.75)\n",
    "umap_centroids = df[[*umap_cols, cluster_col]].groupby(cluster_col).mean().reset_index()\n",
    "ax = clustering.add_clusters_centroids(ax, umap_centroids, cluster_col, *umap_cols, \n",
    "                               marker='o', \n",
    "                               markersize=30, \n",
    "                               alpha=0.5)\n",
    "ax = clustering.add_clusters_confidence_ellipse(ax, df, cluster_col, *umap_cols, \n",
    "                                        alpha=0.5, \n",
    "                                        linewidth=3,\n",
    "                                        linestyle='--')\n",
    "ax.set_title('K-Means Clusters UMAP Representation')\n",
    "plt.savefig(os.path.join(DATA_AND_FIGURES_FOLDER, 'Clusters_with_Centroids_and_Confidence_Ellipses.png'))\n",
    "plt.show();"
   ]
  },
  {
   "cell_type": "markdown",
   "id": "9e28958f",
   "metadata": {},
   "source": [
    "### Cluster Analysis"
   ]
  },
  {
   "cell_type": "markdown",
   "id": "30e055e1",
   "metadata": {},
   "source": [
    "#### Count"
   ]
  },
  {
   "cell_type": "code",
   "execution_count": null,
   "id": "0a80e3d0",
   "metadata": {
    "ExecuteTime": {
     "end_time": "2023-10-10T03:59:08.830913Z",
     "start_time": "2023-10-10T03:59:08.823144Z"
    }
   },
   "outputs": [],
   "source": [
    "clustering.display_clusters_size(df, cluster_col)"
   ]
  },
  {
   "cell_type": "markdown",
   "id": "172f5e58",
   "metadata": {},
   "source": [
    "#### Growth Rate"
   ]
  },
  {
   "cell_type": "code",
   "execution_count": null,
   "id": "d35cc58d",
   "metadata": {
    "ExecuteTime": {
     "end_time": "2023-10-10T03:59:08.954163Z",
     "start_time": "2023-10-10T03:59:08.832254Z"
    }
   },
   "outputs": [],
   "source": [
    "clustering.plot_clusters_growth(df, time_col, cluster_col)\n",
    "plt.savefig(os.path.join(DATA_AND_FIGURES_FOLDER, 'Total_Growth_by_Time_per_Cluster.png'))\n",
    "plt.show()"
   ]
  },
  {
   "cell_type": "markdown",
   "id": "72871770",
   "metadata": {},
   "source": [
    "#### Cosine Similarities"
   ]
  },
  {
   "cell_type": "code",
   "execution_count": null,
   "id": "73ffd854",
   "metadata": {
    "ExecuteTime": {
     "end_time": "2023-10-10T03:59:08.963002Z",
     "start_time": "2023-10-10T03:59:08.955835Z"
    }
   },
   "outputs": [],
   "source": [
    "cosine_similarities = clustering.get_cosine_similarities(embeddings, cluster_col)"
   ]
  },
  {
   "cell_type": "code",
   "execution_count": null,
   "id": "5fcbc956",
   "metadata": {
    "ExecuteTime": {
     "end_time": "2023-10-10T03:59:09.159251Z",
     "start_time": "2023-10-10T03:59:08.964839Z"
    }
   },
   "outputs": [],
   "source": [
    "clustering.plot_cosine_similarities(cosine_similarities, normed=True)\n",
    "plt.savefig(os.path.join(DATA_AND_FIGURES_FOLDER, 'Cosine_Similarities_Distribution_per_Cluster.png'))\n",
    "plt.show()"
   ]
  },
  {
   "cell_type": "markdown",
   "id": "23119583",
   "metadata": {},
   "source": [
    "#### Centroids"
   ]
  },
  {
   "cell_type": "code",
   "execution_count": null,
   "id": "a3f4608b",
   "metadata": {
    "ExecuteTime": {
     "end_time": "2023-10-10T03:59:09.164487Z",
     "start_time": "2023-10-10T03:59:09.160589Z"
    }
   },
   "outputs": [],
   "source": [
    "centroids = clustering.get_clusters_centroids(embeddings, cluster_col)"
   ]
  },
  {
   "cell_type": "markdown",
   "id": "af30020c",
   "metadata": {},
   "source": [
    "##### Distances Between Centroids"
   ]
  },
  {
   "cell_type": "code",
   "execution_count": null,
   "id": "a5042a7f",
   "metadata": {
    "ExecuteTime": {
     "end_time": "2023-10-10T03:59:09.168692Z",
     "start_time": "2023-10-10T03:59:09.165707Z"
    }
   },
   "outputs": [],
   "source": [
    "centroids_distances = clustering.get_clusters_centroids_distances(centroids)"
   ]
  },
  {
   "cell_type": "code",
   "execution_count": null,
   "id": "e6126834",
   "metadata": {
    "ExecuteTime": {
     "end_time": "2023-10-10T03:59:09.176440Z",
     "start_time": "2023-10-10T03:59:09.170229Z"
    }
   },
   "outputs": [],
   "source": [
    "centroids_distances"
   ]
  },
  {
   "cell_type": "markdown",
   "id": "3fd42fd3",
   "metadata": {},
   "source": [
    "#### Distances to Centroid"
   ]
  },
  {
   "cell_type": "code",
   "execution_count": null,
   "id": "74756a6c",
   "metadata": {
    "ExecuteTime": {
     "end_time": "2023-10-10T03:59:09.196831Z",
     "start_time": "2023-10-10T03:59:09.179008Z"
    }
   },
   "outputs": [],
   "source": [
    "distances_to_centroids = clustering.get_distances_to_centroids(embeddings, centroids, cluster_col)"
   ]
  },
  {
   "cell_type": "code",
   "execution_count": null,
   "id": "745818b7",
   "metadata": {
    "ExecuteTime": {
     "end_time": "2023-10-10T03:59:09.202303Z",
     "start_time": "2023-10-10T03:59:09.197581Z"
    }
   },
   "outputs": [],
   "source": [
    "distances_to_centroids"
   ]
  },
  {
   "cell_type": "code",
   "execution_count": null,
   "id": "917ca58c",
   "metadata": {
    "ExecuteTime": {
     "end_time": "2023-10-10T03:59:09.322159Z",
     "start_time": "2023-10-10T03:59:09.205262Z"
    }
   },
   "outputs": [],
   "source": [
    "clustering.plot_distances_to_centroids(distances_to_centroids, cluster_col)\n",
    "plt.savefig(os.path.join(DATA_AND_FIGURES_FOLDER, 'Distances_to_Centroid_Distribution_per_Cluster.png'))\n",
    "plt.show()"
   ]
  },
  {
   "cell_type": "markdown",
   "id": "f432c858",
   "metadata": {},
   "source": [
    "## Keyword Analysis "
   ]
  },
  {
   "cell_type": "code",
   "execution_count": null,
   "id": "99d9d479",
   "metadata": {
    "ExecuteTime": {
     "end_time": "2023-10-10T03:59:09.374096Z",
     "start_time": "2023-10-10T03:59:09.324219Z"
    }
   },
   "outputs": [],
   "source": [
    "all_words = []\n",
    "for l in df[text_col].str.split(' ').values:\n",
    "    all_words.extend(l)\n",
    "all_words = utils.split_strings(all_words)\n",
    "all_words_str = \" \".join(all_words)"
   ]
  },
  {
   "cell_type": "code",
   "execution_count": null,
   "id": "3be058f6",
   "metadata": {
    "ExecuteTime": {
     "end_time": "2023-10-10T03:59:09.402389Z",
     "start_time": "2023-10-10T03:59:09.374892Z"
    }
   },
   "outputs": [],
   "source": [
    "freq_splits = nlp.FreqDist(all_words)"
   ]
  },
  {
   "cell_type": "code",
   "execution_count": null,
   "id": "dff7e41d",
   "metadata": {
    "ExecuteTime": {
     "end_time": "2023-10-10T03:59:09.416429Z",
     "start_time": "2023-10-10T03:59:09.403437Z"
    }
   },
   "outputs": [],
   "source": [
    "tokenizer = nlp.RegexpTokenizer(\"[A-Za-z]{2,}[0-9]{,1}\")\n",
    "tokens = tokenizer.tokenize(all_words_str)\n",
    "tokens_norm = nlp.lemmatize_tokens(tokens)"
   ]
  },
  {
   "cell_type": "code",
   "execution_count": null,
   "id": "83d7ccf2",
   "metadata": {
    "ExecuteTime": {
     "end_time": "2023-10-10T03:59:16.165691Z",
     "start_time": "2023-10-10T03:59:16.158661Z"
    }
   },
   "outputs": [],
   "source": [
    "print(f\"Number of tokens: {len(tokens)}\")\n",
    "print(f\"Number of unique tokens: {len(set(tokens))}\")\n",
    "print(f\"Number of unique lemmatized tokens: {len(set(tokens_norm))}\")"
   ]
  },
  {
   "cell_type": "code",
   "execution_count": null,
   "id": "31593d52",
   "metadata": {
    "ExecuteTime": {
     "end_time": "2023-10-10T03:59:16.354869Z",
     "start_time": "2023-10-10T03:59:16.166542Z"
    }
   },
   "outputs": [],
   "source": [
    "token_length = [len(t) for t in tokens_norm if len(t) < 21]\n",
    "plt.figure(figsize=(8, 8))\n",
    "sns.countplot(y=token_length)\n",
    "plt.title(f\"Token length frequency distribution, Avg={round(np.mean(token_length),2)}\", size=20)\n",
    "plt.savefig(os.path.join(DATA_AND_FIGURES_FOLDER, 'Token_Length_Frequency_in_Corpus.png'))\n",
    "plt.show()"
   ]
  },
  {
   "cell_type": "markdown",
   "id": "dc211f0b",
   "metadata": {},
   "source": [
    "### Stopwords Removal"
   ]
  },
  {
   "cell_type": "code",
   "execution_count": null,
   "id": "10c43a5c",
   "metadata": {
    "ExecuteTime": {
     "end_time": "2023-10-10T03:59:16.358769Z",
     "start_time": "2023-10-10T03:59:16.355651Z"
    }
   },
   "outputs": [],
   "source": [
    "stop_words = nlp.stopwords.words('english')\n",
    "stop_words.extend(['the', \"mayn\", \"br\", \"jats\", \"https\", \"title\", \"abstract\", 'google', 'scholar', \n",
    "                   'abstracttext', 'sub', 'doi', 'org', 'et', 'al', 'text', 'pdf', 'the',\n",
    "                  'full', 'fw', 'pm', 'also', 'per', 'jat', 'sec', 'van', 'die', 'ho', 'le', 'ya', 'ka',\n",
    "                  'und', 'bc', 'oc', 'may', 'jul', 'jun', 'thu', 'http', 'de', 'la', 'tsa', 'di', 'en', 'se', 'tse',\n",
    "                  'wa', 'na', 'der', 'theko', 'ha', 'tot', 'cdm'])"
   ]
  },
  {
   "cell_type": "code",
   "execution_count": null,
   "id": "9b945e1e",
   "metadata": {
    "ExecuteTime": {
     "end_time": "2023-10-10T03:59:16.541017Z",
     "start_time": "2023-10-10T03:59:16.359649Z"
    }
   },
   "outputs": [],
   "source": [
    "freq_stopwords = [(sw, tokens_norm.count(sw)) for sw in stop_words]\n",
    "freq_stopwords.sort(key=lambda x: x[1], reverse=True)\n",
    "\n",
    "n_stopwords = len([t for t in tokens_norm if t.lower() in stop_words])\n",
    "print(f\"{n_stopwords} tokens are stop words. A {round(100*n_stopwords/len(tokens_norm),2)}%.\")"
   ]
  },
  {
   "cell_type": "markdown",
   "id": "064d931e",
   "metadata": {},
   "source": [
    "### Overview Without Stopwords "
   ]
  },
  {
   "cell_type": "code",
   "execution_count": null,
   "id": "d4007cdc",
   "metadata": {
    "ExecuteTime": {
     "end_time": "2023-10-10T03:59:16.671581Z",
     "start_time": "2023-10-10T03:59:16.541902Z"
    },
    "scrolled": true
   },
   "outputs": [],
   "source": [
    "df[\"N° Sentences\"] = df[text_col].apply(nlp.sent_tokenize).apply(len)\n",
    "df[\"Tokens\"] = df[text_col].apply(tokenizer.tokenize)\n",
    "df[\"N° Tokens\"] = df[\"Tokens\"].apply(len)\n",
    "df[\"N° Characters\"] = df[text_col].apply(len)\n",
    "df[\"N° Stopwords\"] = df[\"Tokens\"].apply(lambda tokens: len([t for t in tokens if t.lower() in stop_words]))\n",
    "df[\"% Stopwords\"] = df[\"N° Stopwords\"]/df[\"N° Tokens\"]\n",
    "\n",
    "columns = [cluster_col, 'N° Sentences', 'N° Tokens', 'N° Characters', 'N° Stopwords', '% Stopwords']\n",
    "print('MEAN STATS')\n",
    "display(df[columns].groupby(columns[0])[columns[1:]].mean())\n",
    "print('STD STATS')\n",
    "display(df[columns].groupby(columns[0])[columns[1:]].std())\n",
    "print('MIN STATS')\n",
    "display(df[columns].groupby(columns[0])[columns[1:]].min())\n",
    "print('MAX STATS')\n",
    "display(df[columns].groupby(columns[0])[columns[1:]].max())"
   ]
  },
  {
   "cell_type": "code",
   "execution_count": null,
   "id": "5da7c657",
   "metadata": {
    "ExecuteTime": {
     "end_time": "2023-10-10T03:59:17.307769Z",
     "start_time": "2023-10-10T03:59:16.672468Z"
    }
   },
   "outputs": [],
   "source": [
    "nlp.plot_token_features(df, columns[1:], hue=None, log=True)\n",
    "plt.savefig(os.path.join(DATA_AND_FIGURES_FOLDER, 'Token_Features_in_Corpus.png'))\n",
    "plt.show()"
   ]
  },
  {
   "cell_type": "markdown",
   "id": "586afe00",
   "metadata": {},
   "source": [
    "## Paper's Tokens "
   ]
  },
  {
   "cell_type": "code",
   "execution_count": null,
   "id": "c005aa25",
   "metadata": {
    "ExecuteTime": {
     "end_time": "2023-10-10T03:59:23.891926Z",
     "start_time": "2023-10-10T03:59:17.308641Z"
    }
   },
   "outputs": [],
   "source": [
    "papers_tokens = {row[article_id]: nlp.preprocess_text(row[text_col], stop_words) for _, row in df[[article_id, text_col]].iterrows()}\n",
    "papers_bows = {paper_id: nlp.get_bow_of_text(tokens) for paper_id, tokens in papers_tokens.items()}\n",
    "papers_frequencies = {paper_id: {w: 100*c/len(bows) for w, c in bows.items()} for paper_id, bows in papers_bows.items()}"
   ]
  },
  {
   "cell_type": "markdown",
   "id": "82b4a150",
   "metadata": {},
   "source": [
    "## Countries Mentions"
   ]
  },
  {
   "cell_type": "code",
   "execution_count": null,
   "id": "97a3d92e",
   "metadata": {
    "ExecuteTime": {
     "end_time": "2023-10-10T03:59:23.894447Z",
     "start_time": "2023-10-10T03:59:23.892765Z"
    }
   },
   "outputs": [],
   "source": [
    "create_countries_mentions = not os.path.exists(countries_mentions_file) or recalculate"
   ]
  },
  {
   "cell_type": "code",
   "execution_count": null,
   "id": "a7fc5e05",
   "metadata": {
    "ExecuteTime": {
     "end_time": "2023-10-10T03:59:23.896787Z",
     "start_time": "2023-10-10T03:59:23.895220Z"
    }
   },
   "outputs": [],
   "source": [
    "%%execute $create_countries_mentions\n",
    "countries = [nlp.preprocess_country_name(cc.convert(country.name, to='name_short')) for country in pycountry.countries]"
   ]
  },
  {
   "cell_type": "code",
   "execution_count": null,
   "id": "99dff135",
   "metadata": {
    "ExecuteTime": {
     "end_time": "2023-10-10T03:59:23.898945Z",
     "start_time": "2023-10-10T03:59:23.897450Z"
    }
   },
   "outputs": [],
   "source": [
    "%%execute $create_countries_mentions\n",
    "unused_countries = [\n",
    "    'french southern territories',\n",
    "    'british indian ocean territory',\n",
    "    'st kitts and nevis',\n",
    "    'svalbard and jan mayen islands',\n",
    "    'united states minor outlying islands',\n",
    "    'british virgin islands',\n",
    "    'united states virgin islands',\n",
    "    'reunion',\n",
    "    'macau',\n",
    "    'hong kong',\n",
    "    'mayotte',\n",
    "    'martinique'\n",
    "]\n",
    "countries = [c for c in countries if c not in unused_countries]\n",
    "countries.sort()"
   ]
  },
  {
   "cell_type": "code",
   "execution_count": null,
   "id": "a9757c78",
   "metadata": {
    "ExecuteTime": {
     "end_time": "2023-10-10T03:59:23.901070Z",
     "start_time": "2023-10-10T03:59:23.899701Z"
    }
   },
   "outputs": [],
   "source": [
    "%%execute $create_countries_mentions \n",
    "demonyms = {}\n",
    "for country in countries:\n",
    "    try:\n",
    "        dem = CountryInfo(country).demonym()\n",
    "        demonyms[dem.lower()] = country\n",
    "    except Exception:\n",
    "        pass"
   ]
  },
  {
   "cell_type": "code",
   "execution_count": null,
   "id": "ac2b9fb1",
   "metadata": {
    "ExecuteTime": {
     "end_time": "2023-10-10T03:59:23.903187Z",
     "start_time": "2023-10-10T03:59:23.901779Z"
    }
   },
   "outputs": [],
   "source": [
    "%%execute $create_countries_mentions\n",
    "papers_tokens_df = pd.concat({key: pd.Series(value) for key, value in papers_tokens.items()}, axis=1)\n",
    "papers_tokens_df.to_csv(os.path.join(DATA_AND_FIGURES_FOLDER, 'Tokens_by_Paper.csv'))"
   ]
  },
  {
   "cell_type": "code",
   "execution_count": null,
   "id": "480eac42",
   "metadata": {},
   "outputs": [],
   "source": [
    "%%execute $create_countries_mentions\n",
    "countries_in_papers = {}\n",
    "for paper_id, _df in tqdm(papers_tokens_df.items()):\n",
    "    if paper_id not in countries_in_papers:\n",
    "        countries_in_papers[paper_id] = _df.apply(lambda x: nlp.find_countries_in_paper(x, countries, demonyms))"
   ]
  },
  {
   "cell_type": "code",
   "execution_count": null,
   "id": "ddb29298",
   "metadata": {},
   "outputs": [],
   "source": [
    "%%execute $create_countries_mentions\n",
    "countries_mentions = []\n",
    "for paper, c in countries_in_papers.items():\n",
    "    c.columns = [paper]\n",
    "    countries_mentions.append(c)\n",
    "countries_mentions = pd.concat(countries_mentions, axis=1)"
   ]
  },
  {
   "cell_type": "code",
   "execution_count": null,
   "id": "7c6e9e33",
   "metadata": {
    "ExecuteTime": {
     "end_time": "2023-10-10T03:12:01.917485Z",
     "start_time": "2023-10-10T03:12:01.755512Z"
    }
   },
   "outputs": [],
   "source": [
    "%%execute $create_countries_mentions\n",
    "frames = []\n",
    "\n",
    "for col in countries_mentions.columns:\n",
    "    if not countries_mentions[col].isna().all() and isinstance(countries_mentions[col].dropna().iloc[0], tuple):\n",
    "        s1 = countries_mentions[col].str[0]\n",
    "        s2 = countries_mentions[col].str[1]\n",
    "        temp_df = pd.DataFrame({(col, 'country'): s1, (col, 'found_token'): s2})\n",
    "        frames.append(temp_df)\n",
    "    else:\n",
    "        temp_df = pd.DataFrame({(col, 'country'): np.nan, (col, 'found_token'): np.nan}, index=countries_mentions.index)\n",
    "        frames.append(temp_df)\n",
    "countries_mentions = pd.concat(frames, axis=1)"
   ]
  },
  {
   "cell_type": "code",
   "execution_count": null,
   "id": "1bdbddbd",
   "metadata": {
    "ExecuteTime": {
     "end_time": "2023-10-10T03:59:23.912433Z",
     "start_time": "2023-10-10T03:59:23.910682Z"
    }
   },
   "outputs": [],
   "source": [
    "%%execute $create_countries_mentions\n",
    "countries_mentions.to_parquet(countries_mentions_file)"
   ]
  },
  {
   "cell_type": "code",
   "execution_count": null,
   "id": "6360b644",
   "metadata": {
    "ExecuteTime": {
     "end_time": "2023-10-10T03:59:24.003142Z",
     "start_time": "2023-10-10T03:59:23.913260Z"
    }
   },
   "outputs": [],
   "source": [
    "%%execute not $create_countries_mentions\n",
    "countries_mentions = pd.read_parquet(countries_mentions_file)"
   ]
  },
  {
   "cell_type": "markdown",
   "id": "10a3e683",
   "metadata": {},
   "source": [
    "### Visualize Countries Mentions"
   ]
  },
  {
   "cell_type": "code",
   "execution_count": null,
   "id": "5c098982",
   "metadata": {},
   "outputs": [],
   "source": [
    "years = np.sort(df[time_col].unique())\n",
    "yearly_mentions = []\n",
    "for year in years:\n",
    "    year_papers = df.loc[df[time_col] == year, article_id].values\n",
    "    year_countries_mentions = countries_mentions[year_papers].loc[:, pd.IndexSlice[:,'country']].melt()\n",
    "    year_countries_mentions = year_countries_mentions.drop_duplicates()\n",
    "    year_countries_mentions = year_countries_mentions.dropna()\n",
    "    year_countries_mentions = year_countries_mentions[['value']].value_counts().to_frame()\n",
    "    year_countries_mentions.columns = [year]\n",
    "    year_countries_mentions.index.names = ['country']\n",
    "    yearly_mentions.append(year_countries_mentions)\n",
    "yearly_mentions = pd.concat(yearly_mentions, axis=1).fillna(0).T"
   ]
  },
  {
   "cell_type": "code",
   "execution_count": null,
   "id": "dfd199ff",
   "metadata": {
    "ExecuteTime": {
     "end_time": "2023-10-10T03:04:25.903139Z",
     "start_time": "2023-10-10T03:04:25.894201Z"
    }
   },
   "outputs": [],
   "source": [
    "n = 10\n",
    "top_n_countries = yearly_mentions.sum(axis=0).sort_values(ascending=False).head(n).index\n",
    "mentions_to_plot = yearly_mentions.loc[:, top_n_countries]\n",
    "df_new = mentions_to_plot.copy()\n",
    "df_new.index = mentions_to_plot.index\n",
    "df_new.index = [f'{i}-{i+1}' for i in df_new.index]\n",
    "mentions_to_plot = mentions_to_plot.groupby(df_new.index).sum()\n",
    "mentions_to_plot.columns = [c[0].title() for c in mentions_to_plot.columns]"
   ]
  },
  {
   "cell_type": "code",
   "execution_count": null,
   "id": "7b78182d",
   "metadata": {
    "ExecuteTime": {
     "end_time": "2023-10-10T03:05:26.608130Z",
     "start_time": "2023-10-10T03:05:26.410310Z"
    }
   },
   "outputs": [],
   "source": [
    "color = sns.color_palette('Paired')\n",
    "ax = mentions_to_plot.plot(figsize=(21,7), color=color)\n",
    "ax.axvline(5.5, color='g', linestyle='--', zorder=1)\n",
    "ax.text(5.4, 0.925 * plt.ylim()[1], 'Paris Agreement', \n",
    "        horizontalalignment='right', \n",
    "        verticalalignment='top', \n",
    "        color='g')\n",
    "\n",
    "ax.set_title('Amount of Papers that Mention Each Country by Period')\n",
    "_ = ax.set_ylabel(\"N° Papers' Mentions\")\n",
    "plt.savefig(os.path.join(DATA_AND_FIGURES_FOLDER, 'Mentions_in_Articles_by_Paper.png'))\n",
    "plt.show()"
   ]
  },
  {
   "cell_type": "markdown",
   "id": "02e8f46a",
   "metadata": {},
   "source": [
    "## Cluster's Keywords"
   ]
  },
  {
   "cell_type": "code",
   "execution_count": null,
   "id": "4bb0c39e",
   "metadata": {},
   "outputs": [],
   "source": [
    "clusters = {}\n",
    "for cl in df[cluster_col].unique():\n",
    "    cl_papers = df.loc[df[cluster_col] == cl, article_id].values\n",
    "    clusters[cl] = pd.DataFrame({paper_id: papers_frequencies[paper_id] for paper_id in cl_papers}).fillna(0)"
   ]
  },
  {
   "cell_type": "code",
   "execution_count": null,
   "id": "c7e7ece8",
   "metadata": {},
   "outputs": [],
   "source": [
    "bows = nlp.get_dataframe_bow(df, text_col, True, stop_words, True)\n",
    "bows.index = pd.MultiIndex.from_frame(df[[article_id, cluster_col]])\n",
    "tfidf = nlp.get_tfidf(bows)"
   ]
  },
  {
   "cell_type": "code",
   "execution_count": null,
   "id": "8b9f8b74",
   "metadata": {},
   "outputs": [],
   "source": [
    "agg_functions = [\"mean\", \"median\", \"std\", \"max\", \"min\"]\n",
    "clusters_stats = bows.groupby(cluster_col).agg(agg_functions)\n",
    "clusters_stats = (clusters_stats.stack(level=0)\n",
    "                              .unstack(level=0)\n",
    "                              .swaplevel(1, 0, axis=1)\n",
    "                              .sort_index(axis=1, level=[0])\n",
    "                )"
   ]
  },
  {
   "cell_type": "code",
   "execution_count": null,
   "id": "048c50ba",
   "metadata": {},
   "outputs": [],
   "source": [
    "words_by_cluster = []\n",
    "for cl, g in clusters_stats.groupby(level=0, axis=1):\n",
    "    g = g.copy(deep=True)\n",
    "    g.index.names = [(cl, 'word')]\n",
    "    words_by_cluster.append(g.reset_index().reset_index(drop=True))\n",
    "words_by_cluster = pd.concat(words_by_cluster, axis=1)\n",
    "words_by_cluster = nlp.sort_multiindex_dataframe(words_by_cluster, ['word', 'mean'], 'mean')"
   ]
  },
  {
   "cell_type": "code",
   "execution_count": null,
   "id": "4574414b",
   "metadata": {},
   "outputs": [],
   "source": [
    "words_by_cluster"
   ]
  },
  {
   "cell_type": "code",
   "execution_count": null,
   "id": "0cf0008b",
   "metadata": {},
   "outputs": [],
   "source": [
    "percentage = 1.5\n",
    "n = int(clusters_stats.shape[0] * (percentage / 100))\n",
    "top_means = clusters_stats.xs(key='mean', axis=1, level=1).apply(lambda x: x.nlargest(n).index, axis=0)\n",
    "clusters_bows = top_means.to_dict()\n",
    "clusters_bows = {k: list(v.values()) for k, v in clusters_bows.items()}\n",
    "common_bow = set(clusters_bows[list(clusters_bows.keys())[0]])  # Start with the first cluster's BOW\n",
    "for bow in clusters_bows.values():\n",
    "    common_bow = common_bow.intersection(bow)\n",
    "len(common_bow)"
   ]
  },
  {
   "cell_type": "code",
   "execution_count": null,
   "id": "cbdb82e8",
   "metadata": {},
   "outputs": [],
   "source": [
    "selected_cols = ['word', 'mean']\n",
    "unique_words_by_cluster = []\n",
    "for cl in words_by_cluster.columns.get_level_values(0).unique():\n",
    "    words = words_by_cluster.loc[:, [(cl, col) for col in selected_cols]]\n",
    "    words = words.loc[~words[(cl, 'word')].isin(common_bow)].reset_index(drop=True)\n",
    "    unique_words_by_cluster.append(words)\n",
    "unique_words_by_cluster = pd.concat(unique_words_by_cluster, axis=1)"
   ]
  },
  {
   "cell_type": "code",
   "execution_count": null,
   "id": "07a422ac",
   "metadata": {},
   "outputs": [],
   "source": [
    "unique_words_by_cluster"
   ]
  },
  {
   "cell_type": "markdown",
   "id": "98be869c",
   "metadata": {},
   "source": [
    "## Clusters Names"
   ]
  },
  {
   "cell_type": "code",
   "execution_count": null,
   "id": "359d7765",
   "metadata": {},
   "outputs": [],
   "source": [
    "print('Removed Words:')\n",
    "', '.join(word.title() for word in common_bow)"
   ]
  },
  {
   "cell_type": "code",
   "execution_count": null,
   "id": "e98052b9",
   "metadata": {},
   "outputs": [],
   "source": [
    "selected_cols = ['word', 'mean']\n",
    "words_amount = 7\n",
    "cluster_names = {}\n",
    "for cl in unique_words_by_cluster.columns.get_level_values(0).unique():\n",
    "    words = (unique_words_by_cluster.loc[:, [(cl, col) for col in selected_cols]]\n",
    "             .nlargest(words_amount, columns=[(cl, 'mean')])\n",
    "             [(cl, 'word')].values)\n",
    "    name = ', '.join(word.title() for word in list(words))\n",
    "    cluster_names[cl] = name\n",
    "\n",
    "for k, v in cluster_names.items():\n",
    "    print(f'Cluster {k}: {v}')"
   ]
  },
  {
   "cell_type": "code",
   "execution_count": null,
   "id": "9e8f46fa",
   "metadata": {},
   "outputs": [],
   "source": [
    "cluster_names_col = f'{cluster_col} names'\n",
    "df[cluster_names_col] = df[cluster_col].map(cluster_names)\n",
    "df = df.sort_values(cluster_col, ascending=True)"
   ]
  },
  {
   "cell_type": "code",
   "execution_count": null,
   "id": "93d6953b",
   "metadata": {},
   "outputs": [],
   "source": [
    "axes = clustering.plot_clusters_evolution(df.sort_values(cluster_col, ascending=True), cluster_names_col, *umap_cols, time_col, (1987, 2016),\n",
    "                                          plots_kwargs=plots_kwargs)\n",
    "for ax in axes:\n",
    "    umap_centroids = df[[*umap_cols, cluster_col]].groupby(cluster_col).mean().reset_index()\n",
    "    axes[ax] = clustering.add_clusters_centroids(axes[ax], umap_centroids, cluster_col, *umap_cols, \n",
    "                                   **centroids_kwargs[ax])\n",
    "    axes[ax] = clustering.add_clusters_confidence_ellipse(axes[ax], df, cluster_col, *umap_cols, \n",
    "                                            **ellipses_kwargs[ax])\n",
    "plt.savefig(os.path.join(DATA_AND_FIGURES_FOLDER, 'Clusters_Evolution_with_Centroids_and_Confidence_Ellipses.png'))\n",
    "plt.show()"
   ]
  },
  {
   "cell_type": "code",
   "execution_count": null,
   "id": "2e58ce34",
   "metadata": {},
   "outputs": [],
   "source": [
    "clusters_papers_count = df.groupby(time_col)[cluster_names_col].value_counts().to_frame().sort_index(axis=1, level=1)\n",
    "clusters_papers_count = clusters_papers_count.reset_index().set_index(time_col)\n",
    "years_span = 1\n",
    "clusters_papers_count.index = clusters_papers_count.index // years_span * years_span\n",
    "if years_span != 1:\n",
    "    clusters_papers_count.index = [f'{i}-{i+years_span-1}' for i in clusters_papers_count.index]\n",
    "\n",
    "clusters_papers_count = clusters_papers_count.groupby([pd.Grouper(level=0), cluster_names_col]).sum()\n",
    "clusters_papers_count.index.names = [time_col, cluster_names_col]\n",
    "clusters_papers_count = clusters_papers_count.sort_index()"
   ]
  },
  {
   "cell_type": "code",
   "execution_count": null,
   "id": "a4b3ed81",
   "metadata": {},
   "outputs": [],
   "source": [
    "import matplotlib.lines as mlines\n",
    "\n",
    "normalized = False\n",
    "\n",
    "fig, ax = plt.subplots(1, 1, figsize=(21,7))\n",
    "\n",
    "clusters_growth = clusters_papers_count.unstack()\n",
    "clusters_growth.columns.names = ['', 'Clusters'] \n",
    "clusters_growth.columns = clusters_growth.columns.droplevel(0)\n",
    "\n",
    "clusters = clusters_growth.columns.get_level_values(0).unique().sort_values()\n",
    "years = clusters_growth.index.unique().sort_values()\n",
    "\n",
    "if normalized:\n",
    "    yearly_totals = clusters_growth.sum(axis=1).to_frame()\n",
    "    clusters_growth = clusters_growth.div(yearly_totals.values, level=0)\n",
    "\n",
    "colors = sns.color_palette(\"Paired\", len(clusters))\n",
    "colors = {cl: c for cl, c in zip(clusters, colors)}\n",
    "\n",
    "art_proxies = {}\n",
    "for cluster in clusters:\n",
    "    cluster_papers = clusters_growth.loc[:, cluster]\n",
    "    cluster_papers = cluster_papers.reindex(years, fill_value=0)\n",
    "    ax.plot(years, cluster_papers.values, c=colors[cluster], label=cluster)\n",
    "    art_proxies[cluster] = mlines.Line2D([], [], color=colors[cluster], marker='o', linestyle='None', markersize=10, label=cl)\n",
    "\n",
    "#ax.axvline(6.5, color='g', linestyle='-')\n",
    "\n",
    "plt.title('Amount of Papers per Period by Cluster')\n",
    "ax.set_ylabel('N° Papers')\n",
    "ax.set_xlabel('Year')\n",
    "\n",
    "# Fetch the proxy artists for legend\n",
    "handles = [art_proxies[cl] for cl in clusters]\n",
    "labels = clusters\n",
    "\n",
    "lgnd = fig.legend(handles, labels, loc='center right', bbox_to_anchor=(0.2925, 0.6))\n",
    "\n",
    "plt.savefig(os.path.join(DATA_AND_FIGURES_FOLDER, 'Total_Growth_by_Time_per_Cluster_with_Label.png'))\n",
    "plt.show()"
   ]
  },
  {
   "cell_type": "markdown",
   "id": "def182b8",
   "metadata": {},
   "source": [
    "## Data Store"
   ]
  },
  {
   "cell_type": "code",
   "execution_count": null,
   "id": "3aef557f",
   "metadata": {},
   "outputs": [],
   "source": [
    "df.to_csv(os.path.join(DATA_AND_FIGURES_FOLDER, 'articles_data.csv'))"
   ]
  },
  {
   "cell_type": "markdown"
   "id": "04cbcd3e",
   "metadata": {},
   "source": [
    "***"
   ]
  }
 ],
 "metadata": {
  "kernelspec": {
   "display_name": "tools",
   "language": "python",
   "name": "tools"
  },
  "language_info": {
   "codemirror_mode": {
    "name": "ipython",
    "version": 3
   },
   "file_extension": ".py",
   "mimetype": "text/x-python",
   "name": "python",
   "nbconvert_exporter": "python",
   "pygments_lexer": "ipython3",
   "version": "3.8.18"
  },
  "toc": {
   "base_numbering": 1,
   "nav_menu": {},
   "number_sections": true,
   "sideBar": true,
   "skip_h1_title": false,
   "title_cell": "Table of Contents",
   "title_sidebar": "Contents",
   "toc_cell": false,
   "toc_position": {},
   "toc_section_display": true,
   "toc_window_display": false
  }
 },
 "nbformat": 4,
 "nbformat_minor": 5
}
