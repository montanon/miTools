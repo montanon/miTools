{
 "cells": [
  {
   "cell_type": "code",
   "execution_count": null,
   "id": "e80f5fcb",
   "metadata": {
    "ExecuteTime": {
     "end_time": "2023-10-11T04:31:29.995804Z",
     "start_time": "2023-10-11T04:31:29.686886Z"
    }
   },
   "outputs": [],
   "source": [
    "import os\n",
    "import pandas as pd\n",
    "from mitools import regressions as reg\n",
    "from mitools import utils\n",
    "import time\n",
    "\n",
    "from tqdm import tqdm\n",
    "from pathlib import Path"
   ]
  },
  {
   "cell_type": "markdown",
   "id": "4215bad3",
   "metadata": {},
   "source": [
    "# STATA Logs to DataFrame"
   ]
  },
  {
   "cell_type": "code",
   "execution_count": null,
   "id": "44c95c6b",
   "metadata": {},
   "outputs": [],
   "source": [
    "DB_PATH = Path('/Users/sebastian/Desktop/MontagnaInc/Research/DataWork/datamanagement')\n",
    "OLS_DF_PATH = DB_PATH / 'OLS_Results.xlsx'\n",
    "CSARDL_DF_PATH = DB_PATH / 'CSARDL_Results.xlsx'\n",
    "LOGS_FOLDER = DB_PATH / 'logs'\n",
    "INDICATOR_NAMES_MAP = DB_PATH / 'indicator_name_map.xlsx'"
   ]
  },
  {
   "cell_type": "code",
   "execution_count": null,
   "id": "3ce2b265",
   "metadata": {
    "ExecuteTime": {
     "end_time": "2023-10-11T04:31:30.070290Z",
     "start_time": "2023-10-11T04:31:29.996942Z"
    }
   },
   "outputs": [],
   "source": [
    "indicator_names = pd.read_excel(INDICATOR_NAMES_MAP, index_col='New Name')\n",
    "folders = ['High income', 'Low income', 'Lower middle income', 'Upper middle income', 'All countries']\n",
    "folders = [os.path.join(LOGS_FOLDER, folder) for folder in folders]\n",
    "log_paths = [os.path.join(folder, f) for folder in folders for f in os.listdir(folder) if f.endswith('.log')]"
   ]
  },
  {
   "cell_type": "code",
   "execution_count": null,
   "id": "ff52a555",
   "metadata": {},
   "outputs": [],
   "source": [
    "results = reg.threaded_process_logs(log_paths, n_threads=4)"
   ]
  },
  {
   "cell_type": "code",
   "execution_count": null,
   "id": "c45f1af4",
   "metadata": {},
   "outputs": [],
   "source": [
    "income_ols_df = pd.concat(results[0::2])\n",
    "income_csardl_df = pd.concat(results[1::2])"
   ]
  },
  {
   "cell_type": "code",
   "execution_count": null,
   "id": "32509f7a",
   "metadata": {},
   "outputs": [],
   "source": [
    "income_ols_df = reg.mask_results(income_ols_df, indicator_names)\n",
    "income_csardl_df = reg.mask_results(income_csardl_df, indicator_names)"
   ]
  },
  {
   "cell_type": "code",
   "execution_count": null,
   "id": "7e3e11b4",
   "metadata": {},
   "outputs": [],
   "source": [
    "income_ols_df.reset_index().to_excel(OLS_DF_PATH)\n",
    "income_ols_df"
   ]
  },
  {
   "cell_type": "code",
   "execution_count": null,
   "id": "774feba0",
   "metadata": {},
   "outputs": [],
   "source": [
    "income_csardl_df.reset_index().to_excel(CSARDL_DF_PATH)\n",
    "income_csardl_df"
   ]
  },
  {
   "cell_type": "markdown",
   "id": "5a6e39ae",
   "metadata": {},
   "source": [
    "***"
   ]
  }
 ],
 "metadata": {
  "kernelspec": {
   "display_name": "tools",
   "language": "python",
   "name": "tools"
  },
  "language_info": {
   "codemirror_mode": {
    "name": "ipython",
    "version": 3
   },
   "file_extension": ".py",
   "mimetype": "text/x-python",
   "name": "python",
   "nbconvert_exporter": "python",
   "pygments_lexer": "ipython3",
   "version": "3.8.18"
  },
  "toc": {
   "base_numbering": 1,
   "nav_menu": {},
   "number_sections": true,
   "sideBar": true,
   "skip_h1_title": false,
   "title_cell": "Table of Contents",
   "title_sidebar": "Contents",
   "toc_cell": false,
   "toc_position": {},
   "toc_section_display": true,
   "toc_window_display": false
  }
 },
 "nbformat": 4,
 "nbformat_minor": 5
}
