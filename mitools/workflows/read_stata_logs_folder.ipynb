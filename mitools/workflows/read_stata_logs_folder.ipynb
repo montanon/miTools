{
 "cells": [
  {
   "cell_type": "code",
   "execution_count": null,
   "id": "e80f5fcb",
   "metadata": {
    "ExecuteTime": {
     "end_time": "2023-10-11T04:31:29.995804Z",
     "start_time": "2023-10-11T04:31:29.686886Z"
    }
   },
   "outputs": [],
   "source": [
    "import os\n",
    "import pandas as pd\n",
    "from mitools import regressions as reg\n",
    "from mitools import utils\n",
    "import time\n",
    "\n",
    "from tqdm import tqdm\n",
    "from pathlib import Path"
   ]
  },
  {
   "cell_type": "markdown",
   "id": "4215bad3",
   "metadata": {},
   "source": [
    "# STATA Logs to DataFrame"
   ]
  },
  {
   "cell_type": "code",
   "execution_count": null,
   "id": "44c95c6b",
   "metadata": {},
   "outputs": [],
   "source": [
    "DB_PATH = Path('/Users/sebastian/Desktop/MontagnaInc/Research/DataWork/datamanagement')\n",
    "OLS_DF_PATH = DB_PATH / 'OLS_Results.xlsx'\n",
    "CSARDL_DF_PATH = DB_PATH / 'CSARDL_Results.xlsx'\n",
    "XTREG_DF_PATH = DB_PATH / 'XTREG_Results.xlsx'\n",
    "LOGS_FOLDER = DB_PATH / 'logs' / 'ols_logs'\n",
    "INDICATOR_NAMES_MAP = DB_PATH / 'indicator_name_map.xlsx'\n",
    "\n",
    "model_paths = {\n",
    "    'xtreg': XTREG_DF_PATH,\n",
    "    'csardl': CSARDL_DF_PATH,\n",
    "    'ols': OLS_DF_PATH\n",
    "}"
   ]
  },
  {
   "cell_type": "code",
   "execution_count": null,
   "id": "a4044820",
   "metadata": {},
   "outputs": [],
   "source": [
    "model_types=['xtreg', 'csardl']\n",
    "folders = ['High income', 'Low income', 'Lower middle income', 'Upper middle income', 'All countries']"
   ]
  },
  {
   "cell_type": "code",
   "execution_count": null,
   "id": "3ce2b265",
   "metadata": {},
   "outputs": [],
   "source": [
    "indicator_names = pd.read_excel(INDICATOR_NAMES_MAP, index_col='New Name')\n",
    "folders = [os.path.join(LOGS_FOLDER, folder) for folder in folders]\n",
    "log_paths = [os.path.join(folder, f) for folder in folders for f in os.listdir(folder) if f.endswith('.log')]"
   ]
  },
  {
   "cell_type": "code",
   "execution_count": null,
   "id": "ff52a555",
   "metadata": {},
   "outputs": [],
   "source": [
    "results = reg.process_logs(log_paths, model_types=model_types)"
   ]
  },
  {
   "cell_type": "code",
   "execution_count": null,
   "id": "c45f1af4",
   "metadata": {},
   "outputs": [],
   "source": [
    "for model_type in model_types:\n",
    "    df = reg.mask_results(results[model_type], indicator_names)\n",
    "    path = model_paths[model_type]\n",
    "    df.reset_index().to_excel(path)"
   ]
  },
  {
   "cell_type": "markdown",
   "id": "5a6e39ae",
   "metadata": {},
   "source": [
    "***"
   ]
  }
 ],
 "metadata": {
  "kernelspec": {
   "display_name": "tools",
   "language": "python",
   "name": "tools"
  },
  "language_info": {
   "codemirror_mode": {
    "name": "ipython",
    "version": 3
   },
   "file_extension": ".py",
   "mimetype": "text/x-python",
   "name": "python",
   "nbconvert_exporter": "python",
   "pygments_lexer": "ipython3",
   "version": "3.8.18"
  },
  "toc": {
   "base_numbering": 1,
   "nav_menu": {},
   "number_sections": true,
   "sideBar": true,
   "skip_h1_title": false,
   "title_cell": "Table of Contents",
   "title_sidebar": "Contents",
   "toc_cell": false,
   "toc_position": {},
   "toc_section_display": true,
   "toc_window_display": false
  }
 },
 "nbformat": 4,
 "nbformat_minor": 5
}
