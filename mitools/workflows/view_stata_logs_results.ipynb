{
 "cells": [
  {
   "cell_type": "code",
   "execution_count": null,
   "metadata": {},
   "outputs": [],
   "source": [
    "import pandas as pd\n",
    "from mitools import regressions as reg\n",
    "import os\n",
    "from pathlib import Path"
   ]
  },
  {
   "cell_type": "code",
   "execution_count": null,
   "id": "f597b99f",
   "metadata": {},
   "outputs": [],
   "source": [
    "DB_PATH = Path('/Users/sebastian/Desktop/MontagnaInc/Research/DataWork/datamanagement')\n",
    "OLS_DF_PATH = DB_PATH / 'OLS_Results.xlsx'\n",
    "CSARDL_DF_PATH = DB_PATH / 'CSARDL_Results.xlsx'"
   ]
  },
  {
   "cell_type": "code",
   "execution_count": null,
   "id": "e728e4dd",
   "metadata": {
    "ExecuteTime": {
     "end_time": "2023-10-11T05:29:28.141649Z",
     "start_time": "2023-10-11T05:29:28.138239Z"
    }
   },
   "outputs": [],
   "source": [
    "meaningful_indicators = {\n",
    "\n",
    "'Income & Savings': [\n",
    "'Adjusted net national income (current US$)',\n",
    "'Adjusted net national income per capita (current US$)',\n",
    "'Adjusted savings: particulate emission damage (current US$)',\n",
    "],\n",
    "  \n",
    "'Green Indicators': [\n",
    "'Emissions Intensity',\n",
    "'Energy Intensity',\n",
    "'Energy Productivity',\n",
    "],\n",
    "    \n",
    "'Ecological Footprint': [\n",
    "'Agriculture Eco Footprint',\n",
    "'Carbon Eco Footprint',\n",
    "'Cropland Eco Footprint',\n",
    "'Fishing Grounds Eco Footprint',\n",
    "'Forest Products Eco Footprint',\n",
    "'Total Eco Footprint',\n",
    "],\n",
    "    \n",
    "'Value Added': [    \n",
    "'Agriculture, forestry, and fishing, value added (% of GDP)',\n",
    "'Agriculture, forestry, and fishing, value added (current US$)',\n",
    "'Industry (including construction), value added (% of GDP)',\n",
    "'Industry (including construction), value added (current US$)',\n",
    "'Manufacturing, value added (% of GDP)',\n",
    "'Manufacturing, value added (current US$)',\n",
    "'Medium and high-tech manufacturing value added (% manufacturing value added)',\n",
    "'Services, value added (% of GDP)',\n",
    "'Services, value added (current US$)',\n",
    "],\n",
    "\n",
    "'Freshwater': [\n",
    "'Annual freshwater withdrawals, agriculture (% of total freshwater withdrawal)',\n",
    "],\n",
    "    \n",
    "'Silvo-Agripiscicultural': [\n",
    "'Cereal production (metric tons)',\n",
    "'Cereal yield (kg per hectare)',\n",
    "'Fertilizer consumption (kilograms per hectare of arable land)',\n",
    "'Aquaculture production (metric tons)',\n",
    "'Capture fisheries production (metric tons)',\n",
    "'Total fisheries production (metric tons)',\n",
    "'Forest rents (% of GDP)',\n",
    "],\n",
    "    \n",
    "'Population': [\n",
    "'Birth rate, crude (per 1,000 people)',\n",
    "'Urban population (% of total population)',\n",
    "'Rural population (% of total population)',\n",
    "'Rural population growth (annual %)',\n",
    "],\n",
    "\n",
    "'Emissions': [\n",
    "'Agricultural methane emissions (thousand metric tons of CO2 equivalent)',\n",
    "'Agricultural nitrous oxide emissions (thousand metric tons of CO2 equivalent)',\n",
    "'CO2 emissions (kg per PPP $ of GDP)',\n",
    "'CO2 emissions (kt)',\n",
    "'CO2 emissions (metric tons per capita)',\n",
    "'Methane emissions (kt of CO2 equivalent)',\n",
    "'Methane emissions in energy sector (thousand metric tons of CO2 equivalent)',\n",
    "'Total greenhouse gas emissions (kt of CO2 equivalent)',\n",
    "],\n",
    "    \n",
    "'Employment': [    \n",
    "'Employment in agriculture (% of total employment) (modeled ILO estimate)',\n",
    "'Employment in industry (% of total employment) (modeled ILO estimate)',\n",
    "'Employment in services (% of total employment) (modeled ILO estimate)',\n",
    "],\n",
    "  \n",
    "'GDP': [\n",
    "'GDP (current US$)_log',\n",
    "'GDP per capita (current US$)_log',\n",
    "'GDP per capita, PPP (current international $)_in_10_years_log',\n",
    "'GDP per capita, PPP (current international $)_in_5_years_log',\n",
    "'GDP per capita, PPP (current international $)_in_3_years_log',\n",
    "'GDP per capita, PPP (current international $)_log',\n",
    "'GDP, PPP (current international $)_in_10_years_log',\n",
    "'GDP, PPP (current international $)_in_5_years_log',\n",
    "'GDP, PPP (current international $)_in_3_years_log',\n",
    "'GDP, PPP (current international $)_log',\n",
    "],\n",
    "    \n",
    "'GNI': [    \n",
    "'GNI (current US$)_log',\n",
    "'GNI, PPP (current international $)_log',\n",
    "],\n",
    "\n",
    "'Science & Technology Publications': [\n",
    "'Total Patents',\n",
    "'Scientific and technical journal articles',\n",
    "],\n",
    "    \n",
    "'Exports & Imports': [\n",
    "'Exports of goods and services (current US$)',\n",
    "'Merchandise imports (current US$)',\n",
    "'Transport services (% of commercial service exports)',\n",
    "'Computer, communications and other services (% of commercial service exports)',\n",
    "]\n",
    "\n",
    "}"
   ]
  },
  {
   "cell_type": "code",
   "execution_count": null,
   "id": "fbc03bfc",
   "metadata": {
    "ExecuteTime": {
     "end_time": "2023-10-11T05:29:40.697978Z",
     "start_time": "2023-10-11T05:29:28.142976Z"
    }
   },
   "outputs": [],
   "source": [
    "path = CSARDL_DF_PATH\n",
    "\n",
    "dataframe = pd.read_excel(path, index_col=0)\n",
    "\n",
    "if path == CSARDL_DF_PATH:\n",
    "    dataframe = dataframe.set_index(['Dep Var', 'Indep Var', 'Income', 'Lag', 'Time Span', 'Variable'])\n",
    "elif path == OLS_DF_PATH:\n",
    "    dataframe = dataframe.set_index(['Dep Var', 'Indep Var', 'Income', 'Variable'])"
   ]
  },
  {
   "cell_type": "code",
   "execution_count": null,
   "id": "d82779e6",
   "metadata": {},
   "outputs": [],
   "source": [
    "dataframe = dataframe[dataframe.index.get_level_values(0).notna()]\n",
    "dataframe"
   ]
  },
  {
   "cell_type": "markdown",
   "id": "9b8b89af",
   "metadata": {},
   "source": [
    "## Emissions Intensity"
   ]
  },
  {
   "cell_type": "code",
   "execution_count": null,
   "id": "3a4177ce",
   "metadata": {},
   "outputs": [],
   "source": [
    "columns = ['Income', 'Lag']\n",
    "sub_columns_filters = {\n",
    "    'Lag': [],\n",
    "    'Income': []\n",
    "}\n",
    "sub_index_filters = {\n",
    "    'Indep Var': ['ECI', 'Agriculture ECI', 'Fishing ECI', 'Food & Beverages ECI',\n",
    "       'Machinery ECI', 'Metal Products ECI', 'Mining & Quarrying ECI',\n",
    "       'Other Manufacturing ECI', 'Petroleum, Chemicals & Non-Metals ECI',\n",
    "       'Textiles & Wearing Apparel ECI', 'Transport Equipment ECI',\n",
    "       'Wood & Paper ECI']\n",
    "}\n",
    "indicators = [\n",
    "'Emissions Intensity_log',\n",
    "]\n",
    "\n",
    "view = reg.df_view(dataframe, indicators, columns, sub_columns_filters, sub_index_filters, 'Income', 'Indep Var')\n",
    "display(view)"
   ]
  },
  {
   "cell_type": "code",
   "execution_count": null,
   "id": "03b19c98",
   "metadata": {
    "ExecuteTime": {
     "end_time": "2023-10-11T06:08:58.383327Z",
     "start_time": "2023-10-11T06:08:58.026086Z"
    }
   },
   "outputs": [],
   "source": [
    "dfs_to_export = {'All variations': view}\n",
    "sheet_names = ['Low income', 'Lower middle income', 'Upper middle income', 'High income', 'All countries', 'All variations']\n",
    "\n",
    "for income in dataframe.index.get_level_values('Income').unique():\n",
    "    sub_columns_filters['Income'] = [income]\n",
    "    income_view = reg.df_view(dataframe, indicators, columns, sub_columns_filters, sub_index_filters, 'Income', 'Indep Var')\n",
    "    dfs_to_export[income] = income_view\n",
    "    \n",
    "dfs_to_export = [dfs_to_export[n] for n in sheet_names]\n",
    "reg.save_dfs_to_excel(dfs_to_export, sheet_names, DB_PATH / f\"CS-ARDL_{indicators[0]}_Results.xlsx\")"
   ]
  },
  {
   "cell_type": "markdown",
   "id": "74dc3741",
   "metadata": {},
   "source": [
    "## Ln Energy Productivity"
   ]
  },
  {
   "cell_type": "code",
   "execution_count": null,
   "id": "986c771d",
   "metadata": {
    "ExecuteTime": {
     "end_time": "2023-10-11T06:16:04.801117Z",
     "start_time": "2023-10-11T06:16:04.545270Z"
    },
    "scrolled": true
   },
   "outputs": [],
   "source": [
    "columns = ['Income', 'Lag']\n",
    "sub_columns_filters = {\n",
    "    'Lag': [],\n",
    "    'Income': []\n",
    "}\n",
    "sub_index_filters = {\n",
    "    'Indep Var': ['ECI', 'Agriculture ECI', 'Fishing ECI', 'Food & Beverages ECI',\n",
    "       'Machinery ECI', 'Metal Products ECI', 'Mining & Quarrying ECI',\n",
    "       'Other Manufacturing ECI', 'Petroleum, Chemicals & Non-Metals ECI',\n",
    "       'Textiles & Wearing Apparel ECI', 'Transport Equipment ECI',\n",
    "       'Wood & Paper ECI']\n",
    "}\n",
    "indicators = [\n",
    "'Energy Productivity_log',\n",
    "]\n",
    "\n",
    "view = reg.df_view(dataframe, indicators, columns, sub_columns_filters, sub_index_filters, 'Income', 'Indep Var')\n",
    "display(view)"
   ]
  },
  {
   "cell_type": "code",
   "execution_count": null,
   "id": "fd9cfe9b",
   "metadata": {
    "ExecuteTime": {
     "end_time": "2023-10-11T06:16:10.594592Z",
     "start_time": "2023-10-11T06:16:10.168921Z"
    }
   },
   "outputs": [],
   "source": [
    "dfs_to_export = {'All variations': view}\n",
    "sheet_names = ['Low income', 'Lower middle income', 'Upper middle income', 'High income', 'All countries', 'All variations']\n",
    "\n",
    "for income in dataframe.index.get_level_values('Income').unique():\n",
    "    sub_columns_filters['Income'] = [income]\n",
    "    income_view = reg.df_view(dataframe, indicators, columns, sub_columns_filters, sub_index_filters, 'Income', 'Indep Var')\n",
    "    dfs_to_export[income] = income_view\n",
    "    \n",
    "dfs_to_export = [dfs_to_export[n] for n in sheet_names]\n",
    "reg.save_dfs_to_excel(dfs_to_export, sheet_names, DB_PATH / f\"CS-ARDL_{indicators[0]}_Results.xlsx\")"
   ]
  },
  {
   "cell_type": "markdown",
   "id": "28c99ba4",
   "metadata": {},
   "source": [
    "## Ecological Footprint"
   ]
  },
  {
   "cell_type": "code",
   "execution_count": null,
   "id": "6dfbda88",
   "metadata": {
    "ExecuteTime": {
     "end_time": "2023-10-11T06:18:32.511914Z",
     "start_time": "2023-10-11T06:18:32.327544Z"
    }
   },
   "outputs": [],
   "source": [
    "columns = ['Income', 'Lag']\n",
    "sub_columns_filters = {\n",
    "    'Lag': [],\n",
    "    'Income': []\n",
    "}\n",
    "sub_index_filters = {\n",
    "    'Indep Var': ['ECI', 'Agriculture ECI', 'Fishing ECI', 'Food & Beverages ECI',\n",
    "       'Machinery ECI', 'Metal Products ECI', 'Mining & Quarrying ECI',\n",
    "       'Other Manufacturing ECI', 'Petroleum, Chemicals & Non-Metals ECI',\n",
    "       'Textiles & Wearing Apparel ECI', 'Transport Equipment ECI',\n",
    "       'Wood & Paper ECI']\n",
    "}\n",
    "indicators = [\n",
    "'Total Eco Footprint_log',\n",
    "]\n",
    "\n",
    "view = reg.df_view(dataframe, indicators, columns, sub_columns_filters, sub_index_filters, 'Income', 'Indep Var')\n",
    "display(view)"
   ]
  },
  {
   "cell_type": "code",
   "execution_count": null,
   "id": "3a810c73",
   "metadata": {
    "ExecuteTime": {
     "end_time": "2023-10-11T06:18:48.364096Z",
     "start_time": "2023-10-11T06:18:47.938938Z"
    }
   },
   "outputs": [],
   "source": [
    "dfs_to_export = {'All variations': view}\n",
    "sheet_names = ['Low income', 'Lower middle income', 'Upper middle income', 'High income', 'All countries', 'All variations']\n",
    "\n",
    "for income in dataframe.index.get_level_values('Income').unique():\n",
    "    sub_columns_filters['Income'] = [income]\n",
    "    income_view = reg.df_view(dataframe, indicators, columns, sub_columns_filters, sub_index_filters, 'Income', 'Indep Var')\n",
    "    dfs_to_export[income] = income_view\n",
    "    \n",
    "dfs_to_export = [dfs_to_export[n] for n in sheet_names]\n",
    "reg.save_dfs_to_excel(dfs_to_export, sheet_names, DB_PATH / f\"CS-ARDL_{indicators[0]}_Results.xlsx\")"
   ]
  },
  {
   "cell_type": "markdown",
   "id": "479a775f",
   "metadata": {},
   "source": [
    "## GHG Emissions"
   ]
  },
  {
   "cell_type": "code",
   "execution_count": null,
   "id": "b01ce474",
   "metadata": {
    "ExecuteTime": {
     "end_time": "2023-10-11T06:19:39.261627Z",
     "start_time": "2023-10-11T06:19:39.046381Z"
    }
   },
   "outputs": [],
   "source": [
    "columns = ['Income', 'Lag']\n",
    "sub_columns_filters = {\n",
    "    'Lag': [],\n",
    "    'Income': []\n",
    "}\n",
    "sub_index_filters = {\n",
    "    'Indep Var': ['ECI', 'Agriculture ECI', 'Fishing ECI', 'Food & Beverages ECI',\n",
    "       'Machinery ECI', 'Metal Products ECI', 'Mining & Quarrying ECI',\n",
    "       'Other Manufacturing ECI', 'Petroleum, Chemicals & Non-Metals ECI',\n",
    "       'Textiles & Wearing Apparel ECI', 'Transport Equipment ECI',\n",
    "       'Wood & Paper ECI']\n",
    "}\n",
    "indicators = [\n",
    "'Total greenhouse gas emissions (kt of CO2 equivalent)_log',\n",
    "]\n",
    "\n",
    "view = reg.df_view(dataframe, indicators, columns, sub_columns_filters, sub_index_filters, 'Income', 'Indep Var')\n",
    "display(view)"
   ]
  },
  {
   "cell_type": "code",
   "execution_count": null,
   "id": "6d5d0c4e",
   "metadata": {
    "ExecuteTime": {
     "end_time": "2023-10-11T06:19:53.489851Z",
     "start_time": "2023-10-11T06:19:53.070922Z"
    }
   },
   "outputs": [],
   "source": [
    "dfs_to_export = {'All variations': view}\n",
    "sheet_names = ['Low income', 'Lower middle income', 'Upper middle income', 'High income', 'All countries', 'All variations']\n",
    "\n",
    "for income in dataframe.index.get_level_values('Income').unique():\n",
    "    sub_columns_filters['Income'] = [income]\n",
    "    income_view = reg.df_view(dataframe, indicators, columns, sub_columns_filters, sub_index_filters, 'Income', 'Indep Var')\n",
    "    dfs_to_export[income] = income_view\n",
    "    \n",
    "dfs_to_export = [dfs_to_export[n] for n in sheet_names]\n",
    "reg.save_dfs_to_excel(dfs_to_export, sheet_names, DB_PATH / f\"CS-ARDL_{indicators[0]}_Results.xlsx\")"
   ]
  },
  {
   "cell_type": "markdown",
   "id": "c5a8b45b",
   "metadata": {},
   "source": [
    "## GDP"
   ]
  },
  {
   "cell_type": "code",
   "execution_count": null,
   "id": "dff521de",
   "metadata": {
    "ExecuteTime": {
     "end_time": "2023-10-11T06:20:52.049601Z",
     "start_time": "2023-10-11T06:20:51.833202Z"
    },
    "scrolled": true
   },
   "outputs": [],
   "source": [
    "columns = ['Income', 'Lag']\n",
    "sub_columns_filters = {\n",
    "    'Lag': [],\n",
    "    'Income': []\n",
    "}\n",
    "sub_index_filters = {\n",
    "    'Indep Var': ['ECI', 'Agriculture ECI', 'Fishing ECI', 'Food & Beverages ECI',\n",
    "       'Machinery ECI', 'Metal Products ECI', 'Mining & Quarrying ECI',\n",
    "       'Other Manufacturing ECI', 'Petroleum, Chemicals & Non-Metals ECI',\n",
    "       'Textiles & Wearing Apparel ECI', 'Transport Equipment ECI',\n",
    "       'Wood & Paper ECI']\n",
    "}\n",
    "indicators = [\n",
    "'GDP per capita (current US$)_log',\n",
    "]\n",
    "\n",
    "view = reg.df_view(dataframe, indicators, columns, sub_columns_filters, sub_index_filters, 'Income', 'Indep Var')\n",
    "display(view)"
   ]
  },
  {
   "cell_type": "code",
   "execution_count": null,
   "id": "60934499",
   "metadata": {
    "ExecuteTime": {
     "end_time": "2023-10-11T06:21:19.106296Z",
     "start_time": "2023-10-11T06:21:18.685957Z"
    }
   },
   "outputs": [],
   "source": [
    "dfs_to_export = {'All variations': view}\n",
    "sheet_names = ['Low income', 'Lower middle income', 'Upper middle income', 'High income', 'All countries', 'All variations']\n",
    "\n",
    "for income in dataframe.index.get_level_values('Income').unique():\n",
    "    sub_columns_filters['Income'] = [income]\n",
    "    income_view = reg.df_view(dataframe, indicators, columns, sub_columns_filters, sub_index_filters, 'Income', 'Indep Var')\n",
    "    dfs_to_export[income] = income_view\n",
    "    \n",
    "dfs_to_export = [dfs_to_export[n] for n in sheet_names]\n",
    "reg.save_dfs_to_excel(dfs_to_export, sheet_names, DB_PATH / f\"CS-ARDL_{indicators[0]}_Results.xlsx\")"
   ]
  },
  {
   "cell_type": "markdown",
   "id": "57637be3",
   "metadata": {},
   "source": [
    "## GDP Growth"
   ]
  },
  {
   "cell_type": "code",
   "execution_count": null,
   "id": "bc6ec5f1",
   "metadata": {
    "ExecuteTime": {
     "end_time": "2023-10-11T06:23:15.530602Z",
     "start_time": "2023-10-11T06:23:15.337383Z"
    }
   },
   "outputs": [],
   "source": [
    "columns = ['Income', 'Lag']\n",
    "sub_columns_filters = {\n",
    "    'Lag': [],\n",
    "    'Income': []\n",
    "}\n",
    "sub_index_filters = {\n",
    "    'Indep Var': ['ECI', 'Agriculture ECI', 'Fishing ECI', 'Food & Beverages ECI',\n",
    "       'Machinery ECI', 'Metal Products ECI', 'Mining & Quarrying ECI',\n",
    "       'Other Manufacturing ECI', 'Petroleum, Chemicals & Non-Metals ECI',\n",
    "       'Textiles & Wearing Apparel ECI', 'Transport Equipment ECI',\n",
    "       'Wood & Paper ECI']\n",
    "}\n",
    "indicators = [\n",
    "'GDP per capita, PPP (current international $)_in_1_years_log',\n",
    "]\n",
    "\n",
    "view = reg.df_view(dataframe, indicators, columns, sub_columns_filters, sub_index_filters, 'Income', 'Indep Var')\n",
    "display(view)"
   ]
  },
  {
   "cell_type": "code",
   "execution_count": null,
   "id": "c0bf7e2a",
   "metadata": {
    "ExecuteTime": {
     "end_time": "2023-10-11T06:23:55.931231Z",
     "start_time": "2023-10-11T06:23:55.517608Z"
    }
   },
   "outputs": [],
   "source": [
    "dfs_to_export = {'All variations': view}\n",
    "sheet_names = ['Low income', 'Lower middle income', 'Upper middle income', 'High income', 'All countries', 'All variations']\n",
    "\n",
    "for income in dataframe.index.get_level_values('Income').unique():\n",
    "    sub_columns_filters['Income'] = [income]\n",
    "    income_view = reg.df_view(dataframe, indicators, columns, sub_columns_filters, sub_index_filters, 'Income', 'Indep Var')\n",
    "    dfs_to_export[income] = income_view\n",
    "    \n",
    "dfs_to_export = [dfs_to_export[n] for n in sheet_names]\n",
    "reg.save_dfs_to_excel(dfs_to_export, sheet_names, DB_PATH / f\"CS-ARDL_{indicators[0]}_Results.xlsx\")"
   ]
  },
  {
   "cell_type": "markdown",
   "id": "10e1da31",
   "metadata": {},
   "source": [
    "## Energy Intensity"
   ]
  },
  {
   "cell_type": "code",
   "execution_count": null,
   "id": "a845f69e",
   "metadata": {
    "ExecuteTime": {
     "end_time": "2023-10-11T06:17:17.025180Z",
     "start_time": "2023-10-11T06:17:16.834947Z"
    }
   },
   "outputs": [],
   "source": [
    "columns = ['Income', 'Lag']\n",
    "sub_columns_filters = {\n",
    "    'Lag': [],\n",
    "    'Income': []\n",
    "}\n",
    "sub_index_filters = {\n",
    "    'Indep Var': ['ECI', 'Agriculture ECI', 'Fishing ECI', 'Food & Beverages ECI',\n",
    "       'Machinery ECI', 'Metal Products ECI', 'Mining & Quarrying ECI',\n",
    "       'Other Manufacturing ECI', 'Petroleum, Chemicals & Non-Metals ECI',\n",
    "       'Textiles & Wearing Apparel ECI', 'Transport Equipment ECI',\n",
    "       'Wood & Paper ECI']\n",
    "}\n",
    "indicators = [\n",
    "'Energy Intensity_in_1_years',\n",
    "]\n",
    "\n",
    "view = reg.df_view(dataframe, indicators, columns, sub_columns_filters, sub_index_filters, 'Income', 'Indep Var')\n",
    "display(view)"
   ]
  },
  {
   "cell_type": "markdown",
   "id": "d34799c3",
   "metadata": {},
   "source": [
    "***"
   ]
  }
 ],
 "metadata": {
  "kernelspec": {
   "display_name": "tools",
   "language": "python",
   "name": "tools"
  },
  "language_info": {
   "codemirror_mode": {
    "name": "ipython",
    "version": 3
   },
   "file_extension": ".py",
   "mimetype": "text/x-python",
   "name": "python",
   "nbconvert_exporter": "python",
   "pygments_lexer": "ipython3",
   "version": "3.8.18"
  },
  "toc": {
   "base_numbering": 1,
   "nav_menu": {},
   "number_sections": true,
   "sideBar": true,
   "skip_h1_title": false,
   "title_cell": "Table of Contents",
   "title_sidebar": "Contents",
   "toc_cell": false,
   "toc_position": {
    "height": "calc(100% - 180px)",
    "left": "10px",
    "top": "150px",
    "width": "232.882px"
   },
   "toc_section_display": true,
   "toc_window_display": false
  }
 },
 "nbformat": 4,
 "nbformat_minor": 5
}
