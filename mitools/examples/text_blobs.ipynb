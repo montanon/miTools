{
 "cells": [
  {
   "cell_type": "code",
   "execution_count": 2,
   "metadata": {},
   "outputs": [],
   "source": [
    "import mitools.nlp as nlp\n",
    "from mitools.nlp.blobs import TextBlob, Word, WordList"
   ]
  },
  {
   "cell_type": "markdown",
   "metadata": {},
   "source": [
    "# Word"
   ]
  },
  {
   "cell_type": "code",
   "execution_count": 3,
   "metadata": {},
   "outputs": [
    {
     "name": "stdout",
     "output_type": "stream",
     "text": [
      "Running 'Running'\n"
     ]
    }
   ],
   "source": [
    "word = \"Running\"\n",
    "word = Word(word, pos_tag=\"r\")\n",
    "print(word, word.__repr__())"
   ]
  },
  {
   "cell_type": "code",
   "execution_count": 4,
   "metadata": {},
   "outputs": [
    {
     "data": {
      "text/plain": [
       "('Runnings', 'Running')"
      ]
     },
     "execution_count": 4,
     "metadata": {},
     "output_type": "execute_result"
    }
   ],
   "source": [
    "word.pluralize(), word.pluralize().singularize()"
   ]
  },
  {
   "cell_type": "code",
   "execution_count": 5,
   "metadata": {},
   "outputs": [
    {
     "data": {
      "text/plain": [
       "'Running'"
      ]
     },
     "execution_count": 5,
     "metadata": {},
     "output_type": "execute_result"
    }
   ],
   "source": [
    "word.lemma"
   ]
  },
  {
   "cell_type": "code",
   "execution_count": 6,
   "metadata": {},
   "outputs": [
    {
     "data": {
      "text/plain": [
       "'Running'"
      ]
     },
     "execution_count": 6,
     "metadata": {},
     "output_type": "execute_result"
    }
   ],
   "source": [
    "word.lemmatize()"
   ]
  },
  {
   "cell_type": "code",
   "execution_count": 7,
   "metadata": {},
   "outputs": [
    {
     "data": {
      "text/plain": [
       "'run'"
      ]
     },
     "execution_count": 7,
     "metadata": {},
     "output_type": "execute_result"
    }
   ],
   "source": [
    "word.stem()"
   ]
  },
  {
   "cell_type": "code",
   "execution_count": 8,
   "metadata": {},
   "outputs": [
    {
     "data": {
      "text/plain": [
       "['(American football) a play in which a player attempts to carry the ball through or past the opposing team',\n",
       " 'the act of running; traveling on foot at a fast pace',\n",
       " 'the state of being in operation',\n",
       " 'the act of administering or being in charge of something',\n",
       " 'the act of participating in an athletic competition involving running on a track',\n",
       " \"move fast by using one's feet, with one foot off the ground at any given time\",\n",
       " \"flee; take to one's heels; cut and run\",\n",
       " 'stretch out over a distance, space, time, or scope; run or extend between two points or beyond a certain point',\n",
       " 'direct or control; projects, businesses, etc.',\n",
       " 'have a particular form',\n",
       " 'move along, of liquids',\n",
       " 'perform as expected when applied',\n",
       " 'change or be different within limits',\n",
       " 'run, stand, or compete for an office or a position',\n",
       " 'cause to emit recorded audio or video',\n",
       " 'move about freely and without restraint, or act as if running around in an uncontrolled way',\n",
       " 'have a tendency or disposition to do or be something; be inclined',\n",
       " 'be operating, running or functioning',\n",
       " 'change from one state to another',\n",
       " 'cause to perform',\n",
       " 'be affected by; be subjected to',\n",
       " 'continue to exist',\n",
       " 'occur persistently',\n",
       " 'carry out a process or program, as on a computer or a machine',\n",
       " 'include as the content; broadcast or publicize',\n",
       " 'carry out',\n",
       " 'pass over, across, or through',\n",
       " 'cause something to pass or lead somewhere',\n",
       " 'make without a miss',\n",
       " 'deal in illegally, such as arms or liquor',\n",
       " 'cause an animal to move fast',\n",
       " 'be diffused',\n",
       " 'sail before the wind',\n",
       " 'cover by running; run a certain distance',\n",
       " 'extend or continue for a certain period of time',\n",
       " 'set animals loose to graze',\n",
       " 'keep company',\n",
       " 'run with the ball; in such sports as football',\n",
       " 'travel rapidly, by any (unspecified) means',\n",
       " 'travel a route regularly',\n",
       " 'pursue for food or sport (as of wild animals)',\n",
       " 'compete in a race',\n",
       " 'progress by being changed',\n",
       " 'reduce or cause to be reduced from a solid to a liquid state, usually by heating',\n",
       " 'come unraveled or undone as if by snagging',\n",
       " 'become undone',\n",
       " '(of fluids) moving or issuing in a stream',\n",
       " 'continually repeated over a period of time',\n",
       " 'of advancing the ball by running',\n",
       " 'executed or initiated by running',\n",
       " 'measured lengthwise',\n",
       " '(of e.g. a machine) performing or capable of performing']"
      ]
     },
     "execution_count": 8,
     "metadata": {},
     "output_type": "execute_result"
    }
   ],
   "source": [
    "word.define()"
   ]
  },
  {
   "cell_type": "markdown",
   "metadata": {},
   "source": [
    "# WordList"
   ]
  },
  {
   "cell_type": "code",
   "execution_count": 9,
   "metadata": {},
   "outputs": [
    {
     "name": "stdout",
     "output_type": "stream",
     "text": [
      "['Running', 'Jumping', 'Walking', 'apple', 'bananas', 'Cherries'] WordList(['Running', 'Jumping', 'Walking', 'apple', 'bananas', 'Cherries'])\n"
     ]
    }
   ],
   "source": [
    "words = [\"Running\", \"Jumping\", \"Walking\", \"apple\", \"bananas\", \"Cherries\"]\n",
    "words = WordList(words)\n",
    "print(words, words.__repr__())"
   ]
  },
  {
   "cell_type": "code",
   "execution_count": 10,
   "metadata": {},
   "outputs": [
    {
     "name": "stdout",
     "output_type": "stream",
     "text": [
      "['RUNNING', 'JUMPING', 'WALKING', 'APPLE', 'BANANAS', 'CHERRIES'] ['running', 'jumping', 'walking', 'apple', 'bananas', 'cherries'] ['Running', 'Jumping', 'Walking', 'Apple', 'Bananas', 'Cherries']\n"
     ]
    }
   ],
   "source": [
    "print(words.upper(), words.lower(), words.title())"
   ]
  },
  {
   "cell_type": "code",
   "execution_count": 11,
   "metadata": {},
   "outputs": [
    {
     "name": "stdout",
     "output_type": "stream",
     "text": [
      "['Running', 'Jumping', 'Walking', 'apple', 'banana', 'Cherry'] ['Running', 'Jumping', 'Walking', 'apple', 'bananas', 'Cherries']\n"
     ]
    }
   ],
   "source": [
    "print(words.singularize(), words.pluralize().singularize())"
   ]
  },
  {
   "cell_type": "code",
   "execution_count": 12,
   "metadata": {},
   "outputs": [
    {
     "data": {
      "text/plain": [
       "WordList(['Running', 'Jumping', 'Walking', 'apple', 'banana', 'Cherries'])"
      ]
     },
     "execution_count": 12,
     "metadata": {},
     "output_type": "execute_result"
    }
   ],
   "source": [
    "words.lemmatize()"
   ]
  },
  {
   "cell_type": "code",
   "execution_count": 13,
   "metadata": {},
   "outputs": [
    {
     "data": {
      "text/plain": [
       "WordList(['run', 'jump', 'walk', 'appl', 'banana', 'cherri'])"
      ]
     },
     "execution_count": 13,
     "metadata": {},
     "output_type": "execute_result"
    }
   ],
   "source": [
    "words.stem()"
   ]
  },
  {
   "cell_type": "code",
   "execution_count": 14,
   "metadata": {},
   "outputs": [
    {
     "data": {
      "text/plain": [
       "('Running',\n",
       " WordList(['Jumping', 'Walking']),\n",
       " WordList(['bananas', 'Cherries']))"
      ]
     },
     "execution_count": 14,
     "metadata": {},
     "output_type": "execute_result"
    }
   ],
   "source": [
    "words[0], words[1:3], words[-2:]"
   ]
  },
  {
   "cell_type": "markdown",
   "metadata": {},
   "source": [
    "# TextBlob"
   ]
  },
  {
   "cell_type": "code",
   "execution_count": 15,
   "metadata": {},
   "outputs": [
    {
     "ename": "TypeError",
     "evalue": "__new__() missing 3 required positional arguments: 'name', 'bases', and 'namespace'",
     "output_type": "error",
     "traceback": [
      "\u001b[0;31m---------------------------------------------------------------------------\u001b[0m",
      "\u001b[0;31mTypeError\u001b[0m                                 Traceback (most recent call last)",
      "Cell \u001b[0;32mIn[15], line 2\u001b[0m\n\u001b[1;32m      1\u001b[0m text \u001b[38;5;241m=\u001b[39m \u001b[38;5;124m\"\u001b[39m\u001b[38;5;124mThis is a test text for the implementation of the TextBlob class.\u001b[39m\u001b[38;5;124m\"\u001b[39m\n\u001b[0;32m----> 2\u001b[0m text \u001b[38;5;241m=\u001b[39m \u001b[43mTextBlob\u001b[49m\u001b[43m(\u001b[49m\u001b[43mtext\u001b[49m\u001b[43m)\u001b[49m\n\u001b[1;32m      3\u001b[0m \u001b[38;5;28mprint\u001b[39m(text, text\u001b[38;5;241m.\u001b[39m\u001b[38;5;21m__repr__\u001b[39m())\n",
      "File \u001b[0;32m~/Desktop/MontagnaInc/Projects/miTools/mitools/nlp/blobs.py:200\u001b[0m, in \u001b[0;36mBaseBlob.__init__\u001b[0;34m(self, text, tokenizer, pos_tagger, np_extractor, analyzer, parser, classifier)\u001b[0m\n\u001b[1;32m    198\u001b[0m \u001b[38;5;28mself\u001b[39m\u001b[38;5;241m.\u001b[39mstring \u001b[38;5;241m=\u001b[39m \u001b[38;5;28mself\u001b[39m\u001b[38;5;241m.\u001b[39mraw\n\u001b[1;32m    199\u001b[0m \u001b[38;5;28mself\u001b[39m\u001b[38;5;241m.\u001b[39mstripped \u001b[38;5;241m=\u001b[39m lowerstrip(\u001b[38;5;28mself\u001b[39m\u001b[38;5;241m.\u001b[39mraw, \u001b[38;5;28mall\u001b[39m\u001b[38;5;241m=\u001b[39m\u001b[38;5;28;01mTrue\u001b[39;00m)\n\u001b[0;32m--> 200\u001b[0m \u001b[38;5;28mself\u001b[39m\u001b[38;5;241m.\u001b[39mtokenizer \u001b[38;5;241m=\u001b[39m tokenizer \u001b[38;5;28;01mif\u001b[39;00m tokenizer \u001b[38;5;129;01mis\u001b[39;00m \u001b[38;5;129;01mnot\u001b[39;00m \u001b[38;5;28;01mNone\u001b[39;00m \u001b[38;5;28;01melse\u001b[39;00m \u001b[43mWordTokenizer\u001b[49m\u001b[43m(\u001b[49m\u001b[43m)\u001b[49m\n\u001b[1;32m    201\u001b[0m \u001b[38;5;28mself\u001b[39m\u001b[38;5;241m.\u001b[39mpos_tagger \u001b[38;5;241m=\u001b[39m pos_tagger \u001b[38;5;28;01mif\u001b[39;00m pos_tagger \u001b[38;5;129;01mis\u001b[39;00m \u001b[38;5;129;01mnot\u001b[39;00m \u001b[38;5;28;01mNone\u001b[39;00m \u001b[38;5;28;01melse\u001b[39;00m NLTKTagger()\n\u001b[1;32m    202\u001b[0m \u001b[38;5;28mself\u001b[39m\u001b[38;5;241m.\u001b[39mnp_extractor \u001b[38;5;241m=\u001b[39m (\n\u001b[1;32m    203\u001b[0m     np_extractor \u001b[38;5;28;01mif\u001b[39;00m np_extractor \u001b[38;5;129;01mis\u001b[39;00m \u001b[38;5;129;01mnot\u001b[39;00m \u001b[38;5;28;01mNone\u001b[39;00m \u001b[38;5;28;01melse\u001b[39;00m FastNPExtractor()\n\u001b[1;32m    204\u001b[0m )\n",
      "\u001b[0;31mTypeError\u001b[0m: __new__() missing 3 required positional arguments: 'name', 'bases', and 'namespace'"
     ]
    }
   ],
   "source": [
    "text = \"This is a test text for the implementation of the TextBlob class.\"\n",
    "text = TextBlob(text)\n",
    "print(text, text.__repr__())"
   ]
  },
  {
   "cell_type": "code",
   "execution_count": null,
   "metadata": {},
   "outputs": [],
   "source": [
    "text.words\n",
    "text.tokens\n",
    "text.parse()\n",
    "text.tag()\n",
    "text.analyze()\n",
    "text.classify()"
   ]
  },
  {
   "cell_type": "code",
   "execution_count": null,
   "metadata": {},
   "outputs": [],
   "source": []
  },
  {
   "cell_type": "code",
   "execution_count": null,
   "metadata": {},
   "outputs": [],
   "source": []
  }
 ],
 "metadata": {
  "kernelspec": {
   "display_name": "tools",
   "language": "python",
   "name": "tools"
  },
  "language_info": {
   "codemirror_mode": {
    "name": "ipython",
    "version": 3
   },
   "file_extension": ".py",
   "mimetype": "text/x-python",
   "name": "python",
   "nbconvert_exporter": "python",
   "pygments_lexer": "ipython3",
   "version": "3.8.18"
  }
 },
 "nbformat": 4,
 "nbformat_minor": 2
}
