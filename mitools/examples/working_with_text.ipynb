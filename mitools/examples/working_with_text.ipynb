{
 "cells": [
  {
   "cell_type": "code",
   "execution_count": null,
   "metadata": {},
   "outputs": [],
   "source": []
  },
  {
   "cell_type": "code",
   "execution_count": null,
   "metadata": {},
   "outputs": [],
   "source": [
    "text = Text(\"Here we are in this sole place. My tenance has dried away, as I shift from the prior trend of perspectives. Which have settled over what I was expecting to be my self.\")\n",
    "sentences = text.sentences # class Sentence\n",
    "words = text.words # class Word"
   ]
  },
  {
   "cell_type": "code",
   "execution_count": null,
   "metadata": {},
   "outputs": [],
   "source": [
    "sentence_embedding "
   ]
  },
  {
   "cell_type": "markdown",
   "metadata": {},
   "source": [
    "workflow:\n",
    "- Se usa el propmt para generar el output\n",
    "- Se repita N-veces\n",
    "- Los output se separan por frases (ideas) y cada frase se categoriza\n",
    "    - semantic similarity\n",
    "    - LLM\n",
    "- A cada frase se le agrega algún parámetro de calidad\n",
    "    - Puntaje de calidad\n",
    "    - LLM\n",
    "    - Probabilidad\n",
    "- Las diferentes frases asociadas a lo mismo se agrupan\n",
    "    - Considerando los parámetros de calidad se mezclan las frases y se construye una mejor\n",
    "- Se unen las frases para generar un buen texto que cumpla óptimamente con el objetivo"
   ]
  },
  {
   "cell_type": "code",
   "execution_count": null,
   "metadata": {},
   "outputs": [],
   "source": []
  },
  {
   "cell_type": "code",
   "execution_count": null,
   "metadata": {},
   "outputs": [],
   "source": []
  },
  {
   "cell_type": "code",
   "execution_count": null,
   "metadata": {},
   "outputs": [],
   "source": []
  },
  {
   "cell_type": "code",
   "execution_count": null,
   "metadata": {},
   "outputs": [],
   "source": []
  },
  {
   "cell_type": "code",
   "execution_count": null,
   "metadata": {},
   "outputs": [],
   "source": []
  },
  {
   "cell_type": "code",
   "execution_count": null,
   "metadata": {},
   "outputs": [],
   "source": []
  }
 ],
 "metadata": {
  "kernelspec": {
   "display_name": "tools",
   "language": "python",
   "name": "tools"
  },
  "language_info": {
   "codemirror_mode": {
    "name": "ipython",
    "version": 3
   },
   "file_extension": ".py",
   "mimetype": "text/x-python",
   "name": "python",
   "nbconvert_exporter": "python",
   "pygments_lexer": "ipython3",
   "version": "3.8.18"
  }
 },
 "nbformat": 4,
 "nbformat_minor": 2
}
