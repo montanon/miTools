{
 "cells": [
  {
   "cell_type": "code",
   "execution_count": 1,
   "metadata": {},
   "outputs": [],
   "source": [
    "from mitools import reg\n",
    "import datetime\n",
    "import pandas as pd\n",
    "import numpy as np\n",
    "import seaborn as sns\n",
    "from statsmodels.tsa.seasonal import DecomposeResult\n",
    "from mitools.visuals.plots import LinePlotter\n",
    "import matplotlib.pyplot as plt"
   ]
  },
  {
   "cell_type": "markdown",
   "metadata": {},
   "source": [
    "# Multiple Seasonal-Trend decomposition using LOESS (MSTL) from Statsmodels"
   ]
  },
  {
   "cell_type": "markdown",
   "metadata": {},
   "source": [
    "This notebook illustrates the use of `MSTL` [1] to decompose a time series into a: trend component, multiple seasonal components, and a residual component. MSTL uses STL (Seasonal-Trend decomposition using LOESS) to iteratively extract seasonal components from a time series. The key inputs into `MSTL` are:\n",
    "\n",
    "* `periods` - The period of each seasonal component (e.g., for hourly data with daily and weekly seasonality we would have: `periods=(24, 24*7)`.\n",
    "\n",
    "* `windows` - The lengths of each seasonal smoother with respect to each period. If these are large then the seasonal component will show less variability over time. Must be odd. If `None` a set of default values determined by experiments in the original paper [1] are used.\n",
    "\n",
    "* `lmbda` - The lambda parameter for a Box-Cox transformation prior to decomposition. If `None` then no transformation is done. If `\"auto\"` then an appropriate value for lambda is automatically selected from the data.\n",
    "\n",
    "* `iterate` - Number of iterations to use to refine the seasonal component.\n",
    "\n",
    "* `stl_kwargs` - All the other parameters which can be passed to STL (e.g., `robust`, `seasonal_deg`, etc.). See [STL docs](https://www.statsmodels.org/dev/generated/statsmodels.tsa.seasonal.STL.html).\n",
    "\n",
    "[1] [K. Bandura, R.J. Hyndman, and C. Bergmeir (2021) MSTL: A Seasonal-Trend Decomposition Algorithm for Time Series with Multiple Seasonal Patterns. arXiv preprint arXiv:2107.13462.](https://arxiv.org/pdf/2107.13462)\n",
    "\n",
    "Note there are some key differences in this implementation to 1. Missing data must be handled outside of the `MSTL` class. The algorithm proposed in the paper handles a case when there is no seasonality. This implementation assumes that there is at least one seasonal component.\n",
    "\n",
    "First we import the required packages, prepare the graphics environment, and prepare the data."
   ]
  },
  {
   "cell_type": "markdown",
   "metadata": {},
   "source": [
    "## MSTL applied to a toy dataset"
   ]
  },
  {
   "cell_type": "markdown",
   "metadata": {},
   "source": [
    "#### Create a toy dataset with multiple seasonalities"
   ]
  },
  {
   "cell_type": "code",
   "execution_count": 15,
   "metadata": {},
   "outputs": [],
   "source": [
    "t = np.arange(1, 20_000)\n",
    "daily_seasonality = 5 * np.sin(2 * np.pi * t / 24)\n",
    "weekly_seasonality = 10 * np.sin(2 * np.pi * t / (24 * 7))\n",
    "monthly_seasonality = 10 * np.sin(2 * np.pi * t / (24 * 7 * 4))\n",
    "quarterly_seasonality = 10 * np.sin(2 * np.pi * t / (24 * 7 * 4 * 4))\n",
    "trend = 0.00000025 * t**2\n",
    "y = trend + daily_seasonality + weekly_seasonality + monthly_seasonality + quarterly_seasonality + np.random.randn(len(t))\n",
    "ts = pd.date_range(start=\"2020-01-01\", freq=\"H\", periods=len(t))\n",
    "df = pd.DataFrame(data=y, index=ts, columns=[\"y\"])"
   ]
  },
  {
   "cell_type": "code",
   "execution_count": null,
   "metadata": {},
   "outputs": [],
   "source": [
    "df.head()"
   ]
  },
  {
   "cell_type": "markdown",
   "metadata": {},
   "source": [
    "Let’s plot the time series"
   ]
  },
  {
   "cell_type": "code",
   "execution_count": null,
   "metadata": {},
   "outputs": [],
   "source": [
    "df[\"y\"].plot(figsize=[10, 5])\n"
   ]
  },
  {
   "cell_type": "markdown",
   "metadata": {},
   "source": [
    "### Decompose the toy dataset with MSTL"
   ]
  },
  {
   "cell_type": "markdown",
   "metadata": {},
   "source": [
    "Let’s use MSTL to decompose the time series into a trend component, daily and weekly seasonal component, and residual component."
   ]
  },
  {
   "cell_type": "code",
   "execution_count": 18,
   "metadata": {},
   "outputs": [],
   "source": [
    "mstl = reg.MSTLModel(df, dependent_variable=\"y\", periods=[24, 24 * 7, 24*7*4, 24*7*4*4])\n",
    "res = mstl.fit()"
   ]
  },
  {
   "cell_type": "markdown",
   "metadata": {},
   "source": [
    "If the input is a pandas dataframe then the output for the seasonal component is a dataframe. The period for each component is reflect in the column names."
   ]
  },
  {
   "cell_type": "code",
   "execution_count": null,
   "metadata": {},
   "outputs": [],
   "source": [
    "pd.DataFrame(res.seasonal).head()"
   ]
  },
  {
   "cell_type": "code",
   "execution_count": null,
   "metadata": {},
   "outputs": [],
   "source": [
    "plt.rc(\"figure\", figsize=(21, 5*6))\n",
    "ax = res.plot()"
   ]
  },
  {
   "cell_type": "markdown",
   "metadata": {},
   "source": [
    "We see that the hourly, weekly, monthly, quarterly, and yearly seasonal components have been extracted.\n",
    "\n",
    "Any of the STL parameters other than `period` and `seasonal` (as they are set by `periods` and `windows` in `MSTL`) can also be set by passing arg:value pairs as a dictionary to `stl_kwargs` (we will show that in an example now).\n",
    "\n",
    "Here we show that we can still set the trend smoother of STL via `trend` and order of the polynomial for the seasonal fit via `seasonal_deg`. We will also explicitly set the `windows`, `seasonal_deg`, and `iterate` parameter explicitly. We will get a worse fit but this is just an example of how to pass these parameters to the `MSTL` class."
   ]
  },
  {
   "cell_type": "code",
   "execution_count": null,
   "metadata": {},
   "outputs": [],
   "source": [
    "mstl = reg.MSTLModel(df, \n",
    "                     dependent_variable=\"y\", \n",
    "                     periods=[24, 24 * 7, 24*7*4, 24*7*4*4],\n",
    "                     windows=[101, 101, 101, 101, 101],\n",
    "                     iterate=3,\n",
    "                     stl_kwargs={\n",
    "                        \"trend\": 2689, \n",
    "                        \"seasonal_deg\": 0, \n",
    "                    }\n",
    "                )\n",
    "res = mstl.fit()\n",
    "ax = res.plot()"
   ]
  },
  {
   "cell_type": "markdown",
   "metadata": {},
   "source": [
    "### MSTL applied to electricity demand dataset"
   ]
  },
  {
   "cell_type": "markdown",
   "metadata": {},
   "source": [
    "#### Prepare the data"
   ]
  },
  {
   "cell_type": "markdown",
   "metadata": {},
   "source": [
    "We will use the Victoria electricity demand dataset found here: https://github.com/tidyverts/tsibbledata/tree/master/data-raw/vic_elec. This dataset is used in the original MSTL paper [1]. It is the total electricity demand at a half hourly granularity for the state of Victora in Australia from 2002 to the start of 2015. A more detailed description of the dataset can be found [here](https://rdrr.io/cran/tsibbledata/man/vic_elec.html)."
   ]
  },
  {
   "cell_type": "code",
   "execution_count": 23,
   "metadata": {},
   "outputs": [],
   "source": [
    "url = \"https://raw.githubusercontent.com/tidyverts/tsibbledata/master/data-raw/vic_elec/VIC2015/demand.csv\"\n",
    "df = pd.read_csv(url)"
   ]
  },
  {
   "cell_type": "code",
   "execution_count": null,
   "metadata": {},
   "outputs": [],
   "source": [
    "df.head()"
   ]
  },
  {
   "cell_type": "markdown",
   "metadata": {},
   "source": [
    "The date are integers representing the number of days from an origin date. The origin date for this dataset is determined from [here](https://github.com/tidyverts/tsibbledata/blob/master/data-raw/vic_elec/vic_elec.R) and [here](https://robjhyndman.com/hyndsight/electrictsibbles/) and is “1899-12-30”. The `Period` integers refer to 30 minute intervals in a 24 hour day, hence there are 48 for each day.\n",
    "\n",
    "Let’s extract the date and date-time."
   ]
  },
  {
   "cell_type": "code",
   "execution_count": 25,
   "metadata": {},
   "outputs": [],
   "source": [
    "df[\"Date\"] = df[\"Date\"].apply(lambda x: pd.Timestamp(\"1899-12-30\") + pd.Timedelta(x, unit=\"days\"))\n",
    "df[\"ds\"] = df[\"Date\"] + pd.to_timedelta((df[\"Period\"]-1)*30, unit=\"m\")"
   ]
  },
  {
   "cell_type": "markdown",
   "metadata": {},
   "source": [
    "We will be interested in `OperationalLessIndustrial` which is the electricity demand excluding the demand from certain high energy industrial users. We will resample the data to hourly and filter the data to the same time period as [original MSTL paper [1]](https://arxiv.org/pdf/2107.13462) which is the first 149 days of the year 2012."
   ]
  },
  {
   "cell_type": "code",
   "execution_count": null,
   "metadata": {},
   "outputs": [],
   "source": [
    "timeseries = df[[\"ds\", \"OperationalLessIndustrial\"]]\n",
    "timeseries.columns = [\"ds\", \"y\"] # Rename to OperationalLessIndustrial to y for simplicity.\n",
    "\n",
    "# Filter for first 149 days of 2012.\n",
    "start_date = pd.to_datetime(\"2012-01-01\")\n",
    "end_date = start_date + pd.Timedelta(\"149D\")\n",
    "mask = (timeseries[\"ds\"] >= start_date) & (timeseries[\"ds\"] < end_date)\n",
    "timeseries = timeseries[mask]\n",
    "\n",
    "# Resample to hourly\n",
    "timeseries = timeseries.set_index(\"ds\").resample(\"H\").sum()\n",
    "timeseries.head()"
   ]
  },
  {
   "cell_type": "markdown",
   "metadata": {},
   "source": [
    "### Decompose electricity demand using MSTL"
   ]
  },
  {
   "cell_type": "markdown",
   "metadata": {},
   "source": [
    "Note: `stl_kwargs` are set to give results close to [[1]](https://arxiv.org/pdf/2107.13462) which used R and therefore has a slightly different default settings for the underlying `STL` parameters. It would be rare to manually set `inner_iter` and `outer_iter` explicitly in practice."
   ]
  },
  {
   "cell_type": "code",
   "execution_count": null,
   "metadata": {},
   "outputs": [],
   "source": [
    "periods = [24, 24 * 7]\n",
    "mstl = reg.MSTLModel(timeseries, \n",
    "                     dependent_variable=\"y\", \n",
    "                     periods=periods, \n",
    "                     iterate=3, \n",
    "                     stl_kwargs={\"seasonal_deg\": 0,\n",
    "                                 \"inner_iter\": 2,\n",
    "                                 \"outer_iter\": 0})\n",
    "res = mstl.fit() \n",
    "ax = res.plot()\n",
    "plt.tight_layout()"
   ]
  },
  {
   "cell_type": "markdown",
   "metadata": {},
   "source": [
    "The multiple seasonal components are stored as a pandas dataframe in the `seasonal` attribute:"
   ]
  },
  {
   "cell_type": "code",
   "execution_count": null,
   "metadata": {},
   "outputs": [],
   "source": [
    "seasonal = pd.DataFrame(res.seasonal, index=timeseries.index, columns=[f\"seasonal_{i}\" for i in periods])\n",
    "seasonal"
   ]
  },
  {
   "cell_type": "markdown",
   "metadata": {},
   "source": [
    "Let’s inspect the seasonal components in a bit more detail and look at the first few days and weeks to examine the daily and weekly seasonality."
   ]
  },
  {
   "cell_type": "code",
   "execution_count": null,
   "metadata": {},
   "outputs": [],
   "source": [
    "fig, ax = plt.subplots(nrows=2, figsize=[10,10])\n",
    "seasonal[\"seasonal_24\"].iloc[:24*3].plot(ax=ax[0])\n",
    "ax[0].set_ylabel(\"seasonal_24\")\n",
    "ax[0].set_title(\"Daily seasonality\")\n",
    "\n",
    "seasonal[\"seasonal_168\"].iloc[:24*7*3].plot(ax=ax[1])\n",
    "ax[1].set_ylabel(\"seasonal_168\")\n",
    "ax[1].set_title(\"Weekly seasonality\")\n",
    "\n",
    "plt.tight_layout()"
   ]
  },
  {
   "cell_type": "markdown",
   "metadata": {},
   "source": [
    "We can see that the daily seasonality of electricity demand is well captured. This is the first few days in January so during the summer months in Australia there is a peak in the afternoon most likely due to air conditioning use.\n",
    "\n",
    "For the weekly seasonality we can see that there is less usage during the weekends.\n",
    "\n",
    "One of the advantages of MSTL is that is allows us to capture seasonality which changes over time. So let’s look at the seasonality during cooler months in May."
   ]
  },
  {
   "cell_type": "code",
   "execution_count": null,
   "metadata": {},
   "outputs": [],
   "source": [
    "fig, ax = plt.subplots(nrows=2, figsize=[10,10])\n",
    "mask = seasonal.index.month==5\n",
    "seasonal[mask][\"seasonal_24\"].iloc[:24*3].plot(ax=ax[0])\n",
    "ax[0].set_ylabel(\"seasonal_24\")\n",
    "ax[0].set_title(\"Daily seasonality\")\n",
    "\n",
    "seasonal[mask][\"seasonal_168\"].iloc[:24*7*3].plot(ax=ax[1])\n",
    "ax[1].set_ylabel(\"seasonal_168\")\n",
    "ax[1].set_title(\"Weekly seasonality\")\n",
    "\n",
    "plt.tight_layout()"
   ]
  },
  {
   "cell_type": "markdown",
   "metadata": {},
   "source": [
    "Now we can see an additional peak in the evening! This could be related to heating and lighting now required in the evenings. So this makes sense. We see that main weekly pattern of lower demand over the weekends continue.\n",
    "\n",
    "The other components can also be extracted from the `trend` and `resid` attribute:"
   ]
  },
  {
   "cell_type": "code",
   "execution_count": null,
   "metadata": {},
   "outputs": [],
   "source": [
    "print(res.trend[:5])\n",
    "print(res.resid[:5])"
   ]
  },
  {
   "cell_type": "markdown",
   "metadata": {},
   "source": [
    "And that’s it! Using MSTL we can perform time series decompostion on a multi-seasonal time series!"
   ]
  },
  {
   "cell_type": "markdown",
   "metadata": {},
   "source": [
    "***"
   ]
  }
 ],
 "metadata": {
  "kernelspec": {
   "display_name": "tools",
   "language": "python",
   "name": "tools"
  },
  "language_info": {
   "codemirror_mode": {
    "name": "ipython",
    "version": 3
   },
   "file_extension": ".py",
   "mimetype": "text/x-python",
   "name": "python",
   "nbconvert_exporter": "python",
   "pygments_lexer": "ipython3",
   "version": "3.8.18"
  }
 },
 "nbformat": 4,
 "nbformat_minor": 2
}
