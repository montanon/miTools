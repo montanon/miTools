{
 "cells": [
  {
   "cell_type": "code",
   "execution_count": 1,
   "metadata": {},
   "outputs": [],
   "source": [
    "from mitools import reg\n",
    "from datetime import datetime\n",
    "from io import BytesIO\n",
    "import pandas as pd\n",
    "import numpy as np\n",
    "import matplotlib.pyplot as plt\n",
    "import shutil\n",
    "import requests\n",
    "from pandas_datareader.data import DataReader"
   ]
  },
  {
   "cell_type": "markdown",
   "metadata": {},
   "source": [
    "# Markov switching autoregression models from Statsmodels"
   ]
  },
  {
   "cell_type": "markdown",
   "metadata": {},
   "source": [
    "https://www.statsmodels.org/stable/examples/notebooks/generated/markov_autoregression.html"
   ]
  },
  {
   "cell_type": "markdown",
   "metadata": {},
   "source": [
    "This notebook provides an example of the use of Markov switching models in statsmodels to replicate a number of results presented in Kim and Nelson (1999). It applies the Hamilton (1989) filter the Kim (1994) smoother.\n",
    "\n",
    "This is tested against the Markov-switching models from E-views 8, which can be found at http://www.eviews.com/EViews8/ev8ecswitch_n.html#MarkovAR or the Markov-switching models of Stata 14 which can be found at http://www.stata.com/manuals14/tsmswitch.pdf."
   ]
  },
  {
   "cell_type": "code",
   "execution_count": 2,
   "metadata": {},
   "outputs": [],
   "source": [
    "usrec = DataReader(\n",
    "    \"USREC\", \"fred\", start=datetime(1947, 1, 1), end=datetime(2013, 4, 1)\n",
    ")"
   ]
  },
  {
   "cell_type": "markdown",
   "metadata": {},
   "source": [
    "## Hamilton (1989) switching model of GNP"
   ]
  },
  {
   "cell_type": "markdown",
   "metadata": {},
   "source": [
    "This replicates Hamilton's (1989) seminal paper introducing Markov-switching models. The model is an autoregressive model of order 4 in which the mean of the process switches between two regimes. It can be written: $$y_t = \\mu_{S_t} + \\phi_{1}(y_{t-1} - \\mu_{S_{t-1}}) + \\phi_{2}(y_{t-2} - \\mu_{S_{t-2}}) + \\phi_{3}(y_{t-3} - \\mu_{S_{t-3}}) + \\phi_{4}(y_{t-4} - \\mu_{S_{t-4}}) + \\epsilon_t$$ Each period, the regime transitions according to the following matrix of transition probabilities: $$P(S_t = s_t | S_{t-1} = s_{t-1}) = \\left[\\begin{matrix} p_{00} & p_{10} \\\\ p_{01} & p_{11} \\end{matrix}\\right]$$ where $p_{ij}$ is the probability of transitioning from regime $i$ to regime $j$.\n",
    "\n",
    "The model class is `MarkovAutoregression` in the time-series part of `statsmodels`. In order to create the model, we must specify the number of regimes with `k_regimes=2`, and the order of the autoregression with `order=4`. The default model also includes switching autoregressive coefficients, so here we also need to specify `switching_ar=False` to avoid that.\n",
    "\n",
    "After creation, the model is `fit` via maximum likelihood estimation. Under the hood, good starting parameters are found using a number of steps of the expectation maximization (EM) algorithm, and a quasi-Newton (BFGS) algorithm is applied to quickly find the maximum."
   ]
  },
  {
   "cell_type": "code",
   "execution_count": null,
   "metadata": {},
   "outputs": [],
   "source": [
    "def download_file(url):\n",
    "    local_filename = url.split('/')[-1]\n",
    "    with requests.get(url, stream=True) as r:\n",
    "        with open(local_filename, 'wb') as f:\n",
    "            shutil.copyfileobj(r.raw, f)\n",
    "\n",
    "    return local_filename\n",
    "\n",
    "filename = download_file(\"https://www.stata-press.com/data/r14/rgnp.dta\")\n",
    "\n",
    "dta = pd.read_stata(filename).iloc[1:]\n",
    "dta.index = pd.DatetimeIndex(dta.date, freq=\"QS\")\n",
    "dta_hamilton = dta[[\"rgnp\"]]\n",
    "\n",
    "dta_hamilton.plot(title=\"Growth rate of Real GNP\", figsize=(12, 3))"
   ]
  },
  {
   "cell_type": "code",
   "execution_count": 4,
   "metadata": {},
   "outputs": [],
   "source": [
    "mod_hamilton = reg.MarkovAutoregressionModel(data=dta_hamilton, dependent_variable=\"rgnp\", order=4, k_regimes=2, switching_ar=False)\n",
    "res_hamilton = mod_hamilton.fit()"
   ]
  },
  {
   "cell_type": "code",
   "execution_count": null,
   "metadata": {},
   "outputs": [],
   "source": [
    "res_hamilton.summary()"
   ]
  },
  {
   "cell_type": "markdown",
   "metadata": {},
   "source": [
    "We plot the filtered and smoothed probabilities of a recession. Filtered refers to an estimate of the probability at time $t$ based on data up to and including time $t$ (but excluding time $t+1,...,T$). Smoothed refers to an estimate of the probability at time $t$ using all the data in the sample.\n",
    "\n",
    "For reference, the shaded periods represent the NBER recessions."
   ]
  },
  {
   "cell_type": "code",
   "execution_count": 6,
   "metadata": {},
   "outputs": [],
   "source": [
    "filtered_probabilities = pd.DataFrame(res_hamilton.filtered_marginal_probabilities, columns = [\"Recession\", \"Expansion\"], index=dta_hamilton.index[4:])\n",
    "smoothed_probabilities = pd.DataFrame(res_hamilton.smoothed_marginal_probabilities, columns = [\"Recession\", \"Expansion\"], index=dta_hamilton.index[4:])"
   ]
  },
  {
   "cell_type": "code",
   "execution_count": null,
   "metadata": {},
   "outputs": [],
   "source": [
    "fig, axes = plt.subplots(2, figsize=(7, 7))\n",
    "ax = axes[0]\n",
    "ax.plot(filtered_probabilities.index, filtered_probabilities.Recession)\n",
    "ax.fill_between(usrec.index, 0, 1, where=usrec[\"USREC\"].values, color=\"k\", alpha=0.1)\n",
    "ax.set_xlim(dta_hamilton.index[4], dta_hamilton.index[-1])\n",
    "ax.set(title=\"Filtered probability of recession\")\n",
    "\n",
    "ax = axes[1]\n",
    "ax.plot(smoothed_probabilities.index, smoothed_probabilities.Recession)\n",
    "ax.fill_between(usrec.index, 0, 1, where=usrec[\"USREC\"].values, color=\"k\", alpha=0.1)\n",
    "ax.set_xlim(dta_hamilton.index[4], dta_hamilton.index[-1])\n",
    "ax.set(title=\"Smoothed probability of recession\")\n",
    "\n",
    "fig.tight_layout()"
   ]
  },
  {
   "cell_type": "markdown",
   "metadata": {},
   "source": [
    "From the estimated transition matrix we can calculate the expected duration of a recession versus an expansion."
   ]
  },
  {
   "cell_type": "code",
   "execution_count": null,
   "metadata": {},
   "outputs": [],
   "source": [
    "print(res_hamilton.expected_durations)"
   ]
  },
  {
   "cell_type": "markdown",
   "metadata": {},
   "source": [
    "In this case, it is expected that a recession will last about one year (4 quarters) and an expansion about two and a half years."
   ]
  },
  {
   "cell_type": "markdown",
   "metadata": {},
   "source": [
    "## Kim, Nelson, and Startz (1998) Three-state Variance Switching"
   ]
  },
  {
   "cell_type": "markdown",
   "metadata": {},
   "source": [
    "This model demonstrates estimation with regime heteroskedasticity (switching of variances) and no mean effect. The dataset can be reached at http://econ.korea.ac.kr/~cjkim/MARKOV/data/ew_excs.prn.\n",
    "\n",
    "The model in question is: $$y_t = \\varepsilon_t$$ $$\\varepsilon_t \\sim N(0, \\sigma_{S_t}^2)$$\n",
    "\n",
    "Since there is no autoregressive component, this model can be fit using the `MarkovRegression` class. Since there is no mean effect, we specify `trend='n'`. There are hypothesized to be three regimes for the switching variances, so we specify `k_regimes=3` and `switching_variance=True` (by default, the variance is assumed to be the same across regimes)."
   ]
  },
  {
   "cell_type": "markdown",
   "metadata": {},
   "source": [
    "<span style=\"color:red\"> *Data source is not available. Made artifical data.*</span>"
   ]
  },
  {
   "cell_type": "code",
   "execution_count": null,
   "metadata": {},
   "outputs": [],
   "source": [
    "#ew_excs = requests.get(\"http://econ.korea.ac.kr/~cjkim/MARKOV/data/ew_excs.prn\").content\n",
    "#raw = pd.read_table(BytesIO(ew_excs), header=None, skipfooter=1, engine=\"python\")\n",
    "\n",
    "np.random.seed(42)  \n",
    "n = 840\n",
    "num_regimes = np.random.randint(50, 75)\n",
    "cuts = np.sort(np.random.choice(range(1, n), size=num_regimes-1, replace=False))\n",
    "segments_lengths = np.diff(np.concatenate(([0], cuts, [n])))\n",
    "means = np.random.uniform(-0.25, 0.5, size=num_regimes)\n",
    "stds = np.random.uniform(0.0, 1.5, size=num_regimes)\n",
    "signal_segments = []\n",
    "for length, mean, std in zip(segments_lengths, means, stds):\n",
    "    segment = np.random.normal(mean, std, length)\n",
    "    signal_segments.append(segment)\n",
    "\n",
    "raw = np.concatenate(signal_segments)\n",
    "index = pd.date_range(\"1926-01-01\", \"1995-12-01\", freq=\"MS\")\n",
    "\n",
    "dta_kns = pd.DataFrame(raw, index=index, columns=[\"returns\"])\n",
    "\n",
    "_ = dta_kns[\"returns\"].plot(title=\"Excess returns\", figsize=(12, 3))"
   ]
  },
  {
   "cell_type": "code",
   "execution_count": 10,
   "metadata": {},
   "outputs": [],
   "source": [
    "mod_kns = reg.MarkovRegressionModel(\n",
    "    dta_kns, \"returns\", k_regimes=3, trend=\"n\", switching_variance=True\n",
    ")\n",
    "res_kns = mod_kns.fit()"
   ]
  },
  {
   "cell_type": "code",
   "execution_count": null,
   "metadata": {},
   "outputs": [],
   "source": [
    "res_kns.summary()"
   ]
  },
  {
   "cell_type": "markdown",
   "metadata": {},
   "source": [
    "Below we plot the probabilities of being in each of the regimes; only in a few periods is a high-variance regime probable."
   ]
  },
  {
   "cell_type": "code",
   "execution_count": 12,
   "metadata": {},
   "outputs": [],
   "source": [
    "smoothed_probabilities = pd.DataFrame(res_kns.smoothed_marginal_probabilities, columns = [\"Low\", \"Medium\", \"High\"], index=dta_kns.index)"
   ]
  },
  {
   "cell_type": "code",
   "execution_count": null,
   "metadata": {},
   "outputs": [],
   "source": [
    "fig, axes = plt.subplots(3, figsize=(10, 7))\n",
    "\n",
    "ax = axes[0]\n",
    "ax.plot(smoothed_probabilities[\"Low\"])\n",
    "ax.set(title=\"Smoothed probability of a low-variance regime for stock returns\")\n",
    "\n",
    "ax = axes[1]\n",
    "ax.plot(smoothed_probabilities[\"Medium\"])\n",
    "ax.set(title=\"Smoothed probability of a medium-variance regime for stock returns\")\n",
    "\n",
    "ax = axes[2]\n",
    "ax.plot(smoothed_probabilities[\"High\"])\n",
    "ax.set(title=\"Smoothed probability of a high-variance regime for stock returns\")\n",
    "\n",
    "fig.tight_layout()"
   ]
  },
  {
   "cell_type": "markdown",
   "metadata": {},
   "source": [
    "## Filardo (1994) Time-Varying Transition Probabilities"
   ]
  },
  {
   "cell_type": "markdown",
   "metadata": {},
   "source": [
    "This model demonstrates estimation with time-varying transition probabilities. The dataset can be reached at http://econ.korea.ac.kr/~cjkim/MARKOV/data/filardo.prn.\n",
    "\n",
    "In the above models we have assumed that the transition probabilities are constant across time. Here we allow the probabilities to change with the state of the economy. Otherwise, the model is the same Markov autoregression of Hamilton (1989).\n",
    "\n",
    "Each period, the regime now transitions according to the following matrix of time-varying transition probabilities: $$P(S_t = s_t | S_{t-1} = s_{t-1}) = \\left[\\begin{matrix} p_{00,t} & p_{10,t} \\\\ p_{01,t} & p_{11,t} \\end{matrix}\\right]$$\n",
    "\n",
    "where $p_{ij,t}$ is the probability of transitioning from regime $i$, to regime $j$, in period $t$, and is defined to be:\n",
    "\n",
    "$$p_{ij,t} = \\frac{\\exp(x'_{t-1}\\beta_{ij})}{1 + \\exp(x'_{t-1}\\beta_{ij})}$$\n",
    "\n",
    "Instead of estimating the transition probabilities as part of maximum likelihood, the regression coefficients $\\beta_{ij}$ are estimated. These coefficients relate the transition probabilities to a vector of pre-determined or exogenous regressors $x_{t-1}$.\n",
    "\n"
   ]
  },
  {
   "cell_type": "markdown",
   "metadata": {},
   "source": [
    "<span style=\"color:red\"> *Data source is not available. Made artifical data.*</span>"
   ]
  },
  {
   "cell_type": "code",
   "execution_count": null,
   "metadata": {},
   "outputs": [],
   "source": [
    "# filardo = requests.get(\"http://econ.korea.ac.kr/~cjkim/MARKOV/data/filardo.prn\").content\n",
    "# dta_filardo = pd.read_table(\n",
    "#     BytesIO(filardo), sep=\" +\", header=None, skipfooter=1, engine=\"python\"\n",
    "# )\n",
    "np.random.seed(42)\n",
    "n = 520\n",
    "num_regimes = np.random.randint(20, 50)\n",
    "cuts = np.sort(np.random.choice(range(1, n), size=num_regimes-1, replace=False))\n",
    "segments_lengths = np.diff(np.concatenate(([0], cuts, [n])))\n",
    "means = np.random.uniform(-0.2, 0.2, size=num_regimes)\n",
    "stds = np.random.uniform(0.05, 0.2, size=num_regimes)\n",
    "slopes = np.random.uniform(-0.005, 0.0075, size=num_regimes)\n",
    "signal_segments = []\n",
    "for length, mean, std, slope in zip(segments_lengths, means, stds, slopes):\n",
    "    t = np.arange(length)\n",
    "    baseline = mean + slope * t\n",
    "    segment = baseline + np.random.normal(0, std, length)\n",
    "    signal_segments.append(segment)\n",
    "\n",
    "raw = np.concatenate(signal_segments)\n",
    "index = pd.date_range(\"1948-01-01\", \"1991-04-01\", freq=\"MS\")\n",
    "\n",
    "dta_filardo = pd.DataFrame(raw, index=index, columns=[\"dlip\"])\n",
    "\n",
    "dta_filardo[\"dmdlleading\"] = (dta_filardo[\"dlip\"] - dta_filardo[\"dlip\"].mean()) * np.random.normal(1.0, 2.5, len(dta_filardo))\n",
    "\n",
    "_ = dta_filardo[\"dlip\"].plot(\n",
    "    title=\"Standardized growth rate of industrial production\", figsize=(13, 3)\n",
    ")\n",
    "plt.figure()\n",
    "_ = dta_filardo[\"dmdlleading\"].plot(title=\"Leading indicator\", figsize=(13, 3))"
   ]
  },
  {
   "cell_type": "markdown",
   "metadata": {},
   "source": [
    "The time-varying transition probabilities are specified by the `exog_tvtp` parameter.\n",
    "\n",
    "Here we demonstrate another feature of model fitting - the use of a random search for MLE starting parameters. Because Markov switching models are often characterized by many local maxima of the likelihood function, performing an initial optimization step can be helpful to find the best parameters.\n",
    "\n",
    "Below, we specify that 20 random perturbations from the starting parameter vector are examined and the best one used as the actual starting parameters. Because of the random nature of the search, we seed the random number generator beforehand to allow replication of the result."
   ]
  },
  {
   "cell_type": "code",
   "execution_count": 38,
   "metadata": {},
   "outputs": [],
   "source": [
    "mod_filardo = reg.MarkovAutoregressionModel(dta_filardo.iloc[2:], \n",
    "                                            'dlip',\n",
    "                                            k_regimes=2, \n",
    "                                            order=4, \n",
    "                                            switching_ar=False, \n",
    "                                            exog_tvtp=dta_filardo.iloc[1:-1][[\"dmdlleading\"]])\n",
    "np.random.seed(12345)\n",
    "res_filardo = mod_filardo.fit(search_reps=20)"
   ]
  },
  {
   "cell_type": "code",
   "execution_count": null,
   "metadata": {},
   "outputs": [],
   "source": [
    "res_filardo.summary()"
   ]
  },
  {
   "cell_type": "markdown",
   "metadata": {},
   "source": [
    "Below we plot the smoothed probability of the economy operating in a low-production state, and again include the NBER recessions for comparison."
   ]
  },
  {
   "cell_type": "code",
   "execution_count": 40,
   "metadata": {},
   "outputs": [],
   "source": [
    "smoothed_probabilities = pd.DataFrame(res_filardo.smoothed_marginal_probabilities, columns = [\"Low\", \"High\"], index=dta_filardo.index[6:])"
   ]
  },
  {
   "cell_type": "code",
   "execution_count": null,
   "metadata": {},
   "outputs": [],
   "source": [
    "fig, ax = plt.subplots(figsize=(12, 3))\n",
    "\n",
    "ax.plot(smoothed_probabilities[\"Low\"])\n",
    "ax.fill_between(usrec.index, 0, 1, where=usrec[\"USREC\"].values, color=\"gray\", alpha=0.2)\n",
    "ax.set_xlim(dta_filardo.index[6], dta_filardo.index[-1])\n",
    "ax.set(title=\"Smoothed probability of a low-production state\")\n"
   ]
  },
  {
   "cell_type": "markdown",
   "metadata": {},
   "source": [
    "Using the time-varying transition probabilities, we can see how the expected duration of a low-production state changes over time:"
   ]
  },
  {
   "cell_type": "code",
   "execution_count": null,
   "metadata": {},
   "outputs": [],
   "source": [
    "pd.DataFrame(res_filardo.expected_durations[:, 0], columns=[\"Low\"]).plot(\n",
    "    title=\"Expected duration of a low-production state\", figsize=(12, 3)\n",
    ")"
   ]
  },
  {
   "cell_type": "markdown",
   "metadata": {},
   "source": [
    "***"
   ]
  }
 ],
 "metadata": {
  "kernelspec": {
   "display_name": "tools",
   "language": "python",
   "name": "tools"
  },
  "language_info": {
   "codemirror_mode": {
    "name": "ipython",
    "version": 3
   },
   "file_extension": ".py",
   "mimetype": "text/x-python",
   "name": "python",
   "nbconvert_exporter": "python",
   "pygments_lexer": "ipython3",
   "version": "3.8.18"
  }
 },
 "nbformat": 4,
 "nbformat_minor": 2
}
