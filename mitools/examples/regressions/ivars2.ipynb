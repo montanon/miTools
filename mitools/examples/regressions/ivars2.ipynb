{
 "cells": [
  {
   "cell_type": "code",
   "execution_count": 1,
   "metadata": {},
   "outputs": [],
   "source": [
    "from mitools import reg\n",
    "from linearmodels.datasets import meps\n",
    "from collections import OrderedDict\n",
    "from linearmodels.iv.results import compare\n",
    "import pandas as pd"
   ]
  },
  {
   "cell_type": "markdown",
   "metadata": {},
   "source": [
    "# Instrumental Variables from Linearmodels"
   ]
  },
  {
   "cell_type": "markdown",
   "metadata": {},
   "source": [
    "https://bashtage.github.io/linearmodels/iv/examples/advanced-examples.html"
   ]
  },
  {
   "cell_type": "markdown",
   "metadata": {},
   "source": [
    "## Further Examples"
   ]
  },
  {
   "cell_type": "markdown",
   "metadata": {},
   "source": [
    "### Linear Instrumental-Variables Regression"
   ]
  },
  {
   "cell_type": "markdown",
   "metadata": {},
   "source": [
    "These examples follow those in **Chapter 6** of Microeconometrics Using Stata by Cameron & Trivedi.\n",
    "\n",
    "The first step is to import the main estimator for linear IV models:\n",
    "\n",
    "* `IV2SLS` - standard two-stage least squares\n",
    "\n",
    "* `IVLIML` - Limited information maximum likelihood and k-class estimators\n",
    "\n",
    "* `IVGMM` - Generalized method of moment estimation\n",
    "\n",
    "* `IVGMMCUE` - Generalized method of moment estimation using continuously updating"
   ]
  },
  {
   "cell_type": "markdown",
   "metadata": {},
   "source": [
    "## Importing Data"
   ]
  },
  {
   "cell_type": "markdown",
   "metadata": {},
   "source": [
    "The data uses comes from the Medical Expenditure Panel Survey (MEPS) and includes data on out-of-pocket drug expenditure (in logs), individual characteristics, whether an individual was insured through an employer or union (a likely endogenous variable), and some candidate instruments including the percentage of income from Social Security Income, the size of the individual”s firm and whether the firm has multiple locations."
   ]
  },
  {
   "cell_type": "code",
   "execution_count": null,
   "metadata": {},
   "outputs": [],
   "source": [
    "data = meps.load()\n",
    "data = data.dropna()\n",
    "print(meps.DESCR)"
   ]
  },
  {
   "cell_type": "markdown",
   "metadata": {},
   "source": [
    "Next the data – dependent, endogenous and controls – are summarized. The controls are grouped into a list to simplify model building."
   ]
  },
  {
   "cell_type": "code",
   "execution_count": null,
   "metadata": {},
   "outputs": [],
   "source": [
    "controls = [\"totchr\", \"female\", \"age\", \"linc\", \"blhisp\"]\n",
    "print(data[[\"ldrugexp\", \"hi_empunion\"] + controls].describe(percentiles=[]))"
   ]
  },
  {
   "cell_type": "markdown",
   "metadata": {},
   "source": [
    "It is also worth examining the instruments."
   ]
  },
  {
   "cell_type": "code",
   "execution_count": null,
   "metadata": {},
   "outputs": [],
   "source": [
    "instruments = [\"ssiratio\", \"lowincome\", \"multlc\", \"firmsz\"]\n",
    "print(data[instruments].describe(percentiles=[]))"
   ]
  },
  {
   "cell_type": "markdown",
   "metadata": {},
   "source": [
    "And finally the simple correlation between the endogenous variable and the instruments. Instruments must be correlated to be relevant (but also must be exogenous, which can”t be examined using simple correlation). The correlation of `firmsz` is especially low, which might lead to the weak instruments problem if used exclusively."
   ]
  },
  {
   "cell_type": "code",
   "execution_count": null,
   "metadata": {},
   "outputs": [],
   "source": [
    "data[[\"hi_empunion\"] + instruments].corr()"
   ]
  },
  {
   "cell_type": "markdown",
   "metadata": {},
   "source": [
    "`add_constant` from `statsmodels` is used to simplify the process of adding a constant column to the data."
   ]
  },
  {
   "cell_type": "code",
   "execution_count": 6,
   "metadata": {},
   "outputs": [],
   "source": [
    "data[\"const\"] = 1\n",
    "controls = [\"const\"] + controls"
   ]
  },
  {
   "cell_type": "markdown",
   "metadata": {},
   "source": [
    "### 2SLS as OLS"
   ]
  },
  {
   "cell_type": "markdown",
   "metadata": {},
   "source": [
    "Before examining the IV estimators, it is worth noting that 2SLS nests the OLS estimator, so that a call to `IV2SLS` using None for the endogenous and instruments will produce OLS estimates of parameters.\n",
    "\n",
    "The OLS estimates indicate that insurance through an employer or union leads to an **increase** in out-of-pocket drug expenditure."
   ]
  },
  {
   "cell_type": "code",
   "execution_count": null,
   "metadata": {},
   "outputs": [],
   "source": [
    "ivolsmod = reg.IV2SLSModel(data=data, \n",
    "                           dependent_variable=\"ldrugexp\", \n",
    "                           independent_variables=[\"hi_empunion\"] + controls)\n",
    "res_ols = ivolsmod.fit()\n",
    "print(res_ols)"
   ]
  },
  {
   "cell_type": "markdown",
   "metadata": {},
   "source": [
    "### Just identified 2SLS"
   ]
  },
  {
   "cell_type": "markdown",
   "metadata": {},
   "source": [
    "The just identified two-stage LS estimator uses as many instruments as endogenous variables. In this example there is one of each, using the SSI ratio as the instrument. The with the instrument, the effect of insurance through employer or union has a strong negative effect on drug expenditure."
   ]
  },
  {
   "cell_type": "code",
   "execution_count": null,
   "metadata": {},
   "outputs": [],
   "source": [
    "ivmod = reg.IV2SLSModel(data=data, \n",
    "                   dependent_variable=\"ldrugexp\", \n",
    "                   independent_variables=controls, \n",
    "                   endogenous_variables=[\"hi_empunion\"], \n",
    "                   instrument_variables=[\"ssiratio\"])\n",
    "res_2sls = ivmod.fit()\n",
    "print(res_2sls.summary)"
   ]
  },
  {
   "cell_type": "markdown",
   "metadata": {},
   "source": [
    "### Multiple Instruments"
   ]
  },
  {
   "cell_type": "markdown",
   "metadata": {},
   "source": [
    "Using multiple instruments only requires expanding the data array in the instruments input."
   ]
  },
  {
   "cell_type": "code",
   "execution_count": 9,
   "metadata": {},
   "outputs": [],
   "source": [
    "ivmod = reg.IV2SLSModel(data=data, \n",
    "                   dependent_variable=\"ldrugexp\", \n",
    "                   independent_variables=controls, \n",
    "                   endogenous_variables=[\"hi_empunion\"], \n",
    "                   instrument_variables=[\"ssiratio\", \"multlc\"])\n",
    "res_2sls_robust = ivmod.fit()"
   ]
  },
  {
   "cell_type": "markdown",
   "metadata": {},
   "source": [
    "### Multivariance Estimators"
   ]
  },
  {
   "cell_type": "markdown",
   "metadata": {},
   "source": [
    "All estimator allow for three types of parameter covariance estimator:\n",
    "\n",
    "* `\"unadjusted\"` is the classic homoskedastic estimator\n",
    "\n",
    "* `\"robust\"` is robust to heteroskedasticity\n",
    "\n",
    "* `\"clustered\"` allows one- or two-way clustering to account for additional sources of dependence between the model scores\n",
    "\n",
    "* `\"kernel\"` produces a heteroskedasticity-autocorrelation robust covariance estimator\n",
    "\n",
    "The default is `\"robust\"`.\n",
    "\n",
    "These are all passed using the keyword input `cov_type`. Using clustered requires also passing the clustering variable(s).\n",
    "\n"
   ]
  },
  {
   "cell_type": "code",
   "execution_count": 10,
   "metadata": {},
   "outputs": [],
   "source": [
    "ivmod = reg.IV2SLSModel(data=data, \n",
    "                   dependent_variable=\"ldrugexp\", \n",
    "                   independent_variables=controls, \n",
    "                   endogenous_variables=[\"hi_empunion\"], \n",
    "                   instrument_variables=[\"ssiratio\", \"multlc\"])\n",
    "res_2sls_std = ivmod.fit(cov_type=\"unadjusted\")"
   ]
  },
  {
   "cell_type": "markdown",
   "metadata": {},
   "source": [
    "### GMM Estimation"
   ]
  },
  {
   "cell_type": "markdown",
   "metadata": {},
   "source": [
    "GMM estimation can be more efficient than 2SLS when there are more than one instrument. By default, 2-step efficient GMM is used (assuming the weighting matrix is correctly specified). It is possible to iterate until convergence using the optional keyword input `iter_limit`, which is naturally 2 by default. Generally, GMM-CUE would be preferred to using multiple iterations of standard GMM.\n",
    "\n",
    "The default weighting matrix is robust to heteroskedasticity (but not clustering)."
   ]
  },
  {
   "cell_type": "code",
   "execution_count": 11,
   "metadata": {},
   "outputs": [],
   "source": [
    "ivmod = reg.IVGMMModel(data=data, \n",
    "                   dependent_variable=\"ldrugexp\", \n",
    "                   independent_variables=controls, \n",
    "                   endogenous_variables=[\"hi_empunion\"], \n",
    "                   instrument_variables=[\"ssiratio\", \"multlc\"])\n",
    "res_gmm = ivmod.fit()"
   ]
  },
  {
   "cell_type": "markdown",
   "metadata": {},
   "source": [
    "### Changing the weighting matrix structure in GMM estimation"
   ]
  },
  {
   "cell_type": "markdown",
   "metadata": {},
   "source": [
    "The weighting matrix in the GMM objective function can be altered when creating the model. This example uses clustered weight by age. The covariance estimator should usually match the weighting matrix, and so clustering is also used here."
   ]
  },
  {
   "cell_type": "code",
   "execution_count": 12,
   "metadata": {},
   "outputs": [],
   "source": [
    "ivmod = reg.IVGMMModel(data=data, \n",
    "                   dependent_variable=\"ldrugexp\", \n",
    "                   independent_variables=controls, \n",
    "                   endogenous_variables=[\"hi_empunion\"], \n",
    "                   instrument_variables=[\"ssiratio\", \"multlc\"],\n",
    "                   weight_type=\"clustered\",\n",
    "                   clusters=data.age)\n",
    "res_gmm_clustered = ivmod.fit(cov_type=\"clustered\", clusters=data.age)"
   ]
  },
  {
   "cell_type": "markdown",
   "metadata": {},
   "source": [
    "### Continusouly Updating GMM"
   ]
  },
  {
   "cell_type": "markdown",
   "metadata": {},
   "source": [
    "The continuously updating GMM estimator simultaneously optimizes the moment conditions and the weighting matrix. It can be more efficient (in the second order sense) than standard 2-step GMM, although it can also be fragile. Here the optional input `display` is used to produce the output of the non-linear optimizer used to estimate the parameters."
   ]
  },
  {
   "cell_type": "code",
   "execution_count": null,
   "metadata": {},
   "outputs": [],
   "source": [
    "ivmod = reg.IVGMMCUEModel(data=data, \n",
    "                   dependent_variable=\"ldrugexp\", \n",
    "                   independent_variables=controls, \n",
    "                   endogenous_variables=[\"hi_empunion\"], \n",
    "                   instrument_variables=[\"ssiratio\", \"multlc\"])\n",
    "res_gmm_cue = ivmod.fit(cov_type=\"robust\", display=True)"
   ]
  },
  {
   "cell_type": "markdown",
   "metadata": {},
   "source": [
    "## Comparing Results"
   ]
  },
  {
   "cell_type": "markdown",
   "metadata": {},
   "source": [
    "The function `compare` can be used to compare the results of multiple models, possibly with different variables, estimators and/or instruments. Usually a dictionary or `OrderedDict` is used to hold results since the keys are used as model names. The advantage of an `OrderedDict` is that it will preserve the order of the models in the presentation.\n",
    "\n",
    "With the expectation of the OLS estimate, the parameter estimates are fairly consistent. Standard errors vary slightly although the conclusions reached are not sensitive to the choice of covariance estimator either. T-stats are reported in parentheses."
   ]
  },
  {
   "cell_type": "code",
   "execution_count": null,
   "metadata": {},
   "outputs": [],
   "source": [
    "res = OrderedDict()\n",
    "res[\"OLS\"] = res_ols\n",
    "res[\"2SLS\"] = res_2sls\n",
    "res[\"2SLS-Homo\"] = res_2sls_std\n",
    "res[\"2SLS-Hetero\"] = res_2sls_robust\n",
    "res[\"GMM\"] = res_gmm\n",
    "res[\"GMM Cluster(Age)\"] = res_gmm_clustered\n",
    "res[\"GMM-CUE\"] = res_gmm_cue\n",
    "print(compare(res))"
   ]
  },
  {
   "cell_type": "markdown",
   "metadata": {},
   "source": [
    "### Testing Endogeneity"
   ]
  },
  {
   "cell_type": "markdown",
   "metadata": {},
   "source": [
    "The Durbin test is a classic of endogeneity which compares OLS estimates with 2SLS and exploits the fact that OLS estimates will be relatively efficient. Durbin”s test is not robust to heteroskedasticity."
   ]
  },
  {
   "cell_type": "code",
   "execution_count": null,
   "metadata": {},
   "outputs": [],
   "source": [
    "res_2sls.durbin()"
   ]
  },
  {
   "cell_type": "markdown",
   "metadata": {},
   "source": [
    "The Wu-Hausman test is a variant of the Durbin test that uses a slightly different form."
   ]
  },
  {
   "cell_type": "code",
   "execution_count": null,
   "metadata": {},
   "outputs": [],
   "source": [
    "res_2sls.wu_hausman()"
   ]
  },
  {
   "cell_type": "markdown",
   "metadata": {},
   "source": [
    "The test statistic can be directly replicated using the squared t-stat in a 2-stage approach where the first stage regresses the endogenous variable on the controls and instrument and the second stage regresses the dependent variable on the controls, the endogenous regressor and the residuals. If the regressor was in fact exogenous, the residuals should not be correlated with the dependent variable."
   ]
  },
  {
   "cell_type": "code",
   "execution_count": null,
   "metadata": {},
   "outputs": [],
   "source": [
    "step1 = reg.IV2SLSModel(data=data, \n",
    "                   dependent_variable=\"hi_empunion\", \n",
    "                   independent_variables=['ssiratio'] + controls,\n",
    "                   ).fit()\n",
    "resids = step1.resids\n",
    "data2 = pd.concat([data[[\"ldrugexp\", \"hi_empunion\"] + controls], resids], axis=1)\n",
    "step2 = reg.IV2SLSModel(data=data2, \n",
    "                   dependent_variable=\"ldrugexp\", \n",
    "                   independent_variables=controls + [\"hi_empunion\", 'residual'],).fit(cov_type=\"unadjusted\")\n",
    "print(step2.tstats.residual**2)"
   ]
  },
  {
   "cell_type": "markdown",
   "metadata": {},
   "source": [
    "Wooldridge”s regression-based test of exogeneity is robust to heteroskedasticity since it inherits the covariance estimator from the model. Here there is little difference.\n"
   ]
  },
  {
   "cell_type": "code",
   "execution_count": null,
   "metadata": {},
   "outputs": [],
   "source": [
    "res_2sls.wooldridge_regression"
   ]
  },
  {
   "cell_type": "markdown",
   "metadata": {},
   "source": [
    "Wooldridge”s score test is an alternative to the regression test, although it usually has slightly less power since it is an LM rather than a Wald type test."
   ]
  },
  {
   "cell_type": "code",
   "execution_count": null,
   "metadata": {},
   "outputs": [],
   "source": [
    "res_2sls.wooldridge_score"
   ]
  },
  {
   "cell_type": "markdown",
   "metadata": {},
   "source": [
    "### Exogeneity Test"
   ]
  },
  {
   "cell_type": "markdown",
   "metadata": {},
   "source": [
    "When there is more than one instrument (the model is overidentified), the J test can be used in GMM models to test whether the model is overidentified – in other words, whether the instruments are actually exogenous (assuming they are relevant). In the case with 2 instruments there is no evidence that against the null."
   ]
  },
  {
   "cell_type": "code",
   "execution_count": null,
   "metadata": {},
   "outputs": [],
   "source": [
    "res_gmm.j_stat"
   ]
  },
  {
   "cell_type": "markdown",
   "metadata": {},
   "source": [
    "When all instruments are included the story changes, and some of the additional instrument (`lowincome` or `firmsz`) appear to be endogenous."
   ]
  },
  {
   "cell_type": "code",
   "execution_count": null,
   "metadata": {},
   "outputs": [],
   "source": [
    "ivmod = reg.IVGMMModel(data=data, \n",
    "                   dependent_variable=\"ldrugexp\", \n",
    "                   independent_variables=controls, \n",
    "                   endogenous_variables=[\"hi_empunion\"], \n",
    "                   instrument_variables=instruments)\n",
    "res_gmm_all = ivmod.fit()\n",
    "res_gmm_all.j_stat"
   ]
  },
  {
   "cell_type": "markdown",
   "metadata": {},
   "source": [
    "## Single Instrument Regressions"
   ]
  },
  {
   "cell_type": "markdown",
   "metadata": {},
   "source": [
    "It can be useful to run the just identified regressions to see how the IV estimate varies by instrument. The OLS model is included for comparison. The coefficient when using lowincome is very similar to the OLS as is the $R^2$ which indicates this variable may be endogenous. The coefficient using `firmsz` is also very different, but this is probably due to the low correlation between `firmsz` and the endogenous regressor so that this is a weak instrument."
   ]
  },
  {
   "cell_type": "code",
   "execution_count": null,
   "metadata": {},
   "outputs": [],
   "source": [
    "od = OrderedDict()\n",
    "for col in instruments:\n",
    "    od[col] = reg.IV2SLSModel(data=data, \n",
    "                   dependent_variable=\"ldrugexp\", \n",
    "                   independent_variables=controls, \n",
    "                   endogenous_variables=[\"hi_empunion\"], \n",
    "                   instrument_variables=[col]).fit(cov_type=\"robust\")\n",
    "od[\"OLS\"] = res_ols\n",
    "print(compare(od))"
   ]
  },
  {
   "cell_type": "markdown",
   "metadata": {},
   "source": [
    "### First Stage Diagnostics"
   ]
  },
  {
   "cell_type": "markdown",
   "metadata": {},
   "source": [
    "First stage diagnostics are available to assess whether the instruments appear to be credible for the endogenous regressor. The Partial F-statistic is the F-statistic for all instruments once controls have been partialed out. In the case of a single instrument, it is just the squared t-stat."
   ]
  },
  {
   "cell_type": "code",
   "execution_count": null,
   "metadata": {},
   "outputs": [],
   "source": [
    "print(res_2sls.first_stage)"
   ]
  },
  {
   "cell_type": "markdown",
   "metadata": {},
   "source": [
    "The F-statistic actually has a $chi^2$ distribution since it is just a Wald test that all of the coefficients are 0. This breaks the “rule-of-thumb” but it can be applied by dividing the F-stat by the number of instruments.\n",
    "\n"
   ]
  },
  {
   "cell_type": "code",
   "execution_count": null,
   "metadata": {},
   "outputs": [],
   "source": [
    "ivmod = reg.IV2SLSModel(data=data, \n",
    "                   dependent_variable=\"ldrugexp\", \n",
    "                   independent_variables=controls, \n",
    "                   endogenous_variables=[\"hi_empunion\"], \n",
    "                   instrument_variables=instruments)\n",
    "res_2sls_all = ivmod.fit()\n",
    "print(res_2sls_all.first_stage)"
   ]
  },
  {
   "cell_type": "markdown",
   "metadata": {},
   "source": [
    "## LIML"
   ]
  },
  {
   "cell_type": "markdown",
   "metadata": {},
   "source": [
    "The LIML estimator and related k-class estimators can be used through `IVLIML`. LIML can have better finite sample properties if the model is not strongly identified. By default the $k$ parameter is estimated. In this dataset it is very close to 1 and to the results for LIML are similar to 2SLS (they would be exact if $k=1$)."
   ]
  },
  {
   "cell_type": "code",
   "execution_count": null,
   "metadata": {},
   "outputs": [],
   "source": [
    "ivmod = reg.IVLIMLModel(data=data, \n",
    "                   dependent_variable=\"ldrugexp\", \n",
    "                   independent_variables=controls, \n",
    "                   endogenous_variables=[\"hi_empunion\"], \n",
    "                   instrument_variables=[\"ssiratio\", \"multlc\"])\n",
    "res_liml = ivmod.fit(cov_type=\"robust\")\n",
    "print(compare({\"2SLS\": res_2sls_robust, \"LIML\": res_liml, \"GMM\": res_gmm}))"
   ]
  },
  {
   "cell_type": "markdown",
   "metadata": {},
   "source": [
    "The estimated value of $k$."
   ]
  },
  {
   "cell_type": "code",
   "execution_count": null,
   "metadata": {},
   "outputs": [],
   "source": [
    "print(res_liml.kappa)"
   ]
  },
  {
   "cell_type": "markdown",
   "metadata": {},
   "source": [
    "### IV2SLS to OLS"
   ]
  },
  {
   "cell_type": "markdown",
   "metadata": {},
   "source": [
    "As one final check, the “OLS” version of `IV2SLS` is compared to `statsmodels` OLS command. The parameters are identical."
   ]
  },
  {
   "cell_type": "code",
   "execution_count": null,
   "metadata": {},
   "outputs": [],
   "source": [
    "ivolsmod = reg.IV2SLSModel(data=data, \n",
    "                   dependent_variable=\"ldrugexp\", \n",
    "                   independent_variables=[\"hi_empunion\"] + controls,\n",
    "                   endogenous_variables=None, \n",
    "                   instrument_variables=None)\n",
    "res_ivols = ivolsmod.fit()\n",
    "sm_ols = res_ols.params\n",
    "sm_ols.name = \"sm\"\n",
    "print(pd.concat([res_ivols.params, sm_ols], axis=1))"
   ]
  },
  {
   "cell_type": "markdown",
   "metadata": {},
   "source": [
    "***"
   ]
  }
 ],
 "metadata": {
  "kernelspec": {
   "display_name": "tools",
   "language": "python",
   "name": "tools"
  },
  "language_info": {
   "codemirror_mode": {
    "name": "ipython",
    "version": 3
   },
   "file_extension": ".py",
   "mimetype": "text/x-python",
   "name": "python",
   "nbconvert_exporter": "python",
   "pygments_lexer": "ipython3",
   "version": "3.8.18"
  }
 },
 "nbformat": 4,
 "nbformat_minor": 2
}
