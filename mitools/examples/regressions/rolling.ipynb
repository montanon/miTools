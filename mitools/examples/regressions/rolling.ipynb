{
 "cells": [
  {
   "cell_type": "code",
   "execution_count": 1,
   "metadata": {},
   "outputs": [],
   "source": [
    "from mitools import reg\n",
    "import numpy as np\n",
    "import pandas as pd\n",
    "import pandas_datareader as pdr\n",
    "import statsmodels.api as sm"
   ]
  },
  {
   "cell_type": "markdown",
   "metadata": {},
   "source": [
    "# Rolling Regression from Statsmodels"
   ]
  },
  {
   "cell_type": "markdown",
   "metadata": {},
   "source": [
    "https://www.statsmodels.org/stable/examples/notebooks/generated/rolling_ls.html"
   ]
  },
  {
   "cell_type": "markdown",
   "metadata": {},
   "source": [
    "Rolling OLS applies OLS across a fixed windows of observations and then rolls (moves or slides) the window across the data set. They key parameter is `window` which determines the number of observations used in each OLS regression. By default, `RollingOLS` drops missing values in the window and so will estimate the model using the available data points.\n",
    "\n",
    "Estimated values are aligned so that models estimated using data points $i + 1, i + 2, ...,  + window$ are stored in location $i + window$.\n",
    "\n",
    "Start by importing the modules that are used in this notebook."
   ]
  },
  {
   "cell_type": "markdown",
   "metadata": {},
   "source": [
    "`pandas-datareader` is used to download data from [Ken French’s website](https://mba.tuck.dartmouth.edu/pages/faculty/ken.french/data_library.html). The two data sets downloaded are the 3 Fama-French factors and the 10 industry portfolios. Data is available from 1926.\n",
    "\n",
    "The data are monthly returns for the factors or industry portfolios."
   ]
  },
  {
   "cell_type": "code",
   "execution_count": null,
   "metadata": {},
   "outputs": [],
   "source": [
    "factors = pdr.get_data_famafrench(\"F-F_Research_Data_Factors\", start=\"1-1-1926\")[0]\n",
    "factors.head()"
   ]
  },
  {
   "cell_type": "code",
   "execution_count": null,
   "metadata": {},
   "outputs": [],
   "source": [
    "industries = pdr.get_data_famafrench(\"10_Industry_Portfolios\", start=\"1-1-1926\")[0]\n",
    "industries.head()"
   ]
  },
  {
   "cell_type": "markdown",
   "metadata": {},
   "source": [
    "The first model estimated is a rolling version of the CAPM that regresses the excess return of Technology sector firms on the excess return of the market.\n",
    "\n",
    "The window is 60 months, and so results are available after the first 60 (`window`) months. The first 59 (`window - 1`) estimates are all `nan` filled."
   ]
  },
  {
   "cell_type": "code",
   "execution_count": 4,
   "metadata": {},
   "outputs": [],
   "source": [
    "endog = industries.HiTec - factors.RF.values\n",
    "exog = sm.add_constant(factors[\"Mkt-RF\"])\n",
    "data = pd.concat([endog, exog], axis=1)"
   ]
  },
  {
   "cell_type": "code",
   "execution_count": null,
   "metadata": {},
   "outputs": [],
   "source": [
    "data"
   ]
  },
  {
   "cell_type": "code",
   "execution_count": null,
   "metadata": {},
   "outputs": [],
   "source": [
    "rols = reg.RollingOLSModel(data=data, \n",
    "                           dependent_variable=\"HiTec\", \n",
    "                           independent_variables=[\"const\", \"Mkt-RF\"],\n",
    "                           window=60)\n",
    "rres = rols.fit()\n",
    "params = rres.params.copy()\n",
    "params.index = np.arange(1, params.shape[0] + 1)\n",
    "params.head()"
   ]
  },
  {
   "cell_type": "code",
   "execution_count": null,
   "metadata": {},
   "outputs": [],
   "source": [
    "params.iloc[57:62]"
   ]
  },
  {
   "cell_type": "code",
   "execution_count": null,
   "metadata": {},
   "outputs": [],
   "source": [
    "params.tail()"
   ]
  },
  {
   "cell_type": "markdown",
   "metadata": {},
   "source": [
    "We next plot the market loading along with a 95% point-wise confidence interval. The `alpha=False` omits the constant column, if present."
   ]
  },
  {
   "cell_type": "code",
   "execution_count": null,
   "metadata": {},
   "outputs": [],
   "source": [
    "fig = rres.plot_recursive_coefficient(variables=[\"Mkt-RF\"], figsize=(14, 6))"
   ]
  },
  {
   "cell_type": "markdown",
   "metadata": {},
   "source": [
    "Next, the model is expanded to include all three factors, the excess market, the size factor and the value factor."
   ]
  },
  {
   "cell_type": "code",
   "execution_count": null,
   "metadata": {},
   "outputs": [],
   "source": [
    "exog_vars = [\"Mkt-RF\", \"SMB\", \"HML\"]\n",
    "data = pd.concat([endog, factors], axis=1)\n",
    "rols = reg.RollingOLSModel(data=data, \n",
    "                           dependent_variable=\"HiTec\",  \n",
    "                           independent_variables=exog_vars,\n",
    "                           window=60,\n",
    "                           )\n",
    "rres = rols.fit()\n",
    "fig = rres.plot_recursive_coefficient(variables=exog_vars, figsize=(14, 18))"
   ]
  },
  {
   "cell_type": "markdown",
   "metadata": {},
   "source": [
    "## Formulas"
   ]
  },
  {
   "cell_type": "markdown",
   "metadata": {},
   "source": [
    "`RollingOLS` and `RollingWLS` both support model specification using the formula interface. The example below is equivalent to the 3-factor model estimated previously. Note that one variable is renamed to have a valid Python variable name."
   ]
  },
  {
   "cell_type": "code",
   "execution_count": null,
   "metadata": {},
   "outputs": [],
   "source": [
    "joined = pd.concat([factors, industries], axis=1)\n",
    "joined[\"Mkt_RF\"] = joined[\"Mkt-RF\"]\n",
    "mod = reg.RollingOLSModel(data=joined, formula=\"HiTec ~ Mkt_RF + SMB + HML\", window=60)\n",
    "rres = mod.fit()\n",
    "rres.params.tail()"
   ]
  },
  {
   "cell_type": "markdown",
   "metadata": {},
   "source": [
    "### `RollingWLS`: Rolling Wighted Least Squares"
   ]
  },
  {
   "cell_type": "markdown",
   "metadata": {},
   "source": [
    "The `rolling` module also provides `RollingWLS` which takes an optional `weights` input to perform rolling weighted least squares. It produces results that match `WLS` when applied to rolling windows of data."
   ]
  },
  {
   "cell_type": "markdown",
   "metadata": {},
   "source": [
    "## Fit Options"
   ]
  },
  {
   "cell_type": "markdown",
   "metadata": {},
   "source": [
    "Fit accepts other optional keywords to set the covariance estimator. Only two estimators are supported, `'nonrobust'` (the classic OLS estimator) and `'HC0'` which is White’s heteroskedasticity robust estimator.\n",
    "\n",
    "You can set `params_only=True` to only estimate the model parameters. This is substantially faster than computing the full set of values required to perform inference.\n",
    "\n",
    "Finally, the parameter `reset` can be set to a positive integer to control estimation error in very long samples. `RollingOLS` avoids the full matrix product when rolling by only adding the most recent observation and removing the dropped observation as it rolls through the sample. Setting `reset` uses the full inner product every `reset` periods. In most applications this parameter can be omitted."
   ]
  },
  {
   "cell_type": "code",
   "execution_count": null,
   "metadata": {},
   "outputs": [],
   "source": [
    "%timeit rols.fit()\n",
    "%timeit rols.fit(params_only=True)"
   ]
  },
  {
   "cell_type": "markdown",
   "metadata": {},
   "source": [
    "## Expanding Sample"
   ]
  },
  {
   "cell_type": "markdown",
   "metadata": {},
   "source": [
    "It is possible to expand the sample until sufficient observations are available for the full window length. In this example, we start once we have 12 observations available, and then increase the sample until we have 60 observations available. The first non-`nan` value is computed using 12 observations, the second 13, and so on. All other estimates are computed using 60 observations."
   ]
  },
  {
   "cell_type": "code",
   "execution_count": null,
   "metadata": {},
   "outputs": [],
   "source": [
    "data = pd.concat([endog, factors], axis=1)\n",
    "res = reg.RollingOLSModel(data=data, \n",
    "                          dependent_variable=\"HiTec\", \n",
    "                          independent_variables=[\"Mkt-RF\", \"SMB\", \"HML\"], \n",
    "                          window=60, \n",
    "                          min_nobs=12, \n",
    "                          expanding=True).fit()\n",
    "res.params.iloc[10:15]"
   ]
  },
  {
   "cell_type": "code",
   "execution_count": null,
   "metadata": {},
   "outputs": [],
   "source": [
    "res.nobs[10:15]"
   ]
  },
  {
   "cell_type": "markdown",
   "metadata": {},
   "source": [
    "***"
   ]
  }
 ],
 "metadata": {
  "kernelspec": {
   "display_name": "tools",
   "language": "python",
   "name": "tools"
  },
  "language_info": {
   "codemirror_mode": {
    "name": "ipython",
    "version": 3
   },
   "file_extension": ".py",
   "mimetype": "text/x-python",
   "name": "python",
   "nbconvert_exporter": "python",
   "pygments_lexer": "ipython3",
   "version": "3.8.18"
  }
 },
 "nbformat": 4,
 "nbformat_minor": 2
}
