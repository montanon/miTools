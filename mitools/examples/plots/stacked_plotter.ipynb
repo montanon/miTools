{
 "cells": [
  {
   "cell_type": "code",
   "execution_count": 1,
   "metadata": {},
   "outputs": [],
   "source": [
    "import numpy as np\n",
    "from mitools.visuals import StackedPlotter"
   ]
  },
  {
   "cell_type": "markdown",
   "metadata": {},
   "source": [
    "# Single Sequence"
   ]
  },
  {
   "cell_type": "code",
   "execution_count": 2,
   "metadata": {},
   "outputs": [],
   "source": [
    "x_data = np.linspace(0, 20, 1000)\n",
    "y_data = np.random.randn(1000) + np.sin(x_data) * 5\n",
    "y_data += -np.min(y_data)\n",
    "single_plotter = StackedPlotter(x_data, y_data)"
   ]
  },
  {
   "cell_type": "code",
   "execution_count": null,
   "metadata": {},
   "outputs": [],
   "source": [
    "ax = single_plotter.draw()"
   ]
  },
  {
   "cell_type": "code",
   "execution_count": null,
   "metadata": {},
   "outputs": [],
   "source": [
    "(single_plotter\n",
    ".set_suptitle(\"StackedPlotter Object\", fontsize=28)\n",
    ".set_title(label=\"a) Stacked Plot of Sleepiness\", fontsize=22, color='k', loc='left')\n",
    ".set_xlabel(\"Time Evolution\", color='k', fontsize=18)\n",
    ".set_ylabel(\"Sleepiness\", color='k', fontsize=18)\n",
    ".set_style(None)\n",
    ".set_color(\"darkred\")\n",
    ".set_facecolor(\"lightcoral\")\n",
    ".set_baseline('sym')\n",
    ".set_alpha(0.75)\n",
    ".set_figsize((21, 8))\n",
    ".set_hatch(\"x\")\n",
    ".set_linestyle(\"-\")\n",
    ".set_linewidth(3)\n",
    ".set_legend(show=True, loc=\"lower right\", labels=[\"Sleepiness\"], fontsize=18, frameon=False)\n",
    ".set_grid(True, color='darkred')\n",
    ".set_tight_layout(True)\n",
    ".set_background(\"#effffe\")\n",
    ".set_figure_background(\"#d6e7e6\")\n",
    ".set_ticks(xticks=np.arange(0, 21, 1.0))\n",
    ".set_ticklabels(\n",
    "    xticklabels=[f\"Day {int(n+1)}\" for n in np.arange(-0, 21, 1.0)], \n",
    ")\n",
    ".set_tickparams(xtickparams=dict(size=10, width=1.5, color='k', labelsize=14), \n",
    "                 ytickparams=dict(size=10, width=1.5, color='k', labelsize=14))\n",
    ".set_spines(left=dict(linewidth=5, color=\"k\", linestyle=\"-\"), bottom=dict(linewidth=5, color=\"k\", linestyle=\"-\"))\n",
    ")\n",
    "ax = single_plotter.draw()"
   ]
  },
  {
   "cell_type": "code",
   "execution_count": null,
   "metadata": {},
   "outputs": [],
   "source": [
    "(single_plotter\n",
    ".set_suptitle(\"StackedPlotter Object\", fontsize=28)\n",
    ".set_title(label=\"a) Stacked Plot of Sleepiness\", fontsize=22, color='k', loc='left')\n",
    ".set_xlabel(\"Time Evolution\", color='k', fontsize=18)\n",
    ".set_ylabel(\"Sleepiness\", color='k', fontsize=18)\n",
    ".set_style(None)\n",
    ".set_color(\"darkred\")\n",
    ".set_facecolor(\"lightcoral\")\n",
    ".set_baseline('sym')\n",
    ".set_alpha(0.75)\n",
    ".set_figsize((21, 8))\n",
    ".set_hatch(\"x\")\n",
    ".set_linestyle(\"-\")\n",
    ".set_linewidth(3)\n",
    ".set_legend(show=True, loc=\"lower right\", labels=[\"Sleepiness\"], fontsize=18, frameon=False)\n",
    ".set_grid(True, color='darkred')\n",
    ".set_tight_layout(True)\n",
    ".set_background(\"#effffe\")\n",
    ".set_figure_background(\"#d6e7e6\")\n",
    ".set_ticks(xticks=np.arange(0, 21, 1.0))\n",
    ".set_ticklabels(\n",
    "    xticklabels=[f\"Day {int(n+1)}\" for n in np.arange(-0, 21, 1.0)], \n",
    ")\n",
    ".set_tickparams(xtickparams=dict(size=10, width=1.5, color='k', labelsize=14), \n",
    "                 ytickparams=dict(size=10, width=1.5, color='k', labelsize=14))\n",
    ".set_spines(left=dict(linewidth=5, color=\"k\", linestyle=\"-\"), bottom=dict(linewidth=5, color=\"k\", linestyle=\"-\"))\n",
    ")\n",
    "ax = single_plotter.draw()"
   ]
  },
  {
   "cell_type": "code",
   "execution_count": null,
   "metadata": {},
   "outputs": [],
   "source": [
    "single_plotter.save_plotter(\".plot_params/stacked_plot.json\", data=True)\n",
    "stored_plotter = StackedPlotter.from_json(\".plot_params/stacked_plot.json\")\n",
    "ax = stored_plotter.draw()"
   ]
  },
  {
   "cell_type": "code",
   "execution_count": null,
   "metadata": {},
   "outputs": [],
   "source": [
    "stored_plotter.set_title(label=\"a) Stacked Plot\", fontsize=24, color='k', loc='left')\n",
    "ax = stored_plotter.draw()"
   ]
  },
  {
   "cell_type": "markdown",
   "metadata": {},
   "source": [
    "# Multi Sequence"
   ]
  },
  {
   "cell_type": "code",
   "execution_count": 8,
   "metadata": {},
   "outputs": [],
   "source": [
    "data_size = 50   \n",
    "x_data = [\n",
    "    np.linspace(0, 10, data_size),                          \n",
    "    np.linspace(0, 10, data_size),                          \n",
    "    np.linspace(0, 10, data_size),                          \n",
    "    np.linspace(0, 10, data_size),                          \n",
    "]\n",
    "\n",
    "y_data = [\n",
    "    np.cos(np.linspace(0, 8, data_size)),   \n",
    "    np.log(np.linspace(0.1, 4, data_size)) + 0.3*np.random.randn(data_size) * 0.1,      \n",
    "    0.5 * np.sin(10*np.linspace(0, 1, data_size)) * np.exp(-np.linspace(0, 2, data_size)) + 2.5,\n",
    "    np.arctan(np.linspace(-10, 10, data_size)) + 0.1*np.cos(np.linspace(0, 20, data_size)) \n",
    "]\n",
    "y_data = [np.abs(y) for y in y_data]\n",
    "multi_plotter = StackedPlotter(x_data, y_data)"
   ]
  },
  {
   "cell_type": "code",
   "execution_count": null,
   "metadata": {},
   "outputs": [],
   "source": [
    "ax = multi_plotter.draw()"
   ]
  },
  {
   "cell_type": "code",
   "execution_count": null,
   "metadata": {},
   "outputs": [],
   "source": [
    "(multi_plotter\n",
    " .set_facecolor([\"orange\", \"cyan\", \"lightgreen\", \"pink\"])\n",
    " .set_color([\"red\", \"blue\", \"green\", \"purple\"])\n",
    " .set_linestyle([\"-\", \"--\", \"-.\", \":\"])\n",
    " .set_linewidth([1.75, 3, 1.75, 3])\n",
    " .set_figsize((21, 7))\n",
    " .set_alpha([0.5, 0.25, 0.5, 0.75])\n",
    " .set_baseline('zero')\n",
    " .set_hatch([\"/\", \"\\\\\", \"|\", \"-\"])\n",
    ")\n",
    "ax = multi_plotter.draw()"
   ]
  },
  {
   "cell_type": "code",
   "execution_count": null,
   "metadata": {},
   "outputs": [],
   "source": [
    "multi_plotter.save_plotter(\".plot_params/multi_stacked_plot.json\", data=True)\n",
    "stored_plotter = StackedPlotter.from_json(\".plot_params/multi_stacked_plot.json\")\n",
    "ax = stored_plotter.draw()"
   ]
  },
  {
   "cell_type": "code",
   "execution_count": null,
   "metadata": {},
   "outputs": [],
   "source": [
    "stored_plotter.set_title(label=\"b) Line Plot:\", fontsize=24, color='k', loc='left')\n",
    "ax = stored_plotter.draw()"
   ]
  },
  {
   "cell_type": "markdown",
   "metadata": {},
   "source": [
    "***"
   ]
  }
 ],
 "metadata": {
  "kernelspec": {
   "display_name": "tools",
   "language": "python",
   "name": "tools"
  },
  "language_info": {
   "codemirror_mode": {
    "name": "ipython",
    "version": 3
   },
   "file_extension": ".py",
   "mimetype": "text/x-python",
   "name": "python",
   "nbconvert_exporter": "python",
   "pygments_lexer": "ipython3",
   "version": "3.8.18"
  }
 },
 "nbformat": 4,
 "nbformat_minor": 2
}
