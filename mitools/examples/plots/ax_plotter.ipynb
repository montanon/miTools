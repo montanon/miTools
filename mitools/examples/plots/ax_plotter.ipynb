{
 "cells": [
  {
   "cell_type": "code",
   "execution_count": null,
   "metadata": {},
   "outputs": [],
   "source": [
    "from mitools.visuals.plots import ScatterPlotter, BarPlotter, PiePlotter, LinePlotter, DistributionPlotter\n",
    "import numpy as np\n",
    "import matplotlib.pyplot as plt\n",
    "plt.ioff()"
   ]
  },
  {
   "cell_type": "code",
   "execution_count": null,
   "metadata": {},
   "outputs": [],
   "source": [
    "fig, ax = plt.subplots(figsize=(10, 8))\n",
    "\n",
    "scatter_x_data = np.random.rand(1_000) * 20\n",
    "scatter_y_data = np.random.rand(1_000) * 20\n",
    "\n",
    "scatter_plotter = ScatterPlotter(scatter_x_data, scatter_y_data, ax=ax)\n",
    "scatter_plotter2 = ScatterPlotter(scatter_y_data, scatter_x_data, ax=ax).set_color('lightblue')\n",
    "\n",
    "ax = scatter_plotter.draw(show=False)"
   ]
  },
  {
   "cell_type": "code",
   "execution_count": 11,
   "metadata": {},
   "outputs": [],
   "source": [
    "ax = scatter_plotter2.draw(show=True)"
   ]
  },
  {
   "cell_type": "code",
   "execution_count": 4,
   "metadata": {},
   "outputs": [],
   "source": [
    "\n",
    "bar_x_data = [np.arange(1, 6), np.arange(1, 6)]\n",
    "bar_y_data = [np.random.rand(5) * 5, np.random.rand(5) * 3]\n",
    "bar_plotter = BarPlotter(bar_x_data, bar_y_data, ax=ax, kind='stacked').set_color(['pink', 'purple']).set_alpha(0.5) "
   ]
  },
  {
   "cell_type": "code",
   "execution_count": 5,
   "metadata": {},
   "outputs": [],
   "source": [
    "ax = bar_plotter.draw(show=True)"
   ]
  },
  {
   "cell_type": "code",
   "execution_count": 6,
   "metadata": {},
   "outputs": [],
   "source": [
    "pie_data = [[10, 10, 10, 10, 10], [20, 5, 5, 10, 40]]\n",
    "pie_pos = [(9, 9), (9, 6)]\n",
    "pie_plotter = PiePlotter(pie_data, pie_pos, ax=ax).set_frame(True).set_alpha(0.5)"
   ]
  },
  {
   "cell_type": "code",
   "execution_count": 7,
   "metadata": {},
   "outputs": [],
   "source": [
    "ax = pie_plotter.set_limits(xlim=(0, 10), ylim=(0, 10)).draw(show=True)"
   ]
  },
  {
   "cell_type": "code",
   "execution_count": null,
   "metadata": {},
   "outputs": [],
   "source": [
    "fig"
   ]
  },
  {
   "cell_type": "code",
   "execution_count": null,
   "metadata": {},
   "outputs": [],
   "source": []
  },
  {
   "cell_type": "code",
   "execution_count": null,
   "metadata": {},
   "outputs": [],
   "source": []
  }
 ],
 "metadata": {
  "kernelspec": {
   "display_name": "tools",
   "language": "python",
   "name": "tools"
  },
  "language_info": {
   "codemirror_mode": {
    "name": "ipython",
    "version": 3
   },
   "file_extension": ".py",
   "mimetype": "text/x-python",
   "name": "python",
   "nbconvert_exporter": "python",
   "pygments_lexer": "ipython3",
   "version": "3.8.18"
  }
 },
 "nbformat": 4,
 "nbformat_minor": 2
}
