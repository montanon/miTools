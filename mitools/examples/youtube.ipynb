{
 "cells": [
  {
   "cell_type": "code",
   "execution_count": 1,
   "metadata": {},
   "outputs": [],
   "source": [
    "from mitools.google import youtube as yt\n",
    "from pathlib import Path"
   ]
  },
  {
   "cell_type": "code",
   "execution_count": 2,
   "metadata": {},
   "outputs": [],
   "source": [
    "video_url = \"https://www.youtube.com/watch?v=hBMoPUAeLnY\"\n",
    "output_path = Path(\"/Users/sebastian/Desktop/MontagnaInc/Projects/milei_speech/JRE_Trump\")"
   ]
  },
  {
   "cell_type": "code",
   "execution_count": null,
   "metadata": {},
   "outputs": [],
   "source": [
    "video = yt.download_video(video_url, output_path)"
   ]
  },
  {
   "cell_type": "code",
   "execution_count": null,
   "metadata": {},
   "outputs": [],
   "source": [
    "audio = yt.download_audio_video(video_url, output_path.with_suffix(\".mp3\"))"
   ]
  },
  {
   "cell_type": "code",
   "execution_count": 5,
   "metadata": {},
   "outputs": [
    {
     "name": "stdout",
     "output_type": "stream",
     "text": [
      "Downloading: Vampire Hunter D: Bloodlust (2000) l 1080p l Eng Sub l #anime #movie\n",
      "Download completed successfully!\n"
     ]
    }
   ],
   "source": [
    "video = yt.download_video(\"https://www.youtube.com/watch?v=IbNktf-Sg7A\", Path(\"/Users/sebastian/Downloads/VampireHunter\"))"
   ]
  },
  {
   "cell_type": "code",
   "execution_count": 6,
   "metadata": {},
   "outputs": [
    {
     "name": "stdout",
     "output_type": "stream",
     "text": [
      "Downloading: Vampire Hunter D: Bloodlust (2000) l 1080p l Eng Sub l #anime #movie\n",
      "Download completed successfully!\n"
     ]
    }
   ],
   "source": [
    "audio = yt.download_audio_video(\"https://www.youtube.com/watch?v=IbNktf-Sg7A\", Path(\"/Users/sebastian/Downloads/VampireHunterAudio\"))"
   ]
  },
  {
   "cell_type": "code",
   "execution_count": 8,
   "metadata": {},
   "outputs": [],
   "source": [
    "import ffmpeg"
   ]
  },
  {
   "cell_type": "code",
   "execution_count": 11,
   "metadata": {},
   "outputs": [
    {
     "ename": "AttributeError",
     "evalue": "module 'ffmpeg' has no attribute 'input'",
     "output_type": "error",
     "traceback": [
      "\u001b[0;31m---------------------------------------------------------------------------\u001b[0m",
      "\u001b[0;31mAttributeError\u001b[0m                            Traceback (most recent call last)",
      "Cell \u001b[0;32mIn[11], line 1\u001b[0m\n\u001b[0;32m----> 1\u001b[0m input_video \u001b[38;5;241m=\u001b[39m \u001b[43mffmpeg\u001b[49m\u001b[38;5;241;43m.\u001b[39;49m\u001b[43minput\u001b[49m(\u001b[38;5;124m\"\u001b[39m\u001b[38;5;124m/Users/sebastian/Downloads/VampireHunter/Vampire Hunter D Bloodlust (2000) l 1080p l Eng Sub l #anime #movie.mp4\u001b[39m\u001b[38;5;124m\"\u001b[39m)\n\u001b[1;32m      2\u001b[0m input_audio \u001b[38;5;241m=\u001b[39m ffmpeg\u001b[38;5;241m.\u001b[39minput(\u001b[38;5;124m\"\u001b[39m\u001b[38;5;124m/Users/sebastian/Downloads/VampireHunterAudio/Vampire Hunter D Bloodlust (2000) l 1080p l Eng Sub l #anime #movie.mp4\u001b[39m\u001b[38;5;124m\"\u001b[39m)\n",
      "\u001b[0;31mAttributeError\u001b[0m: module 'ffmpeg' has no attribute 'input'"
     ]
    }
   ],
   "source": [
    "input_video = ffmpeg.input(\"/Users/sebastian/Downloads/VampireHunter/Vampire Hunter D Bloodlust (2000) l 1080p l Eng Sub l #anime #movie.mp4\")\n",
    "input_audio = ffmpeg.input(\"/Users/sebastian/Downloads/VampireHunterAudio/Vampire Hunter D Bloodlust (2000) l 1080p l Eng Sub l #anime #movie.mp4\")"
   ]
  },
  {
   "cell_type": "code",
   "execution_count": null,
   "metadata": {},
   "outputs": [],
   "source": [
    "input_video = ffmpeg.input(f'{yt.title}_video.mp4')\n",
    "input_audio = ffmpeg.input(f'{yt.title}_audio.mp4')"
   ]
  },
  {
   "cell_type": "code",
   "execution_count": 10,
   "metadata": {},
   "outputs": [
    {
     "ename": "AttributeError",
     "evalue": "module 'ffmpeg' has no attribute 'concat'",
     "output_type": "error",
     "traceback": [
      "\u001b[0;31m---------------------------------------------------------------------------\u001b[0m",
      "\u001b[0;31mAttributeError\u001b[0m                            Traceback (most recent call last)",
      "Cell \u001b[0;32mIn[10], line 1\u001b[0m\n\u001b[0;32m----> 1\u001b[0m \u001b[43mffmpeg\u001b[49m\u001b[38;5;241;43m.\u001b[39;49m\u001b[43mconcat\u001b[49m(input_video, input_audio, v\u001b[38;5;241m=\u001b[39m\u001b[38;5;241m1\u001b[39m, a\u001b[38;5;241m=\u001b[39m\u001b[38;5;241m1\u001b[39m)\u001b[38;5;241m.\u001b[39moutput(\u001b[38;5;124m\"\u001b[39m\u001b[38;5;124m/Users/sebastian/Downloads/VampireHunter/Vampire Hunter D Bloodlust (2000) l 1080p l Eng Sub l #audio.mp4\u001b[39m\u001b[38;5;124m\"\u001b[39m)\u001b[38;5;241m.\u001b[39mrun()\n",
      "\u001b[0;31mAttributeError\u001b[0m: module 'ffmpeg' has no attribute 'concat'"
     ]
    }
   ],
   "source": [
    "ffmpeg.concat(input_video, input_audio, v=1, a=1).output(\"/Users/sebastian/Downloads/VampireHunter/Vampire Hunter D Bloodlust (2000) l 1080p l Eng Sub l #audio.mp4\").run()"
   ]
  },
  {
   "cell_type": "code",
   "execution_count": null,
   "metadata": {},
   "outputs": [],
   "source": []
  }
 ],
 "metadata": {
  "kernelspec": {
   "display_name": "tools",
   "language": "python",
   "name": "tools"
  },
  "language_info": {
   "codemirror_mode": {
    "name": "ipython",
    "version": 3
   },
   "file_extension": ".py",
   "mimetype": "text/x-python",
   "name": "python",
   "nbconvert_exporter": "python",
   "pygments_lexer": "ipython3",
   "version": "3.8.18"
  }
 },
 "nbformat": 4,
 "nbformat_minor": 2
}
